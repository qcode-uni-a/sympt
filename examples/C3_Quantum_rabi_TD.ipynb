{
 "cells": [
  {
   "cell_type": "code",
   "execution_count": 1,
   "metadata": {},
   "outputs": [],
   "source": [
    "# Objects for defining the Hamiltonian\n",
    "from PySW import RDSymbol, RDBasis, BosonOp, Dagger, Block\n",
    "# Objects for obtaining the Effective Hamiltonian\n",
    "from PySW import EffectiveFrame\n",
    "# Built-in symbols\n",
    "from PySW import hbar, t\n",
    "# Useful functions\n",
    "from PySW import display_dict, group_by_operators\n",
    "\n",
    "import sympy as sp"
   ]
  },
  {
   "cell_type": "markdown",
   "metadata": {},
   "source": [
    "# Setup"
   ]
  },
  {
   "cell_type": "code",
   "execution_count": 2,
   "metadata": {},
   "outputs": [
    {
     "data": {
      "text/latex": [
       "$\\displaystyle H_{0} : \\omega {{a}^\\dagger} {a} - \\frac{\\omega_{z} \\sigma_{3}}{2}$"
      ],
      "text/plain": [
       "<IPython.core.display.Math object>"
      ]
     },
     "metadata": {},
     "output_type": "display_data"
    },
    {
     "data": {
      "text/latex": [
       "$\\displaystyle V : g \\left({{a}^\\dagger} + {a}\\right) \\sigma_{1}$"
      ],
      "text/plain": [
       "<IPython.core.display.Math object>"
      ]
     },
     "metadata": {},
     "output_type": "display_data"
    },
    {
     "data": {
      "text/latex": [
       "$\\displaystyle H_{d} : E_{0} \\cos{\\left(\\omega_{d} t \\right)} \\left({{a}^\\dagger} + {a}\\right)$"
      ],
      "text/plain": [
       "<IPython.core.display.Math object>"
      ]
     },
     "metadata": {},
     "output_type": "display_data"
    }
   ],
   "source": [
    "# ---------------- Defining the symbols ------------------\n",
    "# Order 0\n",
    "omega = RDSymbol('omega', positive=True, real=True)\n",
    "omega_z = RDSymbol('omega_z', positive=True, real=True)\n",
    "omega_d = RDSymbol('omega_d', positive=True, real=True)\n",
    "\n",
    "# Order 1\n",
    "g = RDSymbol('g', order=1, positive=True, real=True)\n",
    "E0 = RDSymbol('E0', order=1, positive=True, real=True)\n",
    "\n",
    "# ----------------- Defining the basis -------------------\n",
    "# Spin basis: Finite 2x2 Hilbert space\n",
    "Spin = RDBasis('sigma', dim=2)\n",
    "s0, sx, sy, sz = Spin.basis\n",
    "# Boson basis: Infinite bosonic Hilbert space\n",
    "a = BosonOp('a')\n",
    "ad = Dagger(a)\n",
    "\n",
    "# -------------- Defining the Hamiltonian ----------------\n",
    "# Unperturbed Hamiltonian H0\n",
    "H0 = omega * ad * a - sp.Rational(1, 2) * omega_z * sz\n",
    "# Perturbation Hamiltonians\n",
    "V = g * (ad + a) * sx\n",
    "Hd = E0 * sp.cos(omega_d * t) * (a + ad)\n",
    "\n",
    "display_dict({\n",
    "    sp.Symbol('H_0'): H0,\n",
    "    sp.Symbol('V'): V,\n",
    "    sp.Symbol('H_d'): Hd\n",
    "})"
   ]
  },
  {
   "cell_type": "markdown",
   "metadata": {},
   "source": [
    "# Time Independent and then rotate"
   ]
  },
  {
   "cell_type": "code",
   "execution_count": 3,
   "metadata": {},
   "outputs": [
    {
     "name": "stdout",
     "output_type": "stream",
     "text": [
      "The EffectiveFrame object has been initialized successfully.\n",
      "\n",
      "Effective Frame\n",
      "\n",
      "╭────────┬─────────┬─────────────╮\n",
      "│  Name  │  Type   │  Dimension  │\n",
      "├────────┼─────────┼─────────────┤\n",
      "│ sigma  │ Finite  │     2x2     │\n",
      "├────────┼─────────┼─────────────┤\n",
      "│   a    │ Bosonic │      ∞      │\n",
      "╰────────┴─────────┴─────────────╯\n",
      "\n",
      "Effective Hamiltonian: \tNot computed yet. To do so, run `solve` method. \n",
      "\n",
      "\n"
     ]
    }
   ],
   "source": [
    "# Deffining Effective Hamiltonian Object\n",
    "Eff_frame = EffectiveFrame(H0, V, subspaces=[Spin])"
   ]
  },
  {
   "cell_type": "code",
   "execution_count": 4,
   "metadata": {},
   "outputs": [
    {
     "name": "stdout",
     "output_type": "stream",
     "text": [
      "The perturbative interaction will be added to the full Hamiltonian\n"
     ]
    },
    {
     "name": "stderr",
     "output_type": "stream",
     "text": [
      "Solving for each order: 100%|██████████| 2/2 [00:00<00:00,  8.79it/s]\n"
     ]
    },
    {
     "name": "stdout",
     "output_type": "stream",
     "text": [
      "The Hamiltonian has been solved successfully. Please use the get_H method to get the result in the desired form.\n"
     ]
    },
    {
     "name": "stderr",
     "output_type": "stream",
     "text": [
      "Projecting to operator form: 100%|██████████| 2/2 [00:00<00:00, 489.50it/s]\n",
      "Projecting to operator form: 100%|██████████| 2/2 [00:00<00:00, 55.27it/s]\n"
     ]
    },
    {
     "data": {
      "text/latex": [
       "$\\displaystyle - \\frac{g^{2} \\omega}{\\omega^{2} - \\omega_{z}^{2}} + \\frac{g^{2} \\omega_{z} \\sigma_{3}}{\\omega^{2} - \\omega_{z}^{2}} + \\frac{2 g^{2} \\omega_{z} \\sigma_{3} {{a}^\\dagger} {a}}{\\omega^{2} - \\omega_{z}^{2}} + \\omega {{a}^\\dagger} {a} - \\frac{\\omega_{z} \\sigma_{3}}{2}$"
      ],
      "text/plain": [
       "-g**2*omega/(omega**2 - omega_z**2) + g**2*omega_z*sigma_3/(omega**2 - omega_z**2) + 2*g**2*omega_z*sigma_3*Dagger(a)*a/(omega**2 - omega_z**2) + omega*Dagger(a)*a - omega_z*sigma_3/2"
      ]
     },
     "execution_count": 4,
     "metadata": {},
     "output_type": "execute_result"
    }
   ],
   "source": [
    "# Calculate the effective model using the Schrieffer-Wolff transformation up to the second order\n",
    "Eff_frame.solve(max_order=2, full_diagonalization=True, mask=None)\n",
    "# Obtaining the result in the operator form\n",
    "H_eff_SWT = Eff_frame.get_H(return_form='operator')\n",
    "H_eff_SWT"
   ]
  },
  {
   "cell_type": "markdown",
   "metadata": {},
   "source": [
    "### Rotate Drive"
   ]
  },
  {
   "cell_type": "code",
   "execution_count": 5,
   "metadata": {},
   "outputs": [
    {
     "name": "stderr",
     "output_type": "stream",
     "text": [
      "Rotating for each order: 100%|██████████| 2/2 [00:00<00:00, 440.53it/s]\n",
      "Projecting to operator form: 100%|██████████| 3/3 [00:00<00:00, 230.86it/s]\n"
     ]
    },
    {
     "data": {
      "text/latex": [
       "$\\displaystyle - \\frac{2 E_{0} g \\omega \\cos{\\left(\\omega_{d} t \\right)} \\sigma_{1}}{\\omega^{2} - \\omega_{z}^{2}} + E_{0} \\cos{\\left(\\omega_{d} t \\right)} {{a}^\\dagger} + E_{0} \\cos{\\left(\\omega_{d} t \\right)} {a}$"
      ],
      "text/plain": [
       "-2*E0*g*omega*cos(omega_d*t)*sigma_1/(omega**2 - omega_z**2) + E0*cos(omega_d*t)*Dagger(a) + E0*cos(omega_d*t)*a"
      ]
     },
     "execution_count": 5,
     "metadata": {},
     "output_type": "execute_result"
    }
   ],
   "source": [
    "H_Drive = Eff_frame.rotate(Hd)\n",
    "H_Drive"
   ]
  },
  {
   "cell_type": "code",
   "execution_count": 6,
   "metadata": {},
   "outputs": [
    {
     "data": {
      "text/latex": [
       "$\\displaystyle - \\frac{2 E_{0} g \\omega \\cos{\\left(\\omega_{d} t \\right)} \\sigma_{1}}{\\omega^{2} - \\omega_{z}^{2}} - \\frac{g^{2} \\omega}{\\omega^{2} - \\omega_{z}^{2}} + \\frac{g^{2} \\omega_{z} \\sigma_{3}}{\\omega^{2} - \\omega_{z}^{2}} - \\frac{\\omega_{z} \\sigma_{3}}{2}$"
      ],
      "text/plain": [
       "-2*E0*g*omega*cos(omega_d*t)*sigma_1/(omega**2 - omega_z**2) - g**2*omega/(omega**2 - omega_z**2) + g**2*omega_z*sigma_3/(omega**2 - omega_z**2) - omega_z*sigma_3/2"
      ]
     },
     "execution_count": 6,
     "metadata": {},
     "output_type": "execute_result"
    }
   ],
   "source": [
    "# Expectation Values for the bosonic operators\n",
    "# <n=0|a|n=0> = 0\n",
    "# <n=0|ad|n=0> = 0\n",
    "# <n=0|ad*a|n=0> = 0\n",
    "subs_expvals = {\n",
    "    ad*a: 0,\n",
    "    a : 0,\n",
    "    ad : 0,\n",
    "}\n",
    "H_qubit_TI = (H_eff_SWT + H_Drive).xreplace(subs_expvals)\n",
    "H_qubit_TI"
   ]
  },
  {
   "cell_type": "markdown",
   "metadata": {},
   "source": [
    "# Time Dependent"
   ]
  },
  {
   "cell_type": "code",
   "execution_count": 7,
   "metadata": {},
   "outputs": [
    {
     "name": "stdout",
     "output_type": "stream",
     "text": [
      "The EffectiveFrame object has been initialized successfully.\n",
      "\n",
      "Effective Frame\n",
      "\n",
      "╭────────┬─────────┬─────────────╮\n",
      "│  Name  │  Type   │  Dimension  │\n",
      "├────────┼─────────┼─────────────┤\n",
      "│ sigma  │ Finite  │     2x2     │\n",
      "├────────┼─────────┼─────────────┤\n",
      "│   a    │ Bosonic │      ∞      │\n",
      "╰────────┴─────────┴─────────────╯\n",
      "\n",
      "Effective Hamiltonian: \tNot computed yet. To do so, run `solve` method. \n",
      "\n",
      "\n"
     ]
    }
   ],
   "source": [
    "# Deffining Effective Hamiltonian Object\n",
    "Eff_frame = EffectiveFrame(H0, V + Hd, subspaces=[Spin])"
   ]
  },
  {
   "cell_type": "code",
   "execution_count": 12,
   "metadata": {},
   "outputs": [
    {
     "name": "stdout",
     "output_type": "stream",
     "text": [
      "The perturbative interaction will be added to the full Hamiltonian\n"
     ]
    },
    {
     "name": "stderr",
     "output_type": "stream",
     "text": [
      "Solving for each order: 100%|██████████| 2/2 [00:00<00:00,  6.73it/s]\n"
     ]
    },
    {
     "name": "stdout",
     "output_type": "stream",
     "text": [
      "The Hamiltonian has been solved successfully. Please use the get_H method to get the result in the desired form.\n"
     ]
    },
    {
     "name": "stderr",
     "output_type": "stream",
     "text": [
      "Converting to matrix form: 100%|██████████| 2/2 [00:00<00:00, 1057.43it/s]\n",
      "Converting to matrix form: 100%|██████████| 2/2 [00:00<00:00, 982.39it/s]\n"
     ]
    },
    {
     "data": {
      "text/latex": [
       "$\\displaystyle \\left[\\begin{matrix}- \\frac{g^{2} \\omega}{\\left(- \\omega - \\omega_{z}\\right) \\left(\\omega + \\omega_{z}\\right)} - \\frac{g^{2} \\omega_{z}}{\\left(- \\omega - \\omega_{z}\\right) \\left(\\omega + \\omega_{z}\\right)} - \\frac{g^{2}}{\\omega + \\omega_{z}} + \\frac{g^{2}}{- \\omega - \\omega_{z}} - i \\hbar \\left(- \\frac{\\left(- \\frac{E_{0} e^{i \\omega_{d} t}}{2 \\left(\\hbar \\omega_{d} - \\omega\\right)} - \\frac{E_{0} e^{- i \\omega_{d} t}}{2 \\left(- \\hbar \\omega_{d} - \\omega\\right)}\\right) \\left(- \\frac{i E_{0} \\omega_{d} e^{i \\omega_{d} t}}{2 \\left(\\hbar \\omega_{d} + \\omega\\right)} + \\frac{i E_{0} \\omega_{d} e^{- i \\omega_{d} t}}{2 \\left(- \\hbar \\omega_{d} + \\omega\\right)}\\right)}{2} + \\frac{\\left(- \\frac{E_{0} e^{i \\omega_{d} t}}{2 \\left(\\hbar \\omega_{d} + \\omega\\right)} - \\frac{E_{0} e^{- i \\omega_{d} t}}{2 \\left(- \\hbar \\omega_{d} + \\omega\\right)}\\right) \\left(- \\frac{i E_{0} \\omega_{d} e^{i \\omega_{d} t}}{2 \\left(\\hbar \\omega_{d} - \\omega\\right)} + \\frac{i E_{0} \\omega_{d} e^{- i \\omega_{d} t}}{2 \\left(- \\hbar \\omega_{d} - \\omega\\right)}\\right)}{2}\\right) - \\omega \\left(- \\frac{E_{0} e^{i \\omega_{d} t}}{2 \\left(\\hbar \\omega_{d} - \\omega\\right)} - \\frac{E_{0} e^{- i \\omega_{d} t}}{2 \\left(- \\hbar \\omega_{d} - \\omega\\right)}\\right) \\left(- \\frac{E_{0} e^{i \\omega_{d} t}}{2 \\left(\\hbar \\omega_{d} + \\omega\\right)} - \\frac{E_{0} e^{- i \\omega_{d} t}}{2 \\left(- \\hbar \\omega_{d} + \\omega\\right)}\\right) + \\omega {{a}^\\dagger} {a} - \\frac{\\omega_{z}}{2} - \\left(\\frac{E_{0} e^{i \\omega_{d} t}}{2} + \\frac{E_{0} e^{- i \\omega_{d} t}}{2}\\right) \\left(- \\frac{E_{0} e^{i \\omega_{d} t}}{2 \\left(\\hbar \\omega_{d} - \\omega\\right)} - \\frac{E_{0} e^{- i \\omega_{d} t}}{2 \\left(- \\hbar \\omega_{d} - \\omega\\right)}\\right) + \\left(\\frac{E_{0} e^{i \\omega_{d} t}}{2} + \\frac{E_{0} e^{- i \\omega_{d} t}}{2}\\right) \\left(- \\frac{E_{0} e^{i \\omega_{d} t}}{2 \\left(\\hbar \\omega_{d} + \\omega\\right)} - \\frac{E_{0} e^{- i \\omega_{d} t}}{2 \\left(- \\hbar \\omega_{d} + \\omega\\right)}\\right) + \\left(\\frac{g^{2} \\omega}{\\left(- \\omega + \\omega_{z}\\right) \\left(\\omega - \\omega_{z}\\right)} - \\frac{g^{2} \\omega}{\\left(- \\omega - \\omega_{z}\\right) \\left(\\omega + \\omega_{z}\\right)} - \\frac{g^{2} \\omega_{z}}{\\left(- \\omega + \\omega_{z}\\right) \\left(\\omega - \\omega_{z}\\right)} - \\frac{g^{2} \\omega_{z}}{\\left(- \\omega - \\omega_{z}\\right) \\left(\\omega + \\omega_{z}\\right)} - \\frac{g^{2}}{\\omega + \\omega_{z}} + \\frac{g^{2}}{\\omega - \\omega_{z}} - \\frac{g^{2}}{- \\omega + \\omega_{z}} + \\frac{g^{2}}{- \\omega - \\omega_{z}} - i \\hbar \\left(- \\frac{\\left(- \\frac{E_{0} e^{i \\omega_{d} t}}{2 \\left(\\hbar \\omega_{d} - \\omega\\right)} - \\frac{E_{0} e^{- i \\omega_{d} t}}{2 \\left(- \\hbar \\omega_{d} - \\omega\\right)}\\right) \\left(- \\frac{i E_{0} \\omega_{d} e^{i \\omega_{d} t}}{2 \\left(\\hbar \\omega_{d} + \\omega\\right)} + \\frac{i E_{0} \\omega_{d} e^{- i \\omega_{d} t}}{2 \\left(- \\hbar \\omega_{d} + \\omega\\right)}\\right)}{2} + \\frac{\\left(- \\frac{E_{0} e^{i \\omega_{d} t}}{2 \\left(\\hbar \\omega_{d} + \\omega\\right)} - \\frac{E_{0} e^{- i \\omega_{d} t}}{2 \\left(- \\hbar \\omega_{d} + \\omega\\right)}\\right) \\left(- \\frac{i E_{0} \\omega_{d} e^{i \\omega_{d} t}}{2 \\left(\\hbar \\omega_{d} - \\omega\\right)} + \\frac{i E_{0} \\omega_{d} e^{- i \\omega_{d} t}}{2 \\left(- \\hbar \\omega_{d} - \\omega\\right)}\\right)}{2}\\right) - i \\hbar \\left(\\frac{\\left(- \\frac{E_{0} e^{i \\omega_{d} t}}{2 \\left(\\hbar \\omega_{d} - \\omega\\right)} - \\frac{E_{0} e^{- i \\omega_{d} t}}{2 \\left(- \\hbar \\omega_{d} - \\omega\\right)}\\right) \\left(- \\frac{i E_{0} \\omega_{d} e^{i \\omega_{d} t}}{2 \\left(\\hbar \\omega_{d} + \\omega\\right)} + \\frac{i E_{0} \\omega_{d} e^{- i \\omega_{d} t}}{2 \\left(- \\hbar \\omega_{d} + \\omega\\right)}\\right)}{2} - \\frac{\\left(- \\frac{E_{0} e^{i \\omega_{d} t}}{2 \\left(\\hbar \\omega_{d} + \\omega\\right)} - \\frac{E_{0} e^{- i \\omega_{d} t}}{2 \\left(- \\hbar \\omega_{d} + \\omega\\right)}\\right) \\left(- \\frac{i E_{0} \\omega_{d} e^{i \\omega_{d} t}}{2 \\left(\\hbar \\omega_{d} - \\omega\\right)} + \\frac{i E_{0} \\omega_{d} e^{- i \\omega_{d} t}}{2 \\left(- \\hbar \\omega_{d} - \\omega\\right)}\\right)}{2}\\right)\\right) {{a}^\\dagger} {a} & \\frac{g \\omega \\left(- \\frac{E_{0} e^{i \\omega_{d} t}}{2 \\left(\\hbar \\omega_{d} - \\omega\\right)} - \\frac{E_{0} e^{- i \\omega_{d} t}}{2 \\left(- \\hbar \\omega_{d} - \\omega\\right)}\\right)}{\\omega - \\omega_{z}} + \\frac{g \\omega \\left(- \\frac{E_{0} e^{i \\omega_{d} t}}{2 \\left(\\hbar \\omega_{d} + \\omega\\right)} - \\frac{E_{0} e^{- i \\omega_{d} t}}{2 \\left(- \\hbar \\omega_{d} + \\omega\\right)}\\right)}{- \\omega - \\omega_{z}} - \\frac{g \\omega_{z} \\left(- \\frac{E_{0} e^{i \\omega_{d} t}}{2 \\left(\\hbar \\omega_{d} - \\omega\\right)} - \\frac{E_{0} e^{- i \\omega_{d} t}}{2 \\left(- \\hbar \\omega_{d} - \\omega\\right)}\\right)}{2 \\left(\\omega - \\omega_{z}\\right)} + \\frac{g \\omega_{z} \\left(- \\frac{E_{0} e^{i \\omega_{d} t}}{2 \\left(\\hbar \\omega_{d} + \\omega\\right)} - \\frac{E_{0} e^{- i \\omega_{d} t}}{2 \\left(- \\hbar \\omega_{d} + \\omega\\right)}\\right)}{2 \\left(- \\omega - \\omega_{z}\\right)} - g \\left(- \\frac{E_{0} e^{i \\omega_{d} t}}{2 \\left(\\hbar \\omega_{d} - \\omega\\right)} - \\frac{E_{0} e^{- i \\omega_{d} t}}{2 \\left(- \\hbar \\omega_{d} - \\omega\\right)}\\right) + g \\left(- \\frac{E_{0} e^{i \\omega_{d} t}}{2 \\left(\\hbar \\omega_{d} + \\omega\\right)} - \\frac{E_{0} e^{- i \\omega_{d} t}}{2 \\left(- \\hbar \\omega_{d} + \\omega\\right)}\\right) - \\frac{g \\left(\\frac{E_{0} e^{i \\omega_{d} t}}{2} + \\frac{E_{0} e^{- i \\omega_{d} t}}{2}\\right)}{\\omega - \\omega_{z}} + \\frac{g \\left(\\frac{E_{0} e^{i \\omega_{d} t}}{2} + \\frac{E_{0} e^{- i \\omega_{d} t}}{2}\\right)}{- \\omega - \\omega_{z}} - i \\hbar \\left(- \\frac{g \\left(- \\frac{i E_{0} \\omega_{d} e^{i \\omega_{d} t}}{2 \\left(\\hbar \\omega_{d} - \\omega\\right)} + \\frac{i E_{0} \\omega_{d} e^{- i \\omega_{d} t}}{2 \\left(- \\hbar \\omega_{d} - \\omega\\right)}\\right)}{2 \\left(\\omega - \\omega_{z}\\right)} + \\frac{g \\left(- \\frac{i E_{0} \\omega_{d} e^{i \\omega_{d} t}}{2 \\left(\\hbar \\omega_{d} + \\omega\\right)} + \\frac{i E_{0} \\omega_{d} e^{- i \\omega_{d} t}}{2 \\left(- \\hbar \\omega_{d} + \\omega\\right)}\\right)}{2 \\left(- \\omega - \\omega_{z}\\right)}\\right) + \\left(- i \\hbar \\left(- \\frac{g \\left(- \\frac{i E_{0} \\omega_{d} e^{i \\omega_{d} t}}{2 \\left(\\hbar \\omega_{d} - \\omega\\right)} + \\frac{i E_{0} \\omega_{d} e^{- i \\omega_{d} t}}{2 \\left(- \\hbar \\omega_{d} - \\omega\\right)}\\right)}{2 \\left(\\omega - \\omega_{z}\\right)} + \\frac{g \\left(- \\frac{i E_{0} \\omega_{d} e^{i \\omega_{d} t}}{2 \\left(\\hbar \\omega_{d} + \\omega\\right)} + \\frac{i E_{0} \\omega_{d} e^{- i \\omega_{d} t}}{2 \\left(- \\hbar \\omega_{d} + \\omega\\right)}\\right)}{2 \\left(- \\omega - \\omega_{z}\\right)}\\right) - i \\hbar \\left(\\frac{g \\left(- \\frac{i E_{0} \\omega_{d} e^{i \\omega_{d} t}}{2 \\left(\\hbar \\omega_{d} - \\omega\\right)} + \\frac{i E_{0} \\omega_{d} e^{- i \\omega_{d} t}}{2 \\left(- \\hbar \\omega_{d} - \\omega\\right)}\\right)}{2 \\left(\\omega - \\omega_{z}\\right)} - \\frac{g \\left(- \\frac{i E_{0} \\omega_{d} e^{i \\omega_{d} t}}{2 \\left(\\hbar \\omega_{d} + \\omega\\right)} + \\frac{i E_{0} \\omega_{d} e^{- i \\omega_{d} t}}{2 \\left(- \\hbar \\omega_{d} + \\omega\\right)}\\right)}{2 \\left(- \\omega - \\omega_{z}\\right)}\\right)\\right) {{a}^\\dagger} {a}\\\\\\frac{g \\omega \\left(- \\frac{E_{0} e^{i \\omega_{d} t}}{2 \\left(\\hbar \\omega_{d} - \\omega\\right)} - \\frac{E_{0} e^{- i \\omega_{d} t}}{2 \\left(- \\hbar \\omega_{d} - \\omega\\right)}\\right)}{\\omega + \\omega_{z}} + \\frac{g \\omega \\left(- \\frac{E_{0} e^{i \\omega_{d} t}}{2 \\left(\\hbar \\omega_{d} + \\omega\\right)} - \\frac{E_{0} e^{- i \\omega_{d} t}}{2 \\left(- \\hbar \\omega_{d} + \\omega\\right)}\\right)}{- \\omega + \\omega_{z}} + \\frac{g \\omega_{z} \\left(- \\frac{E_{0} e^{i \\omega_{d} t}}{2 \\left(\\hbar \\omega_{d} - \\omega\\right)} - \\frac{E_{0} e^{- i \\omega_{d} t}}{2 \\left(- \\hbar \\omega_{d} - \\omega\\right)}\\right)}{2 \\left(\\omega + \\omega_{z}\\right)} - \\frac{g \\omega_{z} \\left(- \\frac{E_{0} e^{i \\omega_{d} t}}{2 \\left(\\hbar \\omega_{d} + \\omega\\right)} - \\frac{E_{0} e^{- i \\omega_{d} t}}{2 \\left(- \\hbar \\omega_{d} + \\omega\\right)}\\right)}{2 \\left(- \\omega + \\omega_{z}\\right)} - g \\left(- \\frac{E_{0} e^{i \\omega_{d} t}}{2 \\left(\\hbar \\omega_{d} - \\omega\\right)} - \\frac{E_{0} e^{- i \\omega_{d} t}}{2 \\left(- \\hbar \\omega_{d} - \\omega\\right)}\\right) + g \\left(- \\frac{E_{0} e^{i \\omega_{d} t}}{2 \\left(\\hbar \\omega_{d} + \\omega\\right)} - \\frac{E_{0} e^{- i \\omega_{d} t}}{2 \\left(- \\hbar \\omega_{d} + \\omega\\right)}\\right) - \\frac{g \\left(\\frac{E_{0} e^{i \\omega_{d} t}}{2} + \\frac{E_{0} e^{- i \\omega_{d} t}}{2}\\right)}{\\omega + \\omega_{z}} + \\frac{g \\left(\\frac{E_{0} e^{i \\omega_{d} t}}{2} + \\frac{E_{0} e^{- i \\omega_{d} t}}{2}\\right)}{- \\omega + \\omega_{z}} - i \\hbar \\left(- \\frac{g \\left(- \\frac{i E_{0} \\omega_{d} e^{i \\omega_{d} t}}{2 \\left(\\hbar \\omega_{d} - \\omega\\right)} + \\frac{i E_{0} \\omega_{d} e^{- i \\omega_{d} t}}{2 \\left(- \\hbar \\omega_{d} - \\omega\\right)}\\right)}{2 \\left(\\omega + \\omega_{z}\\right)} + \\frac{g \\left(- \\frac{i E_{0} \\omega_{d} e^{i \\omega_{d} t}}{2 \\left(\\hbar \\omega_{d} + \\omega\\right)} + \\frac{i E_{0} \\omega_{d} e^{- i \\omega_{d} t}}{2 \\left(- \\hbar \\omega_{d} + \\omega\\right)}\\right)}{2 \\left(- \\omega + \\omega_{z}\\right)}\\right) + \\left(- i \\hbar \\left(- \\frac{g \\left(- \\frac{i E_{0} \\omega_{d} e^{i \\omega_{d} t}}{2 \\left(\\hbar \\omega_{d} - \\omega\\right)} + \\frac{i E_{0} \\omega_{d} e^{- i \\omega_{d} t}}{2 \\left(- \\hbar \\omega_{d} - \\omega\\right)}\\right)}{2 \\left(\\omega + \\omega_{z}\\right)} + \\frac{g \\left(- \\frac{i E_{0} \\omega_{d} e^{i \\omega_{d} t}}{2 \\left(\\hbar \\omega_{d} + \\omega\\right)} + \\frac{i E_{0} \\omega_{d} e^{- i \\omega_{d} t}}{2 \\left(- \\hbar \\omega_{d} + \\omega\\right)}\\right)}{2 \\left(- \\omega + \\omega_{z}\\right)}\\right) - i \\hbar \\left(\\frac{g \\left(- \\frac{i E_{0} \\omega_{d} e^{i \\omega_{d} t}}{2 \\left(\\hbar \\omega_{d} - \\omega\\right)} + \\frac{i E_{0} \\omega_{d} e^{- i \\omega_{d} t}}{2 \\left(- \\hbar \\omega_{d} - \\omega\\right)}\\right)}{2 \\left(\\omega + \\omega_{z}\\right)} - \\frac{g \\left(- \\frac{i E_{0} \\omega_{d} e^{i \\omega_{d} t}}{2 \\left(\\hbar \\omega_{d} + \\omega\\right)} + \\frac{i E_{0} \\omega_{d} e^{- i \\omega_{d} t}}{2 \\left(- \\hbar \\omega_{d} + \\omega\\right)}\\right)}{2 \\left(- \\omega + \\omega_{z}\\right)}\\right)\\right) {{a}^\\dagger} {a} & - \\frac{g^{2} \\omega}{\\left(- \\omega + \\omega_{z}\\right) \\left(\\omega - \\omega_{z}\\right)} + \\frac{g^{2} \\omega_{z}}{\\left(- \\omega + \\omega_{z}\\right) \\left(\\omega - \\omega_{z}\\right)} - \\frac{g^{2}}{\\omega - \\omega_{z}} + \\frac{g^{2}}{- \\omega + \\omega_{z}} - i \\hbar \\left(- \\frac{\\left(- \\frac{E_{0} e^{i \\omega_{d} t}}{2 \\left(\\hbar \\omega_{d} - \\omega\\right)} - \\frac{E_{0} e^{- i \\omega_{d} t}}{2 \\left(- \\hbar \\omega_{d} - \\omega\\right)}\\right) \\left(- \\frac{i E_{0} \\omega_{d} e^{i \\omega_{d} t}}{2 \\left(\\hbar \\omega_{d} + \\omega\\right)} + \\frac{i E_{0} \\omega_{d} e^{- i \\omega_{d} t}}{2 \\left(- \\hbar \\omega_{d} + \\omega\\right)}\\right)}{2} + \\frac{\\left(- \\frac{E_{0} e^{i \\omega_{d} t}}{2 \\left(\\hbar \\omega_{d} + \\omega\\right)} - \\frac{E_{0} e^{- i \\omega_{d} t}}{2 \\left(- \\hbar \\omega_{d} + \\omega\\right)}\\right) \\left(- \\frac{i E_{0} \\omega_{d} e^{i \\omega_{d} t}}{2 \\left(\\hbar \\omega_{d} - \\omega\\right)} + \\frac{i E_{0} \\omega_{d} e^{- i \\omega_{d} t}}{2 \\left(- \\hbar \\omega_{d} - \\omega\\right)}\\right)}{2}\\right) - \\omega \\left(- \\frac{E_{0} e^{i \\omega_{d} t}}{2 \\left(\\hbar \\omega_{d} - \\omega\\right)} - \\frac{E_{0} e^{- i \\omega_{d} t}}{2 \\left(- \\hbar \\omega_{d} - \\omega\\right)}\\right) \\left(- \\frac{E_{0} e^{i \\omega_{d} t}}{2 \\left(\\hbar \\omega_{d} + \\omega\\right)} - \\frac{E_{0} e^{- i \\omega_{d} t}}{2 \\left(- \\hbar \\omega_{d} + \\omega\\right)}\\right) + \\omega {{a}^\\dagger} {a} + \\frac{\\omega_{z}}{2} - \\left(\\frac{E_{0} e^{i \\omega_{d} t}}{2} + \\frac{E_{0} e^{- i \\omega_{d} t}}{2}\\right) \\left(- \\frac{E_{0} e^{i \\omega_{d} t}}{2 \\left(\\hbar \\omega_{d} - \\omega\\right)} - \\frac{E_{0} e^{- i \\omega_{d} t}}{2 \\left(- \\hbar \\omega_{d} - \\omega\\right)}\\right) + \\left(\\frac{E_{0} e^{i \\omega_{d} t}}{2} + \\frac{E_{0} e^{- i \\omega_{d} t}}{2}\\right) \\left(- \\frac{E_{0} e^{i \\omega_{d} t}}{2 \\left(\\hbar \\omega_{d} + \\omega\\right)} - \\frac{E_{0} e^{- i \\omega_{d} t}}{2 \\left(- \\hbar \\omega_{d} + \\omega\\right)}\\right) + \\left(- \\frac{g^{2} \\omega}{\\left(- \\omega + \\omega_{z}\\right) \\left(\\omega - \\omega_{z}\\right)} + \\frac{g^{2} \\omega}{\\left(- \\omega - \\omega_{z}\\right) \\left(\\omega + \\omega_{z}\\right)} + \\frac{g^{2} \\omega_{z}}{\\left(- \\omega + \\omega_{z}\\right) \\left(\\omega - \\omega_{z}\\right)} + \\frac{g^{2} \\omega_{z}}{\\left(- \\omega - \\omega_{z}\\right) \\left(\\omega + \\omega_{z}\\right)} + \\frac{g^{2}}{\\omega + \\omega_{z}} - \\frac{g^{2}}{\\omega - \\omega_{z}} + \\frac{g^{2}}{- \\omega + \\omega_{z}} - \\frac{g^{2}}{- \\omega - \\omega_{z}} - i \\hbar \\left(- \\frac{\\left(- \\frac{E_{0} e^{i \\omega_{d} t}}{2 \\left(\\hbar \\omega_{d} - \\omega\\right)} - \\frac{E_{0} e^{- i \\omega_{d} t}}{2 \\left(- \\hbar \\omega_{d} - \\omega\\right)}\\right) \\left(- \\frac{i E_{0} \\omega_{d} e^{i \\omega_{d} t}}{2 \\left(\\hbar \\omega_{d} + \\omega\\right)} + \\frac{i E_{0} \\omega_{d} e^{- i \\omega_{d} t}}{2 \\left(- \\hbar \\omega_{d} + \\omega\\right)}\\right)}{2} + \\frac{\\left(- \\frac{E_{0} e^{i \\omega_{d} t}}{2 \\left(\\hbar \\omega_{d} + \\omega\\right)} - \\frac{E_{0} e^{- i \\omega_{d} t}}{2 \\left(- \\hbar \\omega_{d} + \\omega\\right)}\\right) \\left(- \\frac{i E_{0} \\omega_{d} e^{i \\omega_{d} t}}{2 \\left(\\hbar \\omega_{d} - \\omega\\right)} + \\frac{i E_{0} \\omega_{d} e^{- i \\omega_{d} t}}{2 \\left(- \\hbar \\omega_{d} - \\omega\\right)}\\right)}{2}\\right) - i \\hbar \\left(\\frac{\\left(- \\frac{E_{0} e^{i \\omega_{d} t}}{2 \\left(\\hbar \\omega_{d} - \\omega\\right)} - \\frac{E_{0} e^{- i \\omega_{d} t}}{2 \\left(- \\hbar \\omega_{d} - \\omega\\right)}\\right) \\left(- \\frac{i E_{0} \\omega_{d} e^{i \\omega_{d} t}}{2 \\left(\\hbar \\omega_{d} + \\omega\\right)} + \\frac{i E_{0} \\omega_{d} e^{- i \\omega_{d} t}}{2 \\left(- \\hbar \\omega_{d} + \\omega\\right)}\\right)}{2} - \\frac{\\left(- \\frac{E_{0} e^{i \\omega_{d} t}}{2 \\left(\\hbar \\omega_{d} + \\omega\\right)} - \\frac{E_{0} e^{- i \\omega_{d} t}}{2 \\left(- \\hbar \\omega_{d} + \\omega\\right)}\\right) \\left(- \\frac{i E_{0} \\omega_{d} e^{i \\omega_{d} t}}{2 \\left(\\hbar \\omega_{d} - \\omega\\right)} + \\frac{i E_{0} \\omega_{d} e^{- i \\omega_{d} t}}{2 \\left(- \\hbar \\omega_{d} - \\omega\\right)}\\right)}{2}\\right)\\right) {{a}^\\dagger} {a}\\end{matrix}\\right]$"
      ],
      "text/plain": [
       "Matrix([\n",
       "[-g**2*omega/((-omega - omega_z)*(omega + omega_z)) - g**2*omega_z/((-omega - omega_z)*(omega + omega_z)) - g**2/(omega + omega_z) + g**2/(-omega - omega_z) - I*hbar*(-(-E0*exp(I*omega_d*t)/(2*(hbar*omega_d - omega)) - E0*exp(-I*omega_d*t)/(2*(-hbar*omega_d - omega)))*(-I*E0*omega_d*exp(I*omega_d*t)/(2*(hbar*omega_d + omega)) + I*E0*omega_d*exp(-I*omega_d*t)/(2*(-hbar*omega_d + omega)))/2 + (-E0*exp(I*omega_d*t)/(2*(hbar*omega_d + omega)) - E0*exp(-I*omega_d*t)/(2*(-hbar*omega_d + omega)))*(-I*E0*omega_d*exp(I*omega_d*t)/(2*(hbar*omega_d - omega)) + I*E0*omega_d*exp(-I*omega_d*t)/(2*(-hbar*omega_d - omega)))/2) - omega*(-E0*exp(I*omega_d*t)/(2*(hbar*omega_d - omega)) - E0*exp(-I*omega_d*t)/(2*(-hbar*omega_d - omega)))*(-E0*exp(I*omega_d*t)/(2*(hbar*omega_d + omega)) - E0*exp(-I*omega_d*t)/(2*(-hbar*omega_d + omega))) + omega*Dagger(a)*a - omega_z/2 - (E0*exp(I*omega_d*t)/2 + E0*exp(-I*omega_d*t)/2)*(-E0*exp(I*omega_d*t)/(2*(hbar*omega_d - omega)) - E0*exp(-I*omega_d*t)/(2*(-hbar*omega_d - omega))) + (E0*exp(I*omega_d*t)/2 + E0*exp(-I*omega_d*t)/2)*(-E0*exp(I*omega_d*t)/(2*(hbar*omega_d + omega)) - E0*exp(-I*omega_d*t)/(2*(-hbar*omega_d + omega))) + (g**2*omega/((-omega + omega_z)*(omega - omega_z)) - g**2*omega/((-omega - omega_z)*(omega + omega_z)) - g**2*omega_z/((-omega + omega_z)*(omega - omega_z)) - g**2*omega_z/((-omega - omega_z)*(omega + omega_z)) - g**2/(omega + omega_z) + g**2/(omega - omega_z) - g**2/(-omega + omega_z) + g**2/(-omega - omega_z) - I*hbar*(-(-E0*exp(I*omega_d*t)/(2*(hbar*omega_d - omega)) - E0*exp(-I*omega_d*t)/(2*(-hbar*omega_d - omega)))*(-I*E0*omega_d*exp(I*omega_d*t)/(2*(hbar*omega_d + omega)) + I*E0*omega_d*exp(-I*omega_d*t)/(2*(-hbar*omega_d + omega)))/2 + (-E0*exp(I*omega_d*t)/(2*(hbar*omega_d + omega)) - E0*exp(-I*omega_d*t)/(2*(-hbar*omega_d + omega)))*(-I*E0*omega_d*exp(I*omega_d*t)/(2*(hbar*omega_d - omega)) + I*E0*omega_d*exp(-I*omega_d*t)/(2*(-hbar*omega_d - omega)))/2) - I*hbar*((-E0*exp(I*omega_d*t)/(2*(hbar*omega_d - omega)) - E0*exp(-I*omega_d*t)/(2*(-hbar*omega_d - omega)))*(-I*E0*omega_d*exp(I*omega_d*t)/(2*(hbar*omega_d + omega)) + I*E0*omega_d*exp(-I*omega_d*t)/(2*(-hbar*omega_d + omega)))/2 - (-E0*exp(I*omega_d*t)/(2*(hbar*omega_d + omega)) - E0*exp(-I*omega_d*t)/(2*(-hbar*omega_d + omega)))*(-I*E0*omega_d*exp(I*omega_d*t)/(2*(hbar*omega_d - omega)) + I*E0*omega_d*exp(-I*omega_d*t)/(2*(-hbar*omega_d - omega)))/2))*Dagger(a)*a,                                                                                                                                                                                                                                                                                                                                                                                                                                                                                                                                                                                                                               g*omega*(-E0*exp(I*omega_d*t)/(2*(hbar*omega_d - omega)) - E0*exp(-I*omega_d*t)/(2*(-hbar*omega_d - omega)))/(omega - omega_z) + g*omega*(-E0*exp(I*omega_d*t)/(2*(hbar*omega_d + omega)) - E0*exp(-I*omega_d*t)/(2*(-hbar*omega_d + omega)))/(-omega - omega_z) - g*omega_z*(-E0*exp(I*omega_d*t)/(2*(hbar*omega_d - omega)) - E0*exp(-I*omega_d*t)/(2*(-hbar*omega_d - omega)))/(2*(omega - omega_z)) + g*omega_z*(-E0*exp(I*omega_d*t)/(2*(hbar*omega_d + omega)) - E0*exp(-I*omega_d*t)/(2*(-hbar*omega_d + omega)))/(2*(-omega - omega_z)) - g*(-E0*exp(I*omega_d*t)/(2*(hbar*omega_d - omega)) - E0*exp(-I*omega_d*t)/(2*(-hbar*omega_d - omega))) + g*(-E0*exp(I*omega_d*t)/(2*(hbar*omega_d + omega)) - E0*exp(-I*omega_d*t)/(2*(-hbar*omega_d + omega))) - g*(E0*exp(I*omega_d*t)/2 + E0*exp(-I*omega_d*t)/2)/(omega - omega_z) + g*(E0*exp(I*omega_d*t)/2 + E0*exp(-I*omega_d*t)/2)/(-omega - omega_z) - I*hbar*(-g*(-I*E0*omega_d*exp(I*omega_d*t)/(2*(hbar*omega_d - omega)) + I*E0*omega_d*exp(-I*omega_d*t)/(2*(-hbar*omega_d - omega)))/(2*(omega - omega_z)) + g*(-I*E0*omega_d*exp(I*omega_d*t)/(2*(hbar*omega_d + omega)) + I*E0*omega_d*exp(-I*omega_d*t)/(2*(-hbar*omega_d + omega)))/(2*(-omega - omega_z))) + (-I*hbar*(-g*(-I*E0*omega_d*exp(I*omega_d*t)/(2*(hbar*omega_d - omega)) + I*E0*omega_d*exp(-I*omega_d*t)/(2*(-hbar*omega_d - omega)))/(2*(omega - omega_z)) + g*(-I*E0*omega_d*exp(I*omega_d*t)/(2*(hbar*omega_d + omega)) + I*E0*omega_d*exp(-I*omega_d*t)/(2*(-hbar*omega_d + omega)))/(2*(-omega - omega_z))) - I*hbar*(g*(-I*E0*omega_d*exp(I*omega_d*t)/(2*(hbar*omega_d - omega)) + I*E0*omega_d*exp(-I*omega_d*t)/(2*(-hbar*omega_d - omega)))/(2*(omega - omega_z)) - g*(-I*E0*omega_d*exp(I*omega_d*t)/(2*(hbar*omega_d + omega)) + I*E0*omega_d*exp(-I*omega_d*t)/(2*(-hbar*omega_d + omega)))/(2*(-omega - omega_z))))*Dagger(a)*a],\n",
       "[                                                                                                                                                                                                                                                                                                                                                                                                                                                                                                                                                                                                                             g*omega*(-E0*exp(I*omega_d*t)/(2*(hbar*omega_d - omega)) - E0*exp(-I*omega_d*t)/(2*(-hbar*omega_d - omega)))/(omega + omega_z) + g*omega*(-E0*exp(I*omega_d*t)/(2*(hbar*omega_d + omega)) - E0*exp(-I*omega_d*t)/(2*(-hbar*omega_d + omega)))/(-omega + omega_z) + g*omega_z*(-E0*exp(I*omega_d*t)/(2*(hbar*omega_d - omega)) - E0*exp(-I*omega_d*t)/(2*(-hbar*omega_d - omega)))/(2*(omega + omega_z)) - g*omega_z*(-E0*exp(I*omega_d*t)/(2*(hbar*omega_d + omega)) - E0*exp(-I*omega_d*t)/(2*(-hbar*omega_d + omega)))/(2*(-omega + omega_z)) - g*(-E0*exp(I*omega_d*t)/(2*(hbar*omega_d - omega)) - E0*exp(-I*omega_d*t)/(2*(-hbar*omega_d - omega))) + g*(-E0*exp(I*omega_d*t)/(2*(hbar*omega_d + omega)) - E0*exp(-I*omega_d*t)/(2*(-hbar*omega_d + omega))) - g*(E0*exp(I*omega_d*t)/2 + E0*exp(-I*omega_d*t)/2)/(omega + omega_z) + g*(E0*exp(I*omega_d*t)/2 + E0*exp(-I*omega_d*t)/2)/(-omega + omega_z) - I*hbar*(-g*(-I*E0*omega_d*exp(I*omega_d*t)/(2*(hbar*omega_d - omega)) + I*E0*omega_d*exp(-I*omega_d*t)/(2*(-hbar*omega_d - omega)))/(2*(omega + omega_z)) + g*(-I*E0*omega_d*exp(I*omega_d*t)/(2*(hbar*omega_d + omega)) + I*E0*omega_d*exp(-I*omega_d*t)/(2*(-hbar*omega_d + omega)))/(2*(-omega + omega_z))) + (-I*hbar*(-g*(-I*E0*omega_d*exp(I*omega_d*t)/(2*(hbar*omega_d - omega)) + I*E0*omega_d*exp(-I*omega_d*t)/(2*(-hbar*omega_d - omega)))/(2*(omega + omega_z)) + g*(-I*E0*omega_d*exp(I*omega_d*t)/(2*(hbar*omega_d + omega)) + I*E0*omega_d*exp(-I*omega_d*t)/(2*(-hbar*omega_d + omega)))/(2*(-omega + omega_z))) - I*hbar*(g*(-I*E0*omega_d*exp(I*omega_d*t)/(2*(hbar*omega_d - omega)) + I*E0*omega_d*exp(-I*omega_d*t)/(2*(-hbar*omega_d - omega)))/(2*(omega + omega_z)) - g*(-I*E0*omega_d*exp(I*omega_d*t)/(2*(hbar*omega_d + omega)) + I*E0*omega_d*exp(-I*omega_d*t)/(2*(-hbar*omega_d + omega)))/(2*(-omega + omega_z))))*Dagger(a)*a, -g**2*omega/((-omega + omega_z)*(omega - omega_z)) + g**2*omega_z/((-omega + omega_z)*(omega - omega_z)) - g**2/(omega - omega_z) + g**2/(-omega + omega_z) - I*hbar*(-(-E0*exp(I*omega_d*t)/(2*(hbar*omega_d - omega)) - E0*exp(-I*omega_d*t)/(2*(-hbar*omega_d - omega)))*(-I*E0*omega_d*exp(I*omega_d*t)/(2*(hbar*omega_d + omega)) + I*E0*omega_d*exp(-I*omega_d*t)/(2*(-hbar*omega_d + omega)))/2 + (-E0*exp(I*omega_d*t)/(2*(hbar*omega_d + omega)) - E0*exp(-I*omega_d*t)/(2*(-hbar*omega_d + omega)))*(-I*E0*omega_d*exp(I*omega_d*t)/(2*(hbar*omega_d - omega)) + I*E0*omega_d*exp(-I*omega_d*t)/(2*(-hbar*omega_d - omega)))/2) - omega*(-E0*exp(I*omega_d*t)/(2*(hbar*omega_d - omega)) - E0*exp(-I*omega_d*t)/(2*(-hbar*omega_d - omega)))*(-E0*exp(I*omega_d*t)/(2*(hbar*omega_d + omega)) - E0*exp(-I*omega_d*t)/(2*(-hbar*omega_d + omega))) + omega*Dagger(a)*a + omega_z/2 - (E0*exp(I*omega_d*t)/2 + E0*exp(-I*omega_d*t)/2)*(-E0*exp(I*omega_d*t)/(2*(hbar*omega_d - omega)) - E0*exp(-I*omega_d*t)/(2*(-hbar*omega_d - omega))) + (E0*exp(I*omega_d*t)/2 + E0*exp(-I*omega_d*t)/2)*(-E0*exp(I*omega_d*t)/(2*(hbar*omega_d + omega)) - E0*exp(-I*omega_d*t)/(2*(-hbar*omega_d + omega))) + (-g**2*omega/((-omega + omega_z)*(omega - omega_z)) + g**2*omega/((-omega - omega_z)*(omega + omega_z)) + g**2*omega_z/((-omega + omega_z)*(omega - omega_z)) + g**2*omega_z/((-omega - omega_z)*(omega + omega_z)) + g**2/(omega + omega_z) - g**2/(omega - omega_z) + g**2/(-omega + omega_z) - g**2/(-omega - omega_z) - I*hbar*(-(-E0*exp(I*omega_d*t)/(2*(hbar*omega_d - omega)) - E0*exp(-I*omega_d*t)/(2*(-hbar*omega_d - omega)))*(-I*E0*omega_d*exp(I*omega_d*t)/(2*(hbar*omega_d + omega)) + I*E0*omega_d*exp(-I*omega_d*t)/(2*(-hbar*omega_d + omega)))/2 + (-E0*exp(I*omega_d*t)/(2*(hbar*omega_d + omega)) - E0*exp(-I*omega_d*t)/(2*(-hbar*omega_d + omega)))*(-I*E0*omega_d*exp(I*omega_d*t)/(2*(hbar*omega_d - omega)) + I*E0*omega_d*exp(-I*omega_d*t)/(2*(-hbar*omega_d - omega)))/2) - I*hbar*((-E0*exp(I*omega_d*t)/(2*(hbar*omega_d - omega)) - E0*exp(-I*omega_d*t)/(2*(-hbar*omega_d - omega)))*(-I*E0*omega_d*exp(I*omega_d*t)/(2*(hbar*omega_d + omega)) + I*E0*omega_d*exp(-I*omega_d*t)/(2*(-hbar*omega_d + omega)))/2 - (-E0*exp(I*omega_d*t)/(2*(hbar*omega_d + omega)) - E0*exp(-I*omega_d*t)/(2*(-hbar*omega_d + omega)))*(-I*E0*omega_d*exp(I*omega_d*t)/(2*(hbar*omega_d - omega)) + I*E0*omega_d*exp(-I*omega_d*t)/(2*(-hbar*omega_d - omega)))/2))*Dagger(a)*a]])"
      ]
     },
     "execution_count": 12,
     "metadata": {},
     "output_type": "execute_result"
    }
   ],
   "source": [
    "# Defining the mask\n",
    "mask = Block(fin=sx, inf=a, subspaces=[Spin]) + Block(fin=s0, inf=a, subspaces=[Spin]) + Block(fin=s0, inf=a**2, subspaces=[Spin])\n",
    "# Calculate the effective model using the Schrieffer-Wolff transformation up to the second order\n",
    "Eff_frame.solve(max_order=2, full_diagonalization=False, mask=mask)\n",
    "# Obtaining the result in the operator form\n",
    "H_eff_SWT = Eff_frame.get_H(return_form='matrix')\n",
    "H_eff_SWT"
   ]
  },
  {
   "cell_type": "code",
   "execution_count": 13,
   "metadata": {},
   "outputs": [],
   "source": [
    "# Expectation Values for the bosonic operators\n",
    "# <n=0|a|n=0> = 0\n",
    "# <n=0|ad|n=0> = 0\n",
    "# <n=0|ad*a|n=0> = 0\n",
    "subs_expvals = {\n",
    "    ad*a: 0,\n",
    "    a : 0,\n",
    "    ad : 0,\n",
    "}\n",
    "H_qubit_TD = H_eff_SWT.xreplace(subs_expvals)"
   ]
  },
  {
   "cell_type": "code",
   "execution_count": 36,
   "metadata": {},
   "outputs": [
    {
     "data": {
      "text/latex": [
       "$\\displaystyle - \\frac{E_{0} g \\omega \\left(2 \\omega^{2} - \\omega_{d}^{2} - \\omega_{z}^{2}\\right) \\cos{\\left(\\omega_{d} t \\right)}}{\\left(\\omega - \\omega_{d}\\right) \\left(\\omega + \\omega_{d}\\right) \\left(\\omega - \\omega_{z}\\right) \\left(\\omega + \\omega_{z}\\right)}$"
      ],
      "text/plain": [
       "-E0*g*omega*(2*omega**2 - omega_d**2 - omega_z**2)*cos(omega_d*t)/((omega - omega_d)*(omega + omega_d)*(omega - omega_z)*(omega + omega_z))"
      ]
     },
     "execution_count": 36,
     "metadata": {},
     "output_type": "execute_result"
    }
   ],
   "source": [
    "group_by_operators(Spin.project(sp.expand_complex(sp.factor_terms(H_qubit_TD.expand())).trigsimp()).subs(hbar, 1))[sx].factor()"
   ]
  },
  {
   "cell_type": "code",
   "execution_count": 39,
   "metadata": {},
   "outputs": [
    {
     "data": {
      "text/latex": [
       "$\\displaystyle \\frac{\\omega_{z} \\left(2 g^{2} - \\omega^{2} + \\omega_{z}^{2}\\right)}{\\left(\\omega - \\omega_{z}\\right) \\left(\\omega + \\omega_{z}\\right)}$"
      ],
      "text/plain": [
       "omega_z*(2*g**2 - omega**2 + omega_z**2)/((omega - omega_z)*(omega + omega_z))"
      ]
     },
     "execution_count": 39,
     "metadata": {},
     "output_type": "execute_result"
    }
   ],
   "source": [
    "omega_driving_resonance = group_by_operators(Spin.project(sp.expand_complex(sp.factor_terms(H_qubit_TD.expand())).trigsimp()).subs(hbar, 1))[sz]*2\n",
    "omega_driving_resonance.factor()"
   ]
  },
  {
   "cell_type": "code",
   "execution_count": 46,
   "metadata": {},
   "outputs": [
    {
     "data": {
      "text/latex": [
       "$\\displaystyle - \\frac{2 E_{0} g \\omega \\left(2 g^{4} \\omega_{z}^{2} - 2 g^{2} \\omega^{2} \\omega_{z}^{2} + 2 g^{2} \\omega_{z}^{4} - \\omega^{6} + 3 \\omega^{4} \\omega_{z}^{2} - 3 \\omega^{2} \\omega_{z}^{4} + \\omega_{z}^{6}\\right)}{\\left(\\omega - \\omega_{z}\\right) \\left(\\omega + \\omega_{z}\\right) \\left(2 g^{2} \\omega_{z} - \\omega^{3} - \\omega^{2} \\omega_{z} + \\omega \\omega_{z}^{2} + \\omega_{z}^{3}\\right) \\left(2 g^{2} \\omega_{z} + \\omega^{3} - \\omega^{2} \\omega_{z} - \\omega \\omega_{z}^{2} + \\omega_{z}^{3}\\right)}$"
      ],
      "text/plain": [
       "-2*E0*g*omega*(2*g**4*omega_z**2 - 2*g**2*omega**2*omega_z**2 + 2*g**2*omega_z**4 - omega**6 + 3*omega**4*omega_z**2 - 3*omega**2*omega_z**4 + omega_z**6)/((omega - omega_z)*(omega + omega_z)*(2*g**2*omega_z - omega**3 - omega**2*omega_z + omega*omega_z**2 + omega_z**3)*(2*g**2*omega_z + omega**3 - omega**2*omega_z - omega*omega_z**2 + omega_z**3))"
      ]
     },
     "execution_count": 46,
     "metadata": {},
     "output_type": "execute_result"
    }
   ],
   "source": [
    "group_by_operators(Spin.project(sp.expand_complex(sp.factor_terms(H_qubit_TD.expand())).trigsimp()).subs(hbar, 1))[sx].factor().coeff(sp.cos(omega_d*t)).subs(omega_d, omega_driving_resonance).factor()"
   ]
  },
  {
   "cell_type": "code",
   "execution_count": 48,
   "metadata": {},
   "outputs": [
    {
     "data": {
      "text/latex": [
       "$\\displaystyle - \\frac{\\left(\\omega - \\omega_{z}\\right)^{2} \\left(\\omega + \\omega_{z}\\right)^{2}}{\\left(2 g^{2} \\omega_{z} - \\omega^{3} - \\omega^{2} \\omega_{z} + \\omega \\omega_{z}^{2} + \\omega_{z}^{3}\\right) \\left(2 g^{2} \\omega_{z} + \\omega^{3} - \\omega^{2} \\omega_{z} - \\omega \\omega_{z}^{2} + \\omega_{z}^{3}\\right)}$"
      ],
      "text/plain": [
       "-(omega - omega_z)**2*(omega + omega_z)**2/((2*g**2*omega_z - omega**3 - omega**2*omega_z + omega*omega_z**2 + omega_z**3)*(2*g**2*omega_z + omega**3 - omega**2*omega_z - omega*omega_z**2 + omega_z**3))"
      ]
     },
     "execution_count": 48,
     "metadata": {},
     "output_type": "execute_result"
    }
   ],
   "source": [
    "(1/(omega**2 - (omega_driving_resonance)**2)).simplify().factor()"
   ]
  }
 ],
 "metadata": {
  "kernelspec": {
   "display_name": "pysw",
   "language": "python",
   "name": "python3"
  },
  "language_info": {
   "codemirror_mode": {
    "name": "ipython",
    "version": 3
   },
   "file_extension": ".py",
   "mimetype": "text/x-python",
   "name": "python",
   "nbconvert_exporter": "python",
   "pygments_lexer": "ipython3",
   "version": "3.13.0"
  }
 },
 "nbformat": 4,
 "nbformat_minor": 2
}
