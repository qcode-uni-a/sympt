{
 "cells": [
  {
   "cell_type": "markdown",
   "metadata": {},
   "source": [
    "System found in **Subharmonic transitions and Bloch-Siegert shift in electrically driven spin resonance**: 10.1103/PhysRevB.92.054422 "
   ]
  },
  {
   "cell_type": "code",
   "execution_count": 1,
   "metadata": {},
   "outputs": [],
   "source": [
    "# Objects for defining the Hamiltonian\n",
    "from sympt import *\n",
    "import sympy as sp"
   ]
  },
  {
   "cell_type": "code",
   "execution_count": 2,
   "metadata": {},
   "outputs": [
    {
     "data": {
      "text/latex": [
       "$\\displaystyle H_{0} : \\hbar \\omega_{0} \\left(\\frac{1}{2} + {{a}^\\dagger} {a}\\right)$"
      ],
      "text/plain": [
       "<IPython.core.display.Math object>"
      ]
     },
     "metadata": {},
     "output_type": "display_data"
    },
    {
     "data": {
      "text/latex": [
       "$\\displaystyle H_{E} : \\tilde{E}_{\\mathrm{ac}} \\sin{\\left(\\omega t \\right)} \\left({{a}^\\dagger} + {a}\\right)$"
      ],
      "text/plain": [
       "<IPython.core.display.Math object>"
      ]
     },
     "metadata": {},
     "output_type": "display_data"
    },
    {
     "data": {
      "text/latex": [
       "$\\displaystyle H_{B} : - \\frac{\\tilde{B} \\sigma_{3}}{2}$"
      ],
      "text/plain": [
       "<IPython.core.display.Math object>"
      ]
     },
     "metadata": {},
     "output_type": "display_data"
    },
    {
     "data": {
      "text/latex": [
       "$\\displaystyle H_{\\mathrm{so}} : i \\tilde{\\alpha} \\left({{a}^\\dagger} - {a}\\right) \\left(\\sin{\\left(\\theta \\right)} \\sigma_{3} + \\cos{\\left(\\theta \\right)} \\sigma_{2}\\right)$"
      ],
      "text/plain": [
       "<IPython.core.display.Math object>"
      ]
     },
     "metadata": {},
     "output_type": "display_data"
    }
   ],
   "source": [
    "omega0 = RDSymbol('omega0', real=True, positive=True)\n",
    "omega = RDSymbol('omega', real=True, positive=True, order=1)\n",
    "Eac = RDSymbol(r'\\tilde{E}_{\\mathrm{ac}}', real=True, order=1)\n",
    "B = RDSymbol(r'\\tilde{B}', real=True, order=1)\n",
    "alpha = RDSymbol(r'\\tilde{\\alpha}', real=True, order=1)\n",
    "theta = RDSymbol(r'\\theta', real=True)\n",
    "\n",
    "nso = sp.Matrix([0, sp.cos(theta), sp.sin(theta)])\n",
    "\n",
    "Spin = RDBasis('sigma', 2)\n",
    "s0, sx, sy, sz = Spin.basis\n",
    "s_vec = sp.Matrix([sx, sy, sz])\n",
    "\n",
    "a = BosonOp('a')\n",
    "ad = Dagger(a)\n",
    "\n",
    "H0 = hbar * omega0 * (ad*a + sp.Rational(1,2))\n",
    "HE = Eac * sp.sin(omega * t) * (ad + a)\n",
    "HB = -sp.Rational(1,2) * B * sz\n",
    "Hso = I * alpha * (ad - a) * nso.dot(s_vec)\n",
    "\n",
    "display_dict({\n",
    "    sp.Symbol('H_0'): H0,\n",
    "    sp.Symbol('H_E'): HE,\n",
    "    sp.Symbol('H_B'): HB,\n",
    "    sp.Symbol(r'H_{\\mathrm{so}}'): Hso,\n",
    "})"
   ]
  },
  {
   "cell_type": "code",
   "execution_count": 3,
   "metadata": {},
   "outputs": [
    {
     "name": "stderr",
     "output_type": "stream",
     "text": [
      "\u001b[32mThe EffectiveFrame object has been initialized successfully.\u001b[0m\n"
     ]
    }
   ],
   "source": [
    "Eff_Frame = EffectiveFrame(H=H0 + HB, V=HE + Hso, subspaces=[Spin])"
   ]
  },
  {
   "cell_type": "markdown",
   "metadata": {},
   "source": [
    "# Standard Schrieffer-Wolff Transformation"
   ]
  },
  {
   "cell_type": "code",
   "execution_count": 4,
   "metadata": {},
   "outputs": [
    {
     "name": "stderr",
     "output_type": "stream",
     "text": [
      "Computing the effective Hamiltonian: 100%|██████████| 5/5 [00:07<00:00,  1.54s/it]\n",
      "\u001b[32mThe Hamiltonian has been solved successfully. Please use the get_H method to get the result in the desired form.\u001b[0m\n",
      "Converting to matrix form: 100%|██████████| 6/6 [00:00<00:00, 58.80it/s]\n"
     ]
    }
   ],
   "source": [
    "Eff_Frame.solve(max_order=5, method=\"SW\")\n",
    "H_eff = Eff_Frame.get_H('matrix')\n",
    "H2_corrections = Eff_Frame.corrections"
   ]
  },
  {
   "cell_type": "code",
   "execution_count": 5,
   "metadata": {},
   "outputs": [],
   "source": [
    "# Corrections to the Hamiltonian for each order\n",
    "H0, H1, H2, H3, H4, H5 = [H_correction for H_correction in Eff_Frame.corrections.values()]"
   ]
  },
  {
   "cell_type": "code",
   "execution_count": 6,
   "metadata": {},
   "outputs": [
    {
     "data": {
      "text/latex": [
       "$\\displaystyle \\hbar \\omega_{0} {{a}^\\dagger} {a} \\sigma_{0} + \\frac{\\hbar \\omega_{0} \\sigma_{0}}{2}$"
      ],
      "text/plain": [
       "hbar*omega0*Dagger(a)*a*sigma_0 + hbar*omega0*sigma_0/2"
      ]
     },
     "execution_count": 6,
     "metadata": {},
     "output_type": "execute_result"
    }
   ],
   "source": [
    "# projecting H0 correction into spin basis\n",
    "Spin.project(H0).expand()"
   ]
  },
  {
   "cell_type": "code",
   "execution_count": 7,
   "metadata": {},
   "outputs": [
    {
     "data": {
      "text/latex": [
       "$\\displaystyle - \\frac{\\tilde{B} \\sigma_{3}}{2}$"
      ],
      "text/plain": [
       "-\\tilde{B}*sigma_3/2"
      ]
     },
     "execution_count": 7,
     "metadata": {},
     "output_type": "execute_result"
    }
   ],
   "source": [
    "# projecting H1 correction into spin basis\n",
    "Spin.project(H1).expand()"
   ]
  },
  {
   "cell_type": "code",
   "execution_count": 8,
   "metadata": {},
   "outputs": [
    {
     "data": {
      "text/latex": [
       "$\\displaystyle - \\frac{\\tilde{E}_{\\mathrm{ac}}^{2} \\sin^{2}{\\left(\\omega t \\right)} \\sigma_{0} + \\tilde{\\alpha}^{2} \\sigma_{0}}{\\hbar \\omega_{0}}$"
      ],
      "text/plain": [
       "-(\\tilde{E}_{\\mathrm{ac}}**2*sin(omega*t)**2*sigma_0 + \\tilde{\\alpha}**2*sigma_0)/(hbar*omega0)"
      ]
     },
     "execution_count": 8,
     "metadata": {},
     "output_type": "execute_result"
    }
   ],
   "source": [
    "# projecting H2 correction into spin basis\n",
    "Spin.project(sp.expand_complex(H2).trigsimp()).expand().cancel()"
   ]
  },
  {
   "cell_type": "code",
   "execution_count": 9,
   "metadata": {},
   "outputs": [
    {
     "data": {
      "text/latex": [
       "$\\displaystyle \\sigma_{1} : - \\frac{\\tilde{B} \\tilde{E}_{\\mathrm{ac}} \\tilde{\\alpha} \\sin{\\left(\\omega t \\right)} \\cos{\\left(\\theta \\right)}}{\\hbar^{2} \\omega_{0}^{2}}$"
      ],
      "text/plain": [
       "<IPython.core.display.Math object>"
      ]
     },
     "metadata": {},
     "output_type": "display_data"
    },
    {
     "data": {
      "text/latex": [
       "$\\displaystyle \\sigma_{2} : - \\frac{\\tilde{\\alpha} \\left(\\tilde{B} \\tilde{\\alpha} \\sin{\\left(\\theta \\right)} + \\tilde{E}_{\\mathrm{ac}} \\hbar \\omega \\cos{\\left(\\omega t \\right)}\\right) \\cos{\\left(\\theta \\right)}}{\\hbar^{2} \\omega_{0}^{2}}$"
      ],
      "text/plain": [
       "<IPython.core.display.Math object>"
      ]
     },
     "metadata": {},
     "output_type": "display_data"
    },
    {
     "data": {
      "text/latex": [
       "$\\displaystyle \\sigma_{3} : \\frac{\\tilde{\\alpha} \\left(\\tilde{B} \\tilde{\\alpha} \\cos^{2}{\\left(\\theta \\right)} - \\tilde{E}_{\\mathrm{ac}} \\hbar \\omega \\sin{\\left(\\theta \\right)} \\cos{\\left(\\omega t \\right)}\\right)}{\\hbar^{2} \\omega_{0}^{2}}$"
      ],
      "text/plain": [
       "<IPython.core.display.Math object>"
      ]
     },
     "metadata": {},
     "output_type": "display_data"
    }
   ],
   "source": [
    "# projecting H3 correction into spin basis\n",
    "H3_ = Spin.project(sp.expand_complex(H3.expand().subs({ad:0, a:0})).trigsimp())\n",
    "display_dict({k:sp.factor_terms(v.cancel()) for k,v in group_by_operators(H3_).items()})"
   ]
  },
  {
   "cell_type": "code",
   "execution_count": 10,
   "metadata": {},
   "outputs": [
    {
     "data": {
      "text/latex": [
       "$\\displaystyle \\sigma_{0} : - \\frac{\\tilde{B}^{2} \\tilde{\\alpha}^{2} \\cos^{2}{\\left(\\theta \\right)}}{\\hbar^{3} \\omega_{0}^{3}} + \\frac{\\tilde{E}_{\\mathrm{ac}}^{2} \\omega^{2} \\cos^{2}{\\left(\\omega t \\right)}}{\\hbar \\omega_{0}^{3}} - \\frac{\\tilde{E}_{\\mathrm{ac}}^{2} \\omega^{2}}{\\hbar \\omega_{0}^{3}}$"
      ],
      "text/plain": [
       "<IPython.core.display.Math object>"
      ]
     },
     "metadata": {},
     "output_type": "display_data"
    }
   ],
   "source": [
    "# projecting H4 correction into spin basis\n",
    "H4_ = Spin.project(sp.expand_complex(H4.expand().subs({ad:0, a:0})).trigsimp())\n",
    "display_dict(group_by_operators(H4_))"
   ]
  },
  {
   "cell_type": "code",
   "execution_count": 11,
   "metadata": {},
   "outputs": [
    {
     "data": {
      "text/latex": [
       "$\\displaystyle \\sigma_{1} : - \\frac{\\tilde{B}^{3} \\tilde{E}_{\\mathrm{ac}} \\tilde{\\alpha} \\sin{\\left(\\omega t \\right)} \\cos{\\left(\\theta \\right)}}{\\hbar^{4} \\omega_{0}^{4}} + \\frac{2 \\tilde{B} \\tilde{E}_{\\mathrm{ac}} \\tilde{\\alpha}^{3} \\sin{\\left(\\omega t \\right)} \\cos{\\left(\\theta \\right)}}{\\hbar^{4} \\omega_{0}^{4}}$"
      ],
      "text/plain": [
       "<IPython.core.display.Math object>"
      ]
     },
     "metadata": {},
     "output_type": "display_data"
    },
    {
     "data": {
      "text/latex": [
       "$\\displaystyle \\sigma_{2} : - \\frac{\\tilde{B}^{3} \\tilde{\\alpha}^{2} \\sin{\\left(\\theta \\right)} \\cos{\\left(\\theta \\right)}}{\\hbar^{4} \\omega_{0}^{4}} - \\frac{\\tilde{B} \\tilde{E}_{\\mathrm{ac}}^{2} \\tilde{\\alpha}^{2} \\sin{\\left(\\theta \\right)} \\sin^{2}{\\left(\\omega t \\right)} \\cos{\\left(\\theta \\right)}}{\\hbar^{4} \\omega_{0}^{4}} + \\frac{\\tilde{B} \\tilde{\\alpha}^{4} \\sin{\\left(\\theta \\right)} \\cos{\\left(\\theta \\right)}}{\\hbar^{4} \\omega_{0}^{4}} - \\frac{\\tilde{E}_{\\mathrm{ac}} \\tilde{\\alpha} \\omega^{3} \\cos{\\left(\\theta \\right)} \\cos{\\left(\\omega t \\right)}}{\\hbar \\omega_{0}^{4}}$"
      ],
      "text/plain": [
       "<IPython.core.display.Math object>"
      ]
     },
     "metadata": {},
     "output_type": "display_data"
    },
    {
     "data": {
      "text/latex": [
       "$\\displaystyle \\sigma_{3} : \\frac{\\tilde{B}^{3} \\tilde{\\alpha}^{2} \\cos^{2}{\\left(\\theta \\right)}}{\\hbar^{4} \\omega_{0}^{4}} - \\frac{\\tilde{B} \\tilde{E}_{\\mathrm{ac}}^{2} \\tilde{\\alpha}^{2} \\cos^{2}{\\left(\\theta \\right)} \\cos^{2}{\\left(\\omega t \\right)}}{\\hbar^{4} \\omega_{0}^{4}} + \\frac{\\tilde{B} \\tilde{E}_{\\mathrm{ac}}^{2} \\tilde{\\alpha}^{2} \\cos^{2}{\\left(\\theta \\right)}}{\\hbar^{4} \\omega_{0}^{4}} - \\frac{\\tilde{B} \\tilde{\\alpha}^{4} \\cos^{2}{\\left(\\theta \\right)}}{\\hbar^{4} \\omega_{0}^{4}} - \\frac{\\tilde{E}_{\\mathrm{ac}} \\tilde{\\alpha} \\omega^{3} \\sin{\\left(\\theta \\right)} \\cos{\\left(\\omega t \\right)}}{\\hbar \\omega_{0}^{4}}$"
      ],
      "text/plain": [
       "<IPython.core.display.Math object>"
      ]
     },
     "metadata": {},
     "output_type": "display_data"
    }
   ],
   "source": [
    "# projecting H5 correction into spin basis\n",
    "H5 = Spin.project(sp.expand_complex(H5.expand().subs({ad:0, a:0}).expand()).trigsimp())\n",
    "display_dict(group_by_operators(H5))"
   ]
  }
 ],
 "metadata": {
  "kernelspec": {
   "display_name": "sympt",
   "language": "python",
   "name": "python3"
  },
  "language_info": {
   "codemirror_mode": {
    "name": "ipython",
    "version": 3
   },
   "file_extension": ".py",
   "mimetype": "text/x-python",
   "name": "python",
   "nbconvert_exporter": "python",
   "pygments_lexer": "ipython3",
   "version": "3.11.11"
  }
 },
 "nbformat": 4,
 "nbformat_minor": 4
}
