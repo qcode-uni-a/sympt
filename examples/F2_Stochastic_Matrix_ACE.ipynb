{
 "cells": [
  {
   "cell_type": "code",
   "execution_count": 1,
   "id": "aa882a4e-a547-4f60-b250-e76c64a0fe43",
   "metadata": {},
   "outputs": [],
   "source": [
    "from SymPT import *\n",
    "import sympy as sp\n",
    "import numpy as np\n",
    "import matplotlib.pyplot as plt\n",
    "from tqdm import tqdm\n",
    "import scipy.linalg as la"
   ]
  },
  {
   "cell_type": "code",
   "execution_count": 2,
   "id": "f826769d-6603-4ee9-82ed-800fa4c43dc1",
   "metadata": {},
   "outputs": [],
   "source": [
    "#plt.style.use(\"classic\")\n",
    "cmap = plt.get_cmap('inferno')\n",
    "plt.rc('text', usetex = True)\n",
    "plt.rc('font', family = 'serif', weight = 'normal')\n",
    "plt.rc('font', size = 18)\n",
    "color_list = [cmap(i) for i in np.linspace(0, 1, 16)]\n",
    "fntsize = 20\n",
    "dir_images = \"graphs/\""
   ]
  },
  {
   "cell_type": "markdown",
   "id": "ef4348f7-2dd2-4aa8-9aef-7b5c410f5b2f",
   "metadata": {},
   "source": [
    "# SymPT Mask"
   ]
  },
  {
   "cell_type": "code",
   "execution_count": 3,
   "id": "0c132d6d-d7d4-4a56-b563-609175698744",
   "metadata": {},
   "outputs": [],
   "source": [
    "def letter(num):\n",
    "    # Define the patterns for each letter\n",
    "    patterns = {\n",
    "        0: np.array([\n",
    "            [1, 1, 1],\n",
    "            [1, 0, 0],\n",
    "            [1, 1, 1],\n",
    "            [0, 0, 1],\n",
    "            [1, 1, 1]\n",
    "        ]),  # Capital \"S\"\n",
    "        1: np.array([\n",
    "            [0, 0, 0, 0],\n",
    "            [1, 0, 0, 1],\n",
    "            [0, 1, 1, 1],\n",
    "            [0, 0, 0, 1],\n",
    "            [1, 1, 1, 1]\n",
    "        ]),  # Lowercase \"y\"\n",
    "       2: np.array([\n",
    "            [0, 0, 0, 0, 0],\n",
    "            [1, 0, 0, 0, 1],\n",
    "            [1, 1, 0, 1, 1],\n",
    "            [1, 0, 1, 0, 1],\n",
    "            [1, 0, 0, 0, 1]\n",
    "        ]), # Lowercase \"m\"\n",
    "        3: np.array([\n",
    "            [1, 1, 1],\n",
    "            [1, 0, 1],\n",
    "            [1, 1, 1],\n",
    "            [1, 0, 0],\n",
    "            [1, 0, 0]\n",
    "        ]),  # Capital \"P\"\n",
    "        4: np.array([\n",
    "            [1, 1, 1],\n",
    "            [0, 1, 0],\n",
    "            [0, 1, 0],\n",
    "            [0, 1, 0],\n",
    "            [0, 1, 0]\n",
    "        ]),  # Capital \"T\"\n",
    "        }\n",
    "\n",
    "    # Return the correct pattern or raise an error if the input is invalid\n",
    "    if num in patterns:\n",
    "        return patterns[num]\n",
    "    else:\n",
    "        raise ValueError(\"Input must be a number from 0 to 3.\")\n",
    "space = np.zeros((5,1))\n",
    "zero_b = np.zeros((5,5)) \n",
    "last_pad = np.zeros((12,37))"
   ]
  },
  {
   "cell_type": "code",
   "execution_count": 4,
   "id": "bdb99a3d-f723-4e1d-8414-7e6afa4d3b16",
   "metadata": {},
   "outputs": [
    {
     "data": {
      "text/plain": [
       "(37, 37)"
      ]
     },
     "execution_count": 4,
     "metadata": {},
     "output_type": "execute_result"
    },
    {
     "data": {
      "image/png": "[encoded data removed]",
      "text/plain": [
       "<Figure size 640x480 with 1 Axes>"
      ]
     },
     "metadata": {},
     "output_type": "display_data"
    }
   ],
   "source": [
    "SymPT = np.block(\n",
    "    [\n",
    "        [zero_b, zero_b, zero_b, zero_b, zero_b, zero_b, space, space, space, space, space, space, space],\n",
    "        [zero_b, zero_b, zero_b, letter(0),space,letter(1),space,letter(2),space,letter(3),space,letter(4)], \n",
    "        [zero_b, zero_b, zero_b, zero_b, zero_b, zero_b, space, space, space, space, space, space, space],\n",
    "        [zero_b, zero_b, zero_b, zero_b, zero_b, zero_b, space, space, space, space, space, space, space],\n",
    "        [zero_b, zero_b, zero_b, zero_b, zero_b, zero_b, space, space, space, space, space, space, space],\n",
    "        [last_pad]\n",
    "    ]\n",
    ")\n",
    "SymPT = SymPT + SymPT.T\n",
    "mask = Block(SymPT)\n",
    "plt.imshow(SymPT)\n",
    "SymPT.shape"
   ]
  },
  {
   "cell_type": "markdown",
   "id": "5aed04d4-4d1d-4bad-ba3e-36044a74ec03",
   "metadata": {},
   "source": [
    "# Hamiltonian"
   ]
  },
  {
   "cell_type": "code",
   "execution_count": 5,
   "id": "0bdb5fec-4c4c-4227-8bcc-7dcb7454456d",
   "metadata": {},
   "outputs": [],
   "source": [
    "I = SymPT.shape[0]\n",
    "J = SymPT.shape[1]\n",
    "lambdas = [RDSymbol(f\"\\\\lambda_{i}\", order = 1, real = True) for i in range(int((I**2 -I))//2)]\n",
    "omegas = [RDSymbol(f\"\\\\omega_{i}\", order = 0, real = True) for i in range(I)]\n",
    "\n",
    "H = sp.zeros(I, J)\n",
    "lambda_index = 0\n",
    "for i in range(I):\n",
    "    for j in range(i, J):  # Loop only over upper triangular part (including diagonal)\n",
    "        if i == j:\n",
    "            H[i, j] = omegas[i]  # Diagonal elements\n",
    "        else:\n",
    "            H[i, j] = lambdas[lambda_index]\n",
    "            H[j, i] = lambdas[lambda_index]  # Ensure symmetry\n",
    "            lambda_index += 1"
   ]
  },
  {
   "cell_type": "code",
   "execution_count": 6,
   "id": "6a46c876-a2ce-40bd-9ac9-12f31513fe64",
   "metadata": {},
   "outputs": [],
   "source": [
    "def substitution_rules(I, J):\n",
    "    \"\"\"Returns 2 dictionaries containing substitution rules for H\"\"\"\n",
    "    omega_values = np.sort([np.random.uniform(-10, 10) for _ in range(I)])  \n",
    "    substitution_dict = {omegas[i]: omega_values[i] for i in range(I)}\n",
    "    substitution_omegas = {omegas[i]: omega_values[i] for i in range(I)}\n",
    "\n",
    "    lambda_index = 0\n",
    "    for i in range(I):\n",
    "        for j in range(i+1, J):  # Iterate only over the upper triangular part\n",
    "            bound = 0.1**(lambdas[lambda_index].order) * abs(omega_values[i] - omega_values[j])            \n",
    "            lambda_value = bound             \n",
    "            substitution_dict[lambdas[lambda_index]] = lambda_value \n",
    "            lambda_index += 1\n",
    "            \n",
    "    return substitution_dict, substitution_omegas\n",
    "values, omegas = substitution_rules(I,J)"
   ]
  },
  {
   "cell_type": "code",
   "execution_count": 7,
   "id": "b5c5b2ae-0740-456b-921d-4ff40277eba0",
   "metadata": {},
   "outputs": [
    {
     "name": "stdout",
     "output_type": "stream",
     "text": [
      "Creating the EffectiveFrame object with matrix form.\n",
      "The EffectiveFrame object has been initialized successfully.\n",
      "\n",
      "Effective Frame\n",
      "\n",
      "╭────────┬────────┬─────────────╮\n",
      "│  Name  │  Type  │  Dimension  │\n",
      "├────────┼────────┼─────────────┤\n",
      "│ Finite │ Finite │    37x37    │\n",
      "╰────────┴────────┴─────────────╯\n",
      "\n",
      "Effective Hamiltonian: \tNot computed yet. To do so, run `solve` method. \n",
      "\n",
      "\n"
     ]
    }
   ],
   "source": [
    "Eff_Frame = EffectiveFrame(H, symbol_values = values)"
   ]
  },
  {
   "cell_type": "code",
   "execution_count": 8,
   "id": "ce4f6d28-e51f-451d-ad2c-3b0236e954fd",
   "metadata": {},
   "outputs": [
    {
     "name": "stdout",
     "output_type": "stream",
     "text": [
      "Substituting the symbol values in the Hamiltonian and perturbative interactions.\n"
     ]
    },
    {
     "name": "stderr",
     "output_type": "stream",
     "text": [
      "Performing Full Diagonalization for each order: 100%|██████████████████████████████████████████████████████████████████████████████████████████████████████████████████████████████████| 3/3 [02:43<00:00, 54.40s/it]\n",
      "Computing least-action generators S: 100%|█████████████████████████████████████████████████████████████████████████████████████████████████████████████████████████████████████████████| 3/3 [01:57<00:00, 39.25s/it]\n",
      "Rotating for each order: 100%|█████████████████████████████████████████████████████████████████████████████████████████████████████████████████████████████████████████████████████████| 3/3 [00:12<00:00,  4.09s/it]\n"
     ]
    },
    {
     "name": "stdout",
     "output_type": "stream",
     "text": [
      "The Hamiltonian has been solved successfully. Please use the get_H method to get the result in the desired form.\n"
     ]
    },
    {
     "name": "stderr",
     "output_type": "stream",
     "text": [
      "Converting to matrix form: 100%|█████████████████████████████████████████████████████████████████████████████████████████████████████████████████████████████████████████████████████| 1/1 [00:00<00:00, 1887.63it/s]\n",
      "Converting to matrix form: 100%|██████████████████████████████████████████████████████████████████████████████████████████████████████████████████████████████████████████████████████| 1/1 [00:00<00:00, 683.11it/s]\n",
      "Converting to matrix form: 100%|█████████████████████████████████████████████████████████████████████████████████████████████████████████████████████████████████████████████████████| 1/1 [00:00<00:00, 1709.87it/s]\n",
      "Converting to matrix form: 100%|█████████████████████████████████████████████████████████████████████████████████████████████████████████████████████████████████████████████████████| 1/1 [00:00<00:00, 3187.16it/s]\n"
     ]
    }
   ],
   "source": [
    "# Calculate the effective model using mask up to the second order\n",
    "Eff_Frame.solve(max_order = 3, method = \"LA\", mask=mask)\n",
    "# Obtaining the result in the matrix form\n",
    "result = Eff_Frame.get_H(return_form = \"matrix\")"
   ]
  },
  {
   "cell_type": "markdown",
   "id": "ac1ae91f-4292-4ec6-9e09-4c9c2858b080",
   "metadata": {},
   "source": [
    "# Plotting"
   ]
  },
  {
   "cell_type": "code",
   "execution_count": 9,
   "id": "c9c2200c-2e37-47c8-aaf0-4b044a748c9c",
   "metadata": {},
   "outputs": [
    {
     "data": {
      "text/plain": [
       "<matplotlib.colorbar.Colorbar at 0x7f44f76fcbe0>"
      ]
     },
     "execution_count": 9,
     "metadata": {},
     "output_type": "execute_result"
    },
    {
     "data": {
      "image/png": "[encoded data removed]",
      "text/plain": [
       "<Figure size 640x480 with 2 Axes>"
      ]
     },
     "metadata": {},
     "output_type": "display_data"
    }
   ],
   "source": [
    "diag_idx = np.diag_indices(SymPT.shape[0])\n",
    "np_result = np.array(result).astype(float)\n",
    "np_result[np.abs(np_result) == 0] = None\n",
    "\n",
    "fig, ax = plt.subplots(dpi = 100)\n",
    "mapp = ax.imshow(np_result, cmap = \"inferno\")\n",
    "fig.colorbar(mapp)\n",
    "#plt.savefig(dir_images+'masked_hamiltonian.pdf',  bbox_inches='tight')"
   ]
  },
  {
   "cell_type": "code",
   "execution_count": null,
   "id": "5446dcda-b6c7-4853-8a36-d693aa2d3c1d",
   "metadata": {
    "scrolled": true
   },
   "outputs": [],
   "source": [
    "for i in range(I):\n",
    "    for j in range(J):\n",
    "        if i == j:\n",
    "            continue\n",
    "        print(Hh[i, j] / np.abs(Hh[i,i] - Hh[j,j]))"
   ]
  }
 ],
 "metadata": {
  "kernelspec": {
   "display_name": "Python 3 (ipykernel)",
   "language": "python",
   "name": "python3"
  },
  "language_info": {
   "codemirror_mode": {
    "name": "ipython",
    "version": 3
   },
   "file_extension": ".py",
   "mimetype": "text/x-python",
   "name": "python",
   "nbconvert_exporter": "python",
   "pygments_lexer": "ipython3",
   "version": "3.9.20"
  }
 },
 "nbformat": 4,
 "nbformat_minor": 5
}
