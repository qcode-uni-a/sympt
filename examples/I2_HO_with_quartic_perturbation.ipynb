{
 "cells": [
  {
   "cell_type": "markdown",
   "metadata": {},
   "source": [
    "System found in **Enhanced perturbative continuous unitary transformations**: 10.1103/PhysRevB.86.125113 "
   ]
  },
  {
   "cell_type": "code",
   "execution_count": 2,
   "metadata": {},
   "outputs": [],
   "source": [
    "# Objects for defining the Hamiltonian\n",
    "from SymPT import RDSymbol, RDBasis, BosonOp, Dagger, Block\n",
    "# Objects for obtaining the Effective Hamiltonian\n",
    "from SymPT import EffectiveFrame\n",
    "\n",
    "# Extra utils\n",
    "from SymPT import display_dict\n",
    "\n",
    "# Import sympy\n",
    "import sympy as sp"
   ]
  },
  {
   "cell_type": "markdown",
   "metadata": {},
   "source": [
    "# Setup"
   ]
  },
  {
   "cell_type": "code",
   "execution_count": 20,
   "metadata": {},
   "outputs": [
    {
     "data": {
      "text/latex": [
       "$\\displaystyle \\omega {{b}^\\dagger} {b} + \\varepsilon_{0} + x \\left(U {{b}^\\dagger}^{2} {b}^{2} + \\tilde{\\omega} {{b}^\\dagger} {b} + \\tilde{\\varepsilon}\\right)$"
      ],
      "text/plain": [
       "omega*Dagger(b)*b + varepsilon_0 + x*(U*Dagger(b)**2*b**2 + \\tilde{\\omega}*Dagger(b)*b + \\tilde{\\varepsilon})"
      ]
     },
     "metadata": {},
     "output_type": "display_data"
    },
    {
     "data": {
      "text/latex": [
       "$\\displaystyle x \\left({{b}^\\dagger}^{4} + {b}^{4}\\right)$"
      ],
      "text/plain": [
       "x*(Dagger(b)**4 + b**4)"
      ]
     },
     "metadata": {},
     "output_type": "display_data"
    }
   ],
   "source": [
    "# ---------------- Defining the symbols ------------------\n",
    "# Order 0\n",
    "omega = RDSymbol('omega', order=0, positive=True, real=True)\n",
    "omega_tilde = RDSymbol(r'\\tilde{\\omega}', order=0, positive=True, real=True)\n",
    "epsilon_0 = RDSymbol(r'varepsilon_0', order=0, positive=True, real=True)\n",
    "epsilon_tilde = RDSymbol(r'\\tilde{\\varepsilon}', order=0, positive=True, real=True)\n",
    "U = RDSymbol('U', order=0, positive=True, real=True)\n",
    "# Order 1\n",
    "x = RDSymbol('x', order=1, positive=True, real=True)\n",
    "\n",
    "# ----------------- Defining the basis -------------------\n",
    "# Boson basis resonator: Infinite bosonic Hilbert space\n",
    "b = BosonOp('b')\n",
    "bd = Dagger(b)\n",
    "\n",
    "# -------------- Defining the Hamiltonian ----------------\n",
    "# Unperturbed Hamiltonian H0\n",
    "H0 = epsilon_0 + omega * bd * b \n",
    "# Perturbed block diagonal Hamiltonian\n",
    "H1 = x * (omega_tilde * bd * b + U * bd * bd * b * b + epsilon_tilde)\n",
    "# Block diagonal Hamiltonian\n",
    "H = H0 + H1\n",
    "display(H)\n",
    "# Interaction Hamiltonian V\n",
    "V = x * (bd**4 + b**4)\n",
    "display(V)"
   ]
  },
  {
   "cell_type": "code",
   "execution_count": 24,
   "metadata": {},
   "outputs": [
    {
     "name": "stdout",
     "output_type": "stream",
     "text": [
      "The EffectiveFrame object has been initialized successfully.\n",
      "\n",
      "Effective Frame\n",
      "\n",
      "╭────────┬─────────┬─────────────╮\n",
      "│  Name  │  Type   │  Dimension  │\n",
      "├────────┼─────────┼─────────────┤\n",
      "│   b    │ Bosonic │      ∞      │\n",
      "╰────────┴─────────┴─────────────╯\n",
      "\n",
      "Effective Hamiltonian: \tNot computed yet. To do so, run `solve` method. \n",
      "\n",
      "\n"
     ]
    }
   ],
   "source": [
    "# Deffining Effective Hamiltonian Object\n",
    "Eff_frame = EffectiveFrame(H, V)"
   ]
  },
  {
   "cell_type": "markdown",
   "metadata": {},
   "source": [
    "# Standard Schrieffer-Wolff Transformation"
   ]
  },
  {
   "cell_type": "code",
   "execution_count": 32,
   "metadata": {},
   "outputs": [
    {
     "name": "stderr",
     "output_type": "stream",
     "text": [
      "Solving for each order: 100%|███████████████████████████████████████████████| 3/3 [00:00<00:00,  5.88it/s]\n"
     ]
    },
    {
     "name": "stdout",
     "output_type": "stream",
     "text": [
      "The Hamiltonian has been solved successfully. Please use the get_H method to get the result in the desired form.\n"
     ]
    },
    {
     "name": "stderr",
     "output_type": "stream",
     "text": [
      "Converting to dictionary (operator) form: 100%|██████████████████████████| 7/7 [00:00<00:00, 90617.68it/s]\n"
     ]
    }
   ],
   "source": [
    "# Calculate the effective model using the Schrieffer-Wolff transformation up to the second order\n",
    "Eff_frame.solve(max_order=3, full_diagonalization=False, mask=None)\n",
    "# Obtaining the result in the dict_operator form\n",
    "H_eff_SWT = Eff_frame.get_H(return_form='dict_operator')\n",
    "#display_dict(H_eff_SWT)"
   ]
  },
  {
   "cell_type": "markdown",
   "metadata": {},
   "source": [
    "# Multiblock"
   ]
  },
  {
   "cell_type": "code",
   "execution_count": 41,
   "metadata": {},
   "outputs": [
    {
     "name": "stdout",
     "output_type": "stream",
     "text": [
      "The perturbative interaction will be added to the full Hamiltonian\n"
     ]
    },
    {
     "name": "stderr",
     "output_type": "stream",
     "text": [
      "Solving for each order: 100%|█████████████████████████████████████████████| 3/3 [00:00<00:00, 1030.29it/s]\n"
     ]
    },
    {
     "name": "stdout",
     "output_type": "stream",
     "text": [
      "The Hamiltonian has been solved successfully. Please use the get_H method to get the result in the desired form.\n"
     ]
    },
    {
     "name": "stderr",
     "output_type": "stream",
     "text": [
      "Converting to dictionary (operator) form: 100%|█████████████████████████| 5/5 [00:00<00:00, 150874.24it/s]\n"
     ]
    }
   ],
   "source": [
    "# Deffining the mask\n",
    "mask = Block(inf=b**8)\n",
    "# Calculate the effective model using the Mask routine up to the second order\n",
    "Eff_frame.solve(max_order=3, full_diagonalization=False, mask=mask)\n",
    "H_eff_Mask = Eff_frame.get_H(return_form='dict_operator')\n",
    "#display_dict(H_eff_Mask)"
   ]
  },
  {
   "cell_type": "markdown",
   "metadata": {},
   "source": [
    "# Full-diagonalization"
   ]
  },
  {
   "cell_type": "code",
   "execution_count": 42,
   "metadata": {},
   "outputs": [
    {
     "name": "stdout",
     "output_type": "stream",
     "text": [
      "The perturbative interaction will be added to the full Hamiltonian\n"
     ]
    },
    {
     "name": "stderr",
     "output_type": "stream",
     "text": [
      "Solving for each order: 100%|███████████████████████████████████████████████| 3/3 [00:00<00:00,  5.58it/s]\n"
     ]
    },
    {
     "name": "stdout",
     "output_type": "stream",
     "text": [
      "The Hamiltonian has been solved successfully. Please use the get_H method to get the result in the desired form.\n"
     ]
    },
    {
     "name": "stderr",
     "output_type": "stream",
     "text": [
      "Converting to dictionary (operator) form: 100%|██████████████████████████| 5/5 [00:00<00:00, 79739.62it/s]\n"
     ]
    }
   ],
   "source": [
    "# Calculate the effective model using the Full Diagonalization routine up to the second order\n",
    "Eff_frame.solve(max_order=3, full_diagonalization=True, mask=None)\n",
    "H_eff_FD = Eff_frame.get_H(return_form='dict_operator')\n",
    "#display_dict(H_eff_FD)"
   ]
  }
 ],
 "metadata": {
  "kernelspec": {
   "display_name": "Python 3 (ipykernel)",
   "language": "python",
   "name": "python3"
  },
  "language_info": {
   "codemirror_mode": {
    "name": "ipython",
    "version": 3
   },
   "file_extension": ".py",
   "mimetype": "text/x-python",
   "name": "python",
   "nbconvert_exporter": "python",
   "pygments_lexer": "ipython3",
   "version": "3.9.20"
  }
 },
 "nbformat": 4,
 "nbformat_minor": 4
}
