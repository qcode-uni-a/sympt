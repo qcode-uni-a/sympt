{
 "cells": [
  {
   "cell_type": "code",
   "execution_count": 2,
   "id": "aa882a4e-a547-4f60-b250-e76c64a0fe43",
   "metadata": {},
   "outputs": [],
   "source": [
    "from sympt import *\n",
    "import sympy as sp\n",
    "import numpy as np\n",
    "import matplotlib.pyplot as plt\n",
    "from tqdm import tqdm\n",
    "import scipy.linalg as la"
   ]
  },
  {
   "cell_type": "code",
   "execution_count": 3,
   "id": "f826769d-6603-4ee9-82ed-800fa4c43dc1",
   "metadata": {},
   "outputs": [],
   "source": [
    "cmap = plt.get_cmap('inferno')\n",
    "plt.rc('text', usetex = True)\n",
    "plt.rc('font', family = 'serif', weight = 'normal')\n",
    "plt.rc('font', size = 18)\n",
    "color_list = [cmap(i) for i in np.linspace(0, 1, 16)]\n",
    "fntsize = 20"
   ]
  },
  {
   "cell_type": "markdown",
   "id": "5aed04d4-4d1d-4bad-ba3e-36044a74ec03",
   "metadata": {},
   "source": [
    "# Hamiltonian"
   ]
  },
  {
   "cell_type": "code",
   "execution_count": 4,
   "id": "0bdb5fec-4c4c-4227-8bcc-7dcb7454456d",
   "metadata": {},
   "outputs": [],
   "source": [
    "def substitution_rules(I, J, omegas, lambdas):\n",
    "    \"\"\"Returns 2 dictionaries containing substitution rules for H\"\"\"\n",
    "    omega_values = np.sort([np.random.uniform(-10, 10) for _ in range(I)])  \n",
    "    substitution_dict = {omegas[i]: omega_values[i] for i in range(I)}\n",
    "    \n",
    "    lambda_index = 0\n",
    "    for i in range(I):\n",
    "        for j in range(i+1, J):  # Iterate only over the upper triangular part\n",
    "            bound = 0.1**(lambdas[lambda_index].order) * abs(omega_values[i] - omega_values[j])            \n",
    "            lambda_value = bound             \n",
    "            substitution_dict[lambdas[lambda_index]] = lambda_value \n",
    "            lambda_index += 1\n",
    "            \n",
    "    return substitution_dict"
   ]
  },
  {
   "cell_type": "code",
   "execution_count": 5,
   "id": "51feab69",
   "metadata": {},
   "outputs": [],
   "source": [
    "def create_Hamiltonian(I, J, mask):\n",
    "    #lambdas = [RDSymbol(f\"\\\\lambda_{i}\", order = 1, real = True) for i in range(int((I**2 -I))//2)]\n",
    "    omegas = [RDSymbol(f\"\\\\omega_{i}\", order = 0, real = True) for i in range(I)]\n",
    "\n",
    "    H = sp.zeros(I, J)\n",
    "    lambdas = []\n",
    "    for i in range(I):\n",
    "        H[i, i] = omegas[i]  # Diagonal elements\n",
    "        for j in range(i + 1, J):\n",
    "            lambdas.append(RDSymbol(f\"\\\\lambda_{i}_{j}\", order = 1 + mask[i, j], real = True))\n",
    "            H[i, j] = lambdas[-1]\n",
    "            H[j, i] = lambdas[-1]\n",
    "            \n",
    "    return H, omegas, lambdas"
   ]
  },
  {
   "cell_type": "markdown",
   "id": "bc64efec-49a8-4a6e-8b27-1328a887053c",
   "metadata": {},
   "source": [
    "# Exact Block Diagonalization"
   ]
  },
  {
   "cell_type": "code",
   "execution_count": 6,
   "id": "af867ee1-47a3-4197-8863-63bdc6ea8be8",
   "metadata": {},
   "outputs": [],
   "source": [
    "def exact_block_diagonalization(Hh, mask):\n",
    "    # Unitary transformation\n",
    "    _, X = la.eigh(Hh)\n",
    "    \n",
    "    X_inv = np.linalg.inv(X)\n",
    "    \n",
    "    B_mask = lambda x: np.logical_not(mask) * 1 * x\n",
    "\n",
    "    T = X @ B_mask(X_inv) @ la.fractional_matrix_power(B_mask(X) @ B_mask(X_inv), -1/2)\n",
    "\n",
    "    return la.inv(T) @ Hh @ T\n"
   ]
  },
  {
   "cell_type": "markdown",
   "id": "d8bfcad1-d4a1-4201-82d1-ce6a0b91ac8c",
   "metadata": {},
   "source": [
    "# Least Action Method"
   ]
  },
  {
   "cell_type": "code",
   "execution_count": 7,
   "id": "ce4f6d28-e51f-451d-ad2c-3b0236e954fd",
   "metadata": {},
   "outputs": [],
   "source": [
    "# Creating random block structure \n",
    "max_size = 7\n",
    "b_dims = np.random.randint(5, size=5)\n",
    "while  len(b_dims[b_dims !=0]) < 2 or np.sum(b_dims) == 0 or np.sum(b_dims) != max_size:\n",
    "    b_dims = np.random.randint(5, size=5)\n",
    "\n",
    "structure = get_structure(b_dims)\n",
    "mask = Block(structure)\n",
    "\n",
    "# Creating random Hamiltonian\n",
    "I, J = structure.shape\n",
    "H, omegas, lambdas = create_Hamiltonian(I, J, structure)\n",
    "values = substitution_rules(I,J, omegas, lambdas)\n",
    "\n",
    "Hh = np.array(H.subs(values), dtype=float) # Numerical Hamiltonian\n",
    "# Obtainining initial Hamiltonian (with values) and exact bd transformation\n",
    "exact_result = exact_block_diagonalization(Hh, structure)"
   ]
  },
  {
   "cell_type": "code",
   "execution_count": 13,
   "id": "9f754de7-ec48-422f-98ac-eeb392f497f6",
   "metadata": {},
   "outputs": [
    {
     "data": {
      "text/plain": [
       "<matplotlib.colorbar.Colorbar at 0x7f850f0caa00>"
      ]
     },
     "execution_count": 13,
     "metadata": {},
     "output_type": "execute_result"
    },
    {
     "data": {
      "image/png": "[encoded data removed]",
      "text/plain": [
       "<Figure size 1500x500 with 2 Axes>"
      ]
     },
     "metadata": {},
     "output_type": "display_data"
    }
   ],
   "source": [
    "# Plotting\n",
    "fig, ax = plt.subplots(figsize=(15, 5), dpi = 100)\n",
    "im = ax.imshow(np.array(structure, dtype=float), cmap='inferno') # Initial Hamiltonian\n",
    "cax = fig.add_axes([ax.get_position().x1+0.01,ax.get_position().y0,0.02,ax.get_position().height])\n",
    "fig.colorbar(im, cax=cax)\n",
    "#plt.savefig('LA_mask.pdf',  bbox_inches='tight')"
   ]
  },
  {
   "cell_type": "code",
   "execution_count": 9,
   "id": "9d7aa77d-b1d6-4013-85f7-637983d52eaf",
   "metadata": {},
   "outputs": [
    {
     "name": "stderr",
     "output_type": "stream",
     "text": [
      "\u001b[32mCreating the EffectiveFrame object with matrix form.\u001b[0m\n",
      "\u001b[32mThe EffectiveFrame object has been initialized successfully.\u001b[0m\n"
     ]
    }
   ],
   "source": [
    "# Initializing effective frame\n",
    "Eff_Frame = EffectiveFrame(H, symbol_values = values, verbose = True)"
   ]
  },
  {
   "cell_type": "code",
   "execution_count": 10,
   "id": "29dd065a-dded-49a4-b6de-0408875034e6",
   "metadata": {},
   "outputs": [
    {
     "name": "stderr",
     "output_type": "stream",
     "text": [
      "\u001b[32mSubstituting the symbol values in the Hamiltonian and perturbative interactions.\u001b[0m\n",
      "Performing Full Diagonalization for each order: 100%|███████████████████████| 7/7 [00:04<00:00,  1.41it/s]\n",
      "Computing least-action generators S: 100%|██████████████████████████████████| 7/7 [00:08<00:00,  1.18s/it]\n",
      "Rotating for each order: 100%|██████████████████████████████████████████████| 7/7 [00:00<00:00, 16.70it/s]\n",
      "\u001b[32mThe Hamiltonian has been solved successfully. Please use the get_H method to get the result in the desired form.\u001b[0m\n",
      "Converting to matrix form: 100%|█████████████████████████████████████████| 8/8 [00:00<00:00, 16368.02it/s]\n"
     ]
    }
   ],
   "source": [
    "# Calculate the effective model using mask\n",
    "max_order = 7 # perturbation order\n",
    "Eff_Frame.solve(max_order = max_order, method = \"LA\", mask=mask)\n",
    "\n",
    "# Obtaining the result in the matrix form\n",
    "LA_result = Eff_Frame.get_H(return_form = \"matrix\")"
   ]
  },
  {
   "cell_type": "code",
   "execution_count": 14,
   "id": "d424a03a-e6b8-45da-884d-bf1dc66ae165",
   "metadata": {},
   "outputs": [
    {
     "data": {
      "text/plain": [
       "<matplotlib.colorbar.Colorbar at 0x7f8501b37f40>"
      ]
     },
     "execution_count": 14,
     "metadata": {},
     "output_type": "execute_result"
    },
    {
     "data": {
      "image/png": "[encoded data removed]",
      "text/plain": [
       "<Figure size 1500x500 with 2 Axes>"
      ]
     },
     "metadata": {},
     "output_type": "display_data"
    }
   ],
   "source": [
    "# Plotting\n",
    "np_LA = np.array(LA_result,dtype=float)\n",
    "np_LA[np.abs(np_LA) < 1e-12] = None # setting zero values to None\n",
    "fig, ax = plt.subplots(figsize=(15, 5), dpi = 100)\n",
    "im = ax.imshow(np.array(np_LA, dtype=float), cmap='inferno') # Initial Hamiltonian\n",
    "cax = fig.add_axes([ax.get_position().x1+0.01,ax.get_position().y0,0.02,ax.get_position().height])\n",
    "fig.colorbar(im, cax=cax)\n",
    "#plt.savefig('LA_masked_hamiltonian.pdf',  bbox_inches='tight')"
   ]
  },
  {
   "cell_type": "code",
   "execution_count": 15,
   "id": "2ca6b0d9-06dc-484f-a26c-aed2de5b6942",
   "metadata": {},
   "outputs": [
    {
     "data": {
      "text/plain": [
       "<matplotlib.colorbar.Colorbar at 0x7f850eb18ac0>"
      ]
     },
     "execution_count": 15,
     "metadata": {},
     "output_type": "execute_result"
    },
    {
     "data": {
      "image/png": "[encoded data removed]",
      "text/plain": [
       "<Figure size 1500x500 with 2 Axes>"
      ]
     },
     "metadata": {},
     "output_type": "display_data"
    }
   ],
   "source": [
    "# Plotting\n",
    "fig, ax = plt.subplots(figsize=(15, 5), dpi = 100)\n",
    "im = ax.imshow(np.array(Hh, dtype=float), cmap='inferno') # Initial Hamiltonian# numpy seed    \n",
    "np.random.seed(0)\n",
    "cax0 = fig.add_axes([ax.get_position().x1+0.01,ax.get_position().y0,0.02,ax.get_position().height])\n",
    "fig.colorbar(im, cax=cax0)\n",
    "#plt.savefig('LA_non_masked_hamiltonian.pdf',  bbox_inches='tight')"
   ]
  },
  {
   "cell_type": "markdown",
   "id": "1a502237-5941-4254-9db9-71d670cae465",
   "metadata": {},
   "source": [
    "# Comparison with exact result"
   ]
  },
  {
   "cell_type": "code",
   "execution_count": 16,
   "id": "da3d6be7",
   "metadata": {},
   "outputs": [],
   "source": [
    "def fidelity(A, B):\n",
    "    return np.linalg.norm(A - B, ord=2) / np.linalg.norm(A, ord=2)"
   ]
  },
  {
   "cell_type": "code",
   "execution_count": 17,
   "id": "5e6d6cc3",
   "metadata": {},
   "outputs": [],
   "source": [
    "LA_corrections = Eff_Frame.corrections # extracting order corrections from effective frame\n",
    "error_order = [] # will store solutions to each order\n",
    "LA_res = np.zeros_like(exact_result) # initializing result\n",
    "LA_res_order = []\n",
    "for order in range(max_order + 1): \n",
    "    LA_res += np.array(LA_corrections.get(order, sp.zeros(*exact_result.shape)).evalf(), dtype=float) # correcting result with current order\n",
    "    LA_res_order.append(LA_res.copy())\n",
    "    error_order.append(fidelity(exact_result, LA_res)) # append fidelity of current order"
   ]
  },
  {
   "cell_type": "code",
   "execution_count": 18,
   "id": "4277e9df",
   "metadata": {},
   "outputs": [
    {
     "data": {
      "image/png": "[encoded data removed]",
      "text/plain": [
       "<Figure size 640x480 with 1 Axes>"
      ]
     },
     "metadata": {},
     "output_type": "display_data"
    }
   ],
   "source": [
    "fig, ax = plt.subplots(1, 1)\n",
    "\n",
    "ax.plot(np.arange(0, max_order+1), error_order, 'o-', color='blue')\n",
    "\n",
    "ax.set_xlabel(\"Order $[n]$\")\n",
    "ax.set_ylabel(r\"$\\eta(n)$\", fontsize=fntsize, labelpad=15)\n",
    "ax.set_yscale('log')\n",
    "#plt.savefig('LA_error_vs_order.pdf',  bbox_inches='tight')"
   ]
  },
  {
   "cell_type": "code",
   "execution_count": null,
   "id": "1c8c9508",
   "metadata": {},
   "outputs": [],
   "source": []
  }
 ],
 "metadata": {
  "kernelspec": {
   "display_name": "Python 3 (ipykernel)",
   "language": "python",
   "name": "python3"
  },
  "language_info": {
   "codemirror_mode": {
    "name": "ipython",
    "version": 3
   },
   "file_extension": ".py",
   "mimetype": "text/x-python",
   "name": "python",
   "nbconvert_exporter": "python",
   "pygments_lexer": "ipython3",
   "version": "3.9.20"
  }
 },
 "nbformat": 4,
 "nbformat_minor": 5
}
