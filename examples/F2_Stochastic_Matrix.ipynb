{
 "cells": [
  {
   "cell_type": "code",
   "execution_count": 1,
   "id": "aa882a4e-a547-4f60-b250-e76c64a0fe43",
   "metadata": {},
   "outputs": [],
   "source": [
    "from SymPT import RDSymbol, BosonOp, RDBasis, EffectiveFrame, Dagger, Block, display_dict\n",
    "import sympy as sp\n",
    "import numpy as np\n",
    "import matplotlib.pyplot as plt\n",
    "from tqdm import tqdm"
   ]
  },
  {
   "cell_type": "code",
   "execution_count": null,
   "id": "72940cae-d662-469a-ba46-7836020a7def",
   "metadata": {},
   "outputs": [],
   "source": [
    "#plt.style.use(\"classic\")\n",
    "cmap = plt.get_cmap('inferno')\n",
    "plt.rc('text', usetex = True)\n",
    "plt.rc('font', family = 'serif', weight = 'normal')\n",
    "plt.rc('font', size = 18)\n",
    "color_list = [cmap(i) for i in np.linspace(0, 1, 16)]\n",
    "fntsize = 20\n",
    "dir_images = \"graphs/\""
   ]
  },
  {
   "cell_type": "markdown",
   "id": "ef4348f7-2dd2-4aa8-9aef-7b5c410f5b2f",
   "metadata": {},
   "source": [
    "# SymPT Mask"
   ]
  },
  {
   "cell_type": "code",
   "execution_count": 2,
   "id": "0c132d6d-d7d4-4a56-b563-609175698744",
   "metadata": {},
   "outputs": [],
   "source": [
    "def letter(num):\n",
    "    # Define the patterns for each letter\n",
    "    patterns = {\n",
    "        0: np.array([\n",
    "            [1, 1, 1],\n",
    "            [1, 0, 0],\n",
    "            [1, 1, 1],\n",
    "            [0, 0, 1],\n",
    "            [1, 1, 1]\n",
    "        ]),  # Capital \"S\"\n",
    "        1: np.array([\n",
    "            [0, 0, 0, 0],\n",
    "            [1, 0, 0, 1],\n",
    "            [0, 1, 1, 1],\n",
    "            [0, 0, 0, 1],\n",
    "            [1, 1, 1, 1]\n",
    "        ]),  # Lowercase \"y\"\n",
    "       2: np.array([\n",
    "            [0, 0, 0, 0, 0],\n",
    "            [1, 0, 0, 0, 1],\n",
    "            [1, 1, 0, 1, 1],\n",
    "            [1, 0, 1, 0, 1],\n",
    "            [1, 0, 0, 0, 1]\n",
    "        ]), # Lowercase \"m\"\n",
    "        3: np.array([\n",
    "            [1, 1, 1],\n",
    "            [1, 0, 1],\n",
    "            [1, 1, 1],\n",
    "            [1, 0, 0],\n",
    "            [1, 0, 0]\n",
    "        ]),  # Capital \"P\"\n",
    "        4: np.array([\n",
    "            [1, 1, 1],\n",
    "            [0, 1, 0],\n",
    "            [0, 1, 0],\n",
    "            [0, 1, 0],\n",
    "            [0, 1, 0]\n",
    "        ]),  # Capital \"T\"\n",
    "        }\n",
    "\n",
    "    # Return the correct pattern or raise an error if the input is invalid\n",
    "    if num in patterns:\n",
    "        return patterns[num]\n",
    "    else:\n",
    "        raise ValueError(\"Input must be a number from 0 to 3.\")\n",
    "space = np.zeros((5,1))\n",
    "zero_b = np.zeros((5,5)) \n",
    "last_pad = np.zeros((12,37))"
   ]
  },
  {
   "cell_type": "code",
   "execution_count": 3,
   "id": "bdb99a3d-f723-4e1d-8414-7e6afa4d3b16",
   "metadata": {},
   "outputs": [
    {
     "data": {
      "text/plain": [
       "(37, 37)"
      ]
     },
     "execution_count": 3,
     "metadata": {},
     "output_type": "execute_result"
    },
    {
     "data": {
      "image/png": "[encoded data removed]",
      "text/plain": [
       "<Figure size 640x480 with 1 Axes>"
      ]
     },
     "metadata": {},
     "output_type": "display_data"
    }
   ],
   "source": [
    "SymPT = np.block(\n",
    "    [\n",
    "        [zero_b, zero_b, zero_b, zero_b, zero_b, zero_b, space, space, space, space, space, space, space],\n",
    "        [zero_b, zero_b, zero_b, letter(0),space,letter(1),space,letter(2),space,letter(3),space,letter(4)], \n",
    "        [zero_b, zero_b, zero_b, zero_b, zero_b, zero_b, space, space, space, space, space, space, space],\n",
    "        [zero_b, zero_b, zero_b, zero_b, zero_b, zero_b, space, space, space, space, space, space, space],\n",
    "        [zero_b, zero_b, zero_b, zero_b, zero_b, zero_b, space, space, space, space, space, space, space],\n",
    "        [last_pad]\n",
    "    ]\n",
    ")\n",
    "SymPT = SymPT + SymPT.T\n",
    "mask = Block(SymPT)\n",
    "plt.imshow(SymPT)\n",
    "SymPT.shape"
   ]
  },
  {
   "cell_type": "markdown",
   "id": "5aed04d4-4d1d-4bad-ba3e-36044a74ec03",
   "metadata": {},
   "source": [
    "# Hamiltonian"
   ]
  },
  {
   "cell_type": "code",
   "execution_count": 4,
   "id": "0bdb5fec-4c4c-4227-8bcc-7dcb7454456d",
   "metadata": {},
   "outputs": [],
   "source": [
    "I = SymPT.shape[0]\n",
    "J = SymPT.shape[1]\n",
    "lambdas = [RDSymbol(f\"\\\\lambda_{i}\", order = 1, real = True) for i in range(int((I**2 -I))//2)]\n",
    "omegas = [RDSymbol(f\"\\\\omega_{i}\", order = 0, real = True) for i in range(I)]\n",
    "\n",
    "\n",
    "finite = RDBasis(\"f\", I)\n",
    "\n",
    "H = sp.zeros(I, J)\n",
    "lambda_index = 0\n",
    "for i in range(I):\n",
    "    for j in range(i, J):  # Loop only over upper triangular part (including diagonal)\n",
    "        if i == j:\n",
    "            H[i, j] = omegas[i]  # Diagonal elements\n",
    "        else:\n",
    "            H[i, j] = lambdas[lambda_index]\n",
    "            H[j, i] = lambdas[lambda_index]  # Ensure symmetry\n",
    "            lambda_index += 1"
   ]
  },
  {
   "cell_type": "code",
   "execution_count": 5,
   "id": "6a46c876-a2ce-40bd-9ac9-12f31513fe64",
   "metadata": {},
   "outputs": [],
   "source": [
    "def substitution_rules(I, J):\n",
    "    \n",
    "    omega_values = np.sort([np.random.uniform(-10, 10) for _ in range(I)])  \n",
    "    substitution_dict = {omegas[i]: omega_values[i] for i in range(I)}\n",
    "    substitution_omegas = {omegas[i]: omega_values[i] for i in range(I)}\n",
    "\n",
    "    lambda_index = 0\n",
    "    for i in range(I):\n",
    "        for j in range(i+1, J):  # Iterate only over the upper triangular part\n",
    "            bound = 0.1 * abs(omega_values[i] - omega_values[j])            \n",
    "            lambda_value = np.random.uniform(-bound, bound)            \n",
    "            substitution_dict[lambdas[lambda_index]] = lambda_value \n",
    "            lambda_index += 1\n",
    "            \n",
    "    return substitution_dict, substitution_omegas\n",
    "values, omegas = substitution_rules(I,J)"
   ]
  },
  {
   "cell_type": "code",
   "execution_count": 6,
   "id": "b5c5b2ae-0740-456b-921d-4ff40277eba0",
   "metadata": {},
   "outputs": [
    {
     "ename": "TypeError",
     "evalue": "unsupported operand type(s) for +: 'MutableDenseMatrix' and 'int'",
     "output_type": "error",
     "traceback": [
      "\u001b[0;31m---------------------------------------------------------------------------\u001b[0m",
      "\u001b[0;31mTypeError\u001b[0m                                 Traceback (most recent call last)",
      "Cell \u001b[0;32mIn[6], line 1\u001b[0m\n\u001b[0;32m----> 1\u001b[0m H_eff \u001b[38;5;241m=\u001b[39m \u001b[43mEffectiveFrame\u001b[49m\u001b[43m(\u001b[49m\u001b[43mH\u001b[49m\u001b[38;5;241;43m.\u001b[39;49m\u001b[43msubs\u001b[49m\u001b[43m(\u001b[49m\u001b[43momegas\u001b[49m\u001b[43m)\u001b[49m\u001b[43m,\u001b[49m\u001b[43m \u001b[49m\u001b[43msubspaces\u001b[49m\u001b[43m \u001b[49m\u001b[38;5;241;43m=\u001b[39;49m\u001b[43m \u001b[49m\u001b[43m[\u001b[49m\u001b[43mfinite\u001b[49m\u001b[43m]\u001b[49m\u001b[43m)\u001b[49m\n",
      "File \u001b[0;32m~/miniconda3/envs/pysw/lib/python3.13/site-packages/PySW/solver.py:193\u001b[0m, in \u001b[0;36mEffectiveFrame.__init__\u001b[0;34m(self, H, V, subspaces)\u001b[0m\n\u001b[1;32m    180\u001b[0m \u001b[38;5;250m\u001b[39m\u001b[38;5;124;03m\"\"\"\u001b[39;00m\n\u001b[1;32m    181\u001b[0m \u001b[38;5;124;03mInitializes the EffectiveFrame object.\u001b[39;00m\n\u001b[1;32m    182\u001b[0m \n\u001b[0;32m   (...)\u001b[0m\n\u001b[1;32m    190\u001b[0m \u001b[38;5;124;03m    A list of subspaces to consider (default is None).\u001b[39;00m\n\u001b[1;32m    191\u001b[0m \u001b[38;5;124;03m\"\"\"\u001b[39;00m\n\u001b[1;32m    192\u001b[0m v \u001b[38;5;241m=\u001b[39m V \u001b[38;5;28;01mif\u001b[39;00m V \u001b[38;5;129;01mis\u001b[39;00m \u001b[38;5;129;01mnot\u001b[39;00m \u001b[38;5;28;01mNone\u001b[39;00m \u001b[38;5;28;01melse\u001b[39;00m \u001b[38;5;241m0\u001b[39m\n\u001b[0;32m--> 193\u001b[0m sint_cost_dict \u001b[38;5;241m=\u001b[39m {k : \u001b[38;5;241m-\u001b[39m I \u001b[38;5;241m*\u001b[39m Rational(\u001b[38;5;241m1\u001b[39m,\u001b[38;5;241m2\u001b[39m) \u001b[38;5;241m*\u001b[39m (exp(I \u001b[38;5;241m*\u001b[39m k\u001b[38;5;241m.\u001b[39margs[\u001b[38;5;241m0\u001b[39m]) \u001b[38;5;241m-\u001b[39m exp(\u001b[38;5;241m-\u001b[39mI \u001b[38;5;241m*\u001b[39m k\u001b[38;5;241m.\u001b[39margs[\u001b[38;5;241m0\u001b[39m])) \u001b[38;5;28;01mfor\u001b[39;00m k \u001b[38;5;129;01min\u001b[39;00m (\u001b[43mH\u001b[49m\u001b[43m \u001b[49m\u001b[38;5;241;43m+\u001b[39;49m\u001b[43m \u001b[49m\u001b[43mv\u001b[49m)\u001b[38;5;241m.\u001b[39matoms(sin) \u001b[38;5;28;01mif\u001b[39;00m k\u001b[38;5;241m.\u001b[39mhas(t)}\n\u001b[1;32m    194\u001b[0m sint_cost_dict\u001b[38;5;241m.\u001b[39mupdate({k : Rational(\u001b[38;5;241m1\u001b[39m,\u001b[38;5;241m2\u001b[39m) \u001b[38;5;241m*\u001b[39m (exp(I \u001b[38;5;241m*\u001b[39m k\u001b[38;5;241m.\u001b[39margs[\u001b[38;5;241m0\u001b[39m]) \u001b[38;5;241m+\u001b[39m exp(\u001b[38;5;241m-\u001b[39mI \u001b[38;5;241m*\u001b[39m k\u001b[38;5;241m.\u001b[39margs[\u001b[38;5;241m0\u001b[39m])) \u001b[38;5;28;01mfor\u001b[39;00m k \u001b[38;5;129;01min\u001b[39;00m (H \u001b[38;5;241m+\u001b[39m v)\u001b[38;5;241m.\u001b[39matoms(cos) \u001b[38;5;28;01mif\u001b[39;00m k\u001b[38;5;241m.\u001b[39mhas(t)})\n\u001b[1;32m    196\u001b[0m \u001b[38;5;28mself\u001b[39m\u001b[38;5;241m.\u001b[39mH_input \u001b[38;5;241m=\u001b[39m H\u001b[38;5;241m.\u001b[39msubs(sint_cost_dict)\n",
      "\u001b[0;31mTypeError\u001b[0m: unsupported operand type(s) for +: 'MutableDenseMatrix' and 'int'"
     ]
    }
   ],
   "source": [
    "H_eff = EffectiveFrame(H.subs(omegas), subspaces = [finite])"
   ]
  },
  {
   "cell_type": "markdown",
   "id": "ac1ae91f-4292-4ec6-9e09-4c9c2858b080",
   "metadata": {},
   "source": [
    "# Plotting"
   ]
  },
  {
   "cell_type": "code",
   "execution_count": null,
   "id": "5ad35868-0eb8-437a-b375-bac257ac92a8",
   "metadata": {},
   "outputs": [],
   "source": [
    "H_subs = H.subs(values)\n",
    "inputs = []\n",
    "inputs += omegas\n",
    "inputs += lambdas\n",
    "inputs = sp.Matrix(inputs)\n",
    "\n",
    "fn = sp.lambdify(inputs, result, \"numpy\")"
   ]
  },
  {
   "cell_type": "code",
   "execution_count": null,
   "id": "73a02a59-a9c3-498e-961f-911fd9078954",
   "metadata": {},
   "outputs": [],
   "source": [
    "vals = inputs.subs(values)\n",
    "substituted = fn(*vals)"
   ]
  },
  {
   "cell_type": "code",
   "execution_count": null,
   "id": "c9c2200c-2e37-47c8-aaf0-4b044a748c9c",
   "metadata": {},
   "outputs": [],
   "source": [
    "diag_idx = np.diag_indices(SymPT.shape[0])\n",
    "substituted = substituted.astype(float)\n",
    "substituted[substituted == 0] = None\n",
    "\n",
    "fig, ax = plt.subplots(dpi = 200)\n",
    "mapp = ax.imshow(substituted, cmap = \"inferno\")\n",
    "fig.colorbar(mapp)\n",
    "#plt.savefig(dir_images+'masked_hamiltonian.pdf',  bbox_inches='tight')"
   ]
  },
  {
   "cell_type": "code",
   "execution_count": null,
   "id": "040fb1cb-e7db-4322-9aa6-0973078533ae",
   "metadata": {},
   "outputs": [],
   "source": [
    "# Error function\n",
    "def error(true_spect, eff_spect):\n",
    "    diff =  eff_spect - true_spect \n",
    "    return np.abs(diff / true_spect)\n",
    "\n",
    "true_spectrum = np.sort(np.array(H.subs(values).diagonalize()[1].diagonal()).astype(float)) # obtaining true spectrum (sorting for correct matching)\n",
    "effe_spectrum = np.sort(fn(*vals)[diag_idx].astype(float)) \n",
    "err_not = error(true_spectrum, np.array(H.diagonal().subs(values)).astype(float))[0] # error of diagonal elements by doing nothing\n",
    "err_eff = error(true_spectrum, effe_spectrum)[0] # error of effective spectrum"
   ]
  },
  {
   "cell_type": "code",
   "execution_count": null,
   "id": "d9365ce4-b091-41ca-a799-a095afc8331f",
   "metadata": {},
   "outputs": [],
   "source": [
    "tmp1 = np.where(SymPT != 0)[0] # getting indices of mask\n",
    "changed_diags = np.array(list(set(tmp1))) # getting indices of decoupled energies\n",
    "\n",
    "fig, ax = plt.subplots(dpi = 200)\n",
    "yes = True\n",
    "for n, error in enumerate(err_not): \n",
    "    #marker = \"o\"\n",
    "    #c = \"k\"\n",
    "    if n in changed_diags: # if plotting decoupled energy\n",
    "        marker = \"o\"\n",
    "        c = \"r\"\n",
    "        ax.scatter(n, error, marker = marker, c = c, s = 30, label = r\"$\\mathrm{Untransformed}$ $\\mathrm{spectrum}$\" if yes else None)\n",
    "        yes = False\n",
    "    else:\n",
    "        pass\n",
    "        #ax.scatter(n, error, marker = marker, c = c, s = 10)\n",
    "yes = True  \n",
    "for n, error in enumerate(err_eff): \n",
    "    #marker = \"D\"\n",
    "    #c = \"k\"\n",
    "    if n in changed_diags: # if plotting decoupled energy\n",
    "        marker = \"o\"\n",
    "        c = \"b\"\n",
    "        scatter = ax.scatter(n, error, marker = marker, c = c, s = 30, label = r\"$\\mathrm{Transformed}$ $\\mathrm{spectrum}$\" if yes else None)\n",
    "        yes = False\n",
    "    else:\n",
    "        #ax.scatter(n, error, marker = marker, c = c, s = 10)\n",
    "        pass\n",
    "ax.legend(fontsize=fntsize*0.8, loc=0)\n",
    "ax.set_xlabel(r\"$\\mathrm{Eigenvalue}$ $\\mathrm{index}$\", fontsize = fntsize)\n",
    "ax.set_ylabel(r\"$\\left|\\frac{E - E_\\mathrm{true}}{E_\\mathrm{true}}\\right|$\", fontsize = fntsize)\n",
    "ax.set_ylim(-0.01,0.3)\n",
    "#fig.savefig(dir_images+'decoupled_energies_error.pdf',  bbox_inches='tight')"
   ]
  }
 ],
 "metadata": {
  "kernelspec": {
   "display_name": "Python 3 (ipykernel)",
   "language": "python",
   "name": "python3"
  },
  "language_info": {
   "codemirror_mode": {
    "name": "ipython",
    "version": 3
   },
   "file_extension": ".py",
   "mimetype": "text/x-python",
   "name": "python",
   "nbconvert_exporter": "python",
   "pygments_lexer": "ipython3",
   "version": "3.9.20"
  }
 },
 "nbformat": 4,
 "nbformat_minor": 5
}
