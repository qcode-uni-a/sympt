{
 "cells": [
  {
   "cell_type": "code",
   "execution_count": 1,
   "metadata": {},
   "outputs": [],
   "source": [
    "# Objects for defining the Hamiltonian\n",
    "from PySW import *\n",
    "import sympy as sp"
   ]
  },
  {
   "cell_type": "code",
   "execution_count": 2,
   "metadata": {},
   "outputs": [
    {
     "data": {
      "text/latex": [
       "$\\displaystyle H_{0} : \\hbar \\omega_{0} \\left(\\frac{1}{2} + {{a}^\\dagger} {a}\\right)$"
      ],
      "text/plain": [
       "<IPython.core.display.Math object>"
      ]
     },
     "metadata": {},
     "output_type": "display_data"
    },
    {
     "data": {
      "text/latex": [
       "$\\displaystyle H_{E} : \\tilde{E}_{\\mathrm{ac}} \\sin{\\left(\\omega t \\right)} \\left({{a}^\\dagger} + {a}\\right)$"
      ],
      "text/plain": [
       "<IPython.core.display.Math object>"
      ]
     },
     "metadata": {},
     "output_type": "display_data"
    },
    {
     "data": {
      "text/latex": [
       "$\\displaystyle H_{B} : - \\frac{\\tilde{B} \\sigma_{3}}{2}$"
      ],
      "text/plain": [
       "<IPython.core.display.Math object>"
      ]
     },
     "metadata": {},
     "output_type": "display_data"
    },
    {
     "data": {
      "text/latex": [
       "$\\displaystyle H_{\\mathrm{so}} : \\tilde{\\alpha} \\left({{a}^\\dagger} + {a}\\right) \\left(\\sin{\\left(\\theta \\right)} \\sigma_{3} + \\cos{\\left(\\theta \\right)} \\sigma_{2}\\right)$"
      ],
      "text/plain": [
       "<IPython.core.display.Math object>"
      ]
     },
     "metadata": {},
     "output_type": "display_data"
    }
   ],
   "source": [
    "omega0 = RDSymbol('omega0', real=True, positive=True)\n",
    "omega = RDSymbol('omega', real=True, positive=True, order=1)\n",
    "Eac = RDSymbol(r'\\tilde{E}_{\\mathrm{ac}}', real=True, order=1)\n",
    "B = RDSymbol(r'\\tilde{B}', real=True, order=1)\n",
    "alpha = RDSymbol(r'\\tilde{\\alpha}', real=True, order=1)\n",
    "theta = RDSymbol(r'\\theta', real=True)\n",
    "\n",
    "nso = sp.Matrix([0, sp.cos(theta), sp.sin(theta)])\n",
    "\n",
    "Spin = RDBasis('sigma', 2)\n",
    "s0, sx, sy, sz = Spin.basis\n",
    "s_vec = sp.Matrix([sx, sy, sz])\n",
    "\n",
    "a = BosonOp('a')\n",
    "ad = Dagger(a)\n",
    "\n",
    "H0 = hbar * omega0 * (ad*a + sp.Rational(1,2))\n",
    "HE = Eac * sp.sin(omega * t) * (ad + a)\n",
    "HB = -sp.Rational(1,2) * B * sz\n",
    "Hso = alpha * (ad + a) * nso.dot(s_vec)\n",
    "\n",
    "display_dict({\n",
    "    sp.Symbol('H_0'): H0,\n",
    "    sp.Symbol('H_E'): HE,\n",
    "    sp.Symbol('H_B'): HB,\n",
    "    sp.Symbol(r'H_{\\mathrm{so}}'): Hso,\n",
    "})"
   ]
  },
  {
   "cell_type": "code",
   "execution_count": 3,
   "metadata": {},
   "outputs": [
    {
     "name": "stdout",
     "output_type": "stream",
     "text": [
      "The EffectiveFrame object has been initialized successfully.\n",
      "\n",
      "Effective Frame\n",
      "\n",
      "╭────────┬─────────┬─────────────╮\n",
      "│  Name  │  Type   │  Dimension  │\n",
      "├────────┼─────────┼─────────────┤\n",
      "│ sigma  │ Finite  │     2x2     │\n",
      "├────────┼─────────┼─────────────┤\n",
      "│   a    │ Bosonic │      ∞      │\n",
      "╰────────┴─────────┴─────────────╯\n",
      "\n",
      "Effective Hamiltonian: \tNot computed yet. To do so, run `solve` method. \n",
      "\n",
      "\n"
     ]
    }
   ],
   "source": [
    "Eff_Frame = EffectiveFrame(H=H0 + HB, V=HE + Hso, subspaces=[Spin])"
   ]
  },
  {
   "cell_type": "code",
   "execution_count": 4,
   "metadata": {},
   "outputs": [
    {
     "name": "stderr",
     "output_type": "stream",
     "text": [
      "Solving for each order:   0%|          | 0/5 [00:00<?, ?it/s]"
     ]
    },
    {
     "name": "stderr",
     "output_type": "stream",
     "text": [
      "Solving for each order:  20%|██        | 1/5 [00:00<00:00,  8.17it/s]"
     ]
    },
    {
     "name": "stdout",
     "output_type": "stream",
     "text": [
      "---- order: 1\n",
      "---- order: 2\n"
     ]
    },
    {
     "name": "stderr",
     "output_type": "stream",
     "text": [
      "Solving for each order:  40%|████      | 2/5 [00:00<00:00,  7.61it/s]"
     ]
    },
    {
     "name": "stdout",
     "output_type": "stream",
     "text": [
      "---- order: 3\n"
     ]
    },
    {
     "name": "stderr",
     "output_type": "stream",
     "text": [
      "Solving for each order:  60%|██████    | 3/5 [00:02<00:01,  1.14it/s]"
     ]
    },
    {
     "name": "stdout",
     "output_type": "stream",
     "text": [
      "---- order: 4\n"
     ]
    },
    {
     "name": "stderr",
     "output_type": "stream",
     "text": [
      "Solving for each order:  80%|████████  | 4/5 [00:07<00:02,  2.81s/it]"
     ]
    },
    {
     "name": "stdout",
     "output_type": "stream",
     "text": [
      "---- order: 5\n"
     ]
    },
    {
     "name": "stderr",
     "output_type": "stream",
     "text": [
      "Solving for each order: 100%|██████████| 5/5 [00:23<00:00,  4.78s/it]\n"
     ]
    },
    {
     "name": "stdout",
     "output_type": "stream",
     "text": [
      "The Hamiltonian has been solved successfully. Please use the get_H method to get the result in the desired form.\n"
     ]
    },
    {
     "name": "stderr",
     "output_type": "stream",
     "text": [
      "Converting to matrix form: 100%|██████████| 2/2 [00:00<00:00, 1087.17it/s]\n",
      "Converting to matrix form: 100%|██████████| 1/1 [00:00<00:00, 14820.86it/s]\n",
      "Converting to matrix form: 100%|██████████| 6/6 [00:00<00:00, 542.79it/s]\n",
      "Converting to matrix form: 100%|██████████| 7/7 [00:00<00:00, 600.58it/s]\n",
      "Converting to matrix form: 100%|██████████| 19/19 [00:00<00:00, 289.32it/s]\n",
      "Converting to matrix form: 100%|██████████| 19/19 [00:00<00:00, 227.07it/s]\n"
     ]
    }
   ],
   "source": [
    "Eff_Frame.solve(max_order=5, full_diagonalization=False)\n",
    "H_eff = Eff_Frame.get_H(return_form='matrix')"
   ]
  },
  {
   "cell_type": "code",
   "execution_count": 5,
   "metadata": {},
   "outputs": [
    {
     "data": {
      "text/latex": [
       "$\\displaystyle \\sigma_{0} : - \\frac{\\tilde{E}_{\\mathrm{ac}}^{2} \\sin^{2}{\\left(\\omega t \\right)}}{\\hbar \\omega_{0}} - \\frac{\\tilde{\\alpha}^{2} \\sin^{2}{\\left(\\theta \\right)}}{2 \\hbar \\omega_{0}} - \\frac{\\tilde{\\alpha}^{2} \\cos^{2}{\\left(\\theta \\right)}}{2 \\hbar \\omega_{0}} - \\frac{\\tilde{\\alpha}^{2}}{2 \\hbar \\omega_{0}}$"
      ],
      "text/plain": [
       "<IPython.core.display.Math object>"
      ]
     },
     "metadata": {},
     "output_type": "display_data"
    },
    {
     "data": {
      "text/latex": [
       "$\\displaystyle \\sigma_{3} : - \\frac{2 \\tilde{E}_{\\mathrm{ac}} \\tilde{\\alpha} \\sin{\\left(\\theta \\right)} \\sin{\\left(\\omega t \\right)}}{\\hbar \\omega_{0}} - \\frac{\\tilde{\\alpha}^{2} \\sin^{2}{\\left(\\theta \\right)}}{2 \\hbar \\omega_{0}} - \\frac{\\tilde{\\alpha}^{2} \\cos^{2}{\\left(\\theta \\right)}}{2 \\hbar \\omega_{0}} + \\frac{\\tilde{\\alpha}^{2}}{2 \\hbar \\omega_{0}}$"
      ],
      "text/plain": [
       "<IPython.core.display.Math object>"
      ]
     },
     "metadata": {},
     "output_type": "display_data"
    },
    {
     "data": {
      "text/latex": [
       "$\\displaystyle \\sigma_{2} : - \\frac{2 \\tilde{E}_{\\mathrm{ac}} \\tilde{\\alpha} \\sin{\\left(\\omega t \\right)} \\cos{\\left(\\theta \\right)}}{\\hbar \\omega_{0}}$"
      ],
      "text/plain": [
       "<IPython.core.display.Math object>"
      ]
     },
     "metadata": {},
     "output_type": "display_data"
    }
   ],
   "source": [
    "H2 = sp.factor_terms(Spin.project(sp.expand_complex(Eff_Frame.H_corrections[2].subs(ad,0).subs(a,0)).trigsimp()))\n",
    "display_dict(group_by_operators(H2))"
   ]
  },
  {
   "cell_type": "code",
   "execution_count": 6,
   "metadata": {},
   "outputs": [
    {
     "data": {
      "text/latex": [
       "$\\displaystyle \\sigma_{2} : - \\frac{\\tilde{B} \\tilde{\\alpha}^{2} \\sin{\\left(2 \\theta \\right)}}{2 \\hbar^{2} \\omega_{0}^{2}}$"
      ],
      "text/plain": [
       "<IPython.core.display.Math object>"
      ]
     },
     "metadata": {},
     "output_type": "display_data"
    },
    {
     "data": {
      "text/latex": [
       "$\\displaystyle \\sigma_{3} : \\frac{\\tilde{B} \\tilde{\\alpha}^{2} \\cos^{2}{\\left(\\theta \\right)}}{\\hbar^{2} \\omega_{0}^{2}}$"
      ],
      "text/plain": [
       "<IPython.core.display.Math object>"
      ]
     },
     "metadata": {},
     "output_type": "display_data"
    }
   ],
   "source": [
    "H3 = sp.factor_terms(Spin.project(sp.expand_complex(Eff_Frame.H_corrections[3].subs(ad,0).subs(a,0)).trigsimp()))\n",
    "display_dict(group_by_operators(H3))"
   ]
  },
  {
   "cell_type": "code",
   "execution_count": 9,
   "metadata": {},
   "outputs": [
    {
     "data": {
      "text/latex": [
       "$\\displaystyle \\sigma_{2} : - \\frac{\\tilde{B}^{2} \\tilde{E}_{\\mathrm{ac}} \\tilde{\\alpha} \\sin{\\left(\\omega t \\right)} \\cos{\\left(\\theta \\right)}}{\\hbar^{3} \\omega_{0}^{3}} - \\frac{\\tilde{E}_{\\mathrm{ac}} \\tilde{\\alpha} \\omega^{2} \\sin{\\left(\\omega t \\right)} \\cos{\\left(\\theta \\right)}}{\\hbar \\omega_{0}^{3}}$"
      ],
      "text/plain": [
       "<IPython.core.display.Math object>"
      ]
     },
     "metadata": {},
     "output_type": "display_data"
    },
    {
     "data": {
      "text/latex": [
       "$\\displaystyle \\sigma_{0} : - \\frac{\\tilde{B}^{2} \\tilde{\\alpha}^{2} \\cos^{2}{\\left(\\theta \\right)}}{\\hbar^{3} \\omega_{0}^{3}} + \\frac{\\tilde{E}_{\\mathrm{ac}}^{2} \\omega^{2} \\cos^{2}{\\left(\\omega t \\right)}}{\\hbar \\omega_{0}^{3}} - \\frac{\\tilde{E}_{\\mathrm{ac}}^{2} \\omega^{2}}{\\hbar \\omega_{0}^{3}}$"
      ],
      "text/plain": [
       "<IPython.core.display.Math object>"
      ]
     },
     "metadata": {},
     "output_type": "display_data"
    },
    {
     "data": {
      "text/latex": [
       "$\\displaystyle \\sigma_{3} : - \\frac{\\tilde{E}_{\\mathrm{ac}} \\tilde{\\alpha} \\omega^{2} \\sin{\\left(\\theta \\right)} \\sin{\\left(\\omega t \\right)}}{\\hbar \\omega_{0}^{3}}$"
      ],
      "text/plain": [
       "<IPython.core.display.Math object>"
      ]
     },
     "metadata": {},
     "output_type": "display_data"
    }
   ],
   "source": [
    "H4 = sp.factor_terms(Spin.project(sp.expand_complex(Eff_Frame.H_corrections[4].expand().subs(ad,0).subs(a,0)).trigsimp()))\n",
    "display_dict(group_by_operators(H4))"
   ]
  },
  {
   "cell_type": "code",
   "execution_count": 11,
   "metadata": {},
   "outputs": [
    {
     "data": {
      "text/latex": [
       "$\\displaystyle - \\frac{\\tilde{E}_{\\mathrm{ac}} \\tilde{\\alpha} \\left(\\tilde{B}^{2} + \\hbar^{2} \\omega^{2}\\right) \\sin{\\left(\\omega t \\right)} \\cos{\\left(\\theta \\right)}}{\\hbar^{3} \\omega_{0}^{3}}$"
      ],
      "text/plain": [
       "-\\tilde{E}_{\\mathrm{ac}}*\\tilde{\\alpha}*(\\tilde{B}**2 + hbar**2*omega**2)*sin(omega*t)*cos(\\theta)/(hbar**3*omega0**3)"
      ]
     },
     "execution_count": 11,
     "metadata": {},
     "output_type": "execute_result"
    }
   ],
   "source": [
    "group_by_operators(H4)[sy].factor().trigsimp()"
   ]
  },
  {
   "cell_type": "code",
   "execution_count": null,
   "metadata": {},
   "outputs": [],
   "source": [
    "H5 = sp.factor_terms(Spin.project(sp.expand_complex(Eff_Frame.H_corrections[5].expand().subs(ad,0).subs(a,0)).trigsimp()))\n",
    "display_dict(group_by_operators(H5))"
   ]
  },
  {
   "cell_type": "code",
   "execution_count": null,
   "metadata": {},
   "outputs": [],
   "source": [
    "h5 = Eff_Frame.H_corrections[5].xreplace({ad:0, a:0})"
   ]
  },
  {
   "cell_type": "code",
   "execution_count": 20,
   "metadata": {},
   "outputs": [],
   "source": [
    "\n",
    "H5 = sp.expand_complex(sp.cancel(h5.expand())).trigsimp()"
   ]
  },
  {
   "cell_type": "code",
   "execution_count": 24,
   "metadata": {},
   "outputs": [
    {
     "data": {
      "text/latex": [
       "$\\displaystyle - \\frac{\\tilde{B} \\tilde{\\alpha}^{2} \\left(\\tilde{B}^{2} + 4 \\tilde{E}_{\\mathrm{ac}}^{2} \\sin^{2}{\\left(\\omega t \\right)} - \\tilde{\\alpha}^{2}\\right) \\sin{\\left(\\theta \\right)} \\cos{\\left(\\theta \\right)}}{\\hbar^{4} \\omega_{0}^{4}}$"
      ],
      "text/plain": [
       "-\\tilde{B}*\\tilde{\\alpha}**2*(\\tilde{B}**2 + 4*\\tilde{E}_{\\mathrm{ac}}**2*sin(omega*t)**2 - \\tilde{\\alpha}**2)*sin(\\theta)*cos(\\theta)/(hbar**4*omega0**4)"
      ]
     },
     "execution_count": 24,
     "metadata": {},
     "output_type": "execute_result"
    }
   ],
   "source": [
    "group_by_operators(Spin.project(H5))[sy].factor()"
   ]
  },
  {
   "cell_type": "code",
   "execution_count": 26,
   "metadata": {},
   "outputs": [
    {
     "data": {
      "text/latex": [
       "$\\displaystyle 2 \\sin^{2}{\\left(\\omega t \\right)}$"
      ],
      "text/plain": [
       "2*sin(omega*t)**2"
      ]
     },
     "execution_count": 26,
     "metadata": {},
     "output_type": "execute_result"
    }
   ],
   "source": [
    "(1 - sp.cos(2*omega*t)).trigsimp()"
   ]
  },
  {
   "cell_type": "code",
   "execution_count": null,
   "metadata": {},
   "outputs": [],
   "source": []
  }
 ],
 "metadata": {
  "kernelspec": {
   "display_name": "pysw",
   "language": "python",
   "name": "python3"
  },
  "language_info": {
   "codemirror_mode": {
    "name": "ipython",
    "version": 3
   },
   "file_extension": ".py",
   "mimetype": "text/x-python",
   "name": "python",
   "nbconvert_exporter": "python",
   "pygments_lexer": "ipython3",
   "version": "3.13.0"
  }
 },
 "nbformat": 4,
 "nbformat_minor": 2
}
