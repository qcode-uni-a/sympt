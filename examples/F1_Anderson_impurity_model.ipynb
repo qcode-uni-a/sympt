{
 "cells": [
  {
   "cell_type": "code",
   "execution_count": null,
   "metadata": {
    "vscode": {
     "languageId": "plaintext"
    }
   },
   "outputs": [],
   "source": [
    "# Objects for defining the Hamiltonian\n",
    "from PySW import RDSymbol, RDBasis, BosonOp, Dagger, Block\n",
    "# Objects for obtaining the Effective Hamiltonian\n",
    "from PySW import EffectiveFrame\n",
    "\n",
    "# Extra utils\n",
    "from PySW import display_dict\n",
    "\n",
    "# Import sympy\n",
    "import sympy as sp"
   ]
  }
 ],
 "metadata": {
  "language_info": {
   "name": "python"
  }
 },
 "nbformat": 4,
 "nbformat_minor": 2
}
