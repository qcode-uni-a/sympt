{
 "cells": [
  {
   "cell_type": "code",
   "execution_count": 203,
   "metadata": {},
   "outputs": [],
   "source": [
    "# Objects for defining the Hamiltonian\n",
    "from SymPT import RDSymbol, RDBasis, BosonOp, Dagger, Block, Operator\n",
    "# Objects for obtaining the Effective Hamiltonian\n",
    "from SymPT import EffectiveFrame\n",
    "# Built-in symbols\n",
    "from SymPT import hbar, t\n",
    "# Useful functions\n",
    "from SymPT import display_dict, group_by_operators\n",
    "\n",
    "import sympy as sp"
   ]
  },
  {
   "cell_type": "markdown",
   "metadata": {},
   "source": [
    "# Setup"
   ]
  },
  {
   "cell_type": "code",
   "execution_count": 151,
   "metadata": {},
   "outputs": [
    {
     "data": {
      "text/latex": [
       "$\\displaystyle H_{0} : - \\frac{\\hbar \\omega_{z} \\sigma_{3}}{2} + \\frac{m \\omega^{2} x^{2}}{2} + \\frac{p_{x}^{2}}{2 m}$"
      ],
      "text/plain": [
       "<IPython.core.display.Math object>"
      ]
     },
     "metadata": {},
     "output_type": "display_data"
    },
    {
     "data": {
      "text/latex": [
       "$\\displaystyle V : - \\frac{\\hbar {b}_{SL} x \\sigma_{1}}{2}$"
      ],
      "text/plain": [
       "<IPython.core.display.Math object>"
      ]
     },
     "metadata": {},
     "output_type": "display_data"
    },
    {
     "data": {
      "text/latex": [
       "$\\displaystyle H_{d} : - E_{0} e \\cos{\\left(\\omega_{d} t \\right)} x$"
      ],
      "text/plain": [
       "<IPython.core.display.Math object>"
      ]
     },
     "metadata": {},
     "output_type": "display_data"
    }
   ],
   "source": [
    "# ---------------- Defining the symbols ------------------\n",
    "# Order 0\n",
    "omega = RDSymbol('omega', positive=True, real=True)\n",
    "omega_z = RDSymbol('omega_z', positive=True, real=True)\n",
    "omega_d = RDSymbol('omega_d', positive=True, real=True)\n",
    "m = RDSymbol('m', positive=True, real=True)\n",
    "e = RDSymbol('e', positive=True, real=True)\n",
    "\n",
    "# Order 1\n",
    "bsl = RDSymbol('{b}_{SL}', order=1, positive=True, real=True)\n",
    "E0 = RDSymbol('E0', order=1, positive=True, real=True)\n",
    "\n",
    "# ----------------- Defining the basis -------------------\n",
    "# Spin basis: Finite 2x2 Hilbert space\n",
    "Spin = RDBasis('sigma', dim=2)\n",
    "s0, sx, sy, sz = Spin.basis\n",
    "# Position basis: Infinite bosonic Hilbert space\n",
    "x = Operator('x')\n",
    "px = Operator('p_x')\n",
    "# Boson basis: Infinite bosonic Hilbert space\n",
    "a = BosonOp('a')\n",
    "ad = Dagger(a)\n",
    "# Substituting the bosonic basis\n",
    "subs_momentum_position = {\n",
    "    x: sp.sqrt(hbar / (2 * m * omega)) * (a + ad),\n",
    "    px: sp.I * sp.sqrt(hbar * m * omega / 2) * (ad - a)\n",
    "}\n",
    "\n",
    "# -------------- Defining the Hamiltonian ----------------\n",
    "# Unperturbed Hamiltonian H0\n",
    "H0_mp = px**2/(2 * m) + m * omega**2 * x**2 / 2 - hbar/2 * omega_z * sz\n",
    "# Perturbation Hamiltonians\n",
    "V_mp = -sp.Rational(1,2) * hbar * bsl * x * sx\n",
    "Hd_mp = -e*E0 * sp.cos(omega_d * t) * x\n",
    "display_dict({\n",
    "    sp.Symbol('H_0'): H0_mp,\n",
    "    sp.Symbol('V'): V_mp,\n",
    "    sp.Symbol('H_d'): Hd_mp\n",
    "})"
   ]
  },
  {
   "cell_type": "markdown",
   "metadata": {},
   "source": [
    "# Time Independent Lab Frame and then rotate"
   ]
  },
  {
   "cell_type": "code",
   "execution_count": 153,
   "metadata": {},
   "outputs": [
    {
     "data": {
      "text/latex": [
       "$\\displaystyle H_{0} : \\frac{\\hbar \\omega {{a}^\\dagger} {a}}{2} + \\frac{\\hbar \\omega {a} {{a}^\\dagger}}{2} - \\frac{\\hbar \\omega_{z} \\sigma_{3}}{2}$"
      ],
      "text/plain": [
       "<IPython.core.display.Math object>"
      ]
     },
     "metadata": {},
     "output_type": "display_data"
    },
    {
     "data": {
      "text/latex": [
       "$\\displaystyle V : - \\frac{\\sqrt{2} \\hbar^{\\frac{3}{2}} {b}_{SL} \\left({{a}^\\dagger} + {a}\\right) \\sigma_{1}}{4 \\sqrt{m} \\sqrt{\\omega}}$"
      ],
      "text/plain": [
       "<IPython.core.display.Math object>"
      ]
     },
     "metadata": {},
     "output_type": "display_data"
    },
    {
     "data": {
      "text/latex": [
       "$\\displaystyle H_{d} : - \\frac{\\sqrt{2} E_{0} e \\sqrt{\\hbar} \\cos{\\left(\\omega_{d} t \\right)} \\left({{a}^\\dagger} + {a}\\right)}{2 \\sqrt{m} \\sqrt{\\omega}}$"
      ],
      "text/plain": [
       "<IPython.core.display.Math object>"
      ]
     },
     "metadata": {},
     "output_type": "display_data"
    }
   ],
   "source": [
    "# LabFrame Hamiltonian\n",
    "H0_lab = H0_mp.subs(subs_momentum_position).expand()\n",
    "V_lab = V_mp.subs(subs_momentum_position)\n",
    "Hd_lab = Hd_mp.subs(subs_momentum_position)\n",
    "\n",
    "display_dict({\n",
    "    sp.Symbol('H_0'): H0_lab,\n",
    "    sp.Symbol('V'): V_lab,\n",
    "    sp.Symbol('H_d'): Hd_lab\n",
    "})"
   ]
  },
  {
   "cell_type": "code",
   "execution_count": 189,
   "metadata": {},
   "outputs": [],
   "source": [
    "bsl_tilde = sp.Symbol(r'\\tilde{b}_{\\mathrm{SL}}', real=True)\n",
    "subs_bsl = {\n",
    "    bsl: bsl_tilde * sp.sqrt(2 * m * omega / hbar)\n",
    "}\n",
    "\n",
    "E0_tilde = sp.Symbol(r'\\tilde{E}_0', real=True)\n",
    "subs_E0 = {\n",
    "    E0: E0_tilde * sp.sqrt(2 * m * omega / hbar)\n",
    "}"
   ]
  },
  {
   "cell_type": "code",
   "execution_count": 175,
   "metadata": {},
   "outputs": [
    {
     "name": "stdout",
     "output_type": "stream",
     "text": [
      "The EffectiveFrame object has been initialized successfully.\n",
      "\n",
      "Effective Frame\n",
      "\n",
      "╭────────┬─────────┬─────────────╮\n",
      "│  Name  │  Type   │  Dimension  │\n",
      "├────────┼─────────┼─────────────┤\n",
      "│ sigma  │ Finite  │     2x2     │\n",
      "├────────┼─────────┼─────────────┤\n",
      "│   a    │ Bosonic │      ∞      │\n",
      "╰────────┴─────────┴─────────────╯\n",
      "\n",
      "Effective Hamiltonian: \tNot computed yet. To do so, run `solve` method. \n",
      "\n",
      "\n"
     ]
    }
   ],
   "source": [
    "# Deffining Effective Hamiltonian Object\n",
    "Eff_frame_lab = EffectiveFrame(H0_lab, V_lab, subspaces=[Spin])"
   ]
  },
  {
   "cell_type": "code",
   "execution_count": 176,
   "metadata": {},
   "outputs": [
    {
     "name": "stdout",
     "output_type": "stream",
     "text": [
      "The perturbative interaction will be added to the full Hamiltonian\n"
     ]
    },
    {
     "name": "stderr",
     "output_type": "stream",
     "text": [
      "Solving for each order:   0%|          | 0/2 [00:00<?, ?it/s]"
     ]
    },
    {
     "name": "stderr",
     "output_type": "stream",
     "text": [
      "Solving for each order: 100%|██████████| 2/2 [00:00<00:00,  7.32it/s]\n"
     ]
    },
    {
     "name": "stdout",
     "output_type": "stream",
     "text": [
      "The Hamiltonian has been solved successfully. Please use the get_H method to get the result in the desired form.\n"
     ]
    },
    {
     "name": "stderr",
     "output_type": "stream",
     "text": [
      "Projecting to operator form: 100%|██████████| 2/2 [00:00<00:00, 532.37it/s]\n",
      "Projecting to operator form: 100%|██████████| 2/2 [00:00<00:00, 70.88it/s]\n"
     ]
    },
    {
     "data": {
      "text/plain": [
       "{sigma_3: hbar**2*omega_z*{b}_{SL}**2/(8*m*omega**3 - 8*m*omega*omega_z**2) - hbar*omega_z/2,\n",
       " sigma_3*Dagger(a)*a: hbar**2*omega_z*{b}_{SL}**2/(4*m*omega**3 - 4*m*omega*omega_z**2),\n",
       " 1: -hbar**2*{b}_{SL}**2/(8*m*omega**2 - 8*m*omega_z**2) + hbar*omega/2,\n",
       " Dagger(a)*a: hbar*omega}"
      ]
     },
     "execution_count": 176,
     "metadata": {},
     "output_type": "execute_result"
    }
   ],
   "source": [
    "# Calculate the effective model using the Schrieffer-Wolff transformation up to the second order\n",
    "Eff_frame_lab.solve(max_order=2, full_diagonalization=True, mask=None)\n",
    "# Obtaining the result in the operator form\n",
    "H_eff_SWT_lab = Eff_frame_lab.get_H(return_form='operator')\n",
    "group_by_operators(H_eff_SWT_lab)"
   ]
  },
  {
   "cell_type": "code",
   "execution_count": 183,
   "metadata": {},
   "outputs": [
    {
     "data": {
      "text/latex": [
       "$\\displaystyle \\frac{\\hbar \\omega_{z} \\tilde{b}_{\\mathrm{SL}}^{2}}{2 \\left(\\omega^{2} - \\omega_{z}^{2}\\right)}$"
      ],
      "text/plain": [
       "hbar*omega_z*\\tilde{b}_{\\mathrm{SL}}**2/(2*(omega**2 - omega_z**2))"
      ]
     },
     "execution_count": 183,
     "metadata": {},
     "output_type": "execute_result"
    }
   ],
   "source": [
    "lx = sp.Symbol('l_x')\n",
    "group_by_operators(Eff_frame_lab.corrections[2])[sz*ad*a].simplify().subs(subs_bsl)"
   ]
  },
  {
   "cell_type": "markdown",
   "metadata": {},
   "source": [
    "### Rotate Drive"
   ]
  },
  {
   "cell_type": "code",
   "execution_count": 199,
   "metadata": {},
   "outputs": [
    {
     "name": "stderr",
     "output_type": "stream",
     "text": [
      "Rotating for each order: 100%|██████████| 2/2 [00:00<00:00, 173.50it/s]\n",
      "Projecting to operator form: 100%|██████████| 3/3 [00:00<00:00, 493.83it/s]\n"
     ]
    },
    {
     "data": {
      "text/latex": [
       "$\\displaystyle - \\frac{e \\omega \\tilde{E}_0 \\tilde{b}_{\\mathrm{SL}} \\cos{\\left(\\omega_{d} t \\right)} \\sigma_{1}}{\\omega^{2} - \\omega_{z}^{2}} - e \\tilde{E}_0 \\cos{\\left(\\omega_{d} t \\right)} {{a}^\\dagger} - e \\tilde{E}_0 \\cos{\\left(\\omega_{d} t \\right)} {a}$"
      ],
      "text/plain": [
       "-e*omega*\\tilde{E}_0*\\tilde{b}_{\\mathrm{SL}}*cos(omega_d*t)*sigma_1/(omega**2 - omega_z**2) - e*\\tilde{E}_0*cos(omega_d*t)*Dagger(a) - e*\\tilde{E}_0*cos(omega_d*t)*a"
      ]
     },
     "execution_count": 199,
     "metadata": {},
     "output_type": "execute_result"
    }
   ],
   "source": [
    "H_Drive_lab = Eff_frame_lab.rotate(Hd_lab)\n",
    "H_Drive_lab.subs(subs_E0).subs(subs_bsl).collect(2*m)"
   ]
  },
  {
   "cell_type": "code",
   "execution_count": 197,
   "metadata": {},
   "outputs": [
    {
     "data": {
      "text/latex": [
       "$\\displaystyle - \\frac{e \\omega \\tilde{E}_0 \\tilde{b}_{\\mathrm{SL}} \\cos{\\left(\\omega_{d} t \\right)} \\sigma_{1}}{\\omega^{2} - \\omega_{z}^{2}} + \\left(\\frac{\\hbar \\omega_{z} \\tilde{b}_{\\mathrm{SL}}^{2}}{4 \\omega^{2} - 4 \\omega_{z}^{2}} - \\frac{\\hbar \\omega_{z}}{2}\\right) \\sigma_{3}$"
      ],
      "text/plain": [
       "-e*omega*\\tilde{E}_0*\\tilde{b}_{\\mathrm{SL}}*cos(omega_d*t)*sigma_1/(omega**2 - omega_z**2) + (hbar*omega_z*\\tilde{b}_{\\mathrm{SL}}**2/(4*omega**2 - 4*omega_z**2) - hbar*omega_z/2)*sigma_3"
      ]
     },
     "execution_count": 197,
     "metadata": {},
     "output_type": "execute_result"
    }
   ],
   "source": [
    "# Expectation Values for the bosonic operators\n",
    "# <n=0|a|n=0> = 0\n",
    "# <n=0|ad|n=0> = 0\n",
    "# <n=0|ad*a|n=0> = 0\n",
    "subs_expvals = {\n",
    "    ad*a: 0,\n",
    "    a : 0,\n",
    "    ad : 0,\n",
    "}\n",
    "H_qubit_TI_lab = (H_eff_SWT_lab + H_Drive_lab).xreplace(subs_expvals)\n",
    "H_qubit_TI_lab_dict = group_by_operators(H_qubit_TI_lab)\n",
    "H_qubit_TI_lab_sz = H_qubit_TI_lab_dict[sz].subs(subs_bsl).subs(subs_E0).collect(2*m*omega)\n",
    "H_qubit_TI_lab_sx = H_qubit_TI_lab_dict[sx].subs(subs_bsl).subs(subs_E0).collect(2*m)\n",
    "H_qubit_TI_lab_sy = H_qubit_TI_lab_dict.get(sy, 0)\n",
    "\n",
    "H_qubit_TI_lab = H_qubit_TI_lab_sz * sz + H_qubit_TI_lab_sx * sx + H_qubit_TI_lab_sy * sy\n",
    "H_qubit_TI_lab"
   ]
  },
  {
   "cell_type": "code",
   "execution_count": 192,
   "metadata": {},
   "outputs": [
    {
     "data": {
      "text/latex": [
       "$\\displaystyle - \\frac{e \\omega \\tilde{E}_0 \\tilde{b}_{\\mathrm{SL}} \\cos{\\left(\\omega_{d} t \\right)}}{\\hbar \\left(\\omega^{2} - \\omega_{z}^{2}\\right)}$"
      ],
      "text/plain": [
       "-e*omega*\\tilde{E}_0*\\tilde{b}_{\\mathrm{SL}}*cos(omega_d*t)/(hbar*(omega**2 - omega_z**2))"
      ]
     },
     "execution_count": 192,
     "metadata": {},
     "output_type": "execute_result"
    }
   ],
   "source": [
    "Rabi_Freq_lab = (H_qubit_TI_lab_sx / hbar).collect(2*m)\n",
    "Rabi_Freq_lab.subs(subs_bsl).subs(subs_E0)"
   ]
  },
  {
   "cell_type": "markdown",
   "metadata": {},
   "source": [
    "# Time Independent Co-moving Frame and then rotate"
   ]
  },
  {
   "cell_type": "code",
   "execution_count": 200,
   "metadata": {},
   "outputs": [
    {
     "data": {
      "text/latex": [
       "$\\displaystyle \\frac{E_{0} e \\cos{\\left(\\omega_{d} t \\right)}}{m \\omega^{2}}$"
      ],
      "text/plain": [
       "E0*e*cos(omega_d*t)/(m*omega**2)"
      ]
     },
     "metadata": {},
     "output_type": "display_data"
    },
    {
     "data": {
      "text/latex": [
       "$\\displaystyle H_{0} : - \\frac{\\hbar \\omega_{z} \\sigma_{3}}{2} + \\frac{m \\omega^{2} \\left(d + x\\right)^{2}}{2} + \\frac{p_{x}^{2}}{2 m}$"
      ],
      "text/plain": [
       "<IPython.core.display.Math object>"
      ]
     },
     "metadata": {},
     "output_type": "display_data"
    },
    {
     "data": {
      "text/latex": [
       "$\\displaystyle V : - \\frac{\\hbar {b}_{SL} \\left(d + x\\right) \\sigma_{1}}{2}$"
      ],
      "text/plain": [
       "<IPython.core.display.Math object>"
      ]
     },
     "metadata": {},
     "output_type": "display_data"
    },
    {
     "data": {
      "text/latex": [
       "$\\displaystyle H_{d} : - E_{0} e \\cos{\\left(\\omega_{d} t \\right)} \\left(d + x\\right)$"
      ],
      "text/plain": [
       "<IPython.core.display.Math object>"
      ]
     },
     "metadata": {},
     "output_type": "display_data"
    },
    {
     "data": {
      "text/latex": [
       "$\\displaystyle H_{0} : \\frac{\\hbar \\omega {{a}^\\dagger} {a}}{2} + \\frac{\\hbar \\omega {a} {{a}^\\dagger}}{2} - \\frac{\\hbar \\omega_{z} \\sigma_{3}}{2}$"
      ],
      "text/plain": [
       "<IPython.core.display.Math object>"
      ]
     },
     "metadata": {},
     "output_type": "display_data"
    },
    {
     "data": {
      "text/latex": [
       "$\\displaystyle V : - \\frac{\\sqrt{2} \\hbar^{\\frac{3}{2}} {b}_{SL} \\left({{a}^\\dagger} + {a}\\right) \\sigma_{1}}{4 \\sqrt{m} \\sqrt{\\omega}}$"
      ],
      "text/plain": [
       "<IPython.core.display.Math object>"
      ]
     },
     "metadata": {},
     "output_type": "display_data"
    },
    {
     "data": {
      "text/latex": [
       "$\\displaystyle H_{d} : - \\frac{E_{0}^{2} e^{2} \\cos^{2}{\\left(\\omega_{d} t \\right)}}{2 m \\omega^{2}} - \\frac{\\sqrt{2} i E_{0} e \\sqrt{\\hbar} \\omega_{d} \\sin{\\left(\\omega_{d} t \\right)} \\left({{a}^\\dagger} - {a}\\right)}{2 \\sqrt{m} \\omega^{\\frac{3}{2}}} - \\frac{E_{0} e \\hbar {b}_{SL} \\cos{\\left(\\omega_{d} t \\right)} \\sigma_{1}}{2 m \\omega^{2}}$"
      ],
      "text/plain": [
       "<IPython.core.display.Math object>"
      ]
     },
     "metadata": {},
     "output_type": "display_data"
    }
   ],
   "source": [
    "# Co-moving Frame Hamiltonian\n",
    "d = RDSymbol('d', positive=True, real=True)\n",
    "H0_mp_co = H0_mp.subs({x: x + d})\n",
    "V_mp_co  = V_mp.subs({x: x + d})\n",
    "Hd_mp_co = Hd_mp.subs({x: x + d})\n",
    "d_val = sp.solve((H0_mp_co + Hd_mp_co).expand().coeff(x), d)[0]\n",
    "display(d_val)\n",
    "\n",
    "H0_co = H0_mp.subs(subs_momentum_position).expand()\n",
    "V_co = V_mp.subs(subs_momentum_position)\n",
    "Hd_co =  Hd_mp_co.subs({x:0, d: d_val}).expand() + sp.diff(d_val, t) * px.subs(subs_momentum_position) + V_mp_co.subs({x:0, d: d_val}) + (m*omega**2/2 * d**2).subs({d: d_val})\n",
    "\n",
    "display_dict({\n",
    "    sp.Symbol('H_0'): H0_mp_co,\n",
    "    sp.Symbol('V'): V_mp_co,\n",
    "    sp.Symbol('H_d'): Hd_mp_co\n",
    "})\n",
    "\n",
    "# ----------------- Effective Hamiltonian ----------------\n",
    "display_dict({\n",
    "    sp.Symbol('H_0'): H0_co,\n",
    "    sp.Symbol('V'): V_co,\n",
    "    sp.Symbol('H_d'): Hd_co\n",
    "})"
   ]
  },
  {
   "cell_type": "code",
   "execution_count": 201,
   "metadata": {},
   "outputs": [
    {
     "name": "stdout",
     "output_type": "stream",
     "text": [
      "The EffectiveFrame object has been initialized successfully.\n",
      "\n",
      "Effective Frame\n",
      "\n",
      "╭────────┬─────────┬─────────────╮\n",
      "│  Name  │  Type   │  Dimension  │\n",
      "├────────┼─────────┼─────────────┤\n",
      "│ sigma  │ Finite  │     2x2     │\n",
      "├────────┼─────────┼─────────────┤\n",
      "│   a    │ Bosonic │      ∞      │\n",
      "╰────────┴─────────┴─────────────╯\n",
      "\n",
      "Effective Hamiltonian: \tNot computed yet. To do so, run `solve` method. \n",
      "\n",
      "\n"
     ]
    }
   ],
   "source": [
    "# Deffining Effective Hamiltonian Object\n",
    "Eff_frame_co = EffectiveFrame(H0_co, V_co, subspaces=[Spin])"
   ]
  },
  {
   "cell_type": "code",
   "execution_count": null,
   "metadata": {},
   "outputs": [
    {
     "name": "stdout",
     "output_type": "stream",
     "text": [
      "The perturbative interaction will be added to the full Hamiltonian\n"
     ]
    },
    {
     "name": "stderr",
     "output_type": "stream",
     "text": [
      "Solving for each order: 100%|██████████| 2/2 [00:00<00:00,  7.17it/s]\n"
     ]
    },
    {
     "name": "stdout",
     "output_type": "stream",
     "text": [
      "The Hamiltonian has been solved successfully. Please use the get_H method to get the result in the desired form.\n"
     ]
    },
    {
     "name": "stderr",
     "output_type": "stream",
     "text": [
      "Projecting to operator form: 100%|██████████| 2/2 [00:00<00:00, 485.48it/s]\n",
      "Projecting to operator form: 100%|██████████| 2/2 [00:00<00:00, 68.20it/s]\n"
     ]
    },
    {
     "data": {
      "text/latex": [
       "$\\displaystyle \\frac{\\hbar^{2} \\omega_{z} {b}_{SL}^{2} \\sigma_{3}}{8 m \\omega^{3} - 8 m \\omega \\omega_{z}^{2}} + \\frac{\\hbar^{2} \\omega_{z} {b}_{SL}^{2} \\sigma_{3} {{a}^\\dagger} {a}}{4 m \\omega^{3} - 4 m \\omega \\omega_{z}^{2}} - \\frac{\\hbar^{2} {b}_{SL}^{2}}{8 m \\omega^{2} - 8 m \\omega_{z}^{2}} + \\frac{\\hbar \\omega}{2} + \\hbar \\omega {{a}^\\dagger} {a} - \\frac{\\hbar \\omega_{z} \\sigma_{3}}{2}$"
      ],
      "text/plain": [
       "hbar**2*omega_z*{b}_{SL}**2*sigma_3/(8*m*omega**3 - 8*m*omega*omega_z**2) + hbar**2*omega_z*{b}_{SL}**2*sigma_3*Dagger(a)*a/(4*m*omega**3 - 4*m*omega*omega_z**2) - hbar**2*{b}_{SL}**2/(8*m*omega**2 - 8*m*omega_z**2) + hbar*omega/2 + hbar*omega*Dagger(a)*a - hbar*omega_z*sigma_3/2"
      ]
     },
     "execution_count": 162,
     "metadata": {},
     "output_type": "execute_result"
    },
    {
     "name": "stdout",
     "output_type": "stream",
     "text": [
      "The perturbative interaction will be added to the full Hamiltonian\n"
     ]
    },
    {
     "name": "stderr",
     "output_type": "stream",
     "text": [
      "\n",
      "KeyboardInterrupt\n",
      "\n"
     ]
    }
   ],
   "source": [
    "# Calculate the effective model using the Schrieffer-Wolff transformation up to the second order\n",
    "Eff_frame_co.solve(max_order=2, full_diagonalization=True, mask=None)\n",
    "# Obtaining the result in the operator form\n",
    "H_eff_SWT_co = Eff_frame_co.get_H(return_form='operator')\n",
    "H_eff_SWT_co"
   ]
  },
  {
   "cell_type": "code",
   "execution_count": null,
   "metadata": {},
   "outputs": [
    {
     "name": "stderr",
     "output_type": "stream",
     "text": [
      "Rotating for each order: 100%|██████████| 2/2 [00:00<00:00, 70.59it/s]\n",
      "Projecting to operator form: 100%|██████████| 3/3 [00:00<00:00, 125.50it/s]\n"
     ]
    },
    {
     "data": {
      "text/latex": [
       "$\\displaystyle - \\frac{E_{0}^{2} e^{2} \\cos^{2}{\\left(\\omega_{d} t \\right)}}{2 m \\omega^{2}} - \\frac{\\sqrt{2} i E_{0} e \\sqrt{\\hbar} \\omega_{d} \\sin{\\left(\\omega_{d} t \\right)} {{a}^\\dagger}}{2 \\sqrt{m} \\omega^{\\frac{3}{2}}} + \\frac{\\sqrt{2} i E_{0} e \\sqrt{\\hbar} \\omega_{d} \\sin{\\left(\\omega_{d} t \\right)} {a}}{2 \\sqrt{m} \\omega^{\\frac{3}{2}}} - \\frac{E_{0} e \\hbar \\omega_{d} \\omega_{z} {b}_{SL} \\sin{\\left(\\omega_{d} t \\right)} \\sigma_{2}}{2 m \\omega^{4} - 2 m \\omega^{2} \\omega_{z}^{2}} - \\frac{E_{0} e \\hbar {b}_{SL} \\cos{\\left(\\omega_{d} t \\right)} \\sigma_{1}}{2 m \\omega^{2}}$"
      ],
      "text/plain": [
       "-E0**2*e**2*cos(omega_d*t)**2/(2*m*omega**2) - sqrt(2)*I*E0*e*sqrt(hbar)*omega_d*sin(omega_d*t)*Dagger(a)/(2*sqrt(m)*omega**(3/2)) + sqrt(2)*I*E0*e*sqrt(hbar)*omega_d*sin(omega_d*t)*a/(2*sqrt(m)*omega**(3/2)) - E0*e*hbar*omega_d*omega_z*{b}_{SL}*sin(omega_d*t)*sigma_2/(2*m*omega**4 - 2*m*omega**2*omega_z**2) - E0*e*hbar*{b}_{SL}*cos(omega_d*t)*sigma_1/(2*m*omega**2)"
      ]
     },
     "execution_count": 163,
     "metadata": {},
     "output_type": "execute_result"
    }
   ],
   "source": [
    "H_Drive_co = Eff_frame_co.rotate(Hd_co)\n",
    "H_Drive_co"
   ]
  },
  {
   "cell_type": "code",
   "execution_count": 164,
   "metadata": {},
   "outputs": [
    {
     "data": {
      "text/latex": [
       "$\\displaystyle - \\frac{E_{0} e \\hbar {b}_{SL} \\left(\\frac{\\omega_{d} \\omega_{z} \\sin{\\left(\\omega_{d} t \\right)} \\sigma_{2}}{\\left(\\omega - \\omega_{z}\\right) \\left(\\omega + \\omega_{z}\\right)} + \\cos{\\left(\\omega_{d} t \\right)} \\sigma_{1}\\right)}{2 m \\omega^{2}} + \\frac{\\hbar \\left(\\frac{\\hbar \\omega_{z} {b}_{SL}^{2}}{m \\omega \\left(4 \\omega^{2} - 4 \\omega_{z}^{2}\\right)} - \\omega_{z}\\right) \\sigma_{3}}{2}$"
      ],
      "text/plain": [
       "-E0*e*hbar*{b}_{SL}*(omega_d*omega_z*sin(omega_d*t)*sigma_2/((omega - omega_z)*(omega + omega_z)) + cos(omega_d*t)*sigma_1)/(2*m*omega**2) + hbar*(hbar*omega_z*{b}_{SL}**2/(m*omega*(4*omega**2 - 4*omega_z**2)) - omega_z)*sigma_3/2"
      ]
     },
     "execution_count": 164,
     "metadata": {},
     "output_type": "execute_result"
    }
   ],
   "source": [
    "# Expectation Values for the bosonic operators\n",
    "# <n=0|a|n=0> = 0\n",
    "# <n=0|ad|n=0> = 0\n",
    "# <n=0|ad*a|n=0> = 0\n",
    "subs_expvals = {\n",
    "    ad*a: 0,\n",
    "    a : 0,\n",
    "    ad : 0,\n",
    "}\n",
    "H_qubit_TI_co = (H_eff_SWT_co + H_Drive_co).subs(subs_expvals)\n",
    "H_qubit_TI_co_dict = group_by_operators(H_qubit_TI_co)\n",
    "H_qubit_TI_co_sz = H_qubit_TI_co_dict[sz].collect(2*m*omega).collect(sp.Rational(1,2)*hbar)\n",
    "H_qubit_TI_co_sx = H_qubit_TI_co_dict[sx]\n",
    "H_qubit_TI_co_sy = H_qubit_TI_co_dict.get(sy, 0).factor()\n",
    "\n",
    "H_qubit_TI_co = H_qubit_TI_co_sz * sz + sp.factor_terms(H_qubit_TI_co_sx * sx + H_qubit_TI_co_sy * sy)\n",
    "H_qubit_TI_co"
   ]
  },
  {
   "cell_type": "code",
   "execution_count": 165,
   "metadata": {},
   "outputs": [
    {
     "data": {
      "text/latex": [
       "$\\displaystyle \\frac{E_{0} e {b}_{SL} \\left(\\omega^{2} - \\omega_{d} \\omega_{z} - \\omega_{z}^{2}\\right)}{2 m \\omega^{2} \\left(\\omega - \\omega_{z}\\right) \\left(\\omega + \\omega_{z}\\right)}$"
      ],
      "text/plain": [
       "E0*e*{b}_{SL}*(omega**2 - omega_d*omega_z - omega_z**2)/(2*m*omega**2*(omega - omega_z)*(omega + omega_z))"
      ]
     },
     "execution_count": 165,
     "metadata": {},
     "output_type": "execute_result"
    }
   ],
   "source": [
    "Rabi_Freq_co = sp.factor_terms(-H_qubit_TI_co_sx / hbar / sp.cos(omega_d*t)  + H_qubit_TI_co_sy/hbar / sp.sin(omega_d*t))\n",
    "Rabi_Freq_co.factor()"
   ]
  },
  {
   "cell_type": "markdown",
   "metadata": {},
   "source": [
    "# Time Dependent"
   ]
  },
  {
   "cell_type": "code",
   "execution_count": 166,
   "metadata": {},
   "outputs": [
    {
     "name": "stdout",
     "output_type": "stream",
     "text": [
      "The EffectiveFrame object has been initialized successfully.\n",
      "\n",
      "Effective Frame\n",
      "\n",
      "╭────────┬─────────┬─────────────╮\n",
      "│  Name  │  Type   │  Dimension  │\n",
      "├────────┼─────────┼─────────────┤\n",
      "│ sigma  │ Finite  │     2x2     │\n",
      "├────────┼─────────┼─────────────┤\n",
      "│   a    │ Bosonic │      ∞      │\n",
      "╰────────┴─────────┴─────────────╯\n",
      "\n",
      "Effective Hamiltonian: \tNot computed yet. To do so, run `solve` method. \n",
      "\n",
      "\n"
     ]
    }
   ],
   "source": [
    "# Deffining Effective Hamiltonian Object\n",
    "Eff_frame = EffectiveFrame(H0_lab, V_lab + Hd_lab, subspaces=[Spin])"
   ]
  },
  {
   "cell_type": "code",
   "execution_count": 167,
   "metadata": {},
   "outputs": [
    {
     "name": "stdout",
     "output_type": "stream",
     "text": [
      "The perturbative interaction will be added to the full Hamiltonian\n"
     ]
    },
    {
     "name": "stderr",
     "output_type": "stream",
     "text": [
      "Solving for each order:   0%|          | 0/2 [00:00<?, ?it/s]"
     ]
    },
    {
     "name": "stderr",
     "output_type": "stream",
     "text": [
      "Solving for each order: 100%|██████████| 2/2 [00:00<00:00,  4.55it/s]\n"
     ]
    },
    {
     "name": "stdout",
     "output_type": "stream",
     "text": [
      "The Hamiltonian has been solved successfully. Please use the get_H method to get the result in the desired form.\n"
     ]
    },
    {
     "name": "stderr",
     "output_type": "stream",
     "text": [
      "Converting to matrix form: 100%|██████████| 2/2 [00:00<00:00, 1193.94it/s]\n",
      "Converting to matrix form: 100%|██████████| 2/2 [00:00<00:00, 1057.03it/s]\n"
     ]
    }
   ],
   "source": [
    "# Defining the mask\n",
    "mask = Block(fin=sx, inf=a, subspaces=[Spin]) + Block(fin=s0, inf=a, subspaces=[Spin]) + Block(fin=s0, inf=a**2, subspaces=[Spin])\n",
    "# Calculate the effective model using the Schrieffer-Wolff transformation up to the second order\n",
    "Eff_frame.solve(max_order=2, full_diagonalization=False, mask=mask)\n",
    "# Obtaining the result in the operator form\n",
    "H_eff_SWT = Eff_frame.get_H(return_form='matrix')"
   ]
  },
  {
   "cell_type": "code",
   "execution_count": 168,
   "metadata": {},
   "outputs": [
    {
     "data": {
      "text/latex": [
       "$\\displaystyle - \\frac{E_{0} e \\hbar {b}_{SL} \\left(2 \\omega^{2} - \\omega_{d}^{2} - \\omega_{z}^{2}\\right) \\cos{\\left(\\omega_{d} t \\right)} \\sigma_{1}}{4 m \\left(\\omega - \\omega_{d}\\right) \\left(\\omega + \\omega_{d}\\right) \\left(\\omega - \\omega_{z}\\right) \\left(\\omega + \\omega_{z}\\right)} + \\left(\\frac{\\hbar \\omega_{z}}{2} + \\frac{\\hbar^{2} \\omega_{z} {b}_{SL}^{2} + 2 m \\omega \\left(- 4 \\hbar \\omega^{2} \\omega_{z} + 4 \\hbar \\omega_{z}^{3}\\right)}{2 m \\omega \\left(4 \\omega^{2} - 4 \\omega_{z}^{2}\\right)}\\right) \\sigma_{3}$"
      ],
      "text/plain": [
       "-E0*e*hbar*{b}_{SL}*(2*omega**2 - omega_d**2 - omega_z**2)*cos(omega_d*t)*sigma_1/(4*m*(omega - omega_d)*(omega + omega_d)*(omega - omega_z)*(omega + omega_z)) + (hbar*omega_z/2 + (hbar**2*omega_z*{b}_{SL}**2 + 2*m*omega*(-4*hbar*omega**2*omega_z + 4*hbar*omega_z**3))/(2*m*omega*(4*omega**2 - 4*omega_z**2)))*sigma_3"
      ]
     },
     "execution_count": 168,
     "metadata": {},
     "output_type": "execute_result"
    }
   ],
   "source": [
    "# Expectation Values for the bosonic operators\n",
    "# <n=0|a|n=0> = 0\n",
    "# <n=0|ad|n=0> = 0\n",
    "# <n=0|ad*a|n=0> = 0\n",
    "subs_expvals = {\n",
    "    ad*a: 0,\n",
    "    a : 0,\n",
    "    ad : 0,\n",
    "}\n",
    "H_qubit_TD = H_eff_SWT.xreplace(subs_expvals)\n",
    "H_qubit_TD_dict = group_by_operators(Spin.project(sp.expand_complex(sp.factor_terms(H_qubit_TD.expand())).trigsimp()))\n",
    "H_qubit_TD_sz = (H_qubit_TD_dict[sz] - hbar * omega_z / 2).cancel().collect(2*m*omega) + hbar * omega_z / 2\n",
    "H_qubit_TD_sx = sp.factor_terms(H_qubit_TD_dict[sx].factor()).collect(E0*bsl/(2*m))\n",
    "H_qubit_TD_sy = H_qubit_TD_dict.get(sy, 0)\n",
    "\n",
    "H_qubit_TD = H_qubit_TD_sz * sz + H_qubit_TD_sx * sx + H_qubit_TD_sy * sy\n",
    "H_qubit_TD"
   ]
  },
  {
   "cell_type": "code",
   "execution_count": 169,
   "metadata": {},
   "outputs": [
    {
     "data": {
      "text/latex": [
       "$\\displaystyle - \\frac{E_{0} e {b}_{SL} \\left(2 \\omega^{2} - \\omega_{d}^{2} - \\omega_{z}^{2}\\right)}{4 m \\left(\\omega - \\omega_{d}\\right) \\left(\\omega + \\omega_{d}\\right) \\left(\\omega - \\omega_{z}\\right) \\left(\\omega + \\omega_{z}\\right)}$"
      ],
      "text/plain": [
       "-E0*e*{b}_{SL}*(2*omega**2 - omega_d**2 - omega_z**2)/(4*m*(omega - omega_d)*(omega + omega_d)*(omega - omega_z)*(omega + omega_z))"
      ]
     },
     "execution_count": 169,
     "metadata": {},
     "output_type": "execute_result"
    }
   ],
   "source": [
    "(H_qubit_TD_sx / hbar / sp.cos(omega_d*t)).factor()"
   ]
  },
  {
   "cell_type": "code",
   "execution_count": null,
   "metadata": {},
   "outputs": [],
   "source": []
  },
  {
   "cell_type": "code",
   "execution_count": null,
   "metadata": {},
   "outputs": [],
   "source": []
  },
  {
   "cell_type": "code",
   "execution_count": null,
   "metadata": {},
   "outputs": [],
   "source": []
  },
  {
   "cell_type": "code",
   "execution_count": null,
   "metadata": {},
   "outputs": [],
   "source": []
  },
  {
   "cell_type": "code",
   "execution_count": null,
   "metadata": {},
   "outputs": [],
   "source": []
  }
 ],
 "metadata": {
  "kernelspec": {
   "display_name": "pysw",
   "language": "python",
   "name": "python3"
  },
  "language_info": {
   "codemirror_mode": {
    "name": "ipython",
    "version": 3
   },
   "file_extension": ".py",
   "mimetype": "text/x-python",
   "name": "python",
   "nbconvert_exporter": "python",
   "pygments_lexer": "ipython3",
   "version": "3.13.0"
  }
 },
 "nbformat": 4,
 "nbformat_minor": 4
}
