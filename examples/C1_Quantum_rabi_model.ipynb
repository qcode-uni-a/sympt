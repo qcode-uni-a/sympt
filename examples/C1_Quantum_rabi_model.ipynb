{
 "cells": [
  {
   "cell_type": "code",
   "execution_count": 1,
   "metadata": {},
   "outputs": [],
   "source": [
    "# Sympt imports\n",
    "from SymPT import *\n",
    "# Import sympy\n",
    "import sympy as sp"
   ]
  },
  {
   "cell_type": "markdown",
   "metadata": {},
   "source": [
    "# Setup"
   ]
  },
  {
   "cell_type": "code",
   "execution_count": 2,
   "metadata": {},
   "outputs": [
    {
     "data": {
      "text/latex": [
       "$\\displaystyle \\frac{\\Omega_{z} \\sigma_{3}}{2} + \\omega {{a}^\\dagger} {a}$"
      ],
      "text/plain": [
       "Omega_z*sigma_3/2 + omega*Dagger(a)*a"
      ]
     },
     "metadata": {},
     "output_type": "display_data"
    },
    {
     "data": {
      "text/latex": [
       "$\\displaystyle g \\left({{a}^\\dagger} + {a}\\right) \\sigma_{1}$"
      ],
      "text/plain": [
       "g*(Dagger(a) + a)*sigma_1"
      ]
     },
     "metadata": {},
     "output_type": "display_data"
    }
   ],
   "source": [
    "# ---------------- Defining the symbols ------------------\n",
    "# Order 0\n",
    "omega = RDSymbol('omega', order=0, positive=True, real=True)\n",
    "Omega_z = RDSymbol('Omega_z', order=0, positive=True, real=True)\n",
    "# Order 1\n",
    "g = RDSymbol('g', order=1, positive=True, real=True)\n",
    "\n",
    "# ----------------- Defining the basis -------------------\n",
    "# Spin basis: Finite 2x2 Hilbert space\n",
    "Spin = RDBasis('sigma', dim=2)\n",
    "s0, sx, sy, sz = Spin.basis # Pauli Operators\n",
    "# Boson basis: Infinite bosonic Hilbert space\n",
    "a = BosonOp('a')\n",
    "ad = Dagger(a)\n",
    "\n",
    "# -------------- Defining the Hamiltonian ----------------\n",
    "# Unperturbed Hamiltonian H0\n",
    "H0 = omega * ad * a + sp.Rational(1,2) * Omega_z * sz\n",
    "display(H0)\n",
    "# Interaction Hamiltonian V\n",
    "V = g * (ad + a) * sx\n",
    "display(V)"
   ]
  },
  {
   "cell_type": "code",
   "execution_count": 3,
   "metadata": {},
   "outputs": [
    {
     "name": "stderr",
     "output_type": "stream",
     "text": [
      "\u001b[32mThe EffectiveFrame object has been initialized successfully.\u001b[0m\n"
     ]
    }
   ],
   "source": [
    "# Deffining Effective Hamiltonian Object\n",
    "Eff_frame = EffectiveFrame(H0, V, subspaces=[Spin])"
   ]
  },
  {
   "cell_type": "markdown",
   "metadata": {},
   "source": [
    "# Standard Schrieffer-Wolff Transformation"
   ]
  },
  {
   "cell_type": "code",
   "execution_count": 4,
   "metadata": {},
   "outputs": [
    {
     "name": "stderr",
     "output_type": "stream",
     "text": [
      "Performing SWT for each order: 100%|████████████████████████████████████████| 2/2 [00:00<00:00, 21.13it/s]\n",
      "\u001b[32mThe Hamiltonian has been solved successfully. Please use the get_H method to get the result in the desired form.\u001b[0m\n",
      "Converting to operator form: 100%|██████████████████████████████████████████| 2/2 [00:00<00:00, 24.75it/s]\n"
     ]
    },
    {
     "data": {
      "text/latex": [
       "$\\displaystyle \\frac{2 \\Omega_{z} g^{2} \\sigma_{3} {{a}^\\dagger}^{2}}{2 \\Omega_{z}^{2} - 2 \\omega^{2}} + \\frac{2 \\Omega_{z} g^{2} \\sigma_{3} {a}^{2}}{2 \\Omega_{z}^{2} - 2 \\omega^{2}} + \\frac{2 \\Omega_{z} g^{2} \\sigma_{3} {{a}^\\dagger} {a}}{\\Omega_{z}^{2} - \\omega^{2}} + \\frac{\\Omega_{z} \\sigma_{3}}{2} - \\frac{g^{2}}{2 \\Omega_{z} + 2 \\omega} + \\frac{g^{2} \\sigma_{3}}{2 \\Omega_{z} + 2 \\omega} + \\frac{g^{2}}{2 \\Omega_{z} - 2 \\omega} + \\frac{g^{2} \\sigma_{3}}{2 \\Omega_{z} - 2 \\omega} + \\omega {{a}^\\dagger} {a}$"
      ],
      "text/plain": [
       "2*Omega_z*g**2*sigma_3*Dagger(a)**2/(2*Omega_z**2 - 2*omega**2) + 2*Omega_z*g**2*sigma_3*a**2/(2*Omega_z**2 - 2*omega**2) + 2*Omega_z*g**2*sigma_3*Dagger(a)*a/(Omega_z**2 - omega**2) + Omega_z*sigma_3/2 - g**2/(2*Omega_z + 2*omega) + g**2*sigma_3/(2*Omega_z + 2*omega) + g**2/(2*Omega_z - 2*omega) + g**2*sigma_3/(2*Omega_z - 2*omega) + omega*Dagger(a)*a"
      ]
     },
     "metadata": {},
     "output_type": "display_data"
    }
   ],
   "source": [
    "# Calculate the effective model using the Schrieffer-Wolff transformation up to the second order\n",
    "Eff_frame.solve(max_order=2, method='SW')\n",
    "# Obtaining the result in the operator form\n",
    "H_eff_SWT = Eff_frame.get_H(return_form='operator')\n",
    "display(H_eff_SWT)"
   ]
  },
  {
   "cell_type": "markdown",
   "metadata": {},
   "source": [
    "# Multiblock ACE"
   ]
  },
  {
   "cell_type": "code",
   "execution_count": 6,
   "metadata": {},
   "outputs": [
    {
     "name": "stderr",
     "output_type": "stream",
     "text": [
      "\u001b[32mThe perturbative interaction will be added to the full Hamiltonian\u001b[0m\n",
      "Performing Block Diagonalization for each order: 100%|██████████████████████| 3/3 [00:00<00:00,  9.90it/s]\n",
      "\u001b[32mThe Hamiltonian has been solved successfully. Please use the get_H method to get the result in the desired form.\u001b[0m\n",
      "Converting to operator form: 100%|██████████████████████████████████████████| 3/3 [00:00<00:00, 26.68it/s]\n"
     ]
    },
    {
     "data": {
      "text/latex": [
       "$\\displaystyle \\frac{2 \\Omega_{z} g^{2} \\sigma_{3} {{a}^\\dagger}^{2}}{2 \\Omega_{z}^{2} - 2 \\omega^{2}} + \\frac{2 \\Omega_{z} g^{2} \\sigma_{3} {a}^{2}}{2 \\Omega_{z}^{2} - 2 \\omega^{2}} + \\frac{2 \\Omega_{z} g^{2} \\sigma_{3} {{a}^\\dagger} {a}}{\\Omega_{z}^{2} - \\omega^{2}} + \\frac{\\Omega_{z} \\sigma_{3}}{2} - \\frac{g^{2}}{2 \\Omega_{z} + 2 \\omega} + \\frac{g^{2} \\sigma_{3}}{2 \\Omega_{z} + 2 \\omega} + \\frac{g^{2}}{2 \\Omega_{z} - 2 \\omega} + \\frac{g^{2} \\sigma_{3}}{2 \\Omega_{z} - 2 \\omega} + \\omega {{a}^\\dagger} {a} + \\left(- \\frac{2 \\Omega_{z} g^{3} \\sigma_{1}}{3 \\Omega_{z}^{3} + 3 \\Omega_{z}^{2} \\omega - 3 \\Omega_{z} \\omega^{2} - 3 \\omega^{3}} - \\frac{2 i \\Omega_{z} g^{3} \\sigma_{2}}{3 \\Omega_{z}^{3} + 3 \\Omega_{z}^{2} \\omega - 3 \\Omega_{z} \\omega^{2} - 3 \\omega^{3}} - \\frac{2 \\Omega_{z} g^{3} \\sigma_{1}}{3 \\Omega_{z}^{3} - 3 \\Omega_{z}^{2} \\omega - 3 \\Omega_{z} \\omega^{2} + 3 \\omega^{3}} + \\frac{2 i \\Omega_{z} g^{3} \\sigma_{2}}{3 \\Omega_{z}^{3} - 3 \\Omega_{z}^{2} \\omega - 3 \\Omega_{z} \\omega^{2} + 3 \\omega^{3}}\\right) {{a}^\\dagger}^{3} + \\left(- \\frac{2 \\Omega_{z} g^{3} \\sigma_{1}}{3 \\Omega_{z}^{3} + 3 \\Omega_{z}^{2} \\omega - 3 \\Omega_{z} \\omega^{2} - 3 \\omega^{3}} + \\frac{2 i \\Omega_{z} g^{3} \\sigma_{2}}{3 \\Omega_{z}^{3} + 3 \\Omega_{z}^{2} \\omega - 3 \\Omega_{z} \\omega^{2} - 3 \\omega^{3}} - \\frac{2 \\Omega_{z} g^{3} \\sigma_{1}}{3 \\Omega_{z}^{3} - 3 \\Omega_{z}^{2} \\omega - 3 \\Omega_{z} \\omega^{2} + 3 \\omega^{3}} - \\frac{2 i \\Omega_{z} g^{3} \\sigma_{2}}{3 \\Omega_{z}^{3} - 3 \\Omega_{z}^{2} \\omega - 3 \\Omega_{z} \\omega^{2} + 3 \\omega^{3}}\\right) {a}^{3}$"
      ],
      "text/plain": [
       "2*Omega_z*g**2*sigma_3*Dagger(a)**2/(2*Omega_z**2 - 2*omega**2) + 2*Omega_z*g**2*sigma_3*a**2/(2*Omega_z**2 - 2*omega**2) + 2*Omega_z*g**2*sigma_3*Dagger(a)*a/(Omega_z**2 - omega**2) + Omega_z*sigma_3/2 - g**2/(2*Omega_z + 2*omega) + g**2*sigma_3/(2*Omega_z + 2*omega) + g**2/(2*Omega_z - 2*omega) + g**2*sigma_3/(2*Omega_z - 2*omega) + omega*Dagger(a)*a + (-2*Omega_z*g**3*sigma_1/(3*Omega_z**3 + 3*Omega_z**2*omega - 3*Omega_z*omega**2 - 3*omega**3) - 2*I*Omega_z*g**3*sigma_2/(3*Omega_z**3 + 3*Omega_z**2*omega - 3*Omega_z*omega**2 - 3*omega**3) - 2*Omega_z*g**3*sigma_1/(3*Omega_z**3 - 3*Omega_z**2*omega - 3*Omega_z*omega**2 + 3*omega**3) + 2*I*Omega_z*g**3*sigma_2/(3*Omega_z**3 - 3*Omega_z**2*omega - 3*Omega_z*omega**2 + 3*omega**3))*Dagger(a)**3 + (-2*Omega_z*g**3*sigma_1/(3*Omega_z**3 + 3*Omega_z**2*omega - 3*Omega_z*omega**2 - 3*omega**3) + 2*I*Omega_z*g**3*sigma_2/(3*Omega_z**3 + 3*Omega_z**2*omega - 3*Omega_z*omega**2 - 3*omega**3) - 2*Omega_z*g**3*sigma_1/(3*Omega_z**3 - 3*Omega_z**2*omega - 3*Omega_z*omega**2 + 3*omega**3) - 2*I*Omega_z*g**3*sigma_2/(3*Omega_z**3 - 3*Omega_z**2*omega - 3*Omega_z*omega**2 + 3*omega**3))*a**3"
      ]
     },
     "execution_count": 6,
     "metadata": {},
     "output_type": "execute_result"
    }
   ],
   "source": [
    "# Deffining the mask\n",
    "mask = Block(fin=sx.matrix, inf=a)\n",
    "# Calculate the effective model using the Mask routine up to the second order\n",
    "Eff_frame.solve(max_order=3, method='ACE', mask=mask)\n",
    "H_eff_Mask = Eff_frame.get_H(return_form='operator')\n",
    "H_eff_Mask"
   ]
  },
  {
   "cell_type": "markdown",
   "metadata": {},
   "source": [
    "# Multiblock LA"
   ]
  },
  {
   "cell_type": "code",
   "execution_count": 7,
   "metadata": {},
   "outputs": [
    {
     "name": "stderr",
     "output_type": "stream",
     "text": [
      "\u001b[32mThe perturbative interaction will be added to the full Hamiltonian\u001b[0m\n",
      "Performing Full Diagonalization for each order: 100%|███████████████████████| 3/3 [00:00<00:00,  5.87it/s]\n",
      "Computing least-action generators S: 100%|█████████████████████████████████| 3/3 [00:00<00:00, 143.88it/s]\n",
      "Rotating for each order: 100%|██████████████████████████████████████████████| 3/3 [00:00<00:00, 20.40it/s]\n",
      "\u001b[32mThe Hamiltonian has been solved successfully. Please use the get_H method to get the result in the desired form.\u001b[0m\n",
      "Converting to operator form: 100%|██████████████████████████████████████████| 4/4 [00:04<00:00,  1.13s/it]\n"
     ]
    },
    {
     "data": {
      "text/latex": [
       "$\\displaystyle \\frac{2 \\Omega_{z} g^{2} \\sigma_{3} {{a}^\\dagger}^{2}}{2 \\Omega_{z}^{2} - 2 \\omega^{2}} + \\frac{2 \\Omega_{z} g^{2} \\sigma_{3} {a}^{2}}{2 \\Omega_{z}^{2} - 2 \\omega^{2}} + \\frac{2 \\Omega_{z} g^{2} \\sigma_{3} {{a}^\\dagger} {a}}{\\Omega_{z}^{2} - \\omega^{2}} + \\frac{\\Omega_{z} \\sigma_{3}}{2} - \\frac{g^{2}}{2 \\Omega_{z} + 2 \\omega} + \\frac{g^{2} \\sigma_{3}}{2 \\Omega_{z} + 2 \\omega} + \\frac{g^{2}}{2 \\Omega_{z} - 2 \\omega} + \\frac{g^{2} \\sigma_{3}}{2 \\Omega_{z} - 2 \\omega} + \\omega {{a}^\\dagger} {a} + \\left(\\frac{g^{3} \\sigma_{1}}{4 \\Omega_{z} \\omega + 4 \\omega^{2}} - \\frac{i g^{3} \\sigma_{2}}{4 \\Omega_{z} \\omega + 4 \\omega^{2}} - \\frac{g^{3} \\sigma_{1}}{4 \\Omega_{z} \\omega - 4 \\omega^{2}} - \\frac{i g^{3} \\sigma_{2}}{4 \\Omega_{z} \\omega - 4 \\omega^{2}}\\right) {a}^{3} + \\left(\\frac{g^{3} \\sigma_{1}}{4 \\Omega_{z} \\omega + 4 \\omega^{2}} + \\frac{i g^{3} \\sigma_{2}}{4 \\Omega_{z} \\omega + 4 \\omega^{2}} - \\frac{g^{3} \\sigma_{1}}{4 \\Omega_{z} \\omega - 4 \\omega^{2}} + \\frac{i g^{3} \\sigma_{2}}{4 \\Omega_{z} \\omega - 4 \\omega^{2}}\\right) {{a}^\\dagger}^{3}$"
      ],
      "text/plain": [
       "2*Omega_z*g**2*sigma_3*Dagger(a)**2/(2*Omega_z**2 - 2*omega**2) + 2*Omega_z*g**2*sigma_3*a**2/(2*Omega_z**2 - 2*omega**2) + 2*Omega_z*g**2*sigma_3*Dagger(a)*a/(Omega_z**2 - omega**2) + Omega_z*sigma_3/2 - g**2/(2*Omega_z + 2*omega) + g**2*sigma_3/(2*Omega_z + 2*omega) + g**2/(2*Omega_z - 2*omega) + g**2*sigma_3/(2*Omega_z - 2*omega) + omega*Dagger(a)*a + (g**3*sigma_1/(4*Omega_z*omega + 4*omega**2) - I*g**3*sigma_2/(4*Omega_z*omega + 4*omega**2) - g**3*sigma_1/(4*Omega_z*omega - 4*omega**2) - I*g**3*sigma_2/(4*Omega_z*omega - 4*omega**2))*a**3 + (g**3*sigma_1/(4*Omega_z*omega + 4*omega**2) + I*g**3*sigma_2/(4*Omega_z*omega + 4*omega**2) - g**3*sigma_1/(4*Omega_z*omega - 4*omega**2) + I*g**3*sigma_2/(4*Omega_z*omega - 4*omega**2))*Dagger(a)**3"
      ]
     },
     "execution_count": 7,
     "metadata": {},
     "output_type": "execute_result"
    }
   ],
   "source": [
    "# Deffining the mask\n",
    "mask = Block(fin=sx.matrix, inf=a)\n",
    "# Calculate the effective model using the Mask routine up to the second order\n",
    "Eff_frame.solve(max_order=3, method='LA', mask=mask)\n",
    "H_eff_Mask = Eff_frame.get_H(return_form='operator')\n",
    "H_eff_Mask"
   ]
  },
  {
   "cell_type": "code",
   "execution_count": 8,
   "metadata": {},
   "outputs": [
    {
     "data": {
      "text/latex": [
       "$\\displaystyle \\frac{g^{3} \\left(i \\Omega_{z} \\sigma_{2} {{a}^\\dagger}^{3} - i \\Omega_{z} \\sigma_{2} {a}^{3} - \\omega \\sigma_{1} {{a}^\\dagger}^{3} - \\omega \\sigma_{1} {a}^{3}\\right)}{2 \\omega \\left(\\Omega_{z}^{2} - \\omega^{2}\\right)}$"
      ],
      "text/plain": [
       "g**3*(I*Omega_z*sigma_2*Dagger(a)**3 - I*Omega_z*sigma_2*a**3 - omega*sigma_1*Dagger(a)**3 - omega*sigma_1*a**3)/(2*omega*(Omega_z**2 - omega**2))"
      ]
     },
     "execution_count": 8,
     "metadata": {},
     "output_type": "execute_result"
    }
   ],
   "source": [
    "Eff_frame.corrections[3].simplify()"
   ]
  },
  {
   "cell_type": "markdown",
   "metadata": {},
   "source": [
    "# Full-diagonalization"
   ]
  },
  {
   "cell_type": "code",
   "execution_count": 9,
   "metadata": {},
   "outputs": [
    {
     "name": "stderr",
     "output_type": "stream",
     "text": [
      "\u001b[32mThe perturbative interaction will be added to the full Hamiltonian\u001b[0m\n",
      "Performing Full Diagonalization for each order: 100%|███████████████████████| 2/2 [00:00<00:00, 10.48it/s]\n",
      "\u001b[32mThe Hamiltonian has been solved successfully. Please use the get_H method to get the result in the desired form.\u001b[0m\n",
      "Converting to operator form: 100%|██████████████████████████████████████████| 2/2 [00:00<00:00, 51.41it/s]\n"
     ]
    },
    {
     "data": {
      "text/latex": [
       "$\\displaystyle \\frac{2 \\Omega_{z} g^{2} \\sigma_{3} {{a}^\\dagger} {a}}{\\Omega_{z}^{2} - \\omega^{2}} + \\frac{\\Omega_{z} \\sigma_{3}}{2} - \\frac{g^{2}}{2 \\Omega_{z} + 2 \\omega} + \\frac{g^{2} \\sigma_{3}}{2 \\Omega_{z} + 2 \\omega} + \\frac{g^{2}}{2 \\Omega_{z} - 2 \\omega} + \\frac{g^{2} \\sigma_{3}}{2 \\Omega_{z} - 2 \\omega} + \\omega {{a}^\\dagger} {a}$"
      ],
      "text/plain": [
       "2*Omega_z*g**2*sigma_3*Dagger(a)*a/(Omega_z**2 - omega**2) + Omega_z*sigma_3/2 - g**2/(2*Omega_z + 2*omega) + g**2*sigma_3/(2*Omega_z + 2*omega) + g**2/(2*Omega_z - 2*omega) + g**2*sigma_3/(2*Omega_z - 2*omega) + omega*Dagger(a)*a"
      ]
     },
     "execution_count": 9,
     "metadata": {},
     "output_type": "execute_result"
    }
   ],
   "source": [
    "# Calculate the effective model using the Full Diagonalization routine up to the second order\n",
    "Eff_frame.solve(max_order=2, method='FD')\n",
    "H_eff_FD = Eff_frame.get_H(return_form='operator')\n",
    "H_eff_FD"
   ]
  },
  {
   "cell_type": "markdown",
   "metadata": {},
   "source": [
    "# Rotate a new term such as a Driving term into the new basis"
   ]
  },
  {
   "cell_type": "code",
   "execution_count": 10,
   "metadata": {},
   "outputs": [
    {
     "data": {
      "text/latex": [
       "$\\displaystyle E_{0} \\left({{a}^\\dagger} + {a}\\right)$"
      ],
      "text/plain": [
       "E0*(Dagger(a) + a)"
      ]
     },
     "metadata": {},
     "output_type": "display_data"
    },
    {
     "name": "stderr",
     "output_type": "stream",
     "text": [
      "Rotating for each order: 100%|█████████████████████████████████████████████| 1/1 [00:00<00:00, 295.27it/s]\n",
      "Converting to operator form: 100%|█████████████████████████████████████████| 3/3 [00:00<00:00, 202.56it/s]\n"
     ]
    },
    {
     "data": {
      "text/latex": [
       "$\\displaystyle \\frac{2 E_{0} g \\omega \\sigma_{1}}{\\Omega_{z}^{2} - \\omega^{2}} + E_{0} {{a}^\\dagger} + E_{0} {a}$"
      ],
      "text/plain": [
       "2*E0*g*omega*sigma_1/(Omega_z**2 - omega**2) + E0*Dagger(a) + E0*a"
      ]
     },
     "execution_count": 10,
     "metadata": {},
     "output_type": "execute_result"
    }
   ],
   "source": [
    "# ----- Rotating a Drving term into the new basis ----\n",
    "# Define the symbol for the driving term\n",
    "E0 = RDSymbol('E0', order=0, positive=True, real=True)\n",
    "# Define the driving term\n",
    "H_drive = E0 * (a + ad)\n",
    "display(H_drive)\n",
    "\n",
    "# Rotate the driving term into the new basis\n",
    "Eff_frame.rotate(H_drive, max_order=1, return_form='operator')"
   ]
  }
 ],
 "metadata": {
  "kernelspec": {
   "display_name": "Python 3 (ipykernel)",
   "language": "python",
   "name": "python3"
  },
  "language_info": {
   "codemirror_mode": {
    "name": "ipython",
    "version": 3
   },
   "file_extension": ".py",
   "mimetype": "text/x-python",
   "name": "python",
   "nbconvert_exporter": "python",
   "pygments_lexer": "ipython3",
   "version": "3.9.20"
  }
 },
 "nbformat": 4,
 "nbformat_minor": 4
}
