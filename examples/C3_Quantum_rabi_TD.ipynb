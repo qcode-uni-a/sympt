{
 "cells": [
  {
   "cell_type": "code",
   "execution_count": 1,
   "metadata": {},
   "outputs": [],
   "source": [
    "# Objects for defining the Hamiltonian\n",
    "from PySW import *# RDSymbol, RDBasis, BosonOp, Dagger, Block, hbar, t, get_order\n",
    "# Objects for obtaining the Effective Hamiltonian\n",
    "from PySW import EffectiveFrame\n",
    "\n",
    "\n",
    "# Extra utils\n",
    "from PySW import display_dict\n",
    "\n",
    "# Import sympy\n",
    "import sympy as sp"
   ]
  },
  {
   "cell_type": "code",
   "execution_count": 2,
   "metadata": {},
   "outputs": [
    {
     "data": {
      "text/latex": [
       "$\\displaystyle E_{0} e^{i \\omega_{d} t} {a} + E_{0} e^{- i \\omega_{d} t} {{a}^\\dagger} + g \\left({{a}^\\dagger} + {a}\\right) \\sigma_{1} + \\omega {{a}^\\dagger} {a} + \\frac{\\omega_{z} \\sigma_{3}}{2}$"
      ],
      "text/plain": [
       "E0*exp(I*omega_d*t)*a + E0*exp(-I*omega_d*t)*Dagger(a) + g*(Dagger(a) + a)*sigma_1 + omega*Dagger(a)*a + omega_z*sigma_3/2"
      ]
     },
     "metadata": {},
     "output_type": "display_data"
    }
   ],
   "source": [
    "omega = RDSymbol('omega', positive=True, real=True)\n",
    "omega_z = RDSymbol('omega_z', positive=True, real=True)\n",
    "g = RDSymbol('g', order=1, positive=True, real=True)\n",
    "\n",
    "E0 = RDSymbol('E0', order=1, positive=True, real=True)\n",
    "omega_d = RDSymbol('omega_d', positive=True, real=True)\n",
    "\n",
    "a = BosonOp('a')\n",
    "ad = Dagger(a)\n",
    "\n",
    "Spin = RDBasis('sigma', dim=2)\n",
    "s0, sx, sy, sz = Spin.basis\n",
    "\n",
    "H0 = omega * ad * a + sp.Rational(1, 2) * omega_z * sz\n",
    "H0_mat = H0.subs(ad*a, ad*a*s0.matrix).subs(sz, sz.matrix)\n",
    "V = g * (ad + a) * sx\n",
    "V_mat = V.subs(sx, sx.matrix)\n",
    "Hd = E0 * sp.exp(sp.I * omega_d * t) * a + E0 * sp.exp(-sp.I * omega_d * t) * ad\n",
    "Hd_mat = Hd.subs(a, a*s0.matrix).subs(ad, ad*s0.matrix)\n",
    "\n",
    "display(H0+V+Hd)"
   ]
  },
  {
   "cell_type": "code",
   "execution_count": 3,
   "metadata": {},
   "outputs": [
    {
     "name": "stdout",
     "output_type": "stream",
     "text": [
      "The EffectiveFrame object has been initialized successfully.\n",
      "\n",
      "Effective Frame\n",
      "\n",
      "╭────────┬─────────┬─────────────╮\n",
      "│  Name  │  Type   │  Dimension  │\n",
      "├────────┼─────────┼─────────────┤\n",
      "│ sigma  │ Finite  │     2x2     │\n",
      "├────────┼─────────┼─────────────┤\n",
      "│   a    │ Bosonic │      ∞      │\n",
      "╰────────┴─────────┴─────────────╯\n",
      "\n",
      "Effective Hamiltonian: \tNot computed yet. To do so, run `solve` method. \n",
      "\n",
      "\n"
     ]
    }
   ],
   "source": [
    "# Deffining Effective Hamiltonian Object\n",
    "Eff_frame = EffectiveFrame(H0, V + Hd, subspaces=[Spin])"
   ]
  },
  {
   "cell_type": "code",
   "execution_count": 4,
   "metadata": {},
   "outputs": [
    {
     "name": "stderr",
     "output_type": "stream",
     "text": [
      "Solving for each order:  50%|█████     | 1/2 [00:00<00:00,  7.14it/s]"
     ]
    },
    {
     "name": "stdout",
     "output_type": "stream",
     "text": [
      "(1,)\n",
      "(2,)\n",
      "(1, 1)\n",
      "adding 1/2\n"
     ]
    },
    {
     "data": {
      "text/latex": [
       "$\\left[\\begin{matrix}\\frac{g^{2}}{\\omega + \\omega_{z}} - \\frac{g^{2}}{\\omega - \\omega_{z}} + \\frac{g^{2}}{- \\omega + \\omega_{z}} - \\frac{g^{2}}{- \\omega - \\omega_{z}} + \\omega & - \\frac{i \\hbar \\left(- \\frac{i E_{0} g \\omega_{d} e^{i \\omega_{d} t}}{\\left(\\omega + \\omega_{z}\\right) \\left(\\hbar \\omega_{d} - \\omega\\right)} - \\frac{i E_{0} g \\omega_{d} e^{- i \\omega_{d} t}}{\\left(- \\omega + \\omega_{z}\\right) \\left(- \\hbar \\omega_{d} + \\omega\\right)}\\right)}{2} - \\frac{i \\hbar \\left(\\frac{i E_{0} g \\omega_{d} e^{i \\omega_{d} t}}{\\left(\\omega + \\omega_{z}\\right) \\left(\\hbar \\omega_{d} - \\omega\\right)} + \\frac{i E_{0} g \\omega_{d} e^{- i \\omega_{d} t}}{\\left(- \\omega + \\omega_{z}\\right) \\left(- \\hbar \\omega_{d} + \\omega\\right)}\\right)}{2}\\\\- \\frac{i \\hbar \\left(- \\frac{i E_{0} g \\omega_{d} e^{i \\omega_{d} t}}{\\left(\\omega - \\omega_{z}\\right) \\left(\\hbar \\omega_{d} - \\omega\\right)} - \\frac{i E_{0} g \\omega_{d} e^{- i \\omega_{d} t}}{\\left(- \\omega - \\omega_{z}\\right) \\left(- \\hbar \\omega_{d} + \\omega\\right)}\\right)}{2} - \\frac{i \\hbar \\left(\\frac{i E_{0} g \\omega_{d} e^{i \\omega_{d} t}}{\\left(\\omega - \\omega_{z}\\right) \\left(\\hbar \\omega_{d} - \\omega\\right)} + \\frac{i E_{0} g \\omega_{d} e^{- i \\omega_{d} t}}{\\left(- \\omega - \\omega_{z}\\right) \\left(- \\hbar \\omega_{d} + \\omega\\right)}\\right)}{2} & - \\frac{g^{2}}{\\omega + \\omega_{z}} + \\frac{g^{2}}{\\omega - \\omega_{z}} - \\frac{g^{2}}{- \\omega + \\omega_{z}} + \\frac{g^{2}}{- \\omega - \\omega_{z}} + \\omega\\end{matrix}\\right]  \\cdot {{a}^\\dagger} {a} + \\left[\\begin{matrix}\\frac{E_{0}^{2} \\hbar \\omega_{d}}{\\left(- \\hbar \\omega_{d} + \\omega\\right) \\left(\\hbar \\omega_{d} - \\omega\\right)} + \\frac{E_{0}^{2}}{\\hbar \\omega_{d} - \\omega} - \\frac{E_{0}^{2}}{- \\hbar \\omega_{d} + \\omega} - \\frac{g^{2}}{\\omega - \\omega_{z}} + \\frac{g^{2}}{- \\omega + \\omega_{z}} + \\frac{\\omega_{z}}{2} & \\frac{E_{0} g e^{i \\omega_{d} t}}{\\hbar \\omega_{d} - \\omega} - \\frac{E_{0} g e^{- i \\omega_{d} t}}{- \\hbar \\omega_{d} + \\omega} - \\frac{E_{0} g e^{i \\omega_{d} t}}{\\omega + \\omega_{z}} + \\frac{E_{0} g e^{- i \\omega_{d} t}}{- \\omega + \\omega_{z}} - \\frac{i \\hbar \\left(\\frac{i E_{0} g \\omega_{d} e^{i \\omega_{d} t}}{\\left(\\omega + \\omega_{z}\\right) \\left(\\hbar \\omega_{d} - \\omega\\right)} + \\frac{i E_{0} g \\omega_{d} e^{- i \\omega_{d} t}}{\\left(- \\omega + \\omega_{z}\\right) \\left(- \\hbar \\omega_{d} + \\omega\\right)}\\right)}{2}\\\\\\frac{E_{0} g e^{i \\omega_{d} t}}{\\hbar \\omega_{d} - \\omega} - \\frac{E_{0} g e^{- i \\omega_{d} t}}{- \\hbar \\omega_{d} + \\omega} - \\frac{E_{0} g e^{i \\omega_{d} t}}{\\omega - \\omega_{z}} + \\frac{E_{0} g e^{- i \\omega_{d} t}}{- \\omega - \\omega_{z}} - \\frac{i \\hbar \\left(\\frac{i E_{0} g \\omega_{d} e^{i \\omega_{d} t}}{\\left(\\omega - \\omega_{z}\\right) \\left(\\hbar \\omega_{d} - \\omega\\right)} + \\frac{i E_{0} g \\omega_{d} e^{- i \\omega_{d} t}}{\\left(- \\omega - \\omega_{z}\\right) \\left(- \\hbar \\omega_{d} + \\omega\\right)}\\right)}{2} & \\frac{E_{0}^{2} \\hbar \\omega_{d}}{\\left(- \\hbar \\omega_{d} + \\omega\\right) \\left(\\hbar \\omega_{d} - \\omega\\right)} + \\frac{E_{0}^{2}}{\\hbar \\omega_{d} - \\omega} - \\frac{E_{0}^{2}}{- \\hbar \\omega_{d} + \\omega} - \\frac{g^{2}}{\\omega + \\omega_{z}} + \\frac{g^{2}}{- \\omega - \\omega_{z}} - \\frac{\\omega_{z}}{2}\\end{matrix}\\right]  \\cdot 1 + \\left[\\begin{matrix}\\frac{g^{2}}{- \\omega + \\omega_{z}} - \\frac{g^{2}}{- \\omega - \\omega_{z}} & 0\\\\0 & - \\frac{g^{2}}{- \\omega + \\omega_{z}} + \\frac{g^{2}}{- \\omega - \\omega_{z}}\\end{matrix}\\right]  \\cdot {a}^{2} + \\left[\\begin{matrix}\\frac{g^{2}}{\\omega + \\omega_{z}} - \\frac{g^{2}}{\\omega - \\omega_{z}} & 0\\\\0 & - \\frac{g^{2}}{\\omega + \\omega_{z}} + \\frac{g^{2}}{\\omega - \\omega_{z}}\\end{matrix}\\right]  \\cdot {{a}^\\dagger}^{2}$"
      ],
      "text/plain": [
       "<PySW.classes.Expression at 0x7070b19c0f50>"
      ]
     },
     "metadata": {},
     "output_type": "display_data"
    },
    {
     "data": {
      "text/latex": [
       "$\\displaystyle \\sigma_{0} : - \\frac{- E_{0}^{2} \\hbar \\omega^{2} \\omega_{d} + E_{0}^{2} \\hbar \\omega_{d} \\omega_{z}^{2} + 2 E_{0}^{2} \\omega^{3} - 2 E_{0}^{2} \\omega \\omega_{z}^{2} + 2 g^{2} \\hbar^{2} \\omega \\omega_{d}^{2} - 4 g^{2} \\hbar \\omega^{2} \\omega_{d} + 2 g^{2} \\omega^{3}}{\\left(\\omega - \\omega_{z}\\right) \\left(\\omega + \\omega_{z}\\right) \\left(\\hbar \\omega_{d} - \\omega\\right)^{2}}$"
      ],
      "text/plain": [
       "<IPython.core.display.Math object>"
      ]
     },
     "metadata": {},
     "output_type": "display_data"
    },
    {
     "data": {
      "text/latex": [
       "$\\displaystyle \\sigma_{1} : - \\frac{E_{0} g \\left(\\hbar \\omega \\omega_{d} - 4 \\omega^{2} + 2 \\omega_{z}^{2}\\right) \\cos{\\left(\\omega_{d} t \\right)}}{\\left(\\omega - \\omega_{z}\\right) \\left(\\omega + \\omega_{z}\\right) \\left(\\hbar \\omega_{d} - \\omega\\right)}$"
      ],
      "text/plain": [
       "<IPython.core.display.Math object>"
      ]
     },
     "metadata": {},
     "output_type": "display_data"
    },
    {
     "data": {
      "text/latex": [
       "$\\displaystyle \\sigma_{2} : - \\frac{E_{0} g \\omega_{z} \\left(\\hbar \\omega_{d} - 2 \\omega\\right) \\sin{\\left(\\omega_{d} t \\right)}}{\\left(\\omega - \\omega_{z}\\right) \\left(\\omega + \\omega_{z}\\right) \\left(\\hbar \\omega_{d} - \\omega\\right)}$"
      ],
      "text/plain": [
       "<IPython.core.display.Math object>"
      ]
     },
     "metadata": {},
     "output_type": "display_data"
    },
    {
     "data": {
      "text/latex": [
       "$\\displaystyle \\sigma_{3} : - \\frac{\\omega_{z} \\left(4 g^{2} - \\omega^{2} + \\omega_{z}^{2}\\right)}{2 \\left(\\omega - \\omega_{z}\\right) \\left(\\omega + \\omega_{z}\\right)}$"
      ],
      "text/plain": [
       "<IPython.core.display.Math object>"
      ]
     },
     "metadata": {},
     "output_type": "display_data"
    },
    {
     "name": "stderr",
     "output_type": "stream",
     "text": [
      "Solving for each order: 100%|██████████| 2/2 [00:00<00:00,  2.10it/s]\n"
     ]
    },
    {
     "name": "stdout",
     "output_type": "stream",
     "text": [
      "(0, 1, 1)\n",
      "The Hamiltonian has been solved successfully. Please use the get_H method to get the result in the desired form.\n"
     ]
    },
    {
     "name": "stderr",
     "output_type": "stream",
     "text": [
      "Projecting to operator form: 100%|██████████| 4/4 [00:00<00:00,  5.58it/s]\n"
     ]
    },
    {
     "data": {
      "text/latex": [
       "$\\displaystyle 1 : - \\frac{- E_{0}^{2} \\omega^{2} + E_{0}^{2} \\omega_{z}^{2} + g^{2} \\hbar \\omega \\omega_{d} - g^{2} \\omega^{2}}{\\left(\\omega - \\omega_{z}\\right) \\left(\\omega + \\omega_{z}\\right) \\left(\\hbar \\omega_{d} - \\omega\\right)}$"
      ],
      "text/plain": [
       "<IPython.core.display.Math object>"
      ]
     },
     "metadata": {},
     "output_type": "display_data"
    },
    {
     "data": {
      "text/latex": [
       "$\\displaystyle \\sigma_{1} : - \\frac{E_{0} g \\left(\\hbar \\omega \\omega_{d} - 2 \\omega^{2} + \\omega_{z}^{2}\\right) \\cos{\\left(\\omega_{d} t \\right)}}{\\left(\\omega - \\omega_{z}\\right) \\left(\\omega + \\omega_{z}\\right) \\left(\\hbar \\omega_{d} - \\omega\\right)}$"
      ],
      "text/plain": [
       "<IPython.core.display.Math object>"
      ]
     },
     "metadata": {},
     "output_type": "display_data"
    },
    {
     "data": {
      "text/latex": [
       "$\\displaystyle \\sigma_{2} : - \\frac{E_{0} g \\omega_{z} \\sin{\\left(\\omega_{d} t \\right)}}{\\left(\\omega - \\omega_{z}\\right) \\left(\\omega + \\omega_{z}\\right)}$"
      ],
      "text/plain": [
       "<IPython.core.display.Math object>"
      ]
     },
     "metadata": {},
     "output_type": "display_data"
    },
    {
     "data": {
      "text/latex": [
       "$\\displaystyle \\sigma_{3} : - \\frac{\\omega_{z} \\left(2 g^{2} - \\omega^{2} + \\omega_{z}^{2}\\right)}{2 \\left(\\omega - \\omega_{z}\\right) \\left(\\omega + \\omega_{z}\\right)}$"
      ],
      "text/plain": [
       "<IPython.core.display.Math object>"
      ]
     },
     "metadata": {},
     "output_type": "display_data"
    },
    {
     "data": {
      "text/latex": [
       "$\\displaystyle \\sigma_{3} {{a}^\\dagger} {a} : - \\frac{2 g^{2} \\omega_{z}}{\\left(\\omega - \\omega_{z}\\right) \\left(\\omega + \\omega_{z}\\right)}$"
      ],
      "text/plain": [
       "<IPython.core.display.Math object>"
      ]
     },
     "metadata": {},
     "output_type": "display_data"
    },
    {
     "data": {
      "text/latex": [
       "$\\displaystyle \\sigma_{3} {{a}^\\dagger}^{2} : - \\frac{g^{2} \\omega_{z}}{\\left(\\omega - \\omega_{z}\\right) \\left(\\omega + \\omega_{z}\\right)}$"
      ],
      "text/plain": [
       "<IPython.core.display.Math object>"
      ]
     },
     "metadata": {},
     "output_type": "display_data"
    },
    {
     "data": {
      "text/latex": [
       "$\\displaystyle \\sigma_{3} {a}^{2} : - \\frac{g^{2} \\omega_{z}}{\\left(\\omega - \\omega_{z}\\right) \\left(\\omega + \\omega_{z}\\right)}$"
      ],
      "text/plain": [
       "<IPython.core.display.Math object>"
      ]
     },
     "metadata": {},
     "output_type": "display_data"
    },
    {
     "data": {
      "text/latex": [
       "$\\displaystyle {{a}^\\dagger} {a} : \\omega$"
      ],
      "text/plain": [
       "<IPython.core.display.Math object>"
      ]
     },
     "metadata": {},
     "output_type": "display_data"
    }
   ],
   "source": [
    "# Calculate the effective model using the Schrieffer-Wolff transformation up to the second order\n",
    "Eff_frame.solve(max_order=2, full_diagonalization=False, mask=None)\n",
    "# Obtaining the result in the operator form\n",
    "H_eff_SWT = Eff_frame.get_H(return_form='operator')\n",
    "res = group_by_operators(H_eff_SWT)\n",
    "res = {key: sp.expand_complex(sp.simplify(val)).trigsimp().factor() for key, val in res.items()}\n",
    "display_dict(res)"
   ]
  },
  {
   "cell_type": "code",
   "execution_count": 5,
   "metadata": {},
   "outputs": [
    {
     "data": {
      "text/latex": [
       "$\\displaystyle \\sigma_{0} : - \\frac{- E_{0}^{2} \\omega^{2} + E_{0}^{2} \\omega_{z}^{2} + g^{2} \\hbar \\omega \\omega_{d} - g^{2} \\omega^{2}}{\\left(\\omega - \\omega_{z}\\right) \\left(\\omega + \\omega_{z}\\right) \\left(\\hbar \\omega_{d} - \\omega\\right)}$"
      ],
      "text/plain": [
       "<IPython.core.display.Math object>"
      ]
     },
     "metadata": {},
     "output_type": "display_data"
    },
    {
     "data": {
      "text/latex": [
       "$\\displaystyle \\sigma_{1} : - \\frac{E_{0} g \\left(\\hbar \\omega \\omega_{d} - 2 \\omega^{2} + \\omega_{z}^{2}\\right) \\cos{\\left(\\omega_{d} t \\right)}}{\\left(\\omega - \\omega_{z}\\right) \\left(\\omega + \\omega_{z}\\right) \\left(\\hbar \\omega_{d} - \\omega\\right)}$"
      ],
      "text/plain": [
       "<IPython.core.display.Math object>"
      ]
     },
     "metadata": {},
     "output_type": "display_data"
    },
    {
     "data": {
      "text/latex": [
       "$\\displaystyle \\sigma_{2} : - \\frac{E_{0} g \\omega_{z} \\sin{\\left(\\omega_{d} t \\right)}}{\\left(\\omega - \\omega_{z}\\right) \\left(\\omega + \\omega_{z}\\right)}$"
      ],
      "text/plain": [
       "<IPython.core.display.Math object>"
      ]
     },
     "metadata": {},
     "output_type": "display_data"
    },
    {
     "data": {
      "text/latex": [
       "$\\displaystyle \\sigma_{3} : - \\frac{\\omega_{z} \\left(2 g^{2} - \\omega^{2} + \\omega_{z}^{2}\\right)}{2 \\left(\\omega - \\omega_{z}\\right) \\left(\\omega + \\omega_{z}\\right)}$"
      ],
      "text/plain": [
       "<IPython.core.display.Math object>"
      ]
     },
     "metadata": {},
     "output_type": "display_data"
    }
   ],
   "source": [
    "res = Spin.project(Eff_frame._EffectiveFrame__H_final.expr[1].fn)\n",
    "res = group_by_operators(res)\n",
    "res = {key: sp.expand_complex(sp.simplify(val)).trigsimp().factor() for key, val in res.items()}\n",
    "display_dict(res)"
   ]
  },
  {
   "cell_type": "code",
   "execution_count": null,
   "metadata": {},
   "outputs": [
    {
     "data": {
      "text/latex": [
       "$\\displaystyle \\sigma_{0} : - \\frac{- E_{0}^{2} \\omega^{2} + E_{0}^{2} \\omega_{z}^{2} + g^{2} \\hbar \\omega \\omega_{d} - g^{2} \\omega^{2}}{\\left(\\omega - \\omega_{z}\\right) \\left(\\omega + \\omega_{z}\\right) \\left(\\hbar \\omega_{d} - \\omega\\right)}$"
      ],
      "text/plain": [
       "<IPython.core.display.Math object>"
      ]
     },
     "metadata": {},
     "output_type": "display_data"
    },
    {
     "data": {
      "text/latex": [
       "$\\displaystyle \\sigma_{1} : - \\frac{E_{0} g \\left(\\hbar \\omega \\omega_{d} - 2 \\omega^{2} + \\omega_{z}^{2}\\right) \\cos{\\left(\\omega_{d} t \\right)}}{\\left(\\omega - \\omega_{z}\\right) \\left(\\omega + \\omega_{z}\\right) \\left(\\hbar \\omega_{d} - \\omega\\right)}$"
      ],
      "text/plain": [
       "<IPython.core.display.Math object>"
      ]
     },
     "metadata": {},
     "output_type": "display_data"
    },
    {
     "data": {
      "text/latex": [
       "$\\displaystyle \\sigma_{2} : - \\frac{E_{0} g \\omega_{z} \\sin{\\left(\\omega_{d} t \\right)}}{\\left(\\omega - \\omega_{z}\\right) \\left(\\omega + \\omega_{z}\\right)}$"
      ],
      "text/plain": [
       "<IPython.core.display.Math object>"
      ]
     },
     "metadata": {},
     "output_type": "display_data"
    },
    {
     "data": {
      "text/latex": [
       "$\\displaystyle \\sigma_{3} : - \\frac{\\omega_{z} \\left(2 g^{2} - \\omega^{2} + \\omega_{z}^{2}\\right)}{2 \\left(\\omega - \\omega_{z}\\right) \\left(\\omega + \\omega_{z}\\right)}$"
      ],
      "text/plain": [
       "<IPython.core.display.Math object>"
      ]
     },
     "metadata": {},
     "output_type": "display_data"
    }
   ],
   "source": [
    "V1 = Eff_frame._EffectiveFrame__Vs[1]apply_commutation_relations((V1*S1 - S1*V1 - I * hbar *sp.Rational(1,2) * (dtS1 * S1 - S1 * dtS1)), Eff_frame.commutation_relations).simplify()\n",
    "final += (apply_commutation_relations(sp.Rational(1,2) * (comm_h0_s1 * S1 - S1 * comm_h0_s1), Eff_frame.commutation_relations).simplify()).expr[2].fn\n",
    "\n",
    "res = Spin.project(final)\n",
    "res = group_by_operators(res)\n",
    "res = {key: sp.expand_complex(sp.simplify(val)).trigsimp().factor() for key, val in res.items()}\n",
    "display_dict(res)"
   ]
  },
  {
   "cell_type": "code",
   "execution_count": 23,
   "metadata": {},
   "outputs": [
    {
     "data": {
      "text/latex": [
       "$\\left[\\begin{matrix}\\frac{2 g^{2} \\omega_{z}}{\\left(- \\omega - \\omega_{z}\\right) \\left(- \\omega + \\omega_{z}\\right)} & 0\\\\0 & - \\frac{2 g^{2} \\omega_{z}}{\\left(- \\omega - \\omega_{z}\\right) \\left(- \\omega + \\omega_{z}\\right)}\\end{matrix}\\right]  \\cdot {a}^{2} + \\left[\\begin{matrix}- \\frac{2 g^{2} \\omega}{\\left(- \\omega + \\omega_{z}\\right) \\left(\\omega - \\omega_{z}\\right)} + \\frac{2 g^{2} \\omega}{\\left(- \\omega - \\omega_{z}\\right) \\left(\\omega + \\omega_{z}\\right)} + \\frac{2 g^{2} \\omega_{z}}{\\left(- \\omega + \\omega_{z}\\right) \\left(\\omega - \\omega_{z}\\right)} + \\frac{2 g^{2} \\omega_{z}}{\\left(- \\omega - \\omega_{z}\\right) \\left(\\omega + \\omega_{z}\\right)} & 0\\\\0 & \\frac{2 g^{2} \\omega}{\\left(- \\omega + \\omega_{z}\\right) \\left(\\omega - \\omega_{z}\\right)} - \\frac{2 g^{2} \\omega}{\\left(- \\omega - \\omega_{z}\\right) \\left(\\omega + \\omega_{z}\\right)} - \\frac{2 g^{2} \\omega_{z}}{\\left(- \\omega + \\omega_{z}\\right) \\left(\\omega - \\omega_{z}\\right)} - \\frac{2 g^{2} \\omega_{z}}{\\left(- \\omega - \\omega_{z}\\right) \\left(\\omega + \\omega_{z}\\right)}\\end{matrix}\\right]  \\cdot {{a}^\\dagger} {a} + \\left[\\begin{matrix}- \\frac{2 E_{0}^{2} \\omega}{\\left(- \\hbar \\omega_{d} + \\omega\\right) \\left(\\hbar \\omega_{d} - \\omega\\right)} - \\frac{2 g^{2} \\omega}{\\left(- \\omega + \\omega_{z}\\right) \\left(\\omega - \\omega_{z}\\right)} + \\frac{2 g^{2} \\omega_{z}}{\\left(- \\omega + \\omega_{z}\\right) \\left(\\omega - \\omega_{z}\\right)} & - \\frac{2 E_{0} g \\omega e^{i \\omega_{d} t}}{\\left(\\omega + \\omega_{z}\\right) \\left(\\hbar \\omega_{d} - \\omega\\right)} - \\frac{2 E_{0} g \\omega e^{- i \\omega_{d} t}}{\\left(- \\omega + \\omega_{z}\\right) \\left(- \\hbar \\omega_{d} + \\omega\\right)} - \\frac{E_{0} g \\omega_{z} e^{i \\omega_{d} t}}{\\left(\\omega + \\omega_{z}\\right) \\left(\\hbar \\omega_{d} - \\omega\\right)} + \\frac{E_{0} g \\omega_{z} e^{- i \\omega_{d} t}}{\\left(- \\omega + \\omega_{z}\\right) \\left(- \\hbar \\omega_{d} + \\omega\\right)}\\\\- \\frac{2 E_{0} g \\omega e^{i \\omega_{d} t}}{\\left(\\omega - \\omega_{z}\\right) \\left(\\hbar \\omega_{d} - \\omega\\right)} - \\frac{2 E_{0} g \\omega e^{- i \\omega_{d} t}}{\\left(- \\omega - \\omega_{z}\\right) \\left(- \\hbar \\omega_{d} + \\omega\\right)} + \\frac{E_{0} g \\omega_{z} e^{i \\omega_{d} t}}{\\left(\\omega - \\omega_{z}\\right) \\left(\\hbar \\omega_{d} - \\omega\\right)} - \\frac{E_{0} g \\omega_{z} e^{- i \\omega_{d} t}}{\\left(- \\omega - \\omega_{z}\\right) \\left(- \\hbar \\omega_{d} + \\omega\\right)} & - \\frac{2 E_{0}^{2} \\omega}{\\left(- \\hbar \\omega_{d} + \\omega\\right) \\left(\\hbar \\omega_{d} - \\omega\\right)} - \\frac{2 g^{2} \\omega}{\\left(- \\omega - \\omega_{z}\\right) \\left(\\omega + \\omega_{z}\\right)} - \\frac{2 g^{2} \\omega_{z}}{\\left(- \\omega - \\omega_{z}\\right) \\left(\\omega + \\omega_{z}\\right)}\\end{matrix}\\right]  \\cdot 1 + \\left[\\begin{matrix}\\frac{2 g^{2} \\omega_{z}}{\\left(\\omega - \\omega_{z}\\right) \\left(\\omega + \\omega_{z}\\right)} & 0\\\\0 & - \\frac{2 g^{2} \\omega_{z}}{\\left(\\omega - \\omega_{z}\\right) \\left(\\omega + \\omega_{z}\\right)}\\end{matrix}\\right]  \\cdot {{a}^\\dagger}^{2}$"
      ],
      "text/plain": [
       "<PySW.classes.Expression at 0x707065f8a5d0>"
      ]
     },
     "execution_count": 23,
     "metadata": {},
     "output_type": "execute_result"
    }
   ],
   "source": [
    "apply_commutation_relations((comm_h0_s1 * S1 - S1 * comm_h0_s1), Eff_frame.commutation_relations).simplify()"
   ]
  },
  {
   "cell_type": "code",
   "execution_count": 24,
   "metadata": {},
   "outputs": [
    {
     "data": {
      "text/latex": [
       "$\\left[\\begin{matrix}\\frac{g^{2}}{- \\omega + \\omega_{z}} - \\frac{g^{2}}{- \\omega - \\omega_{z}} & 0\\\\0 & - \\frac{g^{2}}{- \\omega + \\omega_{z}} + \\frac{g^{2}}{- \\omega - \\omega_{z}}\\end{matrix}\\right]  \\cdot {a}^{2} + \\left[\\begin{matrix}\\frac{g^{2}}{\\omega + \\omega_{z}} - \\frac{g^{2}}{\\omega - \\omega_{z}} + \\frac{g^{2}}{- \\omega + \\omega_{z}} - \\frac{g^{2}}{- \\omega - \\omega_{z}} & 0\\\\0 & - \\frac{g^{2}}{\\omega + \\omega_{z}} + \\frac{g^{2}}{\\omega - \\omega_{z}} - \\frac{g^{2}}{- \\omega + \\omega_{z}} + \\frac{g^{2}}{- \\omega - \\omega_{z}}\\end{matrix}\\right]  \\cdot {{a}^\\dagger} {a} + \\left[\\begin{matrix}\\frac{E_{0}^{2} \\hbar \\omega_{d}}{\\left(- \\hbar \\omega_{d} + \\omega\\right) \\left(\\hbar \\omega_{d} - \\omega\\right)} + \\frac{E_{0}^{2}}{\\hbar \\omega_{d} - \\omega} - \\frac{E_{0}^{2}}{- \\hbar \\omega_{d} + \\omega} - \\frac{g^{2}}{\\omega - \\omega_{z}} + \\frac{g^{2}}{- \\omega + \\omega_{z}} & \\frac{E_{0} g \\hbar \\omega_{d} e^{i \\omega_{d} t}}{2 \\left(\\omega + \\omega_{z}\\right) \\left(\\hbar \\omega_{d} - \\omega\\right)} + \\frac{E_{0} g \\hbar \\omega_{d} e^{- i \\omega_{d} t}}{2 \\left(- \\omega + \\omega_{z}\\right) \\left(- \\hbar \\omega_{d} + \\omega\\right)} + \\frac{E_{0} g e^{i \\omega_{d} t}}{\\hbar \\omega_{d} - \\omega} - \\frac{E_{0} g e^{- i \\omega_{d} t}}{- \\hbar \\omega_{d} + \\omega} - \\frac{E_{0} g e^{i \\omega_{d} t}}{\\omega + \\omega_{z}} + \\frac{E_{0} g e^{- i \\omega_{d} t}}{- \\omega + \\omega_{z}}\\\\\\frac{E_{0} g \\hbar \\omega_{d} e^{i \\omega_{d} t}}{2 \\left(\\omega - \\omega_{z}\\right) \\left(\\hbar \\omega_{d} - \\omega\\right)} + \\frac{E_{0} g \\hbar \\omega_{d} e^{- i \\omega_{d} t}}{2 \\left(- \\omega - \\omega_{z}\\right) \\left(- \\hbar \\omega_{d} + \\omega\\right)} + \\frac{E_{0} g e^{i \\omega_{d} t}}{\\hbar \\omega_{d} - \\omega} - \\frac{E_{0} g e^{- i \\omega_{d} t}}{- \\hbar \\omega_{d} + \\omega} - \\frac{E_{0} g e^{i \\omega_{d} t}}{\\omega - \\omega_{z}} + \\frac{E_{0} g e^{- i \\omega_{d} t}}{- \\omega - \\omega_{z}} & \\frac{E_{0}^{2} \\hbar \\omega_{d}}{\\left(- \\hbar \\omega_{d} + \\omega\\right) \\left(\\hbar \\omega_{d} - \\omega\\right)} + \\frac{E_{0}^{2}}{\\hbar \\omega_{d} - \\omega} - \\frac{E_{0}^{2}}{- \\hbar \\omega_{d} + \\omega} - \\frac{g^{2}}{\\omega + \\omega_{z}} + \\frac{g^{2}}{- \\omega - \\omega_{z}}\\end{matrix}\\right]  \\cdot 1 + \\left[\\begin{matrix}\\frac{g^{2}}{\\omega + \\omega_{z}} - \\frac{g^{2}}{\\omega - \\omega_{z}} & 0\\\\0 & - \\frac{g^{2}}{\\omega + \\omega_{z}} + \\frac{g^{2}}{\\omega - \\omega_{z}}\\end{matrix}\\right]  \\cdot {{a}^\\dagger}^{2}$"
      ],
      "text/plain": [
       "<PySW.classes.Expression at 0x707065f8b6b0>"
      ]
     },
     "execution_count": 24,
     "metadata": {},
     "output_type": "execute_result"
    }
   ],
   "source": [
    "apply_commutation_relations((V1*S1 - S1*V1 - I * hbar *sp.Rational(1,2) * (dtS1 * S1 - S1 * dtS1)), Eff_frame.commutation_relations).simplify()"
   ]
  }
 ],
 "metadata": {
  "kernelspec": {
   "display_name": "pysw",
   "language": "python",
   "name": "python3"
  },
  "language_info": {
   "codemirror_mode": {
    "name": "ipython",
    "version": 3
   },
   "file_extension": ".py",
   "mimetype": "text/x-python",
   "name": "python",
   "nbconvert_exporter": "python",
   "pygments_lexer": "ipython3",
   "version": "3.13.0"
  }
 },
 "nbformat": 4,
 "nbformat_minor": 2
}
