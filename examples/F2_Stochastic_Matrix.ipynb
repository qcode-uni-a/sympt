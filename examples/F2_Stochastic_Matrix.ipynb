{
 "cells": [
  {
   "cell_type": "code",
   "execution_count": 1,
   "id": "aa882a4e-a547-4f60-b250-e76c64a0fe43",
   "metadata": {},
   "outputs": [],
   "source": [
    "from SymPT import RDSymbol, BosonOp, RDBasis, EffectiveFrame, Dagger, Block, display_dict\n",
    "import sympy as sp\n",
    "import numpy as np\n",
    "import matplotlib.pyplot as plt\n",
    "from tqdm import tqdm"
   ]
  },
  {
   "cell_type": "code",
   "execution_count": 2,
   "id": "72940cae-d662-469a-ba46-7836020a7def",
   "metadata": {},
   "outputs": [],
   "source": [
    "#plt.style.use(\"classic\")\n",
    "cmap = plt.get_cmap('inferno')\n",
    "plt.rc('text', usetex = True)\n",
    "plt.rc('font', family = 'serif', weight = 'normal')\n",
    "plt.rc('font', size = 18)\n",
    "color_list = [cmap(i) for i in np.linspace(0, 1, 16)]\n",
    "fntsize = 20\n",
    "dir_images = \"graphs/\""
   ]
  },
  {
   "cell_type": "markdown",
   "id": "ef4348f7-2dd2-4aa8-9aef-7b5c410f5b2f",
   "metadata": {},
   "source": [
    "# SymPT Mask"
   ]
  },
  {
   "cell_type": "code",
   "execution_count": 3,
   "id": "0c132d6d-d7d4-4a56-b563-609175698744",
   "metadata": {},
   "outputs": [],
   "source": [
    "def letter(num):\n",
    "    # Define the patterns for each letter\n",
    "    patterns = {\n",
    "        0: np.array([\n",
    "            [1, 1, 1],\n",
    "            [1, 0, 0],\n",
    "            [1, 1, 1],\n",
    "            [0, 0, 1],\n",
    "            [1, 1, 1]\n",
    "        ]),  # Capital \"S\"\n",
    "        1: np.array([\n",
    "            [0, 0, 0, 0],\n",
    "            [1, 0, 0, 1],\n",
    "            [0, 1, 1, 1],\n",
    "            [0, 0, 0, 1],\n",
    "            [1, 1, 1, 1]\n",
    "        ]),  # Lowercase \"y\"\n",
    "       2: np.array([\n",
    "            [0, 0, 0, 0, 0],\n",
    "            [1, 0, 0, 0, 1],\n",
    "            [1, 1, 0, 1, 1],\n",
    "            [1, 0, 1, 0, 1],\n",
    "            [1, 0, 0, 0, 1]\n",
    "        ]), # Lowercase \"m\"\n",
    "        3: np.array([\n",
    "            [1, 1, 1],\n",
    "            [1, 0, 1],\n",
    "            [1, 1, 1],\n",
    "            [1, 0, 0],\n",
    "            [1, 0, 0]\n",
    "        ]),  # Capital \"P\"\n",
    "        4: np.array([\n",
    "            [1, 1, 1],\n",
    "            [0, 1, 0],\n",
    "            [0, 1, 0],\n",
    "            [0, 1, 0],\n",
    "            [0, 1, 0]\n",
    "        ]),  # Capital \"T\"\n",
    "        }\n",
    "\n",
    "    # Return the correct pattern or raise an error if the input is invalid\n",
    "    if num in patterns:\n",
    "        return patterns[num]\n",
    "    else:\n",
    "        raise ValueError(\"Input must be a number from 0 to 3.\")\n",
    "space = np.zeros((5,1))\n",
    "zero_b = np.zeros((5,5)) \n",
    "last_pad = np.zeros((12,37))"
   ]
  },
  {
   "cell_type": "code",
   "execution_count": 4,
   "id": "bdb99a3d-f723-4e1d-8414-7e6afa4d3b16",
   "metadata": {},
   "outputs": [
    {
     "data": {
      "text/plain": [
       "(37, 37)"
      ]
     },
     "execution_count": 4,
     "metadata": {},
     "output_type": "execute_result"
    },
    {
     "data": {
      "image/png": "[encoded data removed]",
      "text/plain": [
       "<Figure size 640x480 with 1 Axes>"
      ]
     },
     "metadata": {},
     "output_type": "display_data"
    }
   ],
   "source": [
    "SymPT = np.block(\n",
    "    [\n",
    "        [zero_b, zero_b, zero_b, zero_b, zero_b, zero_b, space, space, space, space, space, space, space],\n",
    "        [zero_b, zero_b, zero_b, letter(0),space,letter(1),space,letter(2),space,letter(3),space,letter(4)], \n",
    "        [zero_b, zero_b, zero_b, zero_b, zero_b, zero_b, space, space, space, space, space, space, space],\n",
    "        [zero_b, zero_b, zero_b, zero_b, zero_b, zero_b, space, space, space, space, space, space, space],\n",
    "        [zero_b, zero_b, zero_b, zero_b, zero_b, zero_b, space, space, space, space, space, space, space],\n",
    "        [last_pad]\n",
    "    ]\n",
    ")\n",
    "SymPT = SymPT + SymPT.T\n",
    "mask = Block(SymPT)\n",
    "plt.imshow(SymPT)\n",
    "SymPT.shape"
   ]
  },
  {
   "cell_type": "markdown",
   "id": "5aed04d4-4d1d-4bad-ba3e-36044a74ec03",
   "metadata": {},
   "source": [
    "# Hamiltonian"
   ]
  },
  {
   "cell_type": "code",
   "execution_count": 5,
   "id": "0bdb5fec-4c4c-4227-8bcc-7dcb7454456d",
   "metadata": {},
   "outputs": [],
   "source": [
    "I = SymPT.shape[0]\n",
    "J = SymPT.shape[1]\n",
    "lambdas = [RDSymbol(f\"\\\\lambda_{i}\", order = 1, real = True) for i in range(int((I**2 -I))//2)]\n",
    "omegas = [RDSymbol(f\"\\\\omega_{i}\", order = 0, real = True) for i in range(I)]\n",
    "\n",
    "\n",
    "finite = RDBasis(\"f\", I)\n",
    "\n",
    "H = sp.zeros(I, J)\n",
    "lambda_index = 0\n",
    "for i in range(I):\n",
    "    for j in range(i, J):  # Loop only over upper triangular part (including diagonal)\n",
    "        if i == j:\n",
    "            H[i, j] = omegas[i]  # Diagonal elements\n",
    "        else:\n",
    "            H[i, j] = lambdas[lambda_index]\n",
    "            H[j, i] = lambdas[lambda_index]  # Ensure symmetry\n",
    "            lambda_index += 1"
   ]
  },
  {
   "cell_type": "code",
   "execution_count": 6,
   "id": "6a46c876-a2ce-40bd-9ac9-12f31513fe64",
   "metadata": {},
   "outputs": [],
   "source": [
    "def substitution_rules(I, J):\n",
    "    \n",
    "    omega_values = np.sort([np.random.uniform(-10, 10) for _ in range(I)])  \n",
    "    substitution_dict = {omegas[i]: omega_values[i] for i in range(I)}\n",
    "    substitution_omegas = {omegas[i]: omega_values[i] for i in range(I)}\n",
    "\n",
    "    lambda_index = 0\n",
    "    for i in range(I):\n",
    "        for j in range(i+1, J):  # Iterate only over the upper triangular part\n",
    "            bound = 0.1 * abs(omega_values[i] - omega_values[j])            \n",
    "            lambda_value = bound # np.random.uniform(-bound, bound)            \n",
    "            substitution_dict[lambdas[lambda_index]] = lambda_value \n",
    "            lambda_index += 1\n",
    "            \n",
    "    return substitution_dict, substitution_omegas\n",
    "values, omegas = substitution_rules(I,J)"
   ]
  },
  {
   "cell_type": "code",
   "execution_count": 7,
   "id": "b5c5b2ae-0740-456b-921d-4ff40277eba0",
   "metadata": {},
   "outputs": [
    {
     "name": "stdout",
     "output_type": "stream",
     "text": [
      "Creating the EffectiveFrame object with matrix form.\n",
      "The EffectiveFrame object has been initialized successfully.\n",
      "\n",
      "Effective Frame\n",
      "\n",
      "╭────────┬────────┬─────────────╮\n",
      "│  Name  │  Type  │  Dimension  │\n",
      "├────────┼────────┼─────────────┤\n",
      "│   f    │ Finite │    37x37    │\n",
      "╰────────┴────────┴─────────────╯\n",
      "\n",
      "Effective Hamiltonian: \tNot computed yet. To do so, run `solve` method. \n",
      "\n",
      "\n"
     ]
    },
    {
     "name": "stderr",
     "output_type": "stream",
     "text": [
      "Solving for each order:  50%|██████      | 1/2 [00:00<00:00,  3.60it/s]\n"
     ]
    },
    {
     "ename": "AttributeError",
     "evalue": "'ImmutableDenseNDimArray' object has no attribute 'evalf'",
     "output_type": "error",
     "traceback": [
      "\u001b[0;31m---------------------------------------------------------------------------\u001b[0m",
      "\u001b[0;31mAttributeError\u001b[0m                            Traceback (most recent call last)",
      "Cell \u001b[0;32mIn[7], line 3\u001b[0m\n\u001b[1;32m      1\u001b[0m Eff_Frame \u001b[38;5;241m=\u001b[39m EffectiveFrame(H,\u001b[38;5;28;01mNone\u001b[39;00m, subspaces \u001b[38;5;241m=\u001b[39m [finite])\n\u001b[1;32m      2\u001b[0m \u001b[38;5;66;03m# Calculate the effective model using mask up to the second order\u001b[39;00m\n\u001b[0;32m----> 3\u001b[0m \u001b[43mEff_Frame\u001b[49m\u001b[38;5;241;43m.\u001b[39;49m\u001b[43msolve\u001b[49m\u001b[43m(\u001b[49m\u001b[43mmax_order\u001b[49m\u001b[38;5;241;43m=\u001b[39;49m\u001b[38;5;241;43m2\u001b[39;49m\u001b[43m,\u001b[49m\u001b[43m \u001b[49m\u001b[43mfull_diagonalization\u001b[49m\u001b[38;5;241;43m=\u001b[39;49m\u001b[38;5;28;43;01mFalse\u001b[39;49;00m\u001b[43m,\u001b[49m\u001b[43m \u001b[49m\u001b[43mmask\u001b[49m\u001b[38;5;241;43m=\u001b[39;49m\u001b[43mmask\u001b[49m\u001b[43m)\u001b[49m\n\u001b[1;32m      4\u001b[0m \u001b[38;5;66;03m# Obtaining the result in the matrix form\u001b[39;00m\n\u001b[1;32m      5\u001b[0m result \u001b[38;5;241m=\u001b[39m H_eff\u001b[38;5;241m.\u001b[39mget_H(return_form \u001b[38;5;241m=\u001b[39m \u001b[38;5;124m\"\u001b[39m\u001b[38;5;124mmatrix\u001b[39m\u001b[38;5;124m\"\u001b[39m)\n",
      "File \u001b[0;32m~/miniconda3/envs/sympt/lib/python3.9/site-packages/SymPT/solver.py:453\u001b[0m, in \u001b[0;36mEffectiveFrame.solve\u001b[0;34m(self, max_order, full_diagonalization, mask)\u001b[0m\n\u001b[1;32m    448\u001b[0m             Hs_final[order] \u001b[38;5;241m=\u001b[39m (Hs_final\u001b[38;5;241m.\u001b[39mget(order, Expression()) \u001b[38;5;241m-\u001b[39m I \u001b[38;5;241m*\u001b[39m hbar \u001b[38;5;241m*\u001b[39m nest_commute(key, \u001b[38;5;241m2\u001b[39m) \u001b[38;5;241m*\u001b[39m factorials[nestedness \u001b[38;5;241m+\u001b[39m \u001b[38;5;241m1\u001b[39m])\u001b[38;5;241m.\u001b[39msimplify()\n\u001b[1;32m    450\u001b[0m \u001b[38;5;66;03m# If the full diagonalization or mask routine is used\u001b[39;00m\n\u001b[1;32m    451\u001b[0m \u001b[38;5;28;01melse\u001b[39;00m:\n\u001b[1;32m    452\u001b[0m     \u001b[38;5;66;03m# Compute the nested commutator for the full diagonalization or mask routine\u001b[39;00m\n\u001b[0;32m--> 453\u001b[0m     new_commutator_odd \u001b[38;5;241m=\u001b[39m \u001b[43mnest_commute\u001b[49m\u001b[43m(\u001b[49m\n\u001b[1;32m    454\u001b[0m \u001b[43m        \u001b[49m\u001b[43mkey\u001b[49m\u001b[43m,\u001b[49m\u001b[43m \u001b[49m\u001b[38;5;129;43;01mnot\u001b[39;49;00m\u001b[43m \u001b[49m\u001b[43mis_nestedness_even\u001b[49m\u001b[43m)\u001b[49m \u001b[38;5;241m*\u001b[39m factorials[nestedness]\n\u001b[1;32m    455\u001b[0m     \u001b[38;5;66;03m# Compute the nested commutator for the full diagonalization or mask routine\u001b[39;00m\n\u001b[1;32m    456\u001b[0m     new_commutator_even \u001b[38;5;241m=\u001b[39m nest_commute(\n\u001b[1;32m    457\u001b[0m         key, is_nestedness_even) \u001b[38;5;241m*\u001b[39m factorials[nestedness]\n",
      "File \u001b[0;32m~/miniconda3/envs/sympt/lib/python3.9/site-packages/SymPT/utils.py:707\u001b[0m, in \u001b[0;36mmemoized.__call__\u001b[0;34m(self, *args)\u001b[0m\n\u001b[1;32m    705\u001b[0m     \u001b[38;5;28;01mreturn\u001b[39;00m value\n\u001b[1;32m    706\u001b[0m \u001b[38;5;28;01melse\u001b[39;00m:\n\u001b[0;32m--> 707\u001b[0m     value \u001b[38;5;241m=\u001b[39m \u001b[38;5;28;43mself\u001b[39;49m\u001b[38;5;241;43m.\u001b[39;49m\u001b[43mfunc\u001b[49m\u001b[43m(\u001b[49m\u001b[38;5;241;43m*\u001b[39;49m\u001b[43margs\u001b[49m\u001b[43m)\u001b[49m\n\u001b[1;32m    708\u001b[0m     \u001b[38;5;28mself\u001b[39m\u001b[38;5;241m.\u001b[39mcache[args] \u001b[38;5;241m=\u001b[39m value\n\u001b[1;32m    709\u001b[0m     \u001b[38;5;28;01mreturn\u001b[39;00m value\n",
      "File \u001b[0;32m~/miniconda3/envs/sympt/lib/python3.9/site-packages/SymPT/solver.py:402\u001b[0m, in \u001b[0;36mEffectiveFrame.solve.<locals>.nest_commute\u001b[0;34m(parts, Os_index)\u001b[0m\n\u001b[1;32m    400\u001b[0m \u001b[38;5;28;01mif\u001b[39;00m \u001b[38;5;28mlen\u001b[39m(parts) \u001b[38;5;241m==\u001b[39m \u001b[38;5;241m2\u001b[39m:\n\u001b[1;32m    401\u001b[0m     Os \u001b[38;5;241m=\u001b[39m Os_dicts[Os_index]\n\u001b[0;32m--> 402\u001b[0m     \u001b[38;5;28;01mreturn\u001b[39;00m \u001b[43mcommutator\u001b[49m\u001b[43m(\u001b[49m\u001b[43mOs\u001b[49m\u001b[38;5;241;43m.\u001b[39;49m\u001b[43mget\u001b[49m\u001b[43m(\u001b[49m\u001b[43mparts\u001b[49m\u001b[43m[\u001b[49m\u001b[38;5;241;43m0\u001b[39;49m\u001b[43m]\u001b[49m\u001b[43m,\u001b[49m\u001b[43m \u001b[49m\u001b[38;5;241;43m0\u001b[39;49m\u001b[43m)\u001b[49m\u001b[43m,\u001b[49m\u001b[43m \u001b[49m\u001b[43mSs\u001b[49m\u001b[43m[\u001b[49m\u001b[43mparts\u001b[49m\u001b[43m[\u001b[49m\u001b[38;5;241;43m1\u001b[39;49m\u001b[43m]\u001b[49m\u001b[43m]\u001b[49m\u001b[43m)\u001b[49m\n\u001b[1;32m    403\u001b[0m \u001b[38;5;28;01mreturn\u001b[39;00m commutator(nest_commute(parts[:\u001b[38;5;241m-\u001b[39m\u001b[38;5;241m1\u001b[39m], Os_index), Ss[parts[\u001b[38;5;241m-\u001b[39m\u001b[38;5;241m1\u001b[39m]])\n",
      "File \u001b[0;32m~/miniconda3/envs/sympt/lib/python3.9/site-packages/SymPT/utils.py:756\u001b[0m, in \u001b[0;36mcommutator\u001b[0;34m(A, B)\u001b[0m\n\u001b[1;32m    740\u001b[0m \u001b[38;5;28;01mdef\u001b[39;00m \u001b[38;5;21mcommutator\u001b[39m(A: Union[MulGroup, Expression], B: Union[MulGroup, Expression]) \u001b[38;5;241m-\u001b[39m\u001b[38;5;241m>\u001b[39m Expression:\n\u001b[1;32m    741\u001b[0m \u001b[38;5;250m    \u001b[39m\u001b[38;5;124;03m\"\"\"\u001b[39;00m\n\u001b[1;32m    742\u001b[0m \u001b[38;5;124;03m    Computes the commutator of two operators A and B.\u001b[39;00m\n\u001b[1;32m    743\u001b[0m \n\u001b[0;32m   (...)\u001b[0m\n\u001b[1;32m    754\u001b[0m \u001b[38;5;124;03m        The resulting commutator.\u001b[39;00m\n\u001b[1;32m    755\u001b[0m \u001b[38;5;124;03m    \"\"\"\u001b[39;00m\n\u001b[0;32m--> 756\u001b[0m     \u001b[38;5;28;01mreturn\u001b[39;00m (\u001b[43mA\u001b[49m\u001b[43m \u001b[49m\u001b[38;5;241;43m*\u001b[39;49m\u001b[43m \u001b[49m\u001b[43mB\u001b[49m \u001b[38;5;241m-\u001b[39m B \u001b[38;5;241m*\u001b[39m A)\u001b[38;5;241m.\u001b[39msimplify()\n",
      "File \u001b[0;32m~/miniconda3/envs/sympt/lib/python3.9/site-packages/SymPT/classes.py:704\u001b[0m, in \u001b[0;36mExpression.__mul__\u001b[0;34m(self, other)\u001b[0m\n\u001b[1;32m    684\u001b[0m \u001b[38;5;250m\u001b[39m\u001b[38;5;124;03m\"\"\"\u001b[39;00m\n\u001b[1;32m    685\u001b[0m \u001b[38;5;124;03mMultiplies this expression with another `Expression` or a term\u001b[39;00m\n\u001b[1;32m    686\u001b[0m \n\u001b[0;32m   (...)\u001b[0m\n\u001b[1;32m    700\u001b[0m \u001b[38;5;124;03mvalue for multiplication.\u001b[39;00m\n\u001b[1;32m    701\u001b[0m \u001b[38;5;124;03m\"\"\"\u001b[39;00m\n\u001b[1;32m    702\u001b[0m \u001b[38;5;28;01mif\u001b[39;00m \u001b[38;5;28misinstance\u001b[39m(other, Expression):\n\u001b[1;32m    703\u001b[0m     result_expression \u001b[38;5;241m=\u001b[39m (\n\u001b[0;32m--> 704\u001b[0m         \u001b[38;5;28;43mself\u001b[39;49m\u001b[38;5;241;43m.\u001b[39;49m\u001b[43mexpr\u001b[49m\u001b[43m[\u001b[49m\u001b[38;5;28;43;01mNone\u001b[39;49;00m\u001b[43m,\u001b[49m\u001b[43m \u001b[49m\u001b[43m:\u001b[49m\u001b[43m]\u001b[49m\u001b[43m \u001b[49m\u001b[38;5;241;43m*\u001b[39;49m\u001b[43m \u001b[49m\u001b[43mother\u001b[49m\u001b[38;5;241;43m.\u001b[39;49m\u001b[43mexpr\u001b[49m\u001b[43m[\u001b[49m\u001b[43m:\u001b[49m\u001b[43m,\u001b[49m\u001b[43m \u001b[49m\u001b[38;5;28;43;01mNone\u001b[39;49;00m\u001b[43m]\u001b[49m)\u001b[38;5;241m.\u001b[39mflatten()\n\u001b[1;32m    705\u001b[0m     \u001b[38;5;28;01mreturn\u001b[39;00m Expression(result_expression)\n\u001b[1;32m    706\u001b[0m \u001b[38;5;28;01mreturn\u001b[39;00m Expression(\u001b[38;5;28mself\u001b[39m\u001b[38;5;241m.\u001b[39mexpr \u001b[38;5;241m*\u001b[39m other)\n",
      "File \u001b[0;32m~/miniconda3/envs/sympt/lib/python3.9/site-packages/SymPT/classes.py:917\u001b[0m, in \u001b[0;36mMulGroup.__mul__\u001b[0;34m(self, other)\u001b[0m\n\u001b[1;32m    915\u001b[0m mul_inf \u001b[38;5;241m=\u001b[39m \u001b[38;5;28mself\u001b[39m\u001b[38;5;241m.\u001b[39minf \u001b[38;5;241m*\u001b[39m other\u001b[38;5;241m.\u001b[39minf\n\u001b[1;32m    916\u001b[0m \u001b[38;5;66;03m# Create a dictionary for replacing the number operators with the shifted values.\u001b[39;00m\n\u001b[0;32m--> 917\u001b[0m subs_dict \u001b[38;5;241m=\u001b[39m \u001b[38;5;28mdict\u001b[39m(\u001b[38;5;28mzip\u001b[39m(\u001b[38;5;28mself\u001b[39m\u001b[38;5;241m.\u001b[39mNs, \u001b[43mnsimplify\u001b[49m\u001b[43m(\u001b[49m\u001b[38;5;28;43mself\u001b[39;49m\u001b[38;5;241;43m.\u001b[39;49m\u001b[43mNs\u001b[49m\u001b[43m \u001b[49m\u001b[38;5;241;43m-\u001b[39;49m\u001b[43m \u001b[49m\u001b[38;5;28;43mself\u001b[39;49m\u001b[38;5;241;43m.\u001b[39;49m\u001b[43mdelta\u001b[49m\u001b[43m)\u001b[49m))\n\u001b[1;32m    918\u001b[0m mul_fn \u001b[38;5;241m=\u001b[39m \u001b[38;5;28mself\u001b[39m\u001b[38;5;241m.\u001b[39mfn \u001b[38;5;241m*\u001b[39m other\u001b[38;5;241m.\u001b[39mfn\u001b[38;5;241m.\u001b[39msubs(subs_dict)\n\u001b[1;32m    919\u001b[0m \u001b[38;5;28;01mreturn\u001b[39;00m MulGroup(mul_fn, mul_inf, \u001b[38;5;28mself\u001b[39m\u001b[38;5;241m.\u001b[39mdelta \u001b[38;5;241m+\u001b[39m other\u001b[38;5;241m.\u001b[39mdelta, \u001b[38;5;28mself\u001b[39m\u001b[38;5;241m.\u001b[39mNs)\n",
      "File \u001b[0;32m~/miniconda3/envs/sympt/lib/python3.9/site-packages/sympy/simplify/simplify.py:1468\u001b[0m, in \u001b[0;36mnsimplify\u001b[0;34m(expr, constants, tolerance, full, rational, rational_conversion)\u001b[0m\n\u001b[1;32m   1465\u001b[0m         \u001b[38;5;28;01mraise\u001b[39;00m \u001b[38;5;167;01mValueError\u001b[39;00m(\u001b[38;5;124m\"\u001b[39m\u001b[38;5;124mconstants must be real-valued\u001b[39m\u001b[38;5;124m\"\u001b[39m)\n\u001b[1;32m   1466\u001b[0m     constants_dict[\u001b[38;5;28mstr\u001b[39m(constant)] \u001b[38;5;241m=\u001b[39m v\u001b[38;5;241m.\u001b[39m_to_mpmath(bprec)\n\u001b[0;32m-> 1468\u001b[0m exprval \u001b[38;5;241m=\u001b[39m \u001b[43mexpr\u001b[49m\u001b[38;5;241;43m.\u001b[39;49m\u001b[43mevalf\u001b[49m(prec, chop\u001b[38;5;241m=\u001b[39m\u001b[38;5;28;01mTrue\u001b[39;00m)\n\u001b[1;32m   1469\u001b[0m re, im \u001b[38;5;241m=\u001b[39m exprval\u001b[38;5;241m.\u001b[39mas_real_imag()\n\u001b[1;32m   1471\u001b[0m \u001b[38;5;66;03m# safety check to make sure that this evaluated to a number\u001b[39;00m\n",
      "\u001b[0;31mAttributeError\u001b[0m: 'ImmutableDenseNDimArray' object has no attribute 'evalf'"
     ]
    }
   ],
   "source": [
    "Eff_Frame = EffectiveFrame(H,None, subspaces = [finite])\n",
    "# Calculate the effective model using mask up to the second order\n",
    "Eff_Frame.solve(max_order=2, full_diagonalization=False, mask=mask)\n",
    "# Obtaining the result in the matrix form\n",
    "result = H_eff.get_H(return_form = \"matrix\")"
   ]
  },
  {
   "cell_type": "code",
   "execution_count": 29,
   "id": "f1ea7303-2459-40a6-9ac2-07050bffea0e",
   "metadata": {},
   "outputs": [
    {
     "data": {
      "text/plain": [
       "True"
      ]
     },
     "execution_count": 29,
     "metadata": {},
     "output_type": "execute_result"
    }
   ],
   "source": [
    "isinstance(sp.zeros(*H.shape),sp.Matrix)"
   ]
  },
  {
   "cell_type": "markdown",
   "id": "ac1ae91f-4292-4ec6-9e09-4c9c2858b080",
   "metadata": {},
   "source": [
    "# Plotting"
   ]
  },
  {
   "cell_type": "code",
   "execution_count": 15,
   "id": "5ad35868-0eb8-437a-b375-bac257ac92a8",
   "metadata": {},
   "outputs": [
    {
     "ename": "NameError",
     "evalue": "name 'result' is not defined",
     "output_type": "error",
     "traceback": [
      "\u001b[0;31m---------------------------------------------------------------------------\u001b[0m",
      "\u001b[0;31mNameError\u001b[0m                                 Traceback (most recent call last)",
      "Cell \u001b[0;32mIn[15], line 7\u001b[0m\n\u001b[1;32m      4\u001b[0m inputs \u001b[38;5;241m+\u001b[39m\u001b[38;5;241m=\u001b[39m lambdas\n\u001b[1;32m      5\u001b[0m inputs \u001b[38;5;241m=\u001b[39m sp\u001b[38;5;241m.\u001b[39mMatrix(inputs)\n\u001b[0;32m----> 7\u001b[0m fn \u001b[38;5;241m=\u001b[39m sp\u001b[38;5;241m.\u001b[39mlambdify(inputs, \u001b[43mresult\u001b[49m, \u001b[38;5;124m\"\u001b[39m\u001b[38;5;124mnumpy\u001b[39m\u001b[38;5;124m\"\u001b[39m)\n",
      "\u001b[0;31mNameError\u001b[0m: name 'result' is not defined"
     ]
    }
   ],
   "source": [
    "H_subs = H.subs(values)\n",
    "inputs = []\n",
    "inputs += omegas\n",
    "inputs += lambdas\n",
    "inputs = sp.Matrix(inputs)\n",
    "\n",
    "fn = sp.lambdify(inputs, result, \"numpy\")"
   ]
  },
  {
   "cell_type": "code",
   "execution_count": null,
   "id": "73a02a59-a9c3-498e-961f-911fd9078954",
   "metadata": {},
   "outputs": [],
   "source": [
    "vals = inputs.subs(values)\n",
    "substituted = fn(*vals)"
   ]
  },
  {
   "cell_type": "code",
   "execution_count": null,
   "id": "c9c2200c-2e37-47c8-aaf0-4b044a748c9c",
   "metadata": {},
   "outputs": [],
   "source": [
    "diag_idx = np.diag_indices(SymPT.shape[0])\n",
    "substituted = substituted.astype(float)\n",
    "substituted[substituted == 0] = None\n",
    "\n",
    "fig, ax = plt.subplots(dpi = 200)\n",
    "mapp = ax.imshow(substituted, cmap = \"inferno\")\n",
    "fig.colorbar(mapp)\n",
    "#plt.savefig(dir_images+'masked_hamiltonian.pdf',  bbox_inches='tight')"
   ]
  },
  {
   "cell_type": "code",
   "execution_count": null,
   "id": "040fb1cb-e7db-4322-9aa6-0973078533ae",
   "metadata": {},
   "outputs": [],
   "source": [
    "# Error function\n",
    "def error(true_spect, eff_spect):\n",
    "    diff =  eff_spect - true_spect \n",
    "    return np.abs(diff / true_spect)\n",
    "\n",
    "true_spectrum = np.sort(np.array(H.subs(values).diagonalize()[1].diagonal()).astype(float)) # obtaining true spectrum (sorting for correct matching)\n",
    "effe_spectrum = np.sort(fn(*vals)[diag_idx].astype(float)) \n",
    "err_not = error(true_spectrum, np.array(H.diagonal().subs(values)).astype(float))[0] # error of diagonal elements by doing nothing\n",
    "err_eff = error(true_spectrum, effe_spectrum)[0] # error of effective spectrum"
   ]
  },
  {
   "cell_type": "code",
   "execution_count": null,
   "id": "d9365ce4-b091-41ca-a799-a095afc8331f",
   "metadata": {},
   "outputs": [],
   "source": [
    "tmp1 = np.where(SymPT != 0)[0] # getting indices of mask\n",
    "changed_diags = np.array(list(set(tmp1))) # getting indices of decoupled energies\n",
    "\n",
    "fig, ax = plt.subplots(dpi = 200)\n",
    "yes = True\n",
    "for n, error in enumerate(err_not): \n",
    "    #marker = \"o\"\n",
    "    #c = \"k\"\n",
    "    if n in changed_diags: # if plotting decoupled energy\n",
    "        marker = \"o\"\n",
    "        c = \"r\"\n",
    "        ax.scatter(n, error, marker = marker, c = c, s = 30, label = r\"$\\mathrm{Untransformed}$ $\\mathrm{spectrum}$\" if yes else None)\n",
    "        yes = False\n",
    "    else:\n",
    "        pass\n",
    "        #ax.scatter(n, error, marker = marker, c = c, s = 10)\n",
    "yes = True  \n",
    "for n, error in enumerate(err_eff): \n",
    "    #marker = \"D\"\n",
    "    #c = \"k\"\n",
    "    if n in changed_diags: # if plotting decoupled energy\n",
    "        marker = \"o\"\n",
    "        c = \"b\"\n",
    "        scatter = ax.scatter(n, error, marker = marker, c = c, s = 30, label = r\"$\\mathrm{Transformed}$ $\\mathrm{spectrum}$\" if yes else None)\n",
    "        yes = False\n",
    "    else:\n",
    "        #ax.scatter(n, error, marker = marker, c = c, s = 10)\n",
    "        pass\n",
    "ax.legend(fontsize=fntsize*0.8, loc=0)\n",
    "ax.set_xlabel(r\"$\\mathrm{Eigenvalue}$ $\\mathrm{index}$\", fontsize = fntsize)\n",
    "ax.set_ylabel(r\"$\\left|\\frac{E - E_\\mathrm{true}}{E_\\mathrm{true}}\\right|$\", fontsize = fntsize)\n",
    "ax.set_ylim(-0.01,0.3)\n",
    "#fig.savefig(dir_images+'decoupled_energies_error.pdf',  bbox_inches='tight')"
   ]
  }
 ],
 "metadata": {
  "kernelspec": {
   "display_name": "Python 3 (ipykernel)",
   "language": "python",
   "name": "python3"
  },
  "language_info": {
   "codemirror_mode": {
    "name": "ipython",
    "version": 3
   },
   "file_extension": ".py",
   "mimetype": "text/x-python",
   "name": "python",
   "nbconvert_exporter": "python",
   "pygments_lexer": "ipython3",
   "version": "3.9.20"
  }
 },
 "nbformat": 4,
 "nbformat_minor": 5
}
