{
 "cells": [
  {
   "cell_type": "code",
   "execution_count": 1,
   "id": "aa882a4e-a547-4f60-b250-e76c64a0fe43",
   "metadata": {},
   "outputs": [],
   "source": [
    "from SymPT import *\n",
    "import sympy as sp\n",
    "import numpy as np\n",
    "import matplotlib.pyplot as plt\n",
    "from tqdm import tqdm\n",
    "import scipy.linalg as la"
   ]
  },
  {
   "cell_type": "code",
   "execution_count": 11,
   "id": "f826769d-6603-4ee9-82ed-800fa4c43dc1",
   "metadata": {},
   "outputs": [],
   "source": [
    "#plt.style.use(\"classic\")\n",
    "cmap = plt.get_cmap('inferno')\n",
    "plt.rc('text', usetex = True)\n",
    "plt.rc('font', family = 'serif', weight = 'normal')\n",
    "plt.rc('font', size = 18)\n",
    "color_list = [cmap(i) for i in np.linspace(0, 1, 16)]\n",
    "fntsize = 20\n",
    "dir_images = \"graphs/\""
   ]
  },
  {
   "cell_type": "markdown",
   "id": "ef4348f7-2dd2-4aa8-9aef-7b5c410f5b2f",
   "metadata": {},
   "source": [
    "# SymPT Mask"
   ]
  },
  {
   "cell_type": "code",
   "execution_count": 2,
   "id": "0c132d6d-d7d4-4a56-b563-609175698744",
   "metadata": {},
   "outputs": [],
   "source": [
    "def letter(num):\n",
    "    # Define the patterns for each letter\n",
    "    patterns = {\n",
    "        0: np.array([\n",
    "            [1, 1, 1],\n",
    "            [1, 0, 0],\n",
    "            [1, 1, 1],\n",
    "            [0, 0, 1],\n",
    "            [1, 1, 1]\n",
    "        ]),  # Capital \"S\"\n",
    "        1: np.array([\n",
    "            [0, 0, 0, 0],\n",
    "            [1, 0, 0, 1],\n",
    "            [0, 1, 1, 1],\n",
    "            [0, 0, 0, 1],\n",
    "            [1, 1, 1, 1]\n",
    "        ]),  # Lowercase \"y\"\n",
    "       2: np.array([\n",
    "            [0, 0, 0, 0, 0],\n",
    "            [1, 0, 0, 0, 1],\n",
    "            [1, 1, 0, 1, 1],\n",
    "            [1, 0, 1, 0, 1],\n",
    "            [1, 0, 0, 0, 1]\n",
    "        ]), # Lowercase \"m\"\n",
    "        3: np.array([\n",
    "            [1, 1, 1],\n",
    "            [1, 0, 1],\n",
    "            [1, 1, 1],\n",
    "            [1, 0, 0],\n",
    "            [1, 0, 0]\n",
    "        ]),  # Capital \"P\"\n",
    "        4: np.array([\n",
    "            [1, 1, 1],\n",
    "            [0, 1, 0],\n",
    "            [0, 1, 0],\n",
    "            [0, 1, 0],\n",
    "            [0, 1, 0]\n",
    "        ]),  # Capital \"T\"\n",
    "        }\n",
    "\n",
    "    # Return the correct pattern or raise an error if the input is invalid\n",
    "    if num in patterns:\n",
    "        return patterns[num]\n",
    "    else:\n",
    "        raise ValueError(\"Input must be a number from 0 to 3.\")\n",
    "space = np.zeros((5,1))\n",
    "zero_b = np.zeros((5,5)) \n",
    "last_pad = np.zeros((12,37))"
   ]
  },
  {
   "cell_type": "code",
   "execution_count": 3,
   "id": "bdb99a3d-f723-4e1d-8414-7e6afa4d3b16",
   "metadata": {},
   "outputs": [
    {
     "data": {
      "text/plain": [
       "(37, 37)"
      ]
     },
     "execution_count": 3,
     "metadata": {},
     "output_type": "execute_result"
    },
    {
     "data": {
      "image/png": "[encoded data removed]",
      "text/plain": [
       "<Figure size 640x480 with 1 Axes>"
      ]
     },
     "metadata": {},
     "output_type": "display_data"
    }
   ],
   "source": [
    "SymPT = np.block(\n",
    "    [\n",
    "        [zero_b, zero_b, zero_b, zero_b, zero_b, zero_b, space, space, space, space, space, space, space],\n",
    "        [zero_b, zero_b, zero_b, letter(0),space,letter(1),space,letter(2),space,letter(3),space,letter(4)], \n",
    "        [zero_b, zero_b, zero_b, zero_b, zero_b, zero_b, space, space, space, space, space, space, space],\n",
    "        [zero_b, zero_b, zero_b, zero_b, zero_b, zero_b, space, space, space, space, space, space, space],\n",
    "        [zero_b, zero_b, zero_b, zero_b, zero_b, zero_b, space, space, space, space, space, space, space],\n",
    "        [last_pad]\n",
    "    ]\n",
    ")\n",
    "SymPT = SymPT + SymPT.T\n",
    "SymPT = SymPT\n",
    "mask = Block(SymPT)\n",
    "plt.imshow(SymPT)\n",
    "SymPT.shape"
   ]
  },
  {
   "cell_type": "markdown",
   "id": "5aed04d4-4d1d-4bad-ba3e-36044a74ec03",
   "metadata": {},
   "source": [
    "# Hamiltonian"
   ]
  },
  {
   "cell_type": "code",
   "execution_count": 4,
   "id": "0bdb5fec-4c4c-4227-8bcc-7dcb7454456d",
   "metadata": {},
   "outputs": [],
   "source": [
    "I = SymPT.shape[0]\n",
    "J = SymPT.shape[1]\n",
    "lambdas = [RDSymbol(f\"\\\\lambda_{i}\", order = 1, real = True) for i in range(int((I**2 -I))//2)]\n",
    "omegas = [RDSymbol(f\"\\\\omega_{i}\", order = 0, real = True) for i in range(I)]\n",
    "\n",
    "\n",
    "# finite = RDBasis(\"f\", I)\n",
    "\n",
    "H = sp.zeros(I, J)\n",
    "lambda_index = 0\n",
    "for i in range(I):\n",
    "    for j in range(i, J):  # Loop only over upper triangular part (including diagonal)\n",
    "        if i == j:\n",
    "            H[i, j] = omegas[i]  # Diagonal elements\n",
    "        else:\n",
    "            H[i, j] = lambdas[lambda_index]\n",
    "            H[j, i] = lambdas[lambda_index]  # Ensure symmetry\n",
    "            lambda_index += 1"
   ]
  },
  {
   "cell_type": "code",
   "execution_count": 5,
   "id": "6a46c876-a2ce-40bd-9ac9-12f31513fe64",
   "metadata": {},
   "outputs": [],
   "source": [
    "def substitution_rules(I, J):\n",
    "    \"\"\"Returns 2 dictionaries containing substitution rules for H\"\"\"\n",
    "    omega_values = np.sort([np.random.uniform(-10, 10) for _ in range(I)])  \n",
    "    substitution_dict = {omegas[i]: omega_values[i] for i in range(I)}\n",
    "    substitution_omegas = {omegas[i]: omega_values[i] for i in range(I)}\n",
    "\n",
    "    lambda_index = 0\n",
    "    for i in range(I):\n",
    "        for j in range(i+1, J):  # Iterate only over the upper triangular part\n",
    "            bound = 0.1**(lambdas[lambda_index].order) * abs(omega_values[i] - omega_values[j])            \n",
    "            lambda_value = bound             \n",
    "            substitution_dict[lambdas[lambda_index]] = lambda_value \n",
    "            lambda_index += 1\n",
    "            \n",
    "    return substitution_dict, substitution_omegas\n",
    "values, omegas = substitution_rules(I,J)"
   ]
  },
  {
   "cell_type": "code",
   "execution_count": 6,
   "id": "b5c5b2ae-0740-456b-921d-4ff40277eba0",
   "metadata": {},
   "outputs": [
    {
     "name": "stdout",
     "output_type": "stream",
     "text": [
      "Creating the EffectiveFrame object with matrix form.\n",
      "The EffectiveFrame object has been initialized successfully.\n",
      "\n",
      "Effective Frame\n",
      "\n",
      "╭────────┬────────┬─────────────╮\n",
      "│  Name  │  Type  │  Dimension  │\n",
      "├────────┼────────┼─────────────┤\n",
      "│ Finite │ Finite │    37x37    │\n",
      "╰────────┴────────┴─────────────╯\n",
      "\n",
      "Effective Hamiltonian: \tNot computed yet. To do so, run `solve` method. \n",
      "\n",
      "\n"
     ]
    }
   ],
   "source": [
    "Eff_Frame = EffectiveFrame(H, symbol_values = values)"
   ]
  },
  {
   "cell_type": "code",
   "execution_count": null,
   "id": "ce4f6d28-e51f-451d-ad2c-3b0236e954fd",
   "metadata": {},
   "outputs": [],
   "source": [
    "# Calculate the effective model using mask up to the second order\n",
    "Eff_Frame.solve(max_order = 3, method = \"LA\", mask=mask)\n",
    "# Obtaining the result in the matrix form\n",
    "result = Eff_Frame.get_H(return_form = \"matrix\")"
   ]
  },
  {
   "cell_type": "markdown",
   "id": "bc64efec-49a8-4a6e-8b27-1328a887053c",
   "metadata": {},
   "source": [
    "# Comparing with ACE"
   ]
  },
  {
   "cell_type": "code",
   "execution_count": null,
   "id": "af867ee1-47a3-4197-8863-63bdc6ea8be8",
   "metadata": {},
   "outputs": [],
   "source": [
    "# Obtaining initial matrix\n",
    "Hh = H.xreplace(values)\n",
    "# Diagonalizing to obtain X unitary\n",
    "X = Hh.diagonalize()[0]\n",
    "X_inv = X.inv()\n",
    "\n",
    "X = np.array(X, dtype=float)\n",
    "X_inv = np.array(X_inv, dtype=float)\n",
    "\n",
    "# Definining operator B(.) which has effect of block diagonalizing \n",
    "B_mask = lambda x: np.logical_not(SymPT)*1 * x\n",
    "\n",
    "# Obtaining T operator\n",
    "T = X @ B_mask(X_inv) @ la.fractional_matrix_power(B_mask(X) @ B_mask(X_inv), -1/2)\n",
    "\n",
    "# Final exact result\n",
    "exact_result = la.inv(T) @ np.array(Hh, dtype=float) @ T"
   ]
  },
  {
   "cell_type": "markdown",
   "id": "ac1ae91f-4292-4ec6-9e09-4c9c2858b080",
   "metadata": {},
   "source": [
    "# Plotting"
   ]
  },
  {
   "cell_type": "code",
   "execution_count": null,
   "id": "c9c2200c-2e37-47c8-aaf0-4b044a748c9c",
   "metadata": {},
   "outputs": [],
   "source": [
    "diag_idx = np.diag_indices(SymPT.shape[0])\n",
    "np_result = np.array(result).astype(float)\n",
    "np_result[np.abs(np_result) == 0] = None\n",
    "exact_result[np.abs(exact_result) == 0] = None\n",
    "\n",
    "#fig, ax = plt.subplots(dpi = 100)\n",
    "#mapp = ax.imshow(np_result, cmap = \"inferno\")\n",
    "#fig.colorbar(mapp)\n",
    "#plt.savefig(dir_images+'masked_hamiltonian.pdf',  bbox_inches='tight')"
   ]
  },
  {
   "cell_type": "code",
   "execution_count": null,
   "id": "59d67e23-a2b8-476a-a3e3-ccf46bf9d2d8",
   "metadata": {},
   "outputs": [],
   "source": [
    "fig, ax = plt.subplots(1, 3, figsize=(15, 5))\n",
    "\n",
    "im = ax[0].imshow(np.array(Hh, dtype=float), cmap='inferno') # Initial Hamiltonian\n",
    "fig.colorbar(im, ax=ax[0])\n",
    "ax[0].set_title(r'$\\mathcal{H}$', fontsize=20)\n",
    "\n",
    "im = ax[1].imshow(exact_result.real, cmap='inferno') # Exact block diagonalization\n",
    "fig.colorbar(im, ax=ax[1])\n",
    "ax[1].set_title(r'$\\tilde{\\mathcal{H}}_{DV}$', fontsize=20)\n",
    "\n",
    "im = ax[2].imshow(np_result, cmap='inferno') # Effective block diagonalization\n",
    "fig.colorbar(im, ax=ax[2])\n",
    "ax[2].set_title(r'$\\tilde{\\mathcal{H}}_{eff}$')"
   ]
  },
  {
   "cell_type": "code",
   "execution_count": null,
   "id": "5446dcda-b6c7-4853-8a36-d693aa2d3c1d",
   "metadata": {
    "scrolled": true
   },
   "outputs": [],
   "source": [
    "for i in range(I):\n",
    "    for j in range(J):\n",
    "        if i == j:\n",
    "            continue\n",
    "        print(Hh[i, j] / np.abs(Hh[i,i] - Hh[j,j]))"
   ]
  },
  {
   "cell_type": "markdown",
   "id": "1a502237-5941-4254-9db9-71d670cae465",
   "metadata": {},
   "source": [
    "# BOD for different orders"
   ]
  },
  {
   "cell_type": "code",
   "execution_count": 13,
   "id": "1f52de24-7a28-4dda-b6b7-47e712e08abd",
   "metadata": {},
   "outputs": [
    {
     "name": "stdout",
     "output_type": "stream",
     "text": [
      "Substituting the symbol values in the Hamiltonian and perturbative interactions.\n"
     ]
    },
    {
     "name": "stderr",
     "output_type": "stream",
     "text": [
      "Performing Block Diagonalization for each order: 100%|█| 5/5 [01:43<00:\n"
     ]
    },
    {
     "name": "stdout",
     "output_type": "stream",
     "text": [
      "The Hamiltonian has been solved successfully. Please use the get_H method to get the result in the desired form.\n"
     ]
    },
    {
     "name": "stderr",
     "output_type": "stream",
     "text": [
      "Converting to matrix form: 100%|███████| 1/1 [00:00<00:00, 2280.75it/s]\n",
      "Converting to matrix form: 100%|████████| 1/1 [00:00<00:00, 646.57it/s]\n",
      "Converting to matrix form: 100%|████████| 1/1 [00:00<00:00, 759.56it/s]\n",
      "Converting to matrix form: 100%|███████| 1/1 [00:00<00:00, 1888.48it/s]\n",
      "Converting to matrix form: 100%|███████| 1/1 [00:00<00:00, 3435.14it/s]\n",
      "Converting to matrix form: 100%|███████| 1/1 [00:00<00:00, 3721.65it/s]\n"
     ]
    }
   ],
   "source": [
    "# Calculate the effective model using mask up to the second order\n",
    "Eff_Frame.solve(max_order = 5, method = \"BOD\", mask=mask)\n",
    "# Obtaining the result in the matrix form\n",
    "result = Eff_Frame.get_H(return_form = \"matrix\")"
   ]
  },
  {
   "cell_type": "code",
   "execution_count": 14,
   "id": "082f651a-6d3b-46ee-9252-18837fcf88e5",
   "metadata": {},
   "outputs": [
    {
     "data": {
      "text/plain": [
       "<matplotlib.colorbar.Colorbar at 0x7f7f47ea82e0>"
      ]
     },
     "execution_count": 14,
     "metadata": {},
     "output_type": "execute_result"
    },
    {
     "data": {
      "image/png": "[encoded data removed]",
      "text/plain": [
       "<Figure size 640x480 with 2 Axes>"
      ]
     },
     "metadata": {},
     "output_type": "display_data"
    }
   ],
   "source": [
    "diag_idx = np.diag_indices(SymPT.shape[0])\n",
    "np_result = np.array(result).astype(float)\n",
    "plt_result = np_result.copy()\n",
    "plt_result[np.abs(plt_result) == 0] = None\n",
    "\n",
    "fig, ax = plt.subplots(dpi = 100)\n",
    "mapp = ax.imshow(plt_result, cmap = \"inferno\")\n",
    "fig.colorbar(mapp)\n",
    "#plt.savefig(dir_images+'masked_hamiltonian.pdf',  bbox_inches='tight')"
   ]
  },
  {
   "cell_type": "code",
   "execution_count": 15,
   "id": "040fb1cb-e7db-4322-9aa6-0973078533ae",
   "metadata": {},
   "outputs": [],
   "source": [
    "# Error function\n",
    "def error(true_spect, eff_spect):\n",
    "    diff =  eff_spect - true_spect \n",
    "    return np.abs(diff / true_spect)\n",
    "# H0, H1, H2, H3, H4, H5 = [np.array(Hi, dtype = float) for Hi in list(Eff_Frame.corrections.values())]\n",
    "true_spectrum = np.sort(np.array(H.xreplace(values).diagonalize()[1].diagonal()).astype(float)) # obtaining true spectrum (sorting for correct matching)\n",
    "effe_spectrum = np.sort(np_result[diag_idx].astype(float)) \n",
    "err_not = error(true_spectrum, np.array(H.diagonal().xreplace(values)).astype(float))[0] # error of diagonal elements by doing nothing\n",
    "err_eff = error(true_spectrum, effe_spectrum)[0] # error of effective spectrum"
   ]
  },
  {
   "cell_type": "code",
   "execution_count": 16,
   "id": "d9365ce4-b091-41ca-a799-a095afc8331f",
   "metadata": {},
   "outputs": [
    {
     "data": {
      "text/plain": [
       "(-0.01, 0.3)"
      ]
     },
     "execution_count": 16,
     "metadata": {},
     "output_type": "execute_result"
    },
    {
     "data": {
      "image/png": "[encoded data removed]",
      "text/plain": [
       "<Figure size 640x480 with 1 Axes>"
      ]
     },
     "metadata": {},
     "output_type": "display_data"
    }
   ],
   "source": [
    "tmp1 = np.where(SymPT != 0)[0] # getting indices of mask\n",
    "changed_diags = np.array(list(set(tmp1))) # getting indices of decoupled energies\n",
    "\n",
    "fig, ax = plt.subplots(dpi = 100)\n",
    "yes = True\n",
    "for n, error in enumerate(err_not): \n",
    "    if n in changed_diags: # if plotting decoupled energy\n",
    "        marker = \"o\"\n",
    "        c = \"r\"\n",
    "        ax.scatter(n, error, marker = marker, c = c, s = 30, label = r\"$\\mathrm{Untransformed}$ $\\mathrm{spectrum}$\" if yes else None)\n",
    "        yes = False\n",
    "\n",
    "yes = True  \n",
    "for n, error in enumerate(err_eff): \n",
    "    if n in changed_diags: # if plotting decoupled energy\n",
    "        marker = \"o\"\n",
    "        c = \"b\"\n",
    "        scatter = ax.scatter(n, error, marker = marker, c = c, s = 30, label = r\"$\\mathrm{Transformed}$ $\\mathrm{spectrum}$\" if yes else None)\n",
    "        yes = False\n",
    "        \n",
    "ax.legend(fontsize=fntsize*0.8, loc=0)\n",
    "ax.set_xlabel(r\"$\\mathrm{Eigenvalue}$ $\\mathrm{index}$\", fontsize = fntsize)\n",
    "ax.set_ylabel(r\"$\\left|\\frac{E - E_\\mathrm{true}}{E_\\mathrm{true}}\\right|$\", fontsize = fntsize)\n",
    "ax.set_ylim(-0.01,0.3)\n",
    "#fig.savefig(dir_images+'decoupled_energies_error.pdf',  bbox_inches='tight')"
   ]
  },
  {
   "cell_type": "code",
   "execution_count": null,
   "id": "96e31057-b705-46cf-899d-85f4eda84111",
   "metadata": {},
   "outputs": [],
   "source": []
  }
 ],
 "metadata": {
  "kernelspec": {
   "display_name": "Python 3 (ipykernel)",
   "language": "python",
   "name": "python3"
  },
  "language_info": {
   "codemirror_mode": {
    "name": "ipython",
    "version": 3
   },
   "file_extension": ".py",
   "mimetype": "text/x-python",
   "name": "python",
   "nbconvert_exporter": "python",
   "pygments_lexer": "ipython3",
   "version": "3.9.20"
  }
 },
 "nbformat": 4,
 "nbformat_minor": 5
}
