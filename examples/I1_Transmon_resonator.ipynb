{
 "cells": [
  {
   "cell_type": "markdown",
   "metadata": {},
   "source": [
    "System found in **Pymablock: an algorithm and a package for\n",
    "quasi-degenerate perturbation theory**: arXiv:2404.03728v1"
   ]
  },
  {
   "cell_type": "code",
   "execution_count": 1,
   "metadata": {},
   "outputs": [],
   "source": [
    "# Objects for defining the Hamiltonian\n",
    "from SymPT import RDSymbol, RDBasis, BosonOp, Dagger, Block, Operator\n",
    "# Objects for obtaining the Effective Hamiltonian\n",
    "from SymPT import EffectiveFrame\n",
    "\n",
    "# Extra utils\n",
    "from SymPT import display_dict, group_by_operators\n",
    "\n",
    "# Import sympy\n",
    "import sympy as sp"
   ]
  },
  {
   "cell_type": "markdown",
   "metadata": {},
   "source": [
    "# Setup"
   ]
  },
  {
   "cell_type": "code",
   "execution_count": 2,
   "metadata": {},
   "outputs": [
    {
     "data": {
      "text/latex": [
       "$\\displaystyle \\frac{\\alpha {{a_t}^\\dagger}^{2} {a_t}^{2}}{2} + \\omega_{r} {{a_r}^\\dagger} {a_r} - \\omega_{t} {{a_t}^\\dagger} {a_t}$"
      ],
      "text/plain": [
       "alpha*Dagger(a_t)**2*a_t**2/2 + omega_r*Dagger(a_r)*a_r - omega_t*Dagger(a_t)*a_t"
      ]
     },
     "metadata": {},
     "output_type": "display_data"
    },
    {
     "data": {
      "text/latex": [
       "$\\displaystyle - g \\left({{a_t}^\\dagger} - {a_t}\\right) \\left({{a_r}^\\dagger} - {a_r}\\right)$"
      ],
      "text/plain": [
       "-g*(Dagger(a_t) - a_t)*(Dagger(a_r) - a_r)"
      ]
     },
     "metadata": {},
     "output_type": "display_data"
    }
   ],
   "source": [
    "# ---------------- Defining the symbols ------------------\n",
    "# Order 0\n",
    "omega_t = RDSymbol('omega_t', order=0, positive=True, real=True)\n",
    "omega_r = RDSymbol('omega_r', order=0, positive=True, real=True)\n",
    "alpha   = RDSymbol('alpha', order=0, positive=True, real=True)\n",
    "# Order 1\n",
    "g = RDSymbol('g', order=1, positive=True, real=True)\n",
    "\n",
    "# ----------------- Defining the basis -------------------\n",
    "# Boson basis transmon: Infinite bosonic Hilbert space\n",
    "a_t  = BosonOp('a_t')\n",
    "ad_t = Dagger(a_t)\n",
    "# Boson basis resonator: Infinite bosonic Hilbert space\n",
    "a_r  = BosonOp('a_r')\n",
    "ad_r = Dagger(a_r)\n",
    "\n",
    "# -------------- Defining the Hamiltonian ----------------\n",
    "# Unperturbed Hamiltonian H0\n",
    "H0 = -omega_t * ad_t * a_t + omega_r * ad_r * a_r + sp.Rational(1,2) * alpha * ad_t * ad_t * a_t * a_t\n",
    "display(H0)\n",
    "# Interaction Hamiltonian V\n",
    "V = -g * (ad_t - a_t) * (ad_r - a_r)\n",
    "display(V)"
   ]
  },
  {
   "cell_type": "code",
   "execution_count": 3,
   "metadata": {},
   "outputs": [
    {
     "name": "stdout",
     "output_type": "stream",
     "text": [
      "The EffectiveFrame object has been initialized successfully.\n",
      "\n",
      "Effective Frame\n",
      "\n",
      "╭────────┬─────────┬─────────────╮\n",
      "│  Name  │  Type   │  Dimension  │\n",
      "├────────┼─────────┼─────────────┤\n",
      "│  a_r   │ Bosonic │      ∞      │\n",
      "├────────┼─────────┼─────────────┤\n",
      "│  a_t   │ Bosonic │      ∞      │\n",
      "╰────────┴─────────┴─────────────╯\n",
      "\n",
      "Effective Hamiltonian: \tNot computed yet. To do so, run `solve` method. \n",
      "\n",
      "\n"
     ]
    }
   ],
   "source": [
    "# Deffining Effective Hamiltonian Object\n",
    "Eff_frame = EffectiveFrame(H0, V)"
   ]
  },
  {
   "cell_type": "markdown",
   "metadata": {},
   "source": [
    "# Standard Schrieffer-Wolff Transformation"
   ]
  },
  {
   "cell_type": "code",
   "execution_count": 4,
   "metadata": {},
   "outputs": [
    {
     "name": "stderr",
     "output_type": "stream",
     "text": [
      "Solving for each order: 100%|██████████| 2/2 [00:00<00:00,  2.34it/s]\n"
     ]
    },
    {
     "name": "stdout",
     "output_type": "stream",
     "text": [
      "The Hamiltonian has been solved successfully. Please use the get_H method to get the result in the desired form.\n"
     ]
    },
    {
     "name": "stderr",
     "output_type": "stream",
     "text": [
      "Projecting to operator form: 100%|██████████| 3/3 [00:00<00:00, 520.64it/s]\n",
      "Projecting to operator form: 100%|██████████| 20/20 [00:00<00:00, 392.46it/s]\n"
     ]
    }
   ],
   "source": [
    "# Calculate the effective model using the Schrieffer-Wolff transformation up to the second order\n",
    "Eff_frame.solve(max_order=2, full_diagonalization=False, mask=None)\n",
    "# Obtaining the result in the dict_operator form\n",
    "H_eff_SWT = Eff_frame.get_H(return_form='operator')\n",
    "# display_dict(H_eff_SWT)"
   ]
  },
  {
   "cell_type": "code",
   "execution_count": 5,
   "metadata": {},
   "outputs": [],
   "source": [
    "# substitution dictionary for transmon ground state\n",
    "subs_nt0 = {\n",
    "    a_t : 0,\n",
    "    ad_t : 0\n",
    "}\n",
    "subs_nt1 = {\n",
    "    ad_t*a_t : 1,\n",
    "}\n",
    "\n",
    "# Corrections to the Hamiltonian for each order\n",
    "H0, H2 = [H_correction for H_correction in Eff_frame.corrections.values()]"
   ]
  },
  {
   "cell_type": "code",
   "execution_count": 6,
   "metadata": {},
   "outputs": [
    {
     "data": {
      "text/latex": [
       "$\\displaystyle {{a_t}^\\dagger} {a_t} : - \\frac{\\alpha}{2} - \\omega_{t}$"
      ],
      "text/plain": [
       "<IPython.core.display.Math object>"
      ]
     },
     "metadata": {},
     "output_type": "display_data"
    },
    {
     "data": {
      "text/latex": [
       "$\\displaystyle \\left({{a_t}^\\dagger} {a_t}\\right)^{2} : \\frac{\\alpha}{2}$"
      ],
      "text/plain": [
       "<IPython.core.display.Math object>"
      ]
     },
     "metadata": {},
     "output_type": "display_data"
    },
    {
     "data": {
      "text/latex": [
       "$\\displaystyle {{a_r}^\\dagger} {a_r} : \\omega_{r}$"
      ],
      "text/plain": [
       "<IPython.core.display.Math object>"
      ]
     },
     "metadata": {},
     "output_type": "display_data"
    }
   ],
   "source": [
    "display_dict(group_by_operators(H0))"
   ]
  },
  {
   "cell_type": "code",
   "execution_count": 7,
   "metadata": {},
   "outputs": [
    {
     "data": {
      "text/latex": [
       "$\\displaystyle \\frac{g^{2} \\left(2 \\alpha N_{t} - \\omega_{t}\\right)}{\\left(\\alpha N_{t} - \\omega_{r} - \\omega_{t}\\right) \\left(\\alpha N_{t} + \\omega_{r} - \\omega_{t}\\right)}$"
      ],
      "text/plain": [
       "g**2*(2*alpha*N_t - omega_t)/((alpha*N_t - omega_r - omega_t)*(alpha*N_t + omega_r - omega_t))"
      ]
     },
     "metadata": {},
     "output_type": "display_data"
    },
    {
     "data": {
      "text/latex": [
       "$\\displaystyle \\frac{g^{2} \\left(2 \\alpha N_{t} - \\omega_{t}\\right)}{\\left(\\alpha N_{t} - \\omega_{r} - \\omega_{t}\\right) \\left(\\alpha N_{t} + \\omega_{r} - \\omega_{t}\\right)}$"
      ],
      "text/plain": [
       "g**2*(2*alpha*N_t - omega_t)/((alpha*N_t - omega_r - omega_t)*(alpha*N_t + omega_r - omega_t))"
      ]
     },
     "metadata": {},
     "output_type": "display_data"
    }
   ],
   "source": [
    "display(group_by_operators(sp.factor_terms(H2.expand()))[a_r**2].subs(ad_t*a_t, sp.symbols(\"N_t\")).factor())\n",
    "display(group_by_operators(sp.factor_terms(H2.expand()))[ad_r**2].subs(ad_t*a_t, sp.symbols(\"N_t\")).factor())"
   ]
  },
  {
   "cell_type": "code",
   "execution_count": 8,
   "metadata": {},
   "outputs": [],
   "source": [
    "#group_by_operators(sp.factor_terms(H2.expand()))[ad_r*a_r*ad_t*a_t].expand().subs(ad_t*a_t, sp.symbols(\"N_t\")).simplify().factor()"
   ]
  },
  {
   "cell_type": "code",
   "execution_count": 9,
   "metadata": {},
   "outputs": [
    {
     "data": {
      "text/latex": [
       "$\\displaystyle \\frac{g^{2} \\left(- \\alpha - 3 \\omega_{r} - \\omega_{t}\\right)}{\\alpha \\omega_{r} + \\alpha \\omega_{t} + \\omega_{r}^{2} - \\omega_{t}^{2}}$"
      ],
      "text/plain": [
       "g**2*(-alpha - 3*omega_r - omega_t)/(alpha*omega_r + alpha*omega_t + omega_r**2 - omega_t**2)"
      ]
     },
     "execution_count": 9,
     "metadata": {},
     "output_type": "execute_result"
    }
   ],
   "source": [
    "group_by_operators(sp.factor_terms(H2.subs(subs_nt1).subs(subs_nt0).expand()))[1].simplify()"
   ]
  },
  {
   "cell_type": "code",
   "execution_count": 10,
   "metadata": {},
   "outputs": [
    {
     "ename": "NameError",
     "evalue": "name 'subs' is not defined",
     "output_type": "error",
     "traceback": [
      "\u001b[0;31m---------------------------------------------------------------------------\u001b[0m",
      "\u001b[0;31mNameError\u001b[0m                                 Traceback (most recent call last)",
      "Cell \u001b[0;32mIn[10], line 1\u001b[0m\n\u001b[0;32m----> 1\u001b[0m group_by_operators(sp\u001b[38;5;241m.\u001b[39mfactor_terms(H2\u001b[38;5;241m.\u001b[39msubs(\u001b[43msubs\u001b[49m)\u001b[38;5;241m.\u001b[39mexpand()))[ad_r\u001b[38;5;241m*\u001b[39ma_r]\u001b[38;5;241m.\u001b[39msimplify()\n",
      "\u001b[0;31mNameError\u001b[0m: name 'subs' is not defined"
     ]
    }
   ],
   "source": [
    "group_by_operators(sp.factor_terms(H2.subs(subs).expand()))[ad_r*a_r].simplify()"
   ]
  },
  {
   "cell_type": "code",
   "execution_count": null,
   "metadata": {},
   "outputs": [],
   "source": [
    "group_by_operators(sp.factor_terms(H2.subs(subs).expand()))[ad_r**2].simplify()"
   ]
  },
  {
   "cell_type": "code",
   "execution_count": null,
   "metadata": {},
   "outputs": [],
   "source": [
    "group_by_operators(sp.factor_terms(H2.subs(subs).expand()))[a_r**2].simplify()"
   ]
  },
  {
   "cell_type": "markdown",
   "metadata": {},
   "source": [
    "# Multiblock"
   ]
  },
  {
   "cell_type": "code",
   "execution_count": 12,
   "metadata": {},
   "outputs": [
    {
     "name": "stdout",
     "output_type": "stream",
     "text": [
      "[-1, -1]\n",
      "[1, -1]\n",
      "[-1, -1]\n",
      "[1, -1]\n",
      "[-2]\n",
      "[-1, -1]\n",
      "[1, -1]\n",
      "[-2]\n",
      "[-2]\n",
      "[-1, -1]\n",
      "[1, -1]\n",
      "[-2]\n",
      "[-2]\n",
      "[-2, -2]\n",
      "[-1, -1]\n",
      "[1, -1]\n",
      "[-2]\n",
      "[-2]\n",
      "[-2, -2]\n",
      "The perturbative interaction will be added to the full Hamiltonian\n",
      "[1, 1]\n",
      "[1, -1]\n",
      "[2]\n",
      "[2]\n",
      "[2, 2]\n",
      "[1, 1]\n",
      "[1, -1]\n",
      "[2]\n",
      "[2]\n",
      "[2, 2]\n",
      "[-1, -1]\n",
      "[1, -1]\n",
      "[-2]\n",
      "[-2]\n",
      "[-2, -2]\n",
      "[1, 1]\n",
      "[1, -1]\n",
      "[2]\n",
      "[2]\n",
      "[2, 2]\n"
     ]
    },
    {
     "name": "stderr",
     "output_type": "stream",
     "text": [
      "Solving for each order: 100%|██████████| 2/2 [00:01<00:00,  1.24it/s]\n"
     ]
    },
    {
     "name": "stdout",
     "output_type": "stream",
     "text": [
      "The Hamiltonian has been solved successfully. Please use the get_H method to get the result in the desired form.\n"
     ]
    },
    {
     "name": "stderr",
     "output_type": "stream",
     "text": [
      "Projecting to operator form: 100%|██████████| 3/3 [00:00<00:00, 499.32it/s]\n",
      "Projecting to operator form: 100%|██████████| 8/8 [00:00<00:00, 443.41it/s]\n"
     ]
    }
   ],
   "source": [
    "# Deffining the mask\n",
    "mask = Block(inf=a_r*a_t) +  Block(inf=ad_r*a_t) + Block(inf=a_r**2) + Block(inf=a_t**2) + Block(inf=a_t**2*a_r**2)\n",
    "# Calculate the effective model using the Mask routine up to the second order\n",
    "Eff_frame.solve(max_order=2, full_diagonalization=False, mask=mask)\n",
    "H_eff_Mask = Eff_frame.get_H(return_form='operator')\n",
    "# display_dict(H_eff_Mask)"
   ]
  },
  {
   "cell_type": "code",
   "execution_count": 11,
   "metadata": {},
   "outputs": [
    {
     "name": "stdout",
     "output_type": "stream",
     "text": [
      "[1, -1]\n"
     ]
    },
    {
     "data": {
      "text/latex": [
       "$\\left[\\begin{matrix}1\\end{matrix}\\right]  \\cdot {{a_r}^\\dagger} {a_t}$"
      ],
      "text/plain": [
       "<SymPT.classes.Block at 0x707c1bd8e900>"
      ]
     },
     "execution_count": 11,
     "metadata": {},
     "output_type": "execute_result"
    }
   ],
   "source": [
    "Block(inf=ad_r*a_t)"
   ]
  },
  {
   "cell_type": "code",
   "execution_count": 14,
   "metadata": {},
   "outputs": [],
   "source": [
    "# Corrections to the Hamiltonian for each order\n",
    "H0, H2 = [H_correction for H_correction in Eff_frame.corrections.values()]"
   ]
  },
  {
   "cell_type": "code",
   "execution_count": 15,
   "metadata": {},
   "outputs": [
    {
     "data": {
      "text/latex": [
       "$\\displaystyle {{a_t}^\\dagger} {a_t} : - \\frac{\\alpha}{2} - \\omega_{t}$"
      ],
      "text/plain": [
       "<IPython.core.display.Math object>"
      ]
     },
     "metadata": {},
     "output_type": "display_data"
    },
    {
     "data": {
      "text/latex": [
       "$\\displaystyle \\left({{a_t}^\\dagger} {a_t}\\right)^{2} : \\frac{\\alpha}{2}$"
      ],
      "text/plain": [
       "<IPython.core.display.Math object>"
      ]
     },
     "metadata": {},
     "output_type": "display_data"
    },
    {
     "data": {
      "text/latex": [
       "$\\displaystyle {{a_r}^\\dagger} {a_r} : \\omega_{r}$"
      ],
      "text/plain": [
       "<IPython.core.display.Math object>"
      ]
     },
     "metadata": {},
     "output_type": "display_data"
    }
   ],
   "source": [
    "display_dict(group_by_operators(H0))"
   ]
  },
  {
   "cell_type": "code",
   "execution_count": null,
   "metadata": {},
   "outputs": [
    {
     "data": {
      "text/latex": [
       "$\\displaystyle {{a_r}^\\dagger} {a_r} {{a_t}^\\dagger} {a_t} : - \\alpha g^{2} \\left(- \\alpha {{a_t}^\\dagger} {a_t} - \\omega_{r} + \\omega_{t}\\right)^{-1} \\left(- \\alpha + \\alpha {{a_t}^\\dagger} {a_t} + \\omega_{r} - \\omega_{t}\\right)^{-1} - \\alpha g^{2} \\left(- \\alpha + \\alpha {{a_t}^\\dagger} {a_t} + \\omega_{r} - \\omega_{t}\\right)^{-1} \\left(- \\alpha {{a_t}^\\dagger} {a_t} - \\omega_{r} + \\omega_{t}\\right)^{-1} - g^{2} \\omega_{r} \\left(- \\alpha {{a_t}^\\dagger} {a_t} - \\omega_{r} + \\omega_{t}\\right)^{-1} \\left(- \\alpha + \\alpha {{a_t}^\\dagger} {a_t} + \\omega_{r} - \\omega_{t}\\right)^{-1} + g^{2} \\omega_{r} \\left(- \\alpha + \\alpha {{a_t}^\\dagger} {a_t} + \\omega_{r} - \\omega_{t}\\right)^{-1} \\left(- \\alpha {{a_t}^\\dagger} {a_t} - \\omega_{r} + \\omega_{t}\\right)^{-1} + g^{2} \\omega_{t} \\left(- \\alpha {{a_t}^\\dagger} {a_t} - \\omega_{r} + \\omega_{t}\\right)^{-1} \\left(- \\alpha + \\alpha {{a_t}^\\dagger} {a_t} + \\omega_{r} - \\omega_{t}\\right)^{-1} - g^{2} \\omega_{t} \\left(- \\alpha + \\alpha {{a_t}^\\dagger} {a_t} + \\omega_{r} - \\omega_{t}\\right)^{-1} \\left(- \\alpha {{a_t}^\\dagger} {a_t} - \\omega_{r} + \\omega_{t}\\right)^{-1}$"
      ],
      "text/plain": [
       "<IPython.core.display.Math object>"
      ]
     },
     "metadata": {},
     "output_type": "display_data"
    },
    {
     "data": {
      "text/latex": [
       "$\\displaystyle {{a_r}^\\dagger} {a_r} \\left({{a_t}^\\dagger} {a_t}\\right)^{2} : - \\alpha g^{2} \\left(- \\alpha {{a_t}^\\dagger} {a_t} - \\omega_{r} + \\omega_{t}\\right)^{-1} \\left(- \\alpha + \\alpha {{a_t}^\\dagger} {a_t} + \\omega_{r} - \\omega_{t}\\right)^{-1} + \\alpha g^{2} \\left(- \\alpha + \\alpha {{a_t}^\\dagger} {a_t} + \\omega_{r} - \\omega_{t}\\right)^{-1} \\left(- \\alpha {{a_t}^\\dagger} {a_t} - \\omega_{r} + \\omega_{t}\\right)^{-1}$"
      ],
      "text/plain": [
       "<IPython.core.display.Math object>"
      ]
     },
     "metadata": {},
     "output_type": "display_data"
    },
    {
     "data": {
      "text/latex": [
       "$\\displaystyle {{a_t}^\\dagger} {a_t} : - \\alpha g^{2} \\left(- \\alpha {{a_t}^\\dagger} {a_t} - \\omega_{r} + \\omega_{t}\\right)^{-1} \\left(- \\alpha + \\alpha {{a_t}^\\dagger} {a_t} + \\omega_{r} - \\omega_{t}\\right)^{-1} - g^{2} \\omega_{r} \\left(- \\alpha {{a_t}^\\dagger} {a_t} - \\omega_{r} + \\omega_{t}\\right)^{-1} \\left(- \\alpha + \\alpha {{a_t}^\\dagger} {a_t} + \\omega_{r} - \\omega_{t}\\right)^{-1} + g^{2} \\omega_{t} \\left(- \\alpha {{a_t}^\\dagger} {a_t} - \\omega_{r} + \\omega_{t}\\right)^{-1} \\left(- \\alpha + \\alpha {{a_t}^\\dagger} {a_t} + \\omega_{r} - \\omega_{t}\\right)^{-1} + g^{2} \\left(- \\alpha {{a_t}^\\dagger} {a_t} - \\omega_{r} + \\omega_{t}\\right)^{-1} - g^{2} \\left(- \\alpha + \\alpha {{a_t}^\\dagger} {a_t} + \\omega_{r} - \\omega_{t}\\right)^{-1}$"
      ],
      "text/plain": [
       "<IPython.core.display.Math object>"
      ]
     },
     "metadata": {},
     "output_type": "display_data"
    },
    {
     "data": {
      "text/latex": [
       "$\\displaystyle \\left({{a_t}^\\dagger} {a_t}\\right)^{2} : - \\alpha g^{2} \\left(- \\alpha {{a_t}^\\dagger} {a_t} - \\omega_{r} + \\omega_{t}\\right)^{-1} \\left(- \\alpha + \\alpha {{a_t}^\\dagger} {a_t} + \\omega_{r} - \\omega_{t}\\right)^{-1}$"
      ],
      "text/plain": [
       "<IPython.core.display.Math object>"
      ]
     },
     "metadata": {},
     "output_type": "display_data"
    },
    {
     "data": {
      "text/latex": [
       "$\\displaystyle 1 : - g^{2} \\omega_{r} \\left(- \\alpha {{a_t}^\\dagger} {a_t} - \\omega_{r} + \\omega_{t}\\right)^{-1} \\left(- \\alpha + \\alpha {{a_t}^\\dagger} {a_t} + \\omega_{r} - \\omega_{t}\\right)^{-1} + g^{2} \\omega_{t} \\left(- \\alpha {{a_t}^\\dagger} {a_t} - \\omega_{r} + \\omega_{t}\\right)^{-1} \\left(- \\alpha + \\alpha {{a_t}^\\dagger} {a_t} + \\omega_{r} - \\omega_{t}\\right)^{-1} + g^{2} \\left(- \\alpha {{a_t}^\\dagger} {a_t} - \\omega_{r} + \\omega_{t}\\right)^{-1} - g^{2} \\left(- \\alpha + \\alpha {{a_t}^\\dagger} {a_t} + \\omega_{r} - \\omega_{t}\\right)^{-1}$"
      ],
      "text/plain": [
       "<IPython.core.display.Math object>"
      ]
     },
     "metadata": {},
     "output_type": "display_data"
    },
    {
     "data": {
      "text/latex": [
       "$\\displaystyle {{a_r}^\\dagger} {a_r} : - g^{2} \\omega_{r} \\left(- \\alpha {{a_t}^\\dagger} {a_t} - \\omega_{r} + \\omega_{t}\\right)^{-1} \\left(- \\alpha + \\alpha {{a_t}^\\dagger} {a_t} + \\omega_{r} - \\omega_{t}\\right)^{-1} + g^{2} \\omega_{t} \\left(- \\alpha {{a_t}^\\dagger} {a_t} - \\omega_{r} + \\omega_{t}\\right)^{-1} \\left(- \\alpha + \\alpha {{a_t}^\\dagger} {a_t} + \\omega_{r} - \\omega_{t}\\right)^{-1} + g^{2} \\left(- \\alpha {{a_t}^\\dagger} {a_t} - \\omega_{r} + \\omega_{t}\\right)^{-1} - g^{2} \\left(- \\alpha + \\alpha {{a_t}^\\dagger} {a_t} + \\omega_{r} - \\omega_{t}\\right)^{-1}$"
      ],
      "text/plain": [
       "<IPython.core.display.Math object>"
      ]
     },
     "metadata": {},
     "output_type": "display_data"
    }
   ],
   "source": [
    "display_dict(group_by_operators(sp.factor_terms(H2.expand())))"
   ]
  },
  {
   "cell_type": "code",
   "execution_count": null,
   "metadata": {},
   "outputs": [
    {
     "data": {
      "text/plain": [
       "dict_keys([Dagger(a_r)*a_r*Dagger(a_t)*a_t, Dagger(a_r)*a_r*(Dagger(a_t)*a_t)**2, Dagger(a_t)*a_t, (Dagger(a_t)*a_t)**2, 1, Dagger(a_r)*a_r])"
      ]
     },
     "execution_count": 19,
     "metadata": {},
     "output_type": "execute_result"
    }
   ],
   "source": [
    "group_by_operators(sp.factor_terms(H2.expand())).keys()"
   ]
  },
  {
   "cell_type": "code",
   "execution_count": null,
   "metadata": {},
   "outputs": [
    {
     "data": {
      "text/latex": [
       "$\\displaystyle \\frac{\\alpha g^{2}}{\\left(\\alpha N_{t} + \\omega_{r} - \\omega_{t}\\right) \\left(\\alpha N_{t} - \\alpha + \\omega_{r} - \\omega_{t}\\right)}$"
      ],
      "text/plain": [
       "alpha*g**2/((alpha*N_t + omega_r - omega_t)*(alpha*N_t - alpha + omega_r - omega_t))"
      ]
     },
     "execution_count": 25,
     "metadata": {},
     "output_type": "execute_result"
    }
   ],
   "source": [
    "group_by_operators(sp.factor_terms(H2.expand()))[(ad_t*a_t)**2].subs(ad_t*a_t, sp.symbols(\"N_t\")).simplify().factor()"
   ]
  },
  {
   "cell_type": "markdown",
   "metadata": {},
   "source": [
    "# Full-diagonalization"
   ]
  },
  {
   "cell_type": "code",
   "execution_count": null,
   "metadata": {},
   "outputs": [],
   "source": [
    "# Calculate the effective model using the Full Diagonalization routine up to the second order\n",
    "Eff_frame.solve(max_order=2, full_diagonalization=True, mask=None)\n",
    "H_eff_FD = Eff_frame.get_H(return_form='dict_operator')\n",
    "# display_dict(H_eff_FD)"
   ]
  }
 ],
 "metadata": {
  "kernelspec": {
   "display_name": "pysw",
   "language": "python",
   "name": "python3"
  },
  "language_info": {
   "codemirror_mode": {
    "name": "ipython",
    "version": 3
   },
   "file_extension": ".py",
   "mimetype": "text/x-python",
   "name": "python",
   "nbconvert_exporter": "python",
   "pygments_lexer": "ipython3",
   "version": "3.13.0"
  }
 },
 "nbformat": 4,
 "nbformat_minor": 4
}
