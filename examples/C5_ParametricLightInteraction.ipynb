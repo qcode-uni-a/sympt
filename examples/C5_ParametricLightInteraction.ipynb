{
 "cells": [
  {
   "cell_type": "markdown",
   "metadata": {},
   "source": [
    "System found in **Perturbative Diagonalization for Time-Dependent Strong Interactions**: 10.1103/PhysRevApplied.18.024009"
   ]
  },
  {
   "cell_type": "code",
   "execution_count": 2,
   "metadata": {},
   "outputs": [],
   "source": [
    "# Objects for defining the Hamiltonian\n",
    "from SymPT import *\n",
    "import sympy as sp"
   ]
  },
  {
   "cell_type": "code",
   "execution_count": 3,
   "metadata": {},
   "outputs": [
    {
     "data": {
      "text/latex": [
       "$\\displaystyle H_{0} : \\omega_{a} \\left(\\frac{1}{2} + {{a}^\\dagger} {a}\\right) - \\frac{\\omega_{q} \\sigma_{3}}{2}$"
      ],
      "text/plain": [
       "<IPython.core.display.Math object>"
      ]
     },
     "metadata": {},
     "output_type": "display_data"
    },
    {
     "data": {
      "text/latex": [
       "$\\displaystyle V_{1} : \\left(g_{p} e^{- i \\omega_{p} t} + e^{i \\omega_{p} t} \\overline{g_{p}}\\right) \\left({{a}^\\dagger} + {a}\\right) \\sigma_{1}$"
      ],
      "text/plain": [
       "<IPython.core.display.Math object>"
      ]
     },
     "metadata": {},
     "output_type": "display_data"
    }
   ],
   "source": [
    "omega_q = RDSymbol('omega_q', real=True, positive=True)\n",
    "omega_a = RDSymbol('omega_a', real=True, positive=True)\n",
    "\n",
    "g_p = RDSymbol('g_p', real=False, order=1)\n",
    "omega_p = RDSymbol('omega_p', real=True, positive=True)\n",
    "\n",
    "Spin = RDBasis('sigma', 2)\n",
    "s0, sx, sy, sz = Spin.basis\n",
    "\n",
    "a = BosonOp('a')\n",
    "ad = Dagger(a)\n",
    "\n",
    "H0 = - omega_q * sz / 2 + omega_a * (ad * a + sp.Rational(1, 2))\n",
    "V1 = (g_p * sp.exp(-sp.I * omega_p * t) + sp.conjugate(g_p) * sp.exp(sp.I * omega_p * t)) * (a + ad) * sx\n",
    "\n",
    "\n",
    "display_dict({\n",
    "    sp.Symbol('H_0'): H0,\n",
    "    sp.Symbol('V_1'): V1,\n",
    "})"
   ]
  },
  {
   "cell_type": "code",
   "execution_count": 4,
   "metadata": {},
   "outputs": [
    {
     "name": "stdout",
     "output_type": "stream",
     "text": [
      "The EffectiveFrame object has been initialized successfully.\n",
      "\n",
      "Effective Frame\n",
      "\n",
      "╭────────┬─────────┬─────────────╮\n",
      "│  Name  │  Type   │  Dimension  │\n",
      "├────────┼─────────┼─────────────┤\n",
      "│ sigma  │ Finite  │     2x2     │\n",
      "├────────┼─────────┼─────────────┤\n",
      "│   a    │ Bosonic │      ∞      │\n",
      "╰────────┴─────────┴─────────────╯\n",
      "\n",
      "Effective Hamiltonian: \tNot computed yet. To do so, run `solve` method. \n",
      "\n",
      "\n"
     ]
    }
   ],
   "source": [
    "Eff_Frame = EffectiveFrame(H=H0, V=V1, subspaces=[Spin])"
   ]
  },
  {
   "cell_type": "markdown",
   "metadata": {},
   "source": [
    "# Standard Schrieffer-Wolff transformation"
   ]
  },
  {
   "cell_type": "code",
   "execution_count": 5,
   "metadata": {},
   "outputs": [
    {
     "name": "stderr",
     "output_type": "stream",
     "text": [
      "Solving for each order: 100%|████████████| 2/2 [00:00<00:00, 16.43it/s]\n"
     ]
    },
    {
     "name": "stdout",
     "output_type": "stream",
     "text": [
      "The Hamiltonian has been solved successfully. Please use the get_H method to get the result in the desired form.\n"
     ]
    },
    {
     "name": "stderr",
     "output_type": "stream",
     "text": [
      "Projecting to operator form: 100%|██████| 2/2 [00:00<00:00, 426.66it/s]\n",
      "Projecting to operator form: 100%|███████| 4/4 [03:47<00:00, 56.88s/it]\n"
     ]
    }
   ],
   "source": [
    "Eff_Frame.solve(max_order=2, full_diagonalization=False)\n",
    "H_eff = Eff_Frame.get_H()"
   ]
  },
  {
   "cell_type": "code",
   "execution_count": null,
   "metadata": {},
   "outputs": [],
   "source": [
    "# Corrections to the Hamiltonian for each order\n",
    "H0, H1, H2 = [H_correction for H_correction in Eff_Frame.corrections.values()]"
   ]
  },
  {
   "cell_type": "code",
   "execution_count": 133,
   "metadata": {},
   "outputs": [],
   "source": [
    "abs_gp = sp.Symbol('|g_{p}|', real=True, positive=True)\n",
    "phi_p = sp.Symbol('phi_p', real=True)\n",
    "\n",
    "omega_plus = sp.Symbol('omega_+', real=True, positive=True)\n",
    "omega_minus = sp.Symbol('omega_-', real=True, positive=True)\n",
    "\n",
    "gp = abs_gp * sp.exp(-sp.I * phi_p)\n",
    "xi_plus = gp / (omega_q + omega_a - omega_p) * sp.exp(-I* omega_p * t) + sp.conjugate(gp) / (omega_q + omega_a + omega_p) * sp.exp(I* omega_p * t)\n",
    "xi_minus = gp / (omega_q - omega_a + omega_p) * sp.exp(-I* omega_p * t) + sp.conjugate(gp) / (omega_q - omega_a - omega_p) * sp.exp(I* omega_p * t)\n",
    "\n",
    "gt = gp * sp.exp(-I* omega_p * t) + sp.conjugate(gp) * sp.exp(I* omega_p * t)"
   ]
  },
  {
   "cell_type": "markdown",
   "metadata": {},
   "source": [
    "### Identity"
   ]
  },
  {
   "cell_type": "code",
   "execution_count": 134,
   "metadata": {},
   "outputs": [
    {
     "data": {
      "text/latex": [
       "$\\displaystyle \\frac{2 |g_{p}|^{2} \\left(\\omega_{p}^{2} + \\omega_{+} \\omega_{-}\\right) \\left(\\omega_{+} - \\omega_{-}\\right) \\cos^{2}{\\left(\\omega_{p} t + \\phi_{p} \\right)}}{\\left(- \\omega_{p} + \\omega_{+}\\right) \\left(- \\omega_{p} + \\omega_{-}\\right) \\left(\\omega_{p} + \\omega_{+}\\right) \\left(\\omega_{p} + \\omega_{-}\\right)}$"
      ],
      "text/plain": [
       "2*|g_{p}|**2*(omega_p**2 + omega_+*omega_-)*(omega_+ - omega_-)*cos(omega_p*t + phi_p)**2/((-omega_p + omega_+)*(-omega_p + omega_-)*(omega_p + omega_+)*(omega_p + omega_-))"
      ]
     },
     "execution_count": 134,
     "metadata": {},
     "output_type": "execute_result"
    }
   ],
   "source": [
    "# Term obtained in the paper\n",
    "sp.expand_complex((sp.Rational(1,2) * gt * (sp.re(xi_minus) - sp.re(xi_plus))).expand()).trigsimp().subs({\n",
    "    omega_q + omega_a : omega_plus,\n",
    "    omega_q - omega_a : omega_minus,\n",
    "    hbar:1\n",
    "}).subs(omega_q**2 - omega_a**2, (omega_plus*omega_minus)).subs({\n",
    "    omega_a : sp.Rational(1,2) * (omega_plus - omega_minus),\n",
    "    omega_q : sp.Rational(1,2) * (omega_plus + omega_minus),\n",
    "    }).expand().cancel().factor()"
   ]
  },
  {
   "cell_type": "code",
   "execution_count": 135,
   "metadata": {},
   "outputs": [
    {
     "data": {
      "text/latex": [
       "$\\displaystyle \\frac{2 |g_{p}|^{2} \\left(\\omega_{p}^{2} + \\omega_{+} \\omega_{-}\\right) \\left(\\omega_{+} - \\omega_{-}\\right) \\cos^{2}{\\left(\\omega_{p} t + \\phi_{p} \\right)}}{\\left(- \\omega_{p} + \\omega_{+}\\right) \\left(- \\omega_{p} + \\omega_{-}\\right) \\left(\\omega_{p} + \\omega_{+}\\right) \\left(\\omega_{p} + \\omega_{-}\\right)}$"
      ],
      "text/plain": [
       "2*|g_{p}|**2*(omega_p**2 + omega_+*omega_-)*(omega_+ - omega_-)*cos(omega_p*t + phi_p)**2/((-omega_p + omega_+)*(-omega_p + omega_-)*(omega_p + omega_+)*(omega_p + omega_-))"
      ]
     },
     "execution_count": 135,
     "metadata": {},
     "output_type": "execute_result"
    }
   ],
   "source": [
    "# Term obtained with SymPT\n",
    "sp.expand_complex(sp.factor_terms(group_by_operators(H2)[1]).subs({g_p: abs_gp * sp.exp(-sp.I * phi_p)}).expand().factor()).trigsimp().subs(hbar, 1).subs(sp.cos((2*(omega_p*t + phi_p)).factor()) + 1, 2*sp.cos(omega_p*t + phi_p)**2).subs({\n",
    "    omega_q + omega_a : omega_plus,\n",
    "    omega_q - omega_a : omega_minus,\n",
    "    hbar:1\n",
    "}).subs(omega_q**2 - omega_a**2, (omega_plus*omega_minus)).subs({\n",
    "    omega_a : sp.Rational(1,2) * (omega_plus - omega_minus),\n",
    "    omega_q : sp.Rational(1,2) * (omega_plus + omega_minus),\n",
    "    }).expand().cancel().factor()"
   ]
  },
  {
   "cell_type": "markdown",
   "metadata": {},
   "source": [
    "### $\\sigma_z a^\\dagger a$"
   ]
  },
  {
   "cell_type": "code",
   "execution_count": 148,
   "metadata": {},
   "outputs": [
    {
     "data": {
      "text/latex": [
       "$\\displaystyle - \\frac{2 |g_{p}|^{2} \\left(- \\omega_{p}^{2} + \\omega_{+} \\omega_{-}\\right) \\left(\\omega_{+} + \\omega_{-}\\right) \\left(\\cos{\\left(2 \\omega_{p} t + 2 \\phi_{p} \\right)} + 1\\right)}{\\left(- \\omega_{p} + \\omega_{+}\\right) \\left(- \\omega_{p} + \\omega_{-}\\right) \\left(\\omega_{p} + \\omega_{+}\\right) \\left(\\omega_{p} + \\omega_{-}\\right)}$"
      ],
      "text/plain": [
       "-2*|g_{p}|**2*(-omega_p**2 + omega_+*omega_-)*(omega_+ + omega_-)*(cos(2*omega_p*t + 2*phi_p) + 1)/((-omega_p + omega_+)*(-omega_p + omega_-)*(omega_p + omega_+)*(omega_p + omega_-))"
      ]
     },
     "execution_count": 148,
     "metadata": {},
     "output_type": "execute_result"
    }
   ],
   "source": [
    "# Term obtained in the paper\n",
    "sp.expand_complex(-gt * (sp.re(xi_minus) + sp.re(xi_plus))).expand().trigsimp().subs({\n",
    "    omega_q + omega_a : omega_plus,\n",
    "    omega_q - omega_a : omega_minus,\n",
    "    hbar:1\n",
    "}).subs(omega_q**2 - omega_a**2, (omega_plus*omega_minus)).subs({\n",
    "    omega_a : sp.Rational(1,2) * (omega_plus - omega_minus),\n",
    "    omega_q : sp.Rational(1,2) * (omega_plus + omega_minus),\n",
    "    }).expand().cancel().factor()"
   ]
  },
  {
   "cell_type": "code",
   "execution_count": 149,
   "metadata": {},
   "outputs": [
    {
     "data": {
      "text/latex": [
       "$\\displaystyle - \\frac{2 |g_{p}|^{2} \\left(- \\omega_{p}^{2} + \\omega_{+} \\omega_{-}\\right) \\left(\\omega_{+} + \\omega_{-}\\right) \\left(\\cos{\\left(2 \\omega_{p} t + 2 \\phi_{p} \\right)} + 1\\right)}{\\left(- \\omega_{p} + \\omega_{+}\\right) \\left(- \\omega_{p} + \\omega_{-}\\right) \\left(\\omega_{p} + \\omega_{+}\\right) \\left(\\omega_{p} + \\omega_{-}\\right)}$"
      ],
      "text/plain": [
       "-2*|g_{p}|**2*(-omega_p**2 + omega_+*omega_-)*(omega_+ + omega_-)*(cos(2*omega_p*t + 2*phi_p) + 1)/((-omega_p + omega_+)*(-omega_p + omega_-)*(omega_p + omega_+)*(omega_p + omega_-))"
      ]
     },
     "execution_count": 149,
     "metadata": {},
     "output_type": "execute_result"
    }
   ],
   "source": [
    "# Term obtained with SymPT\n",
    "sp.expand_complex(sp.factor_terms(group_by_operators(H2)[sz*ad*a])).subs({g_p: gp}).expand().factor().trigsimp().subs(hbar, 1).subs({\n",
    "    omega_q + omega_a : omega_plus,\n",
    "    omega_q - omega_a : omega_minus,\n",
    "    hbar:1\n",
    "}).subs(omega_q**2 - omega_a**2, (omega_plus*omega_minus)).subs({\n",
    "    omega_a : sp.Rational(1,2) * (omega_plus - omega_minus),\n",
    "    omega_q : sp.Rational(1,2) * (omega_plus + omega_minus),\n",
    "    }).expand().cancel().factor()"
   ]
  },
  {
   "cell_type": "markdown",
   "metadata": {},
   "source": [
    "### $a^2 \\sigma_z$"
   ]
  },
  {
   "cell_type": "code",
   "execution_count": 152,
   "metadata": {},
   "outputs": [
    {
     "data": {
      "text/latex": [
       "$\\displaystyle - \\frac{|g_{p}|^{2} \\left(\\omega_{+} + \\omega_{-}\\right) \\left(- \\omega_{p}^{2} \\cos{\\left(2 \\omega_{p} t + 2 \\phi_{p} \\right)} - \\omega_{p}^{2} - i \\omega_{p} \\omega_{+} \\sin{\\left(2 \\omega_{p} t + 2 \\phi_{p} \\right)} + i \\omega_{p} \\omega_{-} \\sin{\\left(2 \\omega_{p} t + 2 \\phi_{p} \\right)} + \\omega_{+} \\omega_{-} \\cos{\\left(2 \\omega_{p} t + 2 \\phi_{p} \\right)} + \\omega_{+} \\omega_{-}\\right)}{\\left(- \\omega_{p} + \\omega_{+}\\right) \\left(- \\omega_{p} + \\omega_{-}\\right) \\left(\\omega_{p} + \\omega_{+}\\right) \\left(\\omega_{p} + \\omega_{-}\\right)}$"
      ],
      "text/plain": [
       "-|g_{p}|**2*(omega_+ + omega_-)*(-omega_p**2*cos(2*omega_p*t + 2*phi_p) - omega_p**2 - I*omega_p*omega_+*sin(2*omega_p*t + 2*phi_p) + I*omega_p*omega_-*sin(2*omega_p*t + 2*phi_p) + omega_+*omega_-*cos(2*omega_p*t + 2*phi_p) + omega_+*omega_-)/((-omega_p + omega_+)*(-omega_p + omega_-)*(omega_p + omega_+)*(omega_p + omega_-))"
      ]
     },
     "execution_count": 152,
     "metadata": {},
     "output_type": "execute_result"
    }
   ],
   "source": [
    "# Term obtained in the paper\n",
    "sp.expand_complex(-sp.Rational(1,2) * gt * ((sp.conjugate(xi_minus) + sp.conjugate(xi_plus)))).expand().trigsimp().subs({\n",
    "    omega_q + omega_a : omega_plus,\n",
    "    omega_q - omega_a : omega_minus,\n",
    "    hbar:1\n",
    "}).subs(omega_q**2 - omega_a**2, (omega_plus*omega_minus)).subs({\n",
    "    omega_a : sp.Rational(1,2) * (omega_plus - omega_minus),\n",
    "    omega_q : sp.Rational(1,2) * (omega_plus + omega_minus),\n",
    "    }).expand().cancel().factor()"
   ]
  },
  {
   "cell_type": "code",
   "execution_count": 153,
   "metadata": {},
   "outputs": [
    {
     "data": {
      "text/latex": [
       "$\\displaystyle - \\frac{|g_{p}|^{2} \\left(\\omega_{+} + \\omega_{-}\\right) \\left(- \\omega_{p}^{2} \\cos{\\left(2 \\omega_{p} t + 2 \\phi_{p} \\right)} - \\omega_{p}^{2} - i \\omega_{p} \\omega_{+} \\sin{\\left(2 \\omega_{p} t + 2 \\phi_{p} \\right)} + i \\omega_{p} \\omega_{-} \\sin{\\left(2 \\omega_{p} t + 2 \\phi_{p} \\right)} + \\omega_{+} \\omega_{-} \\cos{\\left(2 \\omega_{p} t + 2 \\phi_{p} \\right)} + \\omega_{+} \\omega_{-}\\right)}{\\left(- \\omega_{p} + \\omega_{+}\\right) \\left(- \\omega_{p} + \\omega_{-}\\right) \\left(\\omega_{p} + \\omega_{+}\\right) \\left(\\omega_{p} + \\omega_{-}\\right)}$"
      ],
      "text/plain": [
       "-|g_{p}|**2*(omega_+ + omega_-)*(-omega_p**2*cos(2*omega_p*t + 2*phi_p) - omega_p**2 - I*omega_p*omega_+*sin(2*omega_p*t + 2*phi_p) + I*omega_p*omega_-*sin(2*omega_p*t + 2*phi_p) + omega_+*omega_-*cos(2*omega_p*t + 2*phi_p) + omega_+*omega_-)/((-omega_p + omega_+)*(-omega_p + omega_-)*(omega_p + omega_+)*(omega_p + omega_-))"
      ]
     },
     "execution_count": 153,
     "metadata": {},
     "output_type": "execute_result"
    }
   ],
   "source": [
    "# Term obtained with SymPT\n",
    "sp.expand_complex(sp.factor_terms(group_by_operators(H2_corrections[2])[sz*a**2])).subs({g_p: gp}).expand().factor().trigsimp().subs(hbar, 1).subs({\n",
    "    omega_q + omega_a : omega_plus,\n",
    "    omega_q - omega_a : omega_minus,\n",
    "    hbar:1\n",
    "}).subs(omega_q**2 - omega_a**2, (omega_plus*omega_minus)).subs({\n",
    "    omega_a : sp.Rational(1,2) * (omega_plus - omega_minus),\n",
    "    omega_q : sp.Rational(1,2) * (omega_plus + omega_minus),\n",
    "    }).expand().cancel().factor()"
   ]
  }
 ],
 "metadata": {
  "kernelspec": {
   "display_name": "Python 3 (ipykernel)",
   "language": "python",
   "name": "python3"
  },
  "language_info": {
   "codemirror_mode": {
    "name": "ipython",
    "version": 3
   },
   "file_extension": ".py",
   "mimetype": "text/x-python",
   "name": "python",
   "nbconvert_exporter": "python",
   "pygments_lexer": "ipython3",
   "version": "3.9.20"
  }
 },
 "nbformat": 4,
 "nbformat_minor": 4
}
