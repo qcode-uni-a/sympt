{
 "cells": [
  {
   "cell_type": "markdown",
   "metadata": {},
   "source": [
    "System found in **Pymablock: an algorithm and a package for\n",
    "quasi-degenerate perturbation theory**: arXiv:2404.03728v1"
   ]
  },
  {
   "cell_type": "code",
   "execution_count": 1,
   "metadata": {},
   "outputs": [],
   "source": [
    "# Objects for defining the Hamiltonian\n",
    "from sympt import *\n",
    "# Import sympy\n",
    "import sympy as sp"
   ]
  },
  {
   "cell_type": "markdown",
   "metadata": {},
   "source": [
    "# Setup"
   ]
  },
  {
   "cell_type": "code",
   "execution_count": 2,
   "metadata": {},
   "outputs": [
    {
     "data": {
      "text/latex": [
       "$\\displaystyle \\frac{\\alpha {{a_t}^\\dagger}^{2} {a_t}^{2}}{2} + \\omega_{r} {{a_r}^\\dagger} {a_r} + \\omega_{t} {{a_t}^\\dagger} {a_t}$"
      ],
      "text/plain": [
       "alpha*Dagger(a_t)**2*a_t**2/2 + omega_r*Dagger(a_r)*a_r + omega_t*Dagger(a_t)*a_t"
      ]
     },
     "metadata": {},
     "output_type": "display_data"
    },
    {
     "data": {
      "text/latex": [
       "$\\displaystyle - g \\left({{a_t}^\\dagger} - {a_t}\\right) \\left({{a_r}^\\dagger} - {a_r}\\right)$"
      ],
      "text/plain": [
       "-g*(Dagger(a_t) - a_t)*(Dagger(a_r) - a_r)"
      ]
     },
     "metadata": {},
     "output_type": "display_data"
    }
   ],
   "source": [
    "# ---------------- Defining the symbols ------------------\n",
    "# Order 0\n",
    "omega_t = RDSymbol('omega_t', order=0, positive=True, real=True)\n",
    "omega_r = RDSymbol('omega_r', order=0, positive=True, real=True)\n",
    "alpha   = RDSymbol('alpha', order=0, positive=True, real=True)\n",
    "# Order 1\n",
    "g = RDSymbol('g', order=1, positive=True, real=True)\n",
    "\n",
    "# ----------------- Defining the basis -------------------\n",
    "# Boson basis transmon: Infinite bosonic Hilbert space\n",
    "a_t  = BosonOp('a_t')\n",
    "ad_t = Dagger(a_t)\n",
    "# Boson basis resonator: Infinite bosonic Hilbert space\n",
    "a_r  = BosonOp('a_r')\n",
    "ad_r = Dagger(a_r)\n",
    "\n",
    "# -------------- Defining the Hamiltonian ----------------\n",
    "# Unperturbed Hamiltonian H0\n",
    "H0 = omega_t * ad_t * a_t + omega_r * ad_r * a_r + sp.Rational(1,2) * alpha * ad_t * ad_t * a_t * a_t\n",
    "display(H0)\n",
    "# Interaction Hamiltonian V\n",
    "V = -g * (ad_t - a_t) * (ad_r - a_r)\n",
    "display(V)"
   ]
  },
  {
   "cell_type": "code",
   "execution_count": 3,
   "metadata": {},
   "outputs": [
    {
     "name": "stderr",
     "output_type": "stream",
     "text": [
      "\u001b[32mThe EffectiveFrame object has been initialized successfully.\u001b[0m\n"
     ]
    }
   ],
   "source": [
    "# Deffining Effective Hamiltonian Object\n",
    "Eff_frame = EffectiveFrame(H0, V)"
   ]
  },
  {
   "cell_type": "markdown",
   "metadata": {},
   "source": [
    "# Standard Schrieffer-Wolff Transformation"
   ]
  },
  {
   "cell_type": "code",
   "execution_count": 4,
   "metadata": {},
   "outputs": [
    {
     "name": "stderr",
     "output_type": "stream",
     "text": [
      "Computing the effective Hamiltonian: 100%|████████| 2/2 [00:01<00:00,  1.25it/s]\n",
      "\u001b[32mThe Hamiltonian has been solved successfully. Please use the get_H method to get the result in the desired form.\u001b[0m\n",
      "Converting to operator form: 100%|████████████████| 2/2 [00:00<00:00, 14.70it/s]\n"
     ]
    },
    {
     "name": "stderr",
     "output_type": "stream",
     "text": [
      "Computing the effective Hamiltonian: 100%|██████████| 2/2 [00:00<00:00,  5.14it/s]\n",
      "\u001b[32mThe Hamiltonian has been solved successfully. Please use the get_H method to get the result in the desired form.\u001b[0m\n",
      "Converting to operator form: 100%|██████████| 2/2 [00:00<00:00, 52.81it/s]\n"
     ]
    }
   ],
   "source": [
    "# Calculate the effective model using the Schrieffer-Wolff transformation up to the second order\n",
    "Eff_frame.solve(max_order=2, method=\"SW\")\n",
    "# Obtaining the result in the dict_operator form\n",
    "H_eff_SWT = Eff_frame.get_H(return_form='operator')"
   ]
  },
  {
   "cell_type": "code",
   "execution_count": 5,
   "metadata": {},
   "outputs": [],
   "source": [
    "# substitution dictionary for transmon ground state\n",
    "subs_nt0 = {\n",
    "    a_t : 0,\n",
    "    ad_t : 0\n",
    "}\n",
    "\n",
    "# Corrections to the Hamiltonian for each order\n",
    "H0, H2 = [H_correction for H_correction in Eff_frame.corrections.values()]"
   ]
  },
  {
   "cell_type": "code",
   "execution_count": 6,
   "metadata": {},
   "outputs": [
    {
     "data": {
      "text/latex": [
       "$\\displaystyle {{a_t}^\\dagger} {a_t} : - \\frac{\\alpha}{2} + \\omega_{t}$"
      ],
      "text/plain": [
       "<IPython.core.display.Math object>"
      ]
     },
     "metadata": {},
     "output_type": "display_data"
    },
    {
     "data": {
      "text/latex": [
       "$\\displaystyle \\left({{a_t}^\\dagger} {a_t}\\right)^{2} : \\frac{\\alpha}{2}$"
      ],
      "text/plain": [
       "<IPython.core.display.Math object>"
      ]
     },
     "metadata": {},
     "output_type": "display_data"
    },
    {
     "data": {
      "text/latex": [
       "$\\displaystyle {{a_r}^\\dagger} {a_r} : \\omega_{r}$"
      ],
      "text/plain": [
       "<IPython.core.display.Math object>"
      ]
     },
     "metadata": {},
     "output_type": "display_data"
    }
   ],
   "source": [
    "# displaying 0th order correction\n",
    "display_dict(group_by_operators(H0))"
   ]
  },
  {
   "cell_type": "code",
   "execution_count": 7,
   "metadata": {},
   "outputs": [
    {
     "data": {
      "text/latex": [
       "$\\displaystyle {{a_r}^\\dagger}^{2} : - \\frac{g^{2} \\omega_{t}}{\\left(\\omega_{r} - \\omega_{t}\\right) \\left(\\omega_{r} + \\omega_{t}\\right)}$"
      ],
      "text/plain": [
       "<IPython.core.display.Math object>"
      ]
     },
     "metadata": {},
     "output_type": "display_data"
    },
    {
     "data": {
      "text/latex": [
       "$\\displaystyle {a_r}^{2} : - \\frac{g^{2} \\omega_{t}}{\\left(\\omega_{r} - \\omega_{t}\\right) \\left(\\omega_{r} + \\omega_{t}\\right)}$"
      ],
      "text/plain": [
       "<IPython.core.display.Math object>"
      ]
     },
     "metadata": {},
     "output_type": "display_data"
    },
    {
     "data": {
      "text/latex": [
       "$\\displaystyle 1 : - \\frac{g^{2}}{\\omega_{r} + \\omega_{t}}$"
      ],
      "text/plain": [
       "<IPython.core.display.Math object>"
      ]
     },
     "metadata": {},
     "output_type": "display_data"
    },
    {
     "data": {
      "text/latex": [
       "$\\displaystyle {{a_r}^\\dagger} {a_r} : \\frac{2 g^{2} \\omega_{t}}{\\left(\\omega_{r} - \\omega_{t}\\right) \\left(\\omega_{r} + \\omega_{t}\\right)}$"
      ],
      "text/plain": [
       "<IPython.core.display.Math object>"
      ]
     },
     "metadata": {},
     "output_type": "display_data"
    }
   ],
   "source": [
    "# displaying second order correction\n",
    "grouped_H2 = group_by_operators(H2.subs(subs_nt0).expand())\n",
    "display_dict({k : v.simplify() for k,v in grouped_H2.items()})"
   ]
  },
  {
   "cell_type": "markdown",
   "metadata": {},
   "source": [
    "# ACE"
   ]
  },
  {
   "cell_type": "code",
   "execution_count": 8,
   "metadata": {},
   "outputs": [
    {
     "name": "stderr",
     "output_type": "stream",
     "text": [
      "\u001b[32mThe perturbative interaction will be added to the full Hamiltonian\u001b[0m\n",
      "Computing the effective Hamiltonian: 100%|████████| 2/2 [00:03<00:00,  1.82s/it]\n",
      "\u001b[32mThe Hamiltonian has been solved successfully. Please use the get_H method to get the result in the desired form.\u001b[0m\n",
      "Converting to operator form: 100%|████████████████| 2/2 [00:00<00:00, 26.67it/s]\n"
     ]
    }
   ],
   "source": [
    "# Deffining the mask\n",
    "mask = Block(inf=a_r*a_t) +  Block(inf=ad_r*a_t) + Block(inf=a_r**2) + Block(inf=a_t**2*a_r**2) + Block(inf=ad_t*ad_r) + Block(inf=ad_t**2*a_r**2) \n",
    "# Calculate the effective model using the Mask routine up to the second order\n",
    "Eff_frame.solve(max_order=2, method=\"ACE\", mask=mask)\n",
    "H_eff_Mask = Eff_frame.get_H(return_form='operator')"
   ]
  },
  {
   "cell_type": "code",
   "execution_count": 9,
   "metadata": {},
   "outputs": [],
   "source": [
    "# Corrections to the Hamiltonian for each order\n",
    "H0, H2 = [H_correction for H_correction in Eff_frame.corrections.values()]"
   ]
  },
  {
   "cell_type": "code",
   "execution_count": 10,
   "metadata": {},
   "outputs": [
    {
     "data": {
      "text/latex": [
       "$\\displaystyle {{a_t}^\\dagger} {a_t} : - \\frac{\\alpha}{2} + \\omega_{t}$"
      ],
      "text/plain": [
       "<IPython.core.display.Math object>"
      ]
     },
     "metadata": {},
     "output_type": "display_data"
    },
    {
     "data": {
      "text/latex": [
       "$\\displaystyle \\left({{a_t}^\\dagger} {a_t}\\right)^{2} : \\frac{\\alpha}{2}$"
      ],
      "text/plain": [
       "<IPython.core.display.Math object>"
      ]
     },
     "metadata": {},
     "output_type": "display_data"
    },
    {
     "data": {
      "text/latex": [
       "$\\displaystyle {{a_r}^\\dagger} {a_r} : \\omega_{r}$"
      ],
      "text/plain": [
       "<IPython.core.display.Math object>"
      ]
     },
     "metadata": {},
     "output_type": "display_data"
    }
   ],
   "source": [
    "# displaying 0th order corrections\n",
    "display_dict(group_by_operators(H0))"
   ]
  },
  {
   "cell_type": "code",
   "execution_count": 11,
   "metadata": {},
   "outputs": [
    {
     "data": {
      "text/latex": [
       "$\\displaystyle {{a_r}^\\dagger} {a_r} : - \\frac{g^{2}}{N_{t} \\alpha + \\omega_{r} + \\omega_{t}} - \\frac{g^{2}}{N_{t} \\alpha - \\omega_{r} + \\omega_{t}}$"
      ],
      "text/plain": [
       "<IPython.core.display.Math object>"
      ]
     },
     "metadata": {},
     "output_type": "display_data"
    },
    {
     "data": {
      "text/latex": [
       "$\\displaystyle {{a_t}^\\dagger} {a_t} {{a_r}^\\dagger} {a_r} : \\frac{g^{2}}{N_{t} \\alpha - \\alpha + \\omega_{r} + \\omega_{t}} + \\frac{g^{2}}{N_{t} \\alpha - \\alpha - \\omega_{r} + \\omega_{t}} - \\frac{g^{2}}{N_{t} \\alpha + \\omega_{r} + \\omega_{t}} - \\frac{g^{2}}{N_{t} \\alpha - \\omega_{r} + \\omega_{t}}$"
      ],
      "text/plain": [
       "<IPython.core.display.Math object>"
      ]
     },
     "metadata": {},
     "output_type": "display_data"
    },
    {
     "data": {
      "text/latex": [
       "$\\displaystyle {a_t}^{2} {{a_r}^\\dagger} {a_r} : - \\frac{g^{2}}{2 \\left(N_{t} \\alpha + \\alpha + \\omega_{r} + \\omega_{t}\\right)} - \\frac{g^{2}}{2 \\left(N_{t} \\alpha + \\alpha - \\omega_{r} + \\omega_{t}\\right)} + \\frac{g^{2}}{2 \\left(N_{t} \\alpha + \\omega_{r} + \\omega_{t}\\right)} + \\frac{g^{2}}{2 \\left(N_{t} \\alpha - \\omega_{r} + \\omega_{t}\\right)}$"
      ],
      "text/plain": [
       "<IPython.core.display.Math object>"
      ]
     },
     "metadata": {},
     "output_type": "display_data"
    },
    {
     "data": {
      "text/latex": [
       "$\\displaystyle 1 : - \\frac{g^{2}}{N_{t} \\alpha + \\omega_{r} + \\omega_{t}}$"
      ],
      "text/plain": [
       "<IPython.core.display.Math object>"
      ]
     },
     "metadata": {},
     "output_type": "display_data"
    },
    {
     "data": {
      "text/latex": [
       "$\\displaystyle {{a_t}^\\dagger} {a_t} : \\frac{g^{2}}{N_{t} \\alpha - \\alpha - \\omega_{r} + \\omega_{t}} - \\frac{g^{2}}{N_{t} \\alpha + \\omega_{r} + \\omega_{t}}$"
      ],
      "text/plain": [
       "<IPython.core.display.Math object>"
      ]
     },
     "metadata": {},
     "output_type": "display_data"
    },
    {
     "data": {
      "text/latex": [
       "$\\displaystyle {a_t}^{2} : - \\frac{g^{2}}{2 \\left(N_{t} \\alpha + \\alpha - \\omega_{r} + \\omega_{t}\\right)} + \\frac{g^{2}}{2 \\left(N_{t} \\alpha + \\omega_{r} + \\omega_{t}\\right)}$"
      ],
      "text/plain": [
       "<IPython.core.display.Math object>"
      ]
     },
     "metadata": {},
     "output_type": "display_data"
    },
    {
     "data": {
      "text/latex": [
       "$\\displaystyle {{a_t}^\\dagger}^{2} {{a_r}^\\dagger} {a_r} : - \\frac{g^{2}}{2 \\left(N_{t} \\alpha - \\alpha + \\omega_{r} + \\omega_{t}\\right)} - \\frac{g^{2}}{2 \\left(N_{t} \\alpha - \\alpha - \\omega_{r} + \\omega_{t}\\right)} + \\frac{g^{2}}{2 \\left(N_{t} \\alpha - 2 \\alpha + \\omega_{r} + \\omega_{t}\\right)} + \\frac{g^{2}}{2 \\left(N_{t} \\alpha - 2 \\alpha - \\omega_{r} + \\omega_{t}\\right)}$"
      ],
      "text/plain": [
       "<IPython.core.display.Math object>"
      ]
     },
     "metadata": {},
     "output_type": "display_data"
    },
    {
     "data": {
      "text/latex": [
       "$\\displaystyle {{a_t}^\\dagger}^{2} : - \\frac{g^{2}}{2 \\left(N_{t} \\alpha - \\alpha - \\omega_{r} + \\omega_{t}\\right)} + \\frac{g^{2}}{2 \\left(N_{t} \\alpha - 2 \\alpha + \\omega_{r} + \\omega_{t}\\right)}$"
      ],
      "text/plain": [
       "<IPython.core.display.Math object>"
      ]
     },
     "metadata": {},
     "output_type": "display_data"
    }
   ],
   "source": [
    "# displaying second order corrections\n",
    "nt = RDSymbol(\"N_t\")\n",
    "grouped_H2 = group_by_operators(H2.expand())\n",
    "simplifier = lambda x: sp.Add(*[t.factor() for t in x.subs({ad_t*a_t : nt}).as_ordered_terms()]).collect([1/((nt*alpha-alpha + omega_r + omega_t)**2)\n",
    "                                                                                                       , 1/((nt*alpha-alpha - omega_r + omega_t)**2),\n",
    "                                                                                                       1/((nt*alpha - omega_r + omega_t)**2),\n",
    "                                                                                                       1/((nt*alpha + omega_r + omega_t)**2),\n",
    "                                                                                                       1/(nt*alpha-alpha+omega_r+omega_t),])\n",
    "display_dict({k : simplifier(v) for k,v in grouped_H2.items()})"
   ]
  },
  {
   "cell_type": "markdown",
   "metadata": {},
   "source": [
    "# Full-diagonalization"
   ]
  },
  {
   "cell_type": "code",
   "execution_count": 12,
   "metadata": {},
   "outputs": [
    {
     "name": "stderr",
     "output_type": "stream",
     "text": [
      "\u001b[32mThe perturbative interaction will be added to the full Hamiltonian\u001b[0m\n",
      "Computing the effective Hamiltonian: 100%|████████| 2/2 [00:02<00:00,  1.45s/it]\n",
      "\u001b[32mThe Hamiltonian has been solved successfully. Please use the get_H method to get the result in the desired form.\u001b[0m\n",
      "Converting to dictionary of operator form: 100%|█| 2/2 [00:00<00:00, 3988.88it/s\n"
     ]
    }
   ],
   "source": [
    "# Calculate the effective model using the Full Diagonalization routine up to the second order\n",
    "Eff_frame.solve(max_order=2, method=\"FD\")\n",
    "H_eff_FD = Eff_frame.get_H(return_form='dict_operator')"
   ]
  },
  {
   "cell_type": "code",
   "execution_count": 13,
   "metadata": {},
   "outputs": [],
   "source": [
    "H0, H2 = [H_correction for H_correction in Eff_frame.corrections.values()]"
   ]
  },
  {
   "cell_type": "code",
   "execution_count": 14,
   "metadata": {},
   "outputs": [
    {
     "data": {
      "text/latex": [
       "$\\displaystyle 1 : - \\frac{g^{2}}{N_{t} \\alpha + \\omega_{r} + \\omega_{t}}$"
      ],
      "text/plain": [
       "<IPython.core.display.Math object>"
      ]
     },
     "metadata": {},
     "output_type": "display_data"
    },
    {
     "data": {
      "text/latex": [
       "$\\displaystyle {{a_r}^\\dagger} {a_r} : - \\frac{g^{2}}{N_{t} \\alpha + \\omega_{r} + \\omega_{t}} + \\frac{g^{2}}{- N_{t} \\alpha + \\omega_{r} - \\omega_{t}}$"
      ],
      "text/plain": [
       "<IPython.core.display.Math object>"
      ]
     },
     "metadata": {},
     "output_type": "display_data"
    },
    {
     "data": {
      "text/latex": [
       "$\\displaystyle {{a_t}^\\dagger} {a_t} : \\frac{g^{2}}{N_{t} \\alpha - \\alpha - \\omega_{r} + \\omega_{t}} - \\frac{g^{2}}{N_{t} \\alpha + \\omega_{r} + \\omega_{t}}$"
      ],
      "text/plain": [
       "<IPython.core.display.Math object>"
      ]
     },
     "metadata": {},
     "output_type": "display_data"
    },
    {
     "data": {
      "text/latex": [
       "$\\displaystyle {{a_t}^\\dagger} {a_t} {{a_r}^\\dagger} {a_r} : \\frac{g^{2}}{N_{t} \\alpha - \\alpha + \\omega_{r} + \\omega_{t}} + \\frac{g^{2}}{N_{t} \\alpha - \\alpha - \\omega_{r} + \\omega_{t}} - \\frac{g^{2}}{N_{t} \\alpha + \\omega_{r} + \\omega_{t}} + \\frac{g^{2}}{- N_{t} \\alpha + \\omega_{r} - \\omega_{t}}$"
      ],
      "text/plain": [
       "<IPython.core.display.Math object>"
      ]
     },
     "metadata": {},
     "output_type": "display_data"
    }
   ],
   "source": [
    "display_dict({k:x.subs({ad_t*a_t : nt}) for k,x in H2.items()})"
   ]
  }
 ],
 "metadata": {
  "kernelspec": {
   "display_name": "Python 3 (ipykernel)",
   "language": "python",
   "name": "python3"
  },
  "language_info": {
   "codemirror_mode": {
    "name": "ipython",
    "version": 3
   },
   "file_extension": ".py",
   "mimetype": "text/x-python",
   "name": "python",
   "nbconvert_exporter": "python",
   "pygments_lexer": "ipython3",
   "version": "3.13.1"
  }
 },
 "nbformat": 4,
 "nbformat_minor": 4
}
