{
 "cells": [
  {
   "cell_type": "code",
   "execution_count": 1,
   "id": "aa882a4e-a547-4f60-b250-e76c64a0fe43",
   "metadata": {},
   "outputs": [],
   "source": [
    "from SymPT import *\n",
    "import sympy as sp\n",
    "import numpy as np\n",
    "import matplotlib.pyplot as plt\n",
    "from tqdm import tqdm\n",
    "import scipy.linalg as la"
   ]
  },
  {
   "cell_type": "code",
   "execution_count": 2,
   "id": "f826769d-6603-4ee9-82ed-800fa4c43dc1",
   "metadata": {},
   "outputs": [],
   "source": [
    "#plt.style.use(\"classic\")\n",
    "cmap = plt.get_cmap('inferno')\n",
    "plt.rc('text', usetex = True)\n",
    "plt.rc('font', family = 'serif', weight = 'normal')\n",
    "plt.rc('font', size = 18)\n",
    "color_list = [cmap(i) for i in np.linspace(0, 1, 16)]\n",
    "fntsize = 20\n",
    "dir_images = \"graphs/\""
   ]
  },
  {
   "cell_type": "code",
   "execution_count": 3,
   "id": "ed7870a3-0bf6-4386-b4f7-a5dda7c4d1de",
   "metadata": {},
   "outputs": [],
   "source": [
    "def get_structure(block_sizes):\n",
    "    \"\"\"\n",
    "    Generate a block structure with specified block sizes.\n",
    "    \n",
    "    Parameters:\n",
    "    -----------\n",
    "    block_sizes : list of int\n",
    "        List of block sizes for each section of the matrix\n",
    "        \n",
    "    Returns:\n",
    "    --------\n",
    "    structure : numpy.ndarray\n",
    "        The generated block structure matrix\n",
    "    \"\"\"\n",
    "    # functions for generating blocks\n",
    "    block = lambda i, j: np.ones((i, j))\n",
    "    zero = lambda i, j: np.zeros((i, j))\n",
    "    \n",
    "    \n",
    "    n = len(block_sizes) # initial block structure\n",
    "    structure = []\n",
    "    \n",
    "    for i in range(n):\n",
    "        row = []\n",
    "        for j in range(n):\n",
    "            # Fill with zeros if i > j (lower triangle)\n",
    "            if i > j:\n",
    "                row.append(zero(block_sizes[i], block_sizes[j]))\n",
    "            # Create block of ones for diagonal\n",
    "            elif i == j:\n",
    "                row.append(zero(block_sizes[i], block_sizes[j]))\n",
    "            # Fill with ones for upper triangle\n",
    "            else:\n",
    "                row.append(block(block_sizes[i], block_sizes[j]))\n",
    "        structure.append(row)\n",
    "    \n",
    "\n",
    "    structure = np.block(structure) # Convert to numpy block matrix\n",
    "    \n",
    "    structure = structure + structure.T # Make symmetric \n",
    "    \n",
    "    return structure"
   ]
  },
  {
   "cell_type": "markdown",
   "id": "5aed04d4-4d1d-4bad-ba3e-36044a74ec03",
   "metadata": {},
   "source": [
    "# Hamiltonian"
   ]
  },
  {
   "cell_type": "code",
   "execution_count": 4,
   "id": "0bdb5fec-4c4c-4227-8bcc-7dcb7454456d",
   "metadata": {},
   "outputs": [],
   "source": [
    "def substitution_rules(I, J, omegas, lambdas):\n",
    "    \"\"\"Returns 2 dictionaries containing substitution rules for H\"\"\"\n",
    "    omega_values = np.sort([np.random.uniform(-10, 10) for _ in range(I)])  \n",
    "    substitution_dict = {omegas[i]: omega_values[i] for i in range(I)}\n",
    "    substitution_omegas = {omegas[i]: omega_values[i] for i in range(I)}\n",
    "\n",
    "    lambda_index = 0\n",
    "    for i in range(I):\n",
    "        for j in range(i+1, J):  # Iterate only over the upper triangular part\n",
    "            bound = 0.1**(lambdas[lambda_index].order) * abs(omega_values[i] - omega_values[j])            \n",
    "            lambda_value = bound             \n",
    "            substitution_dict[lambdas[lambda_index]] = lambda_value \n",
    "            lambda_index += 1\n",
    "            \n",
    "    return substitution_dict, substitution_omegas\n"
   ]
  },
  {
   "cell_type": "code",
   "execution_count": 5,
   "id": "51feab69",
   "metadata": {},
   "outputs": [],
   "source": [
    "def create_Hamiltonian(I, J):\n",
    "    lambdas = [RDSymbol(f\"\\\\lambda_{i}\", order = 1, real = True) for i in range(int((I**2 -I))//2)]\n",
    "    omegas = [RDSymbol(f\"\\\\omega_{i}\", order = 0, real = True) for i in range(I)]\n",
    "\n",
    "    H = sp.zeros(I, J)\n",
    "    lambda_index = 0\n",
    "    for i in range(I):\n",
    "        H[i, i] = omegas[i]  # Diagonal elements\n",
    "        for j in range(i + 1, J):\n",
    "            H[i, j] = lambdas[lambda_index]\n",
    "            H[j, i] = lambdas[lambda_index]  # Ensure symmetry\n",
    "            lambda_index += 1\n",
    "    return H, omegas, lambdas"
   ]
  },
  {
   "cell_type": "markdown",
   "id": "bc64efec-49a8-4a6e-8b27-1328a887053c",
   "metadata": {},
   "source": [
    "# Exact Block Diagonalization"
   ]
  },
  {
   "cell_type": "code",
   "execution_count": 6,
   "id": "af867ee1-47a3-4197-8863-63bdc6ea8be8",
   "metadata": {},
   "outputs": [],
   "source": [
    "def exact_block_diagonalization(Hh, mask):\n",
    "    # Unitary transformation\n",
    "    _, X = la.eigh(Hh)\n",
    "    \n",
    "    X_inv = np.linalg.inv(X)\n",
    "    \n",
    "    B_mask = lambda x: np.logical_not(mask) * 1 * x\n",
    "\n",
    "    T = X @ B_mask(X_inv) @ la.fractional_matrix_power(B_mask(X) @ B_mask(X_inv), -1/2)\n",
    "\n",
    "    return la.inv(T) @ Hh @ T\n"
   ]
  },
  {
   "cell_type": "markdown",
   "id": "d8bfcad1-d4a1-4201-82d1-ce6a0b91ac8c",
   "metadata": {},
   "source": [
    "# Least Action Method"
   ]
  },
  {
   "cell_type": "code",
   "execution_count": 7,
   "id": "ce4f6d28-e51f-451d-ad2c-3b0236e954fd",
   "metadata": {},
   "outputs": [
    {
     "name": "stdout",
     "output_type": "stream",
     "text": [
      "100%. Blocks: [1 4 1 0 0] - Dim 6x6\r"
     ]
    }
   ],
   "source": [
    "max_dim = 7\n",
    "results_random_matrix = []\n",
    "max_order = 5\n",
    "\n",
    "for it in range(100):\n",
    "    b_dims = np.random.randint(5, size=5)\n",
    "    while np.sum(b_dims) > max_dim:\n",
    "        b_dims = np.random.randint(5, size=5)\n",
    "    structure = get_structure(b_dims)\n",
    "    mask = Block(structure)\n",
    "\n",
    "    I, J = structure.shape\n",
    "    print(f\"{it + 1}%. Blocks: {b_dims} - Dim {I}x{J}\", end = \"\\r\")\n",
    "\n",
    "    H, omegas, lambdas = create_Hamiltonian(I, J)\n",
    "    values, omegas_dict = substitution_rules(I,J, omegas, lambdas)\n",
    "\n",
    "    Eff_Frame = EffectiveFrame(H, symbol_values = values, verbose = False)\n",
    "\n",
    "    Hh = np.array(H.subs(values), dtype=float)\n",
    "    exact_result = exact_block_diagonalization(Hh, structure)\n",
    "\n",
    "    # Calculate the effective model using mask up to the second order\n",
    "    Eff_Frame.solve(max_order = max_order, method = \"LA\", mask=mask)\n",
    "    # Obtaining the result in the matrix form\n",
    "    LA_result = Eff_Frame.get_H(return_form = \"matrix\")\n",
    "    \n",
    "    results_random_matrix.append([exact_result, Eff_Frame.corrections])"
   ]
  },
  {
   "cell_type": "markdown",
   "id": "1a502237-5941-4254-9db9-71d670cae465",
   "metadata": {},
   "source": [
    "# Comparison with exact result"
   ]
  },
  {
   "cell_type": "code",
   "execution_count": 8,
   "id": "da3d6be7",
   "metadata": {},
   "outputs": [],
   "source": [
    "def fidelity(A, B):\n",
    "    return np.linalg.norm(A - B) / np.linalg.norm(A)"
   ]
  },
  {
   "cell_type": "code",
   "execution_count": 9,
   "id": "5e6d6cc3",
   "metadata": {},
   "outputs": [
    {
     "name": "stderr",
     "output_type": "stream",
     "text": [
      "  0%|          | 0/100 [00:00<?, ?it/s]"
     ]
    },
    {
     "name": "stderr",
     "output_type": "stream",
     "text": [
      "100%|██████████| 100/100 [05:41<00:00,  3.42s/it]\n"
     ]
    }
   ],
   "source": [
    "errors_order = []\n",
    "\n",
    "for i in trange(len(results_random_matrix)):\n",
    "    exact_result, LA_corrections = results_random_matrix[i]\n",
    "    error_order = []\n",
    "    LA_res = np.zeros_like(exact_result)\n",
    "    for order in range(max_order + 1):\n",
    "        LA_res += np.array(LA_corrections.get(order, sp.zeros(*exact_result.shape)).evalf(), dtype=float)\n",
    "        error_order.append(fidelity(exact_result, LA_res))\n",
    "    errors_order.append(error_order)"
   ]
  },
  {
   "cell_type": "code",
   "execution_count": 10,
   "id": "c4f9dc1e",
   "metadata": {},
   "outputs": [
    {
     "name": "stdout",
     "output_type": "stream",
     "text": [
      "Order 0\n",
      "[ 0  1  2  3  5  6  7  8  9 10 11 12 13 14 15 16 17 18 19 20 21 22 23 24\n",
      " 25 26 27 28 29 30 31 32 33 35 37 38 39 40 41 42 43 44 45 46 47 48 49 50\n",
      " 51 52 53 54 55 56 57 58 59 60 61 62 63 65 66 67 68 69 70 72 73 74 75 76\n",
      " 77 78 79 82 83 84 85 86 87 89 90 91 92 93 94 95 96 98 99]\n",
      "Order 1\n",
      "[ 2  3  5  7  9 10 11 12 13 14 15 16 17 19 21 23 24 25 26 28 30 31 32 33\n",
      " 35 37 38 39 40 42 43 44 46 48 50 51 52 53 54 55 56 57 58 60 61 62 63 65\n",
      " 66 67 68 69 70 72 73 74 75 76 77 79 82 83 84 85 87 93 94 95 96 98 99]\n",
      "Order 2\n",
      "[16 26 38 43 55 60 68 87]\n",
      "Order 3\n",
      "[ 2 10 16 26 43 55 68 73]\n",
      "Order 4\n",
      "[10 16 24 26 43 44 68 73 79 87]\n",
      "Order 5\n",
      "[10 13 16 24 26 43 68 73 79 87]\n"
     ]
    },
    {
     "data": {
      "text/plain": [
       "Text(0, 0.5, '$\\\\eta(n)$')"
      ]
     },
     "execution_count": 10,
     "metadata": {},
     "output_type": "execute_result"
    },
    {
     "data": {
      "image/png": "[encoded data removed]",
      "text/plain": [
       "<Figure size 1000x600 with 1 Axes>"
      ]
     },
     "metadata": {},
     "output_type": "display_data"
    }
   ],
   "source": [
    "errors_order = np.array(errors_order, float)\n",
    "\n",
    "fig, ax = plt.subplots(1, 1, figsize=(10, 6))\n",
    "\n",
    "for order in range(max_order + 1):\n",
    "    error = np.mean(errors_order[:, order])\n",
    "    print(f\"Order {order}\")\n",
    "    print(np.arange(len(errors_order[:, order]))[errors_order[:, order] > 0.05])\n",
    "    std = np.std(errors_order[:, order])\n",
    "    ax.errorbar(order, error, yerr=std, fmt=\"o\", label=f\"Order {order}\", color='blue')\n",
    "\n",
    "ax.set_xlabel(\"Order $[n]$\")\n",
    "ax.set_ylabel(r\"$\\eta(n)$\", fontsize=fntsize, labelpad=15)"
   ]
  },
  {
   "cell_type": "code",
   "execution_count": 11,
   "id": "36febd5d",
   "metadata": {},
   "outputs": [],
   "source": [
    "exact, corr = results_random_matrix[94]"
   ]
  },
  {
   "cell_type": "code",
   "execution_count": 12,
   "id": "858f6279",
   "metadata": {},
   "outputs": [
    {
     "data": {
      "text/plain": [
       "<matplotlib.colorbar.Colorbar at 0x7c01f95bd160>"
      ]
     },
     "execution_count": 12,
     "metadata": {},
     "output_type": "execute_result"
    },
    {
     "data": {
      "image/png": "[encoded data removed]",
      "text/plain": [
       "<Figure size 640x480 with 2 Axes>"
      ]
     },
     "metadata": {},
     "output_type": "display_data"
    }
   ],
   "source": [
    "corr_k = lambda k : np.array((sp.Add(*[corr[i].evalf() for i in range(k + 1)])), dtype=float)\n",
    "plt.imshow(np.abs(exact - corr_k(5)), cmap='inferno')\n",
    "plt.colorbar()"
   ]
  },
  {
   "cell_type": "code",
   "execution_count": 13,
   "id": "b6ddf902",
   "metadata": {},
   "outputs": [
    {
     "data": {
      "text/latex": [
       "$\\displaystyle \\left[\\begin{matrix}-6.399792347108 & -0.415009792638 & -0.134765668389 & 0.4589146028 & 0.0 & 0.0 & 0.0\\\\-0.415009792638 & -6.370432488949 & -0.137133948193 & 0.456528484465 & 0.0 & 0.0 & 0.0\\\\-0.134765668389 & -0.137133948193 & -3.859012441232 & 0.248303221971 & 0.0 & 0.0 & 0.0\\\\0.4589146028 & 0.456528484465 & 0.248303221971 & 1.595739119767 & 0.0 & 0.0 & 0.0\\\\0.0 & 0.0 & 0.0 & 0.0 & 8.892467737118 & 0.502295079995 & 0.523410296709\\\\0.0 & 0.0 & 0.0 & 0.0 & 0.502295079995 & 9.326813999712 & 0.490742582798\\\\0.0 & 0.0 & 0.0 & 0.0 & 0.523410296709 & 0.490742582798 & 9.513447240288\\end{matrix}\\right]$"
      ],
      "text/plain": [
       "Matrix([\n",
       "[-6.399792347108, -0.415009792638, -0.134765668389,   0.4589146028,            0.0,            0.0,            0.0],\n",
       "[-0.415009792638, -6.370432488949, -0.137133948193, 0.456528484465,            0.0,            0.0,            0.0],\n",
       "[-0.134765668389, -0.137133948193, -3.859012441232, 0.248303221971,            0.0,            0.0,            0.0],\n",
       "[   0.4589146028,  0.456528484465,  0.248303221971, 1.595739119767,            0.0,            0.0,            0.0],\n",
       "[            0.0,             0.0,             0.0,            0.0, 8.892467737118, 0.502295079995, 0.523410296709],\n",
       "[            0.0,             0.0,             0.0,            0.0, 0.502295079995, 9.326813999712, 0.490742582798],\n",
       "[            0.0,             0.0,             0.0,            0.0, 0.523410296709, 0.490742582798, 9.513447240288]])"
      ]
     },
     "execution_count": 13,
     "metadata": {},
     "output_type": "execute_result"
    }
   ],
   "source": [
    "sp.Matrix(corr_k(5).round(12))"
   ]
  },
  {
   "cell_type": "code",
   "execution_count": 14,
   "id": "f505c57b",
   "metadata": {},
   "outputs": [
    {
     "data": {
      "text/latex": [
       "$\\displaystyle \\left[\\begin{matrix}-6.409600021146 & -0.424816575929 & -0.144792159235 & 0.441874665596 & 0.0 & 0.0 & 0.0\\\\-0.424816575929 & -6.380238331788 & -0.147154333675 & 0.439520756746 & 0.0 & 0.0 & 0.0\\\\-0.144792159235 & -0.147154333675 & -3.86873472718 & 0.233956588342 & 0.0 & 0.0 & 0.0\\\\0.441874665596 & 0.439520756746 & 0.233956588342 & 1.584520234723 & 0.0 & 0.0 & 0.0\\\\0.0 & 0.0 & 0.0 & 0.0 & 8.905931657679 & 0.51579558255 & 0.536975735796\\\\0.0 & 0.0 & 0.0 & 0.0 & 0.51579558255 & 9.34031210831 & 0.504290704662\\\\0.0 & 0.0 & 0.0 & 0.0 & 0.536975735796 & 0.504290704662 & 9.527039898999\\end{matrix}\\right]$"
      ],
      "text/plain": [
       "Matrix([\n",
       "[-6.409600021146, -0.424816575929, -0.144792159235, 0.441874665596,            0.0,            0.0,            0.0],\n",
       "[-0.424816575929, -6.380238331788, -0.147154333675, 0.439520756746,            0.0,            0.0,            0.0],\n",
       "[-0.144792159235, -0.147154333675,  -3.86873472718, 0.233956588342,            0.0,            0.0,            0.0],\n",
       "[ 0.441874665596,  0.439520756746,  0.233956588342, 1.584520234723,            0.0,            0.0,            0.0],\n",
       "[            0.0,             0.0,             0.0,            0.0, 8.905931657679,  0.51579558255, 0.536975735796],\n",
       "[            0.0,             0.0,             0.0,            0.0,  0.51579558255,  9.34031210831, 0.504290704662],\n",
       "[            0.0,             0.0,             0.0,            0.0, 0.536975735796, 0.504290704662, 9.527039898999]])"
      ]
     },
     "execution_count": 14,
     "metadata": {},
     "output_type": "execute_result"
    }
   ],
   "source": [
    "sp.Matrix(exact.round(12))"
   ]
  },
  {
   "cell_type": "code",
   "execution_count": 15,
   "id": "48a12f14",
   "metadata": {},
   "outputs": [
    {
     "data": {
      "text/plain": [
       "np.float64(10.333456786669917)"
      ]
     },
     "execution_count": 15,
     "metadata": {},
     "output_type": "execute_result"
    }
   ],
   "source": [
    "np.linalg.norm(exact, ord=2)"
   ]
  }
 ],
 "metadata": {
  "kernelspec": {
   "display_name": "SymPT",
   "language": "python",
   "name": "python3"
  },
  "language_info": {
   "codemirror_mode": {
    "name": "ipython",
    "version": 3
   },
   "file_extension": ".py",
   "mimetype": "text/x-python",
   "name": "python",
   "nbconvert_exporter": "python",
   "pygments_lexer": "ipython3",
   "version": "3.13.0"
  }
 },
 "nbformat": 4,
 "nbformat_minor": 5
}
