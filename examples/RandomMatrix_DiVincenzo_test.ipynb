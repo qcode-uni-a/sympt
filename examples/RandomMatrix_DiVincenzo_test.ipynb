{
 "cells": [
  {
   "cell_type": "code",
   "execution_count": 9,
   "metadata": {},
   "outputs": [],
   "source": [
    "from SymPT import *\n",
    "import numpy as np\n",
    "import sympy as sp"
   ]
  },
  {
   "cell_type": "code",
   "execution_count": 10,
   "metadata": {},
   "outputs": [],
   "source": [
    "H_Dv = np.array([[0.994649, 0.000116406, 0.0000718376, 0.000126118, 0.0000778524,\n",
    "  0.0000947516, 0.0000878573, 0.0000273828,\n",
    "  0.0000851822], [0.000116406, 0.920502, 0.000159157, 0.000127701,\n",
    "  0.0000860832, 0.000111994, 0.000161341, 0.0000766511,\n",
    "  0.0000300605], [0.0000718376, 0.000159157, 0.678427, 0.000143383,\n",
    "  0.000100207, 0.000120234, 0.0000502429, 0.0000482053,\n",
    "  0.0000722342], [0.000126118, 0.000127701, 0.000143383, 0.651484,\n",
    "  0.000147627, 0.000123086, 0.000112963, 0.000194782,\n",
    "  0.000138022], [0.0000778524, 0.0000860832, 0.000100207, 0.000147627,\n",
    "   0.60591, 0.000177963, 0.0000917733, 0.0000248701,\n",
    "  0.000190735], [0.0000947516, 0.000111994, 0.000120234, 0.000123086,\n",
    "  0.000177963, 0.583123, 0.0000623582, 0.000103015,\n",
    "  0.000104973], [0.0000878573, 0.000161341, 0.0000502429, 0.000112963,\n",
    "   0.0000917733, 0.0000623582, 0.532847, 0.0000902471,\n",
    "  0.000107278], [0.0000273828, 0.0000766511, 0.0000482053,\n",
    "  0.000194782, 0.0000248701, 0.000103015, 0.0000902471, 0.334344,\n",
    "  0.0000904442], [0.0000851822, 0.0000300605, 0.0000722342,\n",
    "  0.000138022, 0.000190735, 0.000104973, 0.000107278, 0.0000904442,\n",
    "  0.159793]])"
   ]
  },
  {
   "cell_type": "code",
   "execution_count": null,
   "metadata": {},
   "outputs": [],
   "source": [
    "diagonals = [RDSymbol(f'omega_{i}') for i in range(H_Dv.shape[0])]\n",
    "perturbative_symbols = []\n",
    "perturvative_values = []\n",
    "\n",
    "substitutions = [diagonals[i]: H_Dv[i, i] for i in range(H_Dv.shape[0])]\n",
    "\n",
    "H = sp_diag(*diagonals)\n",
    "for i in range(H.shape[0]):\n",
    "    for j in range(i+1, H.shape[1]):\n",
    "        perturbative_symbols.append(RDSymbol(f'lambda_{i}_{j}', order=1, real=True, positive=True))\n",
    "        perturvative_values.append(H_Dv[i, j])\n",
    "        H[i, j] = perturbative_symbols[-1]\n",
    "        H[j, i] = H[i, j]\n",
    "substitutions.update(dict(zip(perturbative_symbols, perturvative_values)))"
   ]
  },
  {
   "cell_type": "code",
   "execution_count": 12,
   "metadata": {},
   "outputs": [
    {
     "name": "stdout",
     "output_type": "stream",
     "text": [
      "Creating the EffectiveFrame object with matrix form.\n",
      "The EffectiveFrame object has been initialized successfully.\n",
      "\n",
      "Effective Frame\n",
      "\n",
      "╭────────┬────────┬─────────────╮\n",
      "│  Name  │  Type  │  Dimension  │\n",
      "├────────┼────────┼─────────────┤\n",
      "│ Finite │ Finite │     9x9     │\n",
      "╰────────┴────────┴─────────────╯\n",
      "\n",
      "Effective Hamiltonian: \tNot computed yet. To do so, run `solve` method. \n",
      "\n",
      "\n"
     ]
    }
   ],
   "source": [
    "Eff_frame = EffectiveFrame(H, symbol_values=substitutions)"
   ]
  },
  {
   "cell_type": "code",
   "execution_count": 13,
   "metadata": {},
   "outputs": [
    {
     "data": {
      "text/latex": [
       "$\\left[\\begin{matrix}0 & 0 & 0 & 1 & 1 & 1 & 1 & 1 & 1\\\\0 & 0 & 0 & 1 & 1 & 1 & 1 & 1 & 1\\\\0 & 0 & 0 & 1 & 1 & 1 & 1 & 1 & 1\\\\1 & 1 & 1 & 0 & 0 & 0 & 1 & 1 & 1\\\\1 & 1 & 1 & 0 & 0 & 0 & 1 & 1 & 1\\\\1 & 1 & 1 & 0 & 0 & 0 & 1 & 1 & 1\\\\1 & 1 & 1 & 1 & 1 & 1 & 0 & 0 & 0\\\\1 & 1 & 1 & 1 & 1 & 1 & 0 & 0 & 0\\\\1 & 1 & 1 & 1 & 1 & 1 & 0 & 0 & 0\\end{matrix}\\right]$"
      ],
      "text/plain": [
       "<SymPT.classes.Block at 0x777581885940>"
      ]
     },
     "execution_count": 13,
     "metadata": {},
     "output_type": "execute_result"
    }
   ],
   "source": [
    "result_DV = np.array([[0.994649 , 0.000116547 ,\n",
    "  0.0000723715 , -1.30704e-11 , -1.21451e-11 , -9.66127e-12 , -4.46295e-12 , -1.89448e-12 , -1.78403e-12 ], [0.000116547 , 0.920502 ,\n",
    "  0.000159747 , -9.64476e-12 , -1.85911e-11 , -1.51158e-11 , -7.09334e-12 , -3.90503e-12 , -3.9623e-12 ], [0.0000723715 , 0.000159747 ,\n",
    "  0.678428 , -5.52601e-11 , -3.32693e-11 , -2.78211e-11 , -7.36109e-12 , -6.25971e-12 ,\n",
    "  2.9529e-13 ], [-1.30704e-11 , -9.64476e-12 , -5.52601e-11 , 0.651483 , 0.000147382 ,\n",
    "  0.000122797 , 1.93717e-13 , 3.03945e-12 ,\n",
    "  2.88436e-12 ], [-1.21451e-11 , -1.85911e-11 , -3.32693e-11 , 0.000147382 , 0.60591 ,\n",
    "  0.000177918 , 1.28778e-12 , 2.87774e-12 ,\n",
    "  1.91615e-12 ], [-9.66127e-12 , -1.51158e-11 , -2.78211e-11 , 0.000122797 ,\n",
    "  0.000177918 , 0.583123 , 1.00777e-12 ,\n",
    "  3.264e-12 ,\n",
    "  2.55332e-12 ], [-4.46295e-12 , -7.09334e-12 , -7.36109e-12 , 1.93717e-13 ,\n",
    "  1.28779e-12 , 1.00777e-12 , 0.532847 ,\n",
    "  0.0000899812 ,\n",
    "  0.000106948 ], [-1.89448e-12 , -3.90503e-12 , -6.25971e-12 , 3.03945e-12 ,\n",
    "  2.87774e-12 , 3.264e-12 , 0.0000899812 ,\n",
    "  0.334344 ,\n",
    "  0.0000903109 ], [-1.78403e-12 , -3.9623e-12 , 2.9529e-13 , 2.88436e-12 ,\n",
    "  1.91615e-12 , 2.55332e-12 , 0.000106948 ,\n",
    "  0.0000903109 , 0.159792 ]])\n",
    "\n",
    "mask_matix = np.abs(result_DV) <= 1e-10\n",
    "mask_matix\n",
    "\n",
    "mask = Block(fin=mask_matix)\n",
    "mask"
   ]
  },
  {
   "cell_type": "code",
   "execution_count": null,
   "metadata": {},
   "outputs": [
    {
     "name": "stdout",
     "output_type": "stream",
     "text": [
      "Substituting the symbol values in the Hamiltonian and perturbative interactions.\n"
     ]
    },
    {
     "data": {
      "text/latex": [
       "$\\left[\\begin{matrix}0.994649 & 0 & 0 & 0 & 0 & 0 & 0 & 0 & 0\\\\0 & 0.920502 & 0 & 0 & 0 & 0 & 0 & 0 & 0\\\\0 & 0 & 0.678427 & 0 & 0 & 0 & 0 & 0 & 0\\\\0 & 0 & 0 & 0.651484 & 0 & 0 & 0 & 0 & 0\\\\0 & 0 & 0 & 0 & 0.60591 & 0 & 0 & 0 & 0\\\\0 & 0 & 0 & 0 & 0 & 0.583123 & 0 & 0 & 0\\\\0 & 0 & 0 & 0 & 0 & 0 & 0.532847 & 0 & 0\\\\0 & 0 & 0 & 0 & 0 & 0 & 0 & 0.334344 & 0\\\\0 & 0 & 0 & 0 & 0 & 0 & 0 & 0 & 0.159793\\end{matrix}\\right]  \\cdot 1$"
      ],
      "text/plain": [
       "<SymPT.classes.Expression at 0x77758186cb90>"
      ]
     },
     "metadata": {},
     "output_type": "display_data"
    },
    {
     "data": {
      "text/latex": [
       "$\\left[\\begin{matrix}0 & 0.000116406 & 7.18376 \\cdot 10^{-5} & 0.000126118 & 7.78524 \\cdot 10^{-5} & 9.47516 \\cdot 10^{-5} & 8.78573 \\cdot 10^{-5} & 2.73828 \\cdot 10^{-5} & 8.51822 \\cdot 10^{-5}\\\\0.000116406 & 0 & 0.000159157 & 0.000127701 & 8.60832 \\cdot 10^{-5} & 0.000111994 & 0.000161341 & 7.66511 \\cdot 10^{-5} & 3.00605 \\cdot 10^{-5}\\\\7.18376 \\cdot 10^{-5} & 0.000159157 & 0 & 0.000143383 & 0.000100207 & 0.000120234 & 5.02429 \\cdot 10^{-5} & 4.82053 \\cdot 10^{-5} & 7.22342 \\cdot 10^{-5}\\\\0.000126118 & 0.000127701 & 0.000143383 & 0 & 0.000147627 & 0.000123086 & 0.000112963 & 0.000194782 & 0.000138022\\\\7.78524 \\cdot 10^{-5} & 8.60832 \\cdot 10^{-5} & 0.000100207 & 0.000147627 & 0 & 0.000177963 & 9.17733 \\cdot 10^{-5} & 2.48701 \\cdot 10^{-5} & 0.000190735\\\\9.47516 \\cdot 10^{-5} & 0.000111994 & 0.000120234 & 0.000123086 & 0.000177963 & 0 & 6.23582 \\cdot 10^{-5} & 0.000103015 & 0.000104973\\\\8.78573 \\cdot 10^{-5} & 0.000161341 & 5.02429 \\cdot 10^{-5} & 0.000112963 & 9.17733 \\cdot 10^{-5} & 6.23582 \\cdot 10^{-5} & 0 & 9.02471 \\cdot 10^{-5} & 0.000107278\\\\2.73828 \\cdot 10^{-5} & 7.66511 \\cdot 10^{-5} & 4.82053 \\cdot 10^{-5} & 0.000194782 & 2.48701 \\cdot 10^{-5} & 0.000103015 & 9.02471 \\cdot 10^{-5} & 0 & 9.04442 \\cdot 10^{-5}\\\\8.51822 \\cdot 10^{-5} & 3.00605 \\cdot 10^{-5} & 7.22342 \\cdot 10^{-5} & 0.000138022 & 0.000190735 & 0.000104973 & 0.000107278 & 9.04442 \\cdot 10^{-5} & 0\\end{matrix}\\right]  \\cdot 1$"
      ],
      "text/plain": [
       "<SymPT.classes.Expression at 0x7775801dc770>"
      ]
     },
     "metadata": {},
     "output_type": "display_data"
    },
    {
     "name": "stderr",
     "output_type": "stream",
     "text": [
      "Performing Full Diagonalization for each order: 100%|██████████| 3/3 [00:03<00:00,  1.28s/it]\n",
      "Computing least-action generators S: 100%|██████████| 3/3 [00:00<00:00,  9.71it/s]\n",
      "Rotating for each order: 100%|██████████| 3/3 [00:00<00:00,  7.43it/s]"
     ]
    },
    {
     "name": "stdout",
     "output_type": "stream",
     "text": [
      "The Hamiltonian has been solved successfully. Please use the get_H method to get the result in the desired form.\n"
     ]
    },
    {
     "name": "stderr",
     "output_type": "stream",
     "text": [
      "\n"
     ]
    }
   ],
   "source": [
    "result = Eff_frame.solve(max_order=3, method='LA', mask=mask)"
   ]
  },
  {
   "cell_type": "code",
   "execution_count": 15,
   "metadata": {},
   "outputs": [
    {
     "name": "stderr",
     "output_type": "stream",
     "text": [
      "Converting to matrix form: 100%|██████████| 1/1 [00:00<00:00, 5974.79it/s]\n",
      "Converting to matrix form: 100%|██████████| 1/1 [00:00<00:00, 7037.42it/s]\n",
      "Converting to matrix form: 100%|██████████| 1/1 [00:00<00:00, 8160.12it/s]\n",
      "Converting to matrix form: 100%|██████████| 1/1 [00:00<00:00, 8456.26it/s]\n"
     ]
    }
   ],
   "source": [
    "H_eff = Eff_frame.get_H(return_form='matrix')"
   ]
  },
  {
   "cell_type": "code",
   "execution_count": 27,
   "metadata": {},
   "outputs": [],
   "source": [
    "H_eff_ours = np.array(sp.N(H_eff), dtype=float)"
   ]
  },
  {
   "cell_type": "code",
   "execution_count": 83,
   "metadata": {},
   "outputs": [],
   "source": [
    "Hh = sp.Matrix(H_Dv)\n",
    "X = Hh.diagonalize()[0]\n",
    "X_inv = X.inv()\n",
    "\n",
    "X = np.array(X, dtype=float)\n",
    "X_inv = np.array(X_inv, dtype=float)"
   ]
  },
  {
   "cell_type": "code",
   "execution_count": 87,
   "metadata": {},
   "outputs": [],
   "source": [
    "B_mask = lambda x: np.logical_not(mask_matix)*1 * x\n"
   ]
  },
  {
   "cell_type": "code",
   "execution_count": 95,
   "metadata": {},
   "outputs": [],
   "source": [
    "import scipy.linalg as la\n",
    "\n"
   ]
  },
  {
   "cell_type": "code",
   "execution_count": 97,
   "metadata": {},
   "outputs": [],
   "source": [
    "T = X @ B_mask(X_inv) @ la.fractional_matrix_power(B_mask(X) @ B_mask(X_inv), -1/2)"
   ]
  },
  {
   "cell_type": "code",
   "execution_count": 101,
   "metadata": {},
   "outputs": [],
   "source": [
    "exact_result = la.inv(T) @ np.array(Hh, dtype=float) @ T"
   ]
  },
  {
   "cell_type": "code",
   "execution_count": 36,
   "metadata": {},
   "outputs": [
    {
     "data": {
      "text/latex": [
       "$\\displaystyle \\left[\\begin{matrix}0.994649 & 0.000116547 & 7.23715 \\cdot 10^{-5} & -1.30704 \\cdot 10^{-11} & -1.21451 \\cdot 10^{-11} & -9.66127 \\cdot 10^{-12} & -4.46295 \\cdot 10^{-12} & -1.89448 \\cdot 10^{-12} & -1.78403 \\cdot 10^{-12}\\\\0.000116547 & 0.920502 & 0.000159747 & -9.64476 \\cdot 10^{-12} & -1.85911 \\cdot 10^{-11} & -1.51158 \\cdot 10^{-11} & -7.09334 \\cdot 10^{-12} & -3.90503 \\cdot 10^{-12} & -3.9623 \\cdot 10^{-12}\\\\7.23715 \\cdot 10^{-5} & 0.000159747 & 0.678428 & -5.52601 \\cdot 10^{-11} & -3.32693 \\cdot 10^{-11} & -2.78211 \\cdot 10^{-11} & -7.36109 \\cdot 10^{-12} & -6.25971 \\cdot 10^{-12} & 2.9529 \\cdot 10^{-13}\\\\-1.30704 \\cdot 10^{-11} & -9.64476 \\cdot 10^{-12} & -5.52601 \\cdot 10^{-11} & 0.651483 & 0.000147382 & 0.000122797 & 1.93717 \\cdot 10^{-13} & 3.03945 \\cdot 10^{-12} & 2.88436 \\cdot 10^{-12}\\\\-1.21451 \\cdot 10^{-11} & -1.85911 \\cdot 10^{-11} & -3.32693 \\cdot 10^{-11} & 0.000147382 & 0.60591 & 0.000177918 & 1.28778 \\cdot 10^{-12} & 2.87774 \\cdot 10^{-12} & 1.91615 \\cdot 10^{-12}\\\\-9.66127 \\cdot 10^{-12} & -1.51158 \\cdot 10^{-11} & -2.78211 \\cdot 10^{-11} & 0.000122797 & 0.000177918 & 0.583123 & 1.00777 \\cdot 10^{-12} & 3.264 \\cdot 10^{-12} & 2.55332 \\cdot 10^{-12}\\\\-4.46295 \\cdot 10^{-12} & -7.09334 \\cdot 10^{-12} & -7.36109 \\cdot 10^{-12} & 1.93717 \\cdot 10^{-13} & 1.28779 \\cdot 10^{-12} & 1.00777 \\cdot 10^{-12} & 0.532847 & 8.99812 \\cdot 10^{-5} & 0.000106948\\\\-1.89448 \\cdot 10^{-12} & -3.90503 \\cdot 10^{-12} & -6.25971 \\cdot 10^{-12} & 3.03945 \\cdot 10^{-12} & 2.87774 \\cdot 10^{-12} & 3.264 \\cdot 10^{-12} & 8.99812 \\cdot 10^{-5} & 0.334344 & 9.03109 \\cdot 10^{-5}\\\\-1.78403 \\cdot 10^{-12} & -3.9623 \\cdot 10^{-12} & 2.9529 \\cdot 10^{-13} & 2.88436 \\cdot 10^{-12} & 1.91615 \\cdot 10^{-12} & 2.55332 \\cdot 10^{-12} & 0.000106948 & 9.03109 \\cdot 10^{-5} & 0.159792\\end{matrix}\\right]$"
      ],
      "text/plain": [
       "Matrix([\n",
       "[    0.994649,  0.000116547,   7.23715e-5, -1.30704e-11, -1.21451e-11, -9.66127e-12, -4.46295e-12, -1.89448e-12, -1.78403e-12],\n",
       "[ 0.000116547,     0.920502,  0.000159747, -9.64476e-12, -1.85911e-11, -1.51158e-11, -7.09334e-12, -3.90503e-12,  -3.9623e-12],\n",
       "[  7.23715e-5,  0.000159747,     0.678428, -5.52601e-11, -3.32693e-11, -2.78211e-11, -7.36109e-12, -6.25971e-12,   2.9529e-13],\n",
       "[-1.30704e-11, -9.64476e-12, -5.52601e-11,     0.651483,  0.000147382,  0.000122797,  1.93717e-13,  3.03945e-12,  2.88436e-12],\n",
       "[-1.21451e-11, -1.85911e-11, -3.32693e-11,  0.000147382,      0.60591,  0.000177918,  1.28778e-12,  2.87774e-12,  1.91615e-12],\n",
       "[-9.66127e-12, -1.51158e-11, -2.78211e-11,  0.000122797,  0.000177918,     0.583123,  1.00777e-12,    3.264e-12,  2.55332e-12],\n",
       "[-4.46295e-12, -7.09334e-12, -7.36109e-12,  1.93717e-13,  1.28779e-12,  1.00777e-12,     0.532847,   8.99812e-5,  0.000106948],\n",
       "[-1.89448e-12, -3.90503e-12, -6.25971e-12,  3.03945e-12,  2.87774e-12,    3.264e-12,   8.99812e-5,     0.334344,   9.03109e-5],\n",
       "[-1.78403e-12,  -3.9623e-12,   2.9529e-13,  2.88436e-12,  1.91615e-12,  2.55332e-12,  0.000106948,   9.03109e-5,     0.159792]])"
      ]
     },
     "execution_count": 36,
     "metadata": {},
     "output_type": "execute_result"
    }
   ],
   "source": [
    "sp.Matrix(result_DV)"
   ]
  },
  {
   "cell_type": "code",
   "execution_count": 39,
   "metadata": {},
   "outputs": [
    {
     "data": {
      "text/latex": [
       "$\\displaystyle \\left[\\begin{matrix}0.994649110190929 & 0.000116547290578572 & 7.23715327132125 \\cdot 10^{-5} & -2.68960210377137 \\cdot 10^{-20} & -1.33270338500708 \\cdot 10^{-20} & -2.72228574823126 \\cdot 10^{-20} & -6.28280858463611 \\cdot 10^{-25} & 3.42950045955738 \\cdot 10^{-21} & 2.30795181647231 \\cdot 10^{-23}\\\\0.000116547290578572 & 0.920502199364062 & 0.000159747270270596 & -2.74088817337772 \\cdot 10^{-20} & -5.43921542718184 \\cdot 10^{-20} & -4.82384157683126 \\cdot 10^{-22} & -2.70695350114355 \\cdot 10^{-20} & -7.99560738910918 \\cdot 10^{-24} & -3.35556594766332 \\cdot 10^{-21}\\\\7.23715327132125 \\cdot 10^{-5} & 0.000159747270270596 & 0.678428092285407 & 4.62375325847189 \\cdot 10^{-19} & 5.62899172754066 \\cdot 10^{-20} & 1.48144570356624 \\cdot 10^{-20} & -2.04594686156742 \\cdot 10^{-20} & 6.66977046147115 \\cdot 10^{-21} & 1.37607576473839 \\cdot 10^{-20}\\\\-2.68952900477209 \\cdot 10^{-20} & -2.74096799232796 \\cdot 10^{-20} & 4.60681239343511 \\cdot 10^{-19} & 0.651483393553645 & 0.000147381603212546 & 0.00012279736404581 & -1.03838701845608 \\cdot 10^{-22} & -2.7104886789927 \\cdot 10^{-20} & 2.71311084663185 \\cdot 10^{-20}\\\\-1.33274383599431 \\cdot 10^{-20} & -5.43778015382203 \\cdot 10^{-20} & 5.62913681731442 \\cdot 10^{-20} & 0.000147381603212546 & 0.605910019390115 & 0.000177918662579253 & -6.75514821914878 \\cdot 10^{-20} & -3.45410253874578 \\cdot 10^{-21} & 2.13825411562327 \\cdot 10^{-22}\\\\-2.71831480065558 \\cdot 10^{-20} & -4.83294506359449 \\cdot 10^{-22} & 1.48136730371063 \\cdot 10^{-20} & 0.00012279736404581 & 0.000177918662579253 & 0.583122933567088 & 5.37874319714806 \\cdot 10^{-20} & -9.94693070868756 \\cdot 10^{-23} & -1.35688652571633 \\cdot 10^{-20}\\\\-5.23534895653845 \\cdot 10^{-25} & -2.70696399612748 \\cdot 10^{-20} & -2.04586313939234 \\cdot 10^{-20} & -1.03838701845608 \\cdot 10^{-22} & -6.79749986651149 \\cdot 10^{-20} & 5.37857773166601 \\cdot 10^{-20} & 0.532846600358946 & 8.99812344925577 \\cdot 10^{-5} & 0.000106947511429488\\\\3.42949660359237 \\cdot 10^{-21} & -7.99601360619453 \\cdot 10^{-24} & 6.66977727634126 \\cdot 10^{-21} & -2.71048830859395 \\cdot 10^{-20} & -3.45410253874578 \\cdot 10^{-21} & -8.95438661301928 \\cdot 10^{-23} & 8.99812344925577 \\cdot 10^{-5} & 0.334343817557589 & 9.03108950160985 \\cdot 10^{-5}\\\\2.31239040244583 \\cdot 10^{-23} & -3.35525895652504 \\cdot 10^{-21} & 1.37615918004863 \\cdot 10^{-20} & 2.71571660912712 \\cdot 10^{-20} & 2.1155050205423 \\cdot 10^{-22} & -1.35692792723633 \\cdot 10^{-20} & 0.000106947511429488 & 9.03108950160985 \\cdot 10^{-5} & 0.159792833732217\\end{matrix}\\right]$"
      ],
      "text/plain": [
       "Matrix([\n",
       "[    0.994649110190929,  0.000116547290578572,   7.23715327132125e-5, -2.68960210377137e-20, -1.33270338500708e-20, -2.72228574823126e-20, -6.28280858463611e-25,  3.42950045955738e-21,  2.30795181647231e-23],\n",
       "[ 0.000116547290578572,     0.920502199364062,  0.000159747270270596, -2.74088817337772e-20, -5.43921542718184e-20, -4.82384157683126e-22, -2.70695350114355e-20, -7.99560738910918e-24, -3.35556594766332e-21],\n",
       "[  7.23715327132125e-5,  0.000159747270270596,     0.678428092285407,  4.62375325847189e-19,  5.62899172754066e-20,  1.48144570356624e-20, -2.04594686156742e-20,  6.66977046147115e-21,  1.37607576473839e-20],\n",
       "[-2.68952900477209e-20, -2.74096799232796e-20,  4.60681239343511e-19,     0.651483393553645,  0.000147381603212546,   0.00012279736404581, -1.03838701845608e-22,  -2.7104886789927e-20,  2.71311084663185e-20],\n",
       "[-1.33274383599431e-20, -5.43778015382203e-20,  5.62913681731442e-20,  0.000147381603212546,     0.605910019390115,  0.000177918662579253, -6.75514821914878e-20, -3.45410253874578e-21,  2.13825411562327e-22],\n",
       "[-2.71831480065558e-20, -4.83294506359449e-22,  1.48136730371063e-20,   0.00012279736404581,  0.000177918662579253,     0.583122933567088,  5.37874319714806e-20, -9.94693070868756e-23, -1.35688652571633e-20],\n",
       "[-5.23534895653845e-25, -2.70696399612748e-20, -2.04586313939234e-20, -1.03838701845608e-22, -6.79749986651149e-20,  5.37857773166601e-20,     0.532846600358946,   8.99812344925577e-5,  0.000106947511429488],\n",
       "[ 3.42949660359237e-21, -7.99601360619453e-24,  6.66977727634126e-21, -2.71048830859395e-20, -3.45410253874578e-21, -8.95438661301928e-23,   8.99812344925577e-5,     0.334343817557589,   9.03108950160985e-5],\n",
       "[ 2.31239040244583e-23, -3.35525895652504e-21,  1.37615918004863e-20,  2.71571660912712e-20,   2.1155050205423e-22, -1.35692792723633e-20,  0.000106947511429488,   9.03108950160985e-5,     0.159792833732217]])"
      ]
     },
     "execution_count": 39,
     "metadata": {},
     "output_type": "execute_result"
    }
   ],
   "source": [
    "(H_eff).evalf()"
   ]
  },
  {
   "cell_type": "code",
   "execution_count": 35,
   "metadata": {},
   "outputs": [
    {
     "data": {
      "text/latex": [
       "$\\displaystyle \\left[\\begin{matrix}0.994649 & 0.000116547 & 7.23715 \\cdot 10^{-5} & 0.0 & 0.0 & 0.0 & 0.0 & 0.0 & 0.0\\\\0.000116547 & 0.920502 & 0.000159747 & 0.0 & 0.0 & 0.0 & 0.0 & 0.0 & 0.0\\\\7.23715 \\cdot 10^{-5} & 0.000159747 & 0.678428 & 0.0 & 0.0 & 0.0 & 0.0 & 0.0 & 0.0\\\\0.0 & 0.0 & 0.0 & 0.651483 & 0.000147382 & 0.000122797 & 0.0 & 0.0 & 0.0\\\\0.0 & 0.0 & 0.0 & 0.000147382 & 0.60591 & 0.000177918 & 0.0 & 0.0 & 0.0\\\\0.0 & 0.0 & 0.0 & 0.000122797 & 0.000177918 & 0.583123 & 0.0 & 0.0 & 0.0\\\\0.0 & 0.0 & 0.0 & 0.0 & 0.0 & 0.0 & 0.532847 & 8.99812 \\cdot 10^{-5} & 0.000106948\\\\0.0 & 0.0 & 0.0 & 0.0 & 0.0 & 0.0 & 8.99812 \\cdot 10^{-5} & 0.334344 & 9.03109 \\cdot 10^{-5}\\\\0.0 & 0.0 & 0.0 & 0.0 & 0.0 & 0.0 & 0.000106948 & 9.03109 \\cdot 10^{-5} & 0.159792\\end{matrix}\\right]$"
      ],
      "text/plain": [
       "Matrix([\n",
       "[   0.994649, 0.000116547,  7.23715e-5,         0.0,         0.0,         0.0,         0.0,        0.0,         0.0],\n",
       "[0.000116547,    0.920502, 0.000159747,         0.0,         0.0,         0.0,         0.0,        0.0,         0.0],\n",
       "[ 7.23715e-5, 0.000159747,    0.678428,         0.0,         0.0,         0.0,         0.0,        0.0,         0.0],\n",
       "[        0.0,         0.0,         0.0,    0.651483, 0.000147382, 0.000122797,         0.0,        0.0,         0.0],\n",
       "[        0.0,         0.0,         0.0, 0.000147382,     0.60591, 0.000177918,         0.0,        0.0,         0.0],\n",
       "[        0.0,         0.0,         0.0, 0.000122797, 0.000177918,    0.583123,         0.0,        0.0,         0.0],\n",
       "[        0.0,         0.0,         0.0,         0.0,         0.0,         0.0,    0.532847, 8.99812e-5, 0.000106948],\n",
       "[        0.0,         0.0,         0.0,         0.0,         0.0,         0.0,  8.99812e-5,   0.334344,  9.03109e-5],\n",
       "[        0.0,         0.0,         0.0,         0.0,         0.0,         0.0, 0.000106948, 9.03109e-5,    0.159792]])"
      ]
     },
     "execution_count": 35,
     "metadata": {},
     "output_type": "execute_result"
    }
   ],
   "source": [
    "result_exact = np.array([[0.994649, 0.000116547, 0.0000723715, 0, 0, 0, 0, 0,\n",
    "  0], [0.000116547, 0.920502, 0.000159747, 0, 0, 0, 0, 0,\n",
    "  0], [0.0000723715, 0.000159747, 0.678428, 0, 0, 0, 0, 0, 0], [0, 0,\n",
    "  0, 0.651483, 0.000147382, 0.000122797, 0, 0, 0], [0, 0, 0,\n",
    "  0.000147382, 0.60591, 0.000177918, 0, 0, 0], [0, 0, 0, 0.000122797,\n",
    "  0.000177918, 0.583123, 0, 0, 0], [0, 0, 0, 0, 0, 0, 0.532847,\n",
    "  0.0000899812, 0.000106948], [0, 0, 0, 0, 0, 0, 0.0000899812,\n",
    "  0.334344, 0.0000903109], [0, 0, 0, 0, 0, 0, 0.000106948,\n",
    "  0.0000903109, 0.159792]], dtype=float)\n",
    "sp.Matrix(result_exact)"
   ]
  },
  {
   "cell_type": "code",
   "execution_count": null,
   "metadata": {},
   "outputs": [],
   "source": []
  },
  {
   "cell_type": "code",
   "execution_count": 41,
   "metadata": {},
   "outputs": [],
   "source": [
    "import matplotlib.pyplot as plt"
   ]
  },
  {
   "cell_type": "code",
   "execution_count": 105,
   "metadata": {},
   "outputs": [
    {
     "data": {
      "text/plain": [
       "Text(0.5, 1.0, 'Error DV Ours')"
      ]
     },
     "execution_count": 105,
     "metadata": {},
     "output_type": "execute_result"
    },
    {
     "data": {
      "image/png": "[encoded data removed]",
      "text/plain": [
       "<Figure size 1500x500 with 6 Axes>"
      ]
     },
     "metadata": {},
     "output_type": "display_data"
    }
   ],
   "source": [
    "fig, ax = plt.subplots(1, 3, figsize=(15, 5))\n",
    "\n",
    "vmax = 1e-12\n",
    "\n",
    "error_DV = np.round(np.abs(result_DV - exact_result), int(np.abs(np.log10(vmax))))\n",
    "error_ours = np.round(np.abs(H_eff_ours - exact_result), int(np.abs(np.log10(vmax))))\n",
    "error_DV_ours = np.round(np.abs(result_DV - H_eff_ours), int(np.abs(np.log10(vmax))))\n",
    "\n",
    "im = ax[0].imshow(error_DV, cmap='viridis', vmax=vmax)\n",
    "fig.colorbar(im, ax=ax[0])\n",
    "ax[0].set_title('Error DV', fontsize=20)\n",
    "im = ax[1].imshow(error_ours, cmap='viridis', vmax=vmax)\n",
    "fig.colorbar(im, ax=ax[1])\n",
    "ax[1].set_title('Error Ours', fontsize=20)\n",
    "im = ax[2].imshow(error_DV_ours, cmap='viridis', vmax=vmax)\n",
    "fig.colorbar(im, ax=ax[2])\n",
    "ax[2].set_title('Error DV Ours')"
   ]
  }
 ],
 "metadata": {
  "kernelspec": {
   "display_name": "Python 3 (ipykernel)",
   "language": "python",
   "name": "python3"
  },
  "language_info": {
   "codemirror_mode": {
    "name": "ipython",
    "version": 3
   },
   "file_extension": ".py",
   "mimetype": "text/x-python",
   "name": "python",
   "nbconvert_exporter": "python",
   "pygments_lexer": "ipython3",
   "version": "3.9.20"
  }
 },
 "nbformat": 4,
 "nbformat_minor": 4
}
