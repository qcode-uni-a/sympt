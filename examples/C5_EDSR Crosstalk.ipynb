{
 "cells": [
  {
   "cell_type": "code",
   "execution_count": 2,
   "metadata": {},
   "outputs": [],
   "source": [
    "# Imports from sympt\n",
    "from sympt import *\n",
    "# imports from sympy\n",
    "import sympy as sp"
   ]
  },
  {
   "cell_type": "markdown",
   "metadata": {},
   "source": [
    "# Setup"
   ]
  },
  {
   "cell_type": "code",
   "execution_count": 3,
   "metadata": {},
   "outputs": [
    {
     "data": {
      "text/latex": [
       "$\\displaystyle H_{0} : \\hbar \\omega_{0} \\left(\\frac{1}{2} + {{a}^\\dagger} {a}\\right)$"
      ],
      "text/plain": [
       "<IPython.core.display.Math object>"
      ]
     },
     "metadata": {},
     "output_type": "display_data"
    },
    {
     "data": {
      "text/latex": [
       "$\\displaystyle H_{E} : \\tilde{E}_{\\mathrm{ac}} \\sin{\\left(\\omega t \\right)} \\left({{a}^\\dagger} + {a}\\right)$"
      ],
      "text/plain": [
       "<IPython.core.display.Math object>"
      ]
     },
     "metadata": {},
     "output_type": "display_data"
    },
    {
     "data": {
      "text/latex": [
       "$\\displaystyle H_{B} : - \\frac{E_{z} \\sigma_{3}}{2}$"
      ],
      "text/plain": [
       "<IPython.core.display.Math object>"
      ]
     },
     "metadata": {},
     "output_type": "display_data"
    },
    {
     "data": {
      "text/latex": [
       "$\\displaystyle V : \\tilde{b}_{\\mathrm{SL}} \\left({{a}^\\dagger} + {a}\\right) \\left(\\sin{\\left(\\theta \\right)} \\sigma_{3} + \\cos{\\left(\\theta \\right)} \\sigma_{2}\\right)$"
      ],
      "text/plain": [
       "<IPython.core.display.Math object>"
      ]
     },
     "metadata": {},
     "output_type": "display_data"
    }
   ],
   "source": [
    "# ---------------- Defining the symbols ------------------\n",
    "# Order 0\n",
    "omega0 = RDSymbol('omega0', real=True, positive=True)\n",
    "theta = RDSymbol(r'\\theta', real=True)\n",
    "n = sp.Matrix([0, sp.cos(theta), sp.sin(theta)])\n",
    "\n",
    "# Order 1\n",
    "omega = RDSymbol('omega', real=True, positive=True, order=1)\n",
    "Eac = RDSymbol(r'\\tilde{E}_{\\mathrm{ac}}', real=True, order=1)\n",
    "Ez = RDSymbol(r'E_{z}', real=True, order=1)\n",
    "bsl = RDSymbol(r'\\tilde{b}_{\\mathrm{SL}}', real=True, order=1)\n",
    "\n",
    "\n",
    "# ----------------- Defining the basis -------------------\n",
    "# Spin basis: Finite 2x2 Hilbert space\n",
    "Spin = RDBasis('sigma', 2)\n",
    "s0, sx, sy, sz = Spin.basis # Pauli operators\n",
    "s_vec = sp.Matrix([sx, sy, sz]) # Spin vector\n",
    "# Boson basis: Infinite bosonic Hilbert space\n",
    "a = BosonOp('a')\n",
    "ad = Dagger(a)\n",
    "\n",
    "# -------------- Defining the Hamiltonian ----------------\n",
    "# Unperturbed Hamiltonian H0\n",
    "H0 = hbar * omega0 * (ad*a + sp.Rational(1,2))\n",
    "# Perturbation Hamiltonians\n",
    "HE = Eac * sp.sin(omega * t) * (ad + a)\n",
    "HB = -sp.Rational(1,2) * Ez * sz\n",
    "V = bsl * (ad + a) * n.dot(s_vec)\n",
    "\n",
    "display_dict({\n",
    "    sp.Symbol('H_0'): H0,\n",
    "    sp.Symbol('H_E'): HE,\n",
    "    sp.Symbol('H_B'): HB,\n",
    "    sp.Symbol(r'V'): V,\n",
    "})"
   ]
  },
  {
   "cell_type": "code",
   "execution_count": 4,
   "metadata": {},
   "outputs": [
    {
     "name": "stderr",
     "output_type": "stream",
     "text": [
      "\u001b[32mThe EffectiveFrame object has been initialized successfully.\u001b[0m\n"
     ]
    }
   ],
   "source": [
    "# Deffining Effective Hamiltonian Object\n",
    "Eff_Frame = EffectiveFrame(H=H0 + HB, V=HE + V, subspaces=[Spin])"
   ]
  },
  {
   "cell_type": "markdown",
   "metadata": {},
   "source": [
    "# Time Dependent Schrieffer-Wolff Transformation"
   ]
  },
  {
   "cell_type": "code",
   "execution_count": 5,
   "metadata": {},
   "outputs": [
    {
     "name": "stderr",
     "output_type": "stream",
     "text": [
      "Performing Time Dependent SWT for each order: 100%|█████████████████████████| 5/5 [00:22<00:00,  4.59s/it]\n",
      "\u001b[32mThe Hamiltonian has been solved successfully. Please use the get_H method to get the result in the desired form.\u001b[0m\n",
      "Converting to matrix form: 100%|████████████████████████████████████████████| 6/6 [00:00<00:00, 33.98it/s]\n"
     ]
    }
   ],
   "source": [
    "# Calculate the effective model using the Schrieffer-Wolff transformation up to the second order\n",
    "Eff_Frame.solve(max_order=5, method=\"SW\")\n",
    "# Obtaining the result in the matrix form\n",
    "H_eff = Eff_Frame.get_H(return_form='matrix')"
   ]
  },
  {
   "cell_type": "code",
   "execution_count": 6,
   "metadata": {},
   "outputs": [],
   "source": [
    "# Corrections to the Hamiltonian for each order\n",
    "H0, H1, H2, H3, H4, H5 = [H_correction for H_correction in Eff_Frame.corrections.values()]"
   ]
  },
  {
   "cell_type": "markdown",
   "metadata": {},
   "source": [
    "# Simplifying corrections"
   ]
  },
  {
   "cell_type": "code",
   "execution_count": 7,
   "metadata": {},
   "outputs": [],
   "source": [
    "# Expectation Values for the bosonic operators\n",
    "# <n=0|a|n=0> = 0\n",
    "# <n=0|ad|n=0> = 0\n",
    "# <n=0|ad*a|n=0> = 0\n",
    "subs_expvals = {\n",
    "    ad*a: 0,\n",
    "    a : 0,\n",
    "    ad : 0,\n",
    "}"
   ]
  },
  {
   "cell_type": "code",
   "execution_count": 9,
   "metadata": {},
   "outputs": [
    {
     "data": {
      "text/latex": [
       "$\\displaystyle \\frac{E_{z} \\left(\\frac{\\sigma_{0}}{2} - \\frac{\\sigma_{3}}{2}\\right)}{2} - \\frac{E_{z} \\left(\\frac{\\sigma_{0}}{2} + \\frac{\\sigma_{3}}{2}\\right)}{2}$"
      ],
      "text/plain": [
       "E_{z}*(sigma_0/2 - sigma_3/2)/2 - E_{z}*(sigma_0/2 + sigma_3/2)/2"
      ]
     },
     "execution_count": 9,
     "metadata": {},
     "output_type": "execute_result"
    }
   ],
   "source": [
    "# Projecting first order correction in spin subspace\n",
    "H1_op = Spin.project(H1.expand())\n",
    "H1_op"
   ]
  },
  {
   "cell_type": "code",
   "execution_count": 15,
   "metadata": {},
   "outputs": [
    {
     "data": {
      "text/latex": [
       "$\\displaystyle - \\frac{2 i \\tilde{E}_{\\mathrm{ac}} \\tilde{b}_{\\mathrm{SL}} \\sin{\\left(\\omega t \\right)} \\cos{\\left(\\theta \\right)} \\left(\\frac{\\sigma_{1}}{2} - \\frac{i \\sigma_{2}}{2}\\right)}{\\hbar \\omega_{0}} + \\frac{2 i \\tilde{E}_{\\mathrm{ac}} \\tilde{b}_{\\mathrm{SL}} \\sin{\\left(\\omega t \\right)} \\cos{\\left(\\theta \\right)} \\left(\\frac{\\sigma_{1}}{2} + \\frac{i \\sigma_{2}}{2}\\right)}{\\hbar \\omega_{0}} + \\frac{\\left(- \\tilde{E}_{\\mathrm{ac}}^{2} \\sin^{2}{\\left(\\omega t \\right)} + 2 \\tilde{E}_{\\mathrm{ac}} \\tilde{b}_{\\mathrm{SL}} \\sin{\\left(\\theta \\right)} \\sin{\\left(\\omega t \\right)} - \\tilde{b}_{\\mathrm{SL}}^{2}\\right) \\left(\\frac{\\sigma_{0}}{2} - \\frac{\\sigma_{3}}{2}\\right)}{\\hbar \\omega_{0}} - \\frac{\\left(\\tilde{E}_{\\mathrm{ac}}^{2} \\sin^{2}{\\left(\\omega t \\right)} + 2 \\tilde{E}_{\\mathrm{ac}} \\tilde{b}_{\\mathrm{SL}} \\sin{\\left(\\theta \\right)} \\sin{\\left(\\omega t \\right)} + \\tilde{b}_{\\mathrm{SL}}^{2}\\right) \\left(\\frac{\\sigma_{0}}{2} + \\frac{\\sigma_{3}}{2}\\right)}{\\hbar \\omega_{0}}$"
      ],
      "text/plain": [
       "-2*I*\\tilde{E}_{\\mathrm{ac}}*\\tilde{b}_{\\mathrm{SL}}*sin(omega*t)*cos(\\theta)*(sigma_1/2 - I*sigma_2/2)/(hbar*omega0) + 2*I*\\tilde{E}_{\\mathrm{ac}}*\\tilde{b}_{\\mathrm{SL}}*sin(omega*t)*cos(\\theta)*(sigma_1/2 + I*sigma_2/2)/(hbar*omega0) + (-\\tilde{E}_{\\mathrm{ac}}**2*sin(omega*t)**2 + 2*\\tilde{E}_{\\mathrm{ac}}*\\tilde{b}_{\\mathrm{SL}}*sin(\\theta)*sin(omega*t) - \\tilde{b}_{\\mathrm{SL}}**2)*(sigma_0/2 - sigma_3/2)/(hbar*omega0) - (\\tilde{E}_{\\mathrm{ac}}**2*sin(omega*t)**2 + 2*\\tilde{E}_{\\mathrm{ac}}*\\tilde{b}_{\\mathrm{SL}}*sin(\\theta)*sin(omega*t) + \\tilde{b}_{\\mathrm{SL}}**2)*(sigma_0/2 + sigma_3/2)/(hbar*omega0)"
      ]
     },
     "execution_count": 15,
     "metadata": {},
     "output_type": "execute_result"
    }
   ],
   "source": [
    "# Projecting second order correction in spin subspace\n",
    "H2_op = Spin.project(sp.expand_complex(H2.expand()).trigsimp())\n",
    "H2_op"
   ]
  },
  {
   "cell_type": "code",
   "execution_count": 16,
   "metadata": {},
   "outputs": [
    {
     "data": {
      "text/latex": [
       "$\\displaystyle - \\frac{i E_{z} \\tilde{b}_{\\mathrm{SL}}^{2} \\sin{\\left(\\theta \\right)} \\cos{\\left(\\theta \\right)} \\left(\\frac{\\sigma_{1}}{2} - \\frac{i \\sigma_{2}}{2}\\right)}{\\hbar^{2} \\omega_{0}^{2}} + \\frac{i E_{z} \\tilde{b}_{\\mathrm{SL}}^{2} \\sin{\\left(\\theta \\right)} \\cos{\\left(\\theta \\right)} \\left(\\frac{\\sigma_{1}}{2} + \\frac{i \\sigma_{2}}{2}\\right)}{\\hbar^{2} \\omega_{0}^{2}} - \\frac{E_{z} \\tilde{b}_{\\mathrm{SL}}^{2} \\cos^{2}{\\left(\\theta \\right)} \\left(\\frac{\\sigma_{0}}{2} - \\frac{\\sigma_{3}}{2}\\right)}{\\hbar^{2} \\omega_{0}^{2}} + \\frac{E_{z} \\tilde{b}_{\\mathrm{SL}}^{2} \\cos^{2}{\\left(\\theta \\right)} \\left(\\frac{\\sigma_{0}}{2} + \\frac{\\sigma_{3}}{2}\\right)}{\\hbar^{2} \\omega_{0}^{2}}$"
      ],
      "text/plain": [
       "-I*E_{z}*\\tilde{b}_{\\mathrm{SL}}**2*sin(\\theta)*cos(\\theta)*(sigma_1/2 - I*sigma_2/2)/(hbar**2*omega0**2) + I*E_{z}*\\tilde{b}_{\\mathrm{SL}}**2*sin(\\theta)*cos(\\theta)*(sigma_1/2 + I*sigma_2/2)/(hbar**2*omega0**2) - E_{z}*\\tilde{b}_{\\mathrm{SL}}**2*cos(\\theta)**2*(sigma_0/2 - sigma_3/2)/(hbar**2*omega0**2) + E_{z}*\\tilde{b}_{\\mathrm{SL}}**2*cos(\\theta)**2*(sigma_0/2 + sigma_3/2)/(hbar**2*omega0**2)"
      ]
     },
     "execution_count": 16,
     "metadata": {},
     "output_type": "execute_result"
    }
   ],
   "source": [
    "# Projecting third order correction in spin subspace\n",
    "H3_op = Spin.project(H3.expand().subs(subs_expvals))\n",
    "H3_op"
   ]
  },
  {
   "cell_type": "code",
   "execution_count": 17,
   "metadata": {},
   "outputs": [
    {
     "data": {
      "text/latex": [
       "$\\displaystyle i \\left(- \\frac{E_{z}^{2} \\tilde{E}_{\\mathrm{ac}} \\tilde{b}_{\\mathrm{SL}} \\sin{\\left(\\omega t \\right)} \\cos{\\left(\\theta \\right)}}{\\hbar^{3} \\omega_{0}^{3}} - \\frac{\\tilde{E}_{\\mathrm{ac}} \\tilde{b}_{\\mathrm{SL}} \\omega^{2} \\sin{\\left(\\omega t \\right)} \\cos{\\left(\\theta \\right)}}{\\hbar \\omega_{0}^{3}}\\right) \\left(\\frac{\\sigma_{1}}{2} - \\frac{i \\sigma_{2}}{2}\\right) + i \\left(\\frac{E_{z}^{2} \\tilde{E}_{\\mathrm{ac}} \\tilde{b}_{\\mathrm{SL}} \\sin{\\left(\\omega t \\right)} \\cos{\\left(\\theta \\right)}}{\\hbar^{3} \\omega_{0}^{3}} + \\frac{\\tilde{E}_{\\mathrm{ac}} \\tilde{b}_{\\mathrm{SL}} \\omega^{2} \\sin{\\left(\\omega t \\right)} \\cos{\\left(\\theta \\right)}}{\\hbar \\omega_{0}^{3}}\\right) \\left(\\frac{\\sigma_{1}}{2} + \\frac{i \\sigma_{2}}{2}\\right) + \\left(- \\frac{E_{z}^{2} \\tilde{b}_{\\mathrm{SL}}^{2} \\cos^{2}{\\left(\\theta \\right)}}{\\hbar^{3} \\omega_{0}^{3}} + \\frac{\\tilde{E}_{\\mathrm{ac}}^{2} \\omega^{2} \\cos{\\left(2 \\omega t \\right)}}{2 \\hbar \\omega_{0}^{3}} - \\frac{\\tilde{E}_{\\mathrm{ac}}^{2} \\omega^{2}}{2 \\hbar \\omega_{0}^{3}} - \\frac{\\tilde{E}_{\\mathrm{ac}} \\tilde{b}_{\\mathrm{SL}} \\omega^{2} \\sin{\\left(\\theta \\right)} \\sin{\\left(\\omega t \\right)}}{\\hbar \\omega_{0}^{3}}\\right) \\left(\\frac{\\sigma_{0}}{2} + \\frac{\\sigma_{3}}{2}\\right) + \\left(- \\frac{E_{z}^{2} \\tilde{b}_{\\mathrm{SL}}^{2} \\cos^{2}{\\left(\\theta \\right)}}{\\hbar^{3} \\omega_{0}^{3}} + \\frac{\\tilde{E}_{\\mathrm{ac}}^{2} \\omega^{2} \\cos{\\left(2 \\omega t \\right)}}{2 \\hbar \\omega_{0}^{3}} - \\frac{\\tilde{E}_{\\mathrm{ac}}^{2} \\omega^{2}}{2 \\hbar \\omega_{0}^{3}} + \\frac{\\tilde{E}_{\\mathrm{ac}} \\tilde{b}_{\\mathrm{SL}} \\omega^{2} \\sin{\\left(\\theta \\right)} \\sin{\\left(\\omega t \\right)}}{\\hbar \\omega_{0}^{3}}\\right) \\left(\\frac{\\sigma_{0}}{2} - \\frac{\\sigma_{3}}{2}\\right)$"
      ],
      "text/plain": [
       "I*(-E_{z}**2*\\tilde{E}_{\\mathrm{ac}}*\\tilde{b}_{\\mathrm{SL}}*sin(omega*t)*cos(\\theta)/(hbar**3*omega0**3) - \\tilde{E}_{\\mathrm{ac}}*\\tilde{b}_{\\mathrm{SL}}*omega**2*sin(omega*t)*cos(\\theta)/(hbar*omega0**3))*(sigma_1/2 - I*sigma_2/2) + I*(E_{z}**2*\\tilde{E}_{\\mathrm{ac}}*\\tilde{b}_{\\mathrm{SL}}*sin(omega*t)*cos(\\theta)/(hbar**3*omega0**3) + \\tilde{E}_{\\mathrm{ac}}*\\tilde{b}_{\\mathrm{SL}}*omega**2*sin(omega*t)*cos(\\theta)/(hbar*omega0**3))*(sigma_1/2 + I*sigma_2/2) + (-E_{z}**2*\\tilde{b}_{\\mathrm{SL}}**2*cos(\\theta)**2/(hbar**3*omega0**3) + \\tilde{E}_{\\mathrm{ac}}**2*omega**2*cos(2*omega*t)/(2*hbar*omega0**3) - \\tilde{E}_{\\mathrm{ac}}**2*omega**2/(2*hbar*omega0**3) - \\tilde{E}_{\\mathrm{ac}}*\\tilde{b}_{\\mathrm{SL}}*omega**2*sin(\\theta)*sin(omega*t)/(hbar*omega0**3))*(sigma_0/2 + sigma_3/2) + (-E_{z}**2*\\tilde{b}_{\\mathrm{SL}}**2*cos(\\theta)**2/(hbar**3*omega0**3) + \\tilde{E}_{\\mathrm{ac}}**2*omega**2*cos(2*omega*t)/(2*hbar*omega0**3) - \\tilde{E}_{\\mathrm{ac}}**2*omega**2/(2*hbar*omega0**3) + \\tilde{E}_{\\mathrm{ac}}*\\tilde{b}_{\\mathrm{SL}}*omega**2*sin(\\theta)*sin(omega*t)/(hbar*omega0**3))*(sigma_0/2 - sigma_3/2)"
      ]
     },
     "execution_count": 17,
     "metadata": {},
     "output_type": "execute_result"
    }
   ],
   "source": [
    "# Projecting fourth order correction in spin subspace\n",
    "H4_op = Spin.project(sp.expand_complex(H4.xreplace(subs_expvals).expand())).collect(-2*bsl*Eac*sp.cos(theta)*sp.sin(omega*t))\n",
    "H4_op"
   ]
  },
  {
   "cell_type": "code",
   "execution_count": 18,
   "metadata": {},
   "outputs": [
    {
     "data": {
      "text/latex": [
       "$\\displaystyle \\frac{i E_{z} \\tilde{b}_{\\mathrm{SL}}^{2} \\left(- E_{z}^{2} - 4 \\tilde{E}_{\\mathrm{ac}}^{2} \\sin^{2}{\\left(\\omega t \\right)} + \\tilde{b}_{\\mathrm{SL}}^{2}\\right) \\sin{\\left(\\theta \\right)} \\cos{\\left(\\theta \\right)} \\left(\\sigma_{1} - i \\sigma_{2}\\right)}{2 \\hbar^{4} \\omega_{0}^{4}} + \\frac{E_{z} \\tilde{b}_{\\mathrm{SL}}^{2} \\left(- E_{z}^{2} - 4 \\tilde{E}_{\\mathrm{ac}}^{2} \\sin^{2}{\\left(\\omega t \\right)} + \\tilde{b}_{\\mathrm{SL}}^{2}\\right) \\cos^{2}{\\left(\\theta \\right)} \\left(\\sigma_{0} - \\sigma_{3}\\right)}{2 \\hbar^{4} \\omega_{0}^{4}} + \\frac{i E_{z} \\tilde{b}_{\\mathrm{SL}}^{2} \\left(E_{z}^{2} + 4 \\tilde{E}_{\\mathrm{ac}}^{2} \\sin^{2}{\\left(\\omega t \\right)} - \\tilde{b}_{\\mathrm{SL}}^{2}\\right) \\sin{\\left(\\theta \\right)} \\cos{\\left(\\theta \\right)} \\left(\\sigma_{1} + i \\sigma_{2}\\right)}{2 \\hbar^{4} \\omega_{0}^{4}} + \\frac{E_{z} \\tilde{b}_{\\mathrm{SL}}^{2} \\left(E_{z}^{2} + 4 \\tilde{E}_{\\mathrm{ac}}^{2} \\sin^{2}{\\left(\\omega t \\right)} - \\tilde{b}_{\\mathrm{SL}}^{2}\\right) \\cos^{2}{\\left(\\theta \\right)} \\left(\\sigma_{0} + \\sigma_{3}\\right)}{2 \\hbar^{4} \\omega_{0}^{4}}$"
      ],
      "text/plain": [
       "I*E_{z}*\\tilde{b}_{\\mathrm{SL}}**2*(-E_{z}**2 - 4*\\tilde{E}_{\\mathrm{ac}}**2*sin(omega*t)**2 + \\tilde{b}_{\\mathrm{SL}}**2)*sin(\\theta)*cos(\\theta)*(sigma_1 - I*sigma_2)/(2*hbar**4*omega0**4) + E_{z}*\\tilde{b}_{\\mathrm{SL}}**2*(-E_{z}**2 - 4*\\tilde{E}_{\\mathrm{ac}}**2*sin(omega*t)**2 + \\tilde{b}_{\\mathrm{SL}}**2)*cos(\\theta)**2*(sigma_0 - sigma_3)/(2*hbar**4*omega0**4) + I*E_{z}*\\tilde{b}_{\\mathrm{SL}}**2*(E_{z}**2 + 4*\\tilde{E}_{\\mathrm{ac}}**2*sin(omega*t)**2 - \\tilde{b}_{\\mathrm{SL}}**2)*sin(\\theta)*cos(\\theta)*(sigma_1 + I*sigma_2)/(2*hbar**4*omega0**4) + E_{z}*\\tilde{b}_{\\mathrm{SL}}**2*(E_{z}**2 + 4*\\tilde{E}_{\\mathrm{ac}}**2*sin(omega*t)**2 - \\tilde{b}_{\\mathrm{SL}}**2)*cos(\\theta)**2*(sigma_0 + sigma_3)/(2*hbar**4*omega0**4)"
      ]
     },
     "execution_count": 18,
     "metadata": {},
     "output_type": "execute_result"
    }
   ],
   "source": [
    "# Projecting fifth order correction in spin subspace\n",
    "H5_op = Spin.project(sp.expand_complex(H5.xreplace(subs_expvals).expand())).trigsimp()\n",
    "H5_op"
   ]
  }
 ],
 "metadata": {
  "kernelspec": {
   "display_name": "Python 3 (ipykernel)",
   "language": "python",
   "name": "python3"
  },
  "language_info": {
   "codemirror_mode": {
    "name": "ipython",
    "version": 3
   },
   "file_extension": ".py",
   "mimetype": "text/x-python",
   "name": "python",
   "nbconvert_exporter": "python",
   "pygments_lexer": "ipython3",
   "version": "3.13.1"
  }
 },
 "nbformat": 4,
 "nbformat_minor": 4
}
