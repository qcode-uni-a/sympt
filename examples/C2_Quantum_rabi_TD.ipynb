{
 "cells": [
  {
   "cell_type": "code",
   "execution_count": 23,
   "metadata": {},
   "outputs": [],
   "source": [
    "# SymPT imports\n",
    "from SymPT import *\n",
    "# import sympy\n",
    "import sympy as sp"
   ]
  },
  {
   "cell_type": "markdown",
   "metadata": {},
   "source": [
    "# Setup"
   ]
  },
  {
   "cell_type": "code",
   "execution_count": 24,
   "metadata": {},
   "outputs": [
    {
     "data": {
      "text/latex": [
       "$\\displaystyle H_{0} : \\hbar \\omega {{a}^\\dagger} {a} - \\frac{\\hbar \\omega_{z} \\sigma_{3}}{2}$"
      ],
      "text/plain": [
       "<IPython.core.display.Math object>"
      ]
     },
     "metadata": {},
     "output_type": "display_data"
    },
    {
     "data": {
      "text/latex": [
       "$\\displaystyle V : - \\frac{\\tilde{b}_{SL} \\hbar \\left({{a}^\\dagger} + {a}\\right) \\sigma_{1}}{2}$"
      ],
      "text/plain": [
       "<IPython.core.display.Math object>"
      ]
     },
     "metadata": {},
     "output_type": "display_data"
    },
    {
     "data": {
      "text/latex": [
       "$\\displaystyle H_{d} : - \\tilde{E}_{0} \\cos{\\left(\\omega_{d} t \\right)} \\left({{a}^\\dagger} + {a}\\right)$"
      ],
      "text/plain": [
       "<IPython.core.display.Math object>"
      ]
     },
     "metadata": {},
     "output_type": "display_data"
    }
   ],
   "source": [
    "# ---------------- Defining the symbols ------------------\n",
    "# Order 0\n",
    "omega = RDSymbol('omega', positive=True, real=True)\n",
    "omega_z = RDSymbol('omega_z', positive=True, real=True)\n",
    "omega_d = RDSymbol('omega_d', positive=True, real=True)\n",
    "\n",
    "# Order 1\n",
    "bsl = RDSymbol('\\\\tilde{b}_{SL}', order=1, positive=True, real=True)\n",
    "E0 = RDSymbol('\\\\tilde{E}_{0}', order=1, positive=True, real=True)\n",
    "\n",
    "# ----------------- Defining the basis -------------------\n",
    "# Spin basis: Finite 2x2 Hilbert space\n",
    "Spin = RDBasis('sigma', dim=2)\n",
    "s0, sx, sy, sz = Spin.basis\n",
    "\n",
    "# Boson basis: Infinite bosonic Hilbert space\n",
    "a = BosonOp('a')\n",
    "ad = Dagger(a)\n",
    "\n",
    "\n",
    "# -------------- Defining the Hamiltonian ----------------\n",
    "# Unperturbed Hamiltonian H0\n",
    "H0 = hbar * omega * ad*a - hbar/2 * omega_z * sz\n",
    "\n",
    "# Perturbation Hamiltonians\n",
    "V = -sp.Rational(1,2) * hbar * bsl * (ad + a) * sx\n",
    "Hd = -E0 * sp.cos(omega_d * t) * (ad + a)\n",
    "\n",
    "display_dict({\n",
    "    sp.Symbol('H_0'): H0,\n",
    "    sp.Symbol('V'):   V,\n",
    "    sp.Symbol('H_d'): Hd\n",
    "})"
   ]
  },
  {
   "cell_type": "markdown",
   "metadata": {},
   "source": [
    "# Time Independent SWT"
   ]
  },
  {
   "cell_type": "code",
   "execution_count": 25,
   "metadata": {},
   "outputs": [
    {
     "name": "stderr",
     "output_type": "stream",
     "text": [
      "\u001b[32mThe EffectiveFrame object has been initialized successfully.\u001b[0m\n"
     ]
    }
   ],
   "source": [
    "# Deffining Effective Hamiltonian Object\n",
    "Eff_frame = EffectiveFrame(H0, V, subspaces=[Spin])"
   ]
  },
  {
   "cell_type": "code",
   "execution_count": 26,
   "metadata": {},
   "outputs": [
    {
     "name": "stderr",
     "output_type": "stream",
     "text": [
      "Performing SWT for each order: 100%|████████████████████████████████████████| 2/2 [00:00<00:00, 21.17it/s]\n",
      "\u001b[32mThe Hamiltonian has been solved successfully. Please use the get_H method to get the result in the desired form.\u001b[0m\n",
      "Converting to operator form: 100%|█████████████████████████████████████████| 2/2 [00:00<00:00, 216.27it/s]\n"
     ]
    },
    {
     "data": {
      "text/latex": [
       "$\\displaystyle \\frac{\\tilde{b}_{SL}^{2} \\hbar \\omega \\sigma_{3}}{8 \\omega^{2} + 16 \\omega \\omega_{z} + 8 \\omega_{z}^{2}} - \\frac{\\tilde{b}_{SL}^{2} \\hbar \\omega \\sigma_{3}}{8 \\omega^{2} - 16 \\omega \\omega_{z} + 8 \\omega_{z}^{2}} + \\frac{\\tilde{b}_{SL}^{2} \\hbar \\omega \\sigma_{3} {{a}^\\dagger} {a}}{4 \\omega^{2} + 8 \\omega \\omega_{z} + 4 \\omega_{z}^{2}} - \\frac{\\tilde{b}_{SL}^{2} \\hbar \\omega \\sigma_{3} {{a}^\\dagger} {a}}{4 \\omega^{2} - 8 \\omega \\omega_{z} + 4 \\omega_{z}^{2}} - \\frac{\\tilde{b}_{SL}^{2} \\hbar \\omega}{4 \\omega^{2} - 4 \\omega_{z}^{2}} + \\frac{\\tilde{b}_{SL}^{2} \\hbar \\omega_{z} \\sigma_{3}}{8 \\omega^{2} + 16 \\omega \\omega_{z} + 8 \\omega_{z}^{2}} + \\frac{\\tilde{b}_{SL}^{2} \\hbar \\omega_{z} \\sigma_{3}}{8 \\omega^{2} - 16 \\omega \\omega_{z} + 8 \\omega_{z}^{2}} + \\frac{\\tilde{b}_{SL}^{2} \\hbar \\omega_{z} \\sigma_{3} {{a}^\\dagger} {a}}{4 \\omega^{2} + 8 \\omega \\omega_{z} + 4 \\omega_{z}^{2}} + \\frac{\\tilde{b}_{SL}^{2} \\hbar \\omega_{z} \\sigma_{3} {{a}^\\dagger} {a}}{4 \\omega^{2} - 8 \\omega \\omega_{z} + 4 \\omega_{z}^{2}} - \\frac{\\tilde{b}_{SL}^{2} \\hbar \\omega_{z} \\sigma_{3} {{a}^\\dagger}^{2}}{4 \\omega^{2} - 4 \\omega_{z}^{2}} - \\frac{\\tilde{b}_{SL}^{2} \\hbar \\omega_{z} \\sigma_{3} {a}^{2}}{4 \\omega^{2} - 4 \\omega_{z}^{2}} - \\frac{\\tilde{b}_{SL}^{2} \\hbar \\sigma_{3}}{4 \\omega + 4 \\omega_{z}} - \\frac{\\tilde{b}_{SL}^{2} \\hbar \\sigma_{3} {{a}^\\dagger}^{2}}{4 \\omega + 4 \\omega_{z}} - \\frac{\\tilde{b}_{SL}^{2} \\hbar \\sigma_{3} {a}^{2}}{4 \\omega + 4 \\omega_{z}} + \\frac{\\tilde{b}_{SL}^{2} \\hbar \\sigma_{3}}{4 \\omega - 4 \\omega_{z}} + \\frac{\\tilde{b}_{SL}^{2} \\hbar \\sigma_{3} {{a}^\\dagger}^{2}}{4 \\omega - 4 \\omega_{z}} + \\frac{\\tilde{b}_{SL}^{2} \\hbar \\sigma_{3} {a}^{2}}{4 \\omega - 4 \\omega_{z}} - \\frac{\\tilde{b}_{SL}^{2} \\hbar \\sigma_{3} {{a}^\\dagger} {a}}{2 \\omega + 2 \\omega_{z}} + \\frac{\\tilde{b}_{SL}^{2} \\hbar \\sigma_{3} {{a}^\\dagger} {a}}{2 \\omega - 2 \\omega_{z}} + \\hbar \\omega {{a}^\\dagger} {a} - \\frac{\\hbar \\omega_{z} \\sigma_{3}}{2}$"
      ],
      "text/plain": [
       "\\tilde{b}_{SL}**2*hbar*omega*sigma_3/(8*omega**2 + 16*omega*omega_z + 8*omega_z**2) - \\tilde{b}_{SL}**2*hbar*omega*sigma_3/(8*omega**2 - 16*omega*omega_z + 8*omega_z**2) + \\tilde{b}_{SL}**2*hbar*omega*sigma_3*Dagger(a)*a/(4*omega**2 + 8*omega*omega_z + 4*omega_z**2) - \\tilde{b}_{SL}**2*hbar*omega*sigma_3*Dagger(a)*a/(4*omega**2 - 8*omega*omega_z + 4*omega_z**2) - \\tilde{b}_{SL}**2*hbar*omega/(4*omega**2 - 4*omega_z**2) + \\tilde{b}_{SL}**2*hbar*omega_z*sigma_3/(8*omega**2 + 16*omega*omega_z + 8*omega_z**2) + \\tilde{b}_{SL}**2*hbar*omega_z*sigma_3/(8*omega**2 - 16*omega*omega_z + 8*omega_z**2) + \\tilde{b}_{SL}**2*hbar*omega_z*sigma_3*Dagger(a)*a/(4*omega**2 + 8*omega*omega_z + 4*omega_z**2) + \\tilde{b}_{SL}**2*hbar*omega_z*sigma_3*Dagger(a)*a/(4*omega**2 - 8*omega*omega_z + 4*omega_z**2) - \\tilde{b}_{SL}**2*hbar*omega_z*sigma_3*Dagger(a)**2/(4*omega**2 - 4*omega_z**2) - \\tilde{b}_{SL}**2*hbar*omega_z*sigma_3*a**2/(4*omega**2 - 4*omega_z**2) - \\tilde{b}_{SL}**2*hbar*sigma_3/(4*omega + 4*omega_z) - \\tilde{b}_{SL}**2*hbar*sigma_3*Dagger(a)**2/(4*omega + 4*omega_z) - \\tilde{b}_{SL}**2*hbar*sigma_3*a**2/(4*omega + 4*omega_z) + \\tilde{b}_{SL}**2*hbar*sigma_3/(4*omega - 4*omega_z) + \\tilde{b}_{SL}**2*hbar*sigma_3*Dagger(a)**2/(4*omega - 4*omega_z) + \\tilde{b}_{SL}**2*hbar*sigma_3*a**2/(4*omega - 4*omega_z) - \\tilde{b}_{SL}**2*hbar*sigma_3*Dagger(a)*a/(2*omega + 2*omega_z) + \\tilde{b}_{SL}**2*hbar*sigma_3*Dagger(a)*a/(2*omega - 2*omega_z) + hbar*omega*Dagger(a)*a - hbar*omega_z*sigma_3/2"
      ]
     },
     "execution_count": 26,
     "metadata": {},
     "output_type": "execute_result"
    }
   ],
   "source": [
    "# Calculate the effective model using the Schrieffer-Wolff transformation up to the second order\n",
    "Eff_frame.solve(max_order=2, method=\"SW\", mask=None)\n",
    "# Obtaining the result in the operator form\n",
    "H_eff_SWT = Eff_frame.get_H(return_form='operator')\n",
    "H_eff_SWT.cancel().expand()"
   ]
  },
  {
   "cell_type": "code",
   "execution_count": 27,
   "metadata": {},
   "outputs": [
    {
     "data": {
      "text/latex": [
       "$\\displaystyle \\sigma_{3} {{a}^\\dagger} {a} : \\frac{\\tilde{b}_{SL}^{2} \\hbar \\omega_{z}}{2 \\omega^{2} - 2 \\omega_{z}^{2}}$"
      ],
      "text/plain": [
       "<IPython.core.display.Math object>"
      ]
     },
     "metadata": {},
     "output_type": "display_data"
    },
    {
     "data": {
      "text/latex": [
       "$\\displaystyle 1 : - \\frac{\\tilde{b}_{SL}^{2} \\hbar \\omega}{4 \\omega^{2} - 4 \\omega_{z}^{2}}$"
      ],
      "text/plain": [
       "<IPython.core.display.Math object>"
      ]
     },
     "metadata": {},
     "output_type": "display_data"
    },
    {
     "data": {
      "text/latex": [
       "$\\displaystyle \\sigma_{3} : \\frac{\\tilde{b}_{SL}^{2} \\hbar \\omega_{z}}{4 \\omega^{2} - 4 \\omega_{z}^{2}}$"
      ],
      "text/plain": [
       "<IPython.core.display.Math object>"
      ]
     },
     "metadata": {},
     "output_type": "display_data"
    },
    {
     "data": {
      "text/latex": [
       "$\\displaystyle \\sigma_{3} {{a}^\\dagger}^{2} : \\frac{\\tilde{b}_{SL}^{2} \\hbar \\omega_{z}}{4 \\omega^{2} - 4 \\omega_{z}^{2}}$"
      ],
      "text/plain": [
       "<IPython.core.display.Math object>"
      ]
     },
     "metadata": {},
     "output_type": "display_data"
    },
    {
     "data": {
      "text/latex": [
       "$\\displaystyle \\sigma_{3} {a}^{2} : \\frac{\\tilde{b}_{SL}^{2} \\hbar \\omega_{z}}{4 \\omega^{2} - 4 \\omega_{z}^{2}}$"
      ],
      "text/plain": [
       "<IPython.core.display.Math object>"
      ]
     },
     "metadata": {},
     "output_type": "display_data"
    }
   ],
   "source": [
    "# display second order corrections in dictionary form\n",
    "Heff_2_dict = group_by_operators(Eff_frame.corrections[2])\n",
    "display_dict({k: v.cancel() for k, v in Heff_2_dict.items()})"
   ]
  },
  {
   "cell_type": "code",
   "execution_count": 28,
   "metadata": {},
   "outputs": [
    {
     "name": "stderr",
     "output_type": "stream",
     "text": [
      "Rotating for each order: 100%|█████████████████████████████████████████████| 2/2 [00:00<00:00, 414.17it/s]\n",
      "Converting to operator form: 100%|████████████████████████████████████████| 3/3 [00:00<00:00, 4607.44it/s]\n"
     ]
    },
    {
     "data": {
      "text/latex": [
       "$\\displaystyle - \\frac{\\tilde{E}_{0} \\cos{\\left(\\omega_{d} t \\right)} \\left(\\frac{\\tilde{b}_{SL} \\sigma_{1}}{\\omega + \\omega_{z}} + \\frac{\\tilde{b}_{SL} \\sigma_{1}}{\\omega - \\omega_{z}} + 2 {{a}^\\dagger} + 2 {a}\\right)}{2}$"
      ],
      "text/plain": [
       "-\\tilde{E}_{0}*cos(omega_d*t)*(\\tilde{b}_{SL}*sigma_1/(omega + omega_z) + \\tilde{b}_{SL}*sigma_1/(omega - omega_z) + 2*Dagger(a) + 2*a)/2"
      ]
     },
     "execution_count": 28,
     "metadata": {},
     "output_type": "execute_result"
    }
   ],
   "source": [
    "# Rotating drive hamiltonian into new frame\n",
    "H_drive = Eff_frame.rotate(Hd, max_order=2, return_form='operator')\n",
    "H_drive.cancel()"
   ]
  },
  {
   "cell_type": "markdown",
   "metadata": {},
   "source": [
    "# Time Dependent SWT"
   ]
  },
  {
   "cell_type": "code",
   "execution_count": 29,
   "metadata": {},
   "outputs": [
    {
     "name": "stderr",
     "output_type": "stream",
     "text": [
      "\u001b[32mThe EffectiveFrame object has been initialized successfully.\u001b[0m\n"
     ]
    }
   ],
   "source": [
    "# Deffining Effective Hamiltonian Object\n",
    "Eff_frame = EffectiveFrame(H0, V + Hd, subspaces=[Spin])"
   ]
  },
  {
   "cell_type": "code",
   "execution_count": 30,
   "metadata": {},
   "outputs": [
    {
     "name": "stderr",
     "output_type": "stream",
     "text": [
      "Performing Time Dependent SWT for each order: 100%|█████████████████████████| 2/2 [00:00<00:00, 12.20it/s]\n",
      "\u001b[32mThe Hamiltonian has been solved successfully. Please use the get_H method to get the result in the desired form.\u001b[0m\n",
      "Converting to operator form: 100%|█████████████████████████████████████████| 2/2 [00:00<00:00, 170.27it/s]\n"
     ]
    }
   ],
   "source": [
    "# Calculate the effective model using the Schrieffer-Wolff transformation up to the second order\n",
    "Eff_frame.solve(max_order=2, method='SW')\n",
    "# Obtaining the result in the operator form\n",
    "H_eff_SWT = Eff_frame.get_H(return_form='operator')"
   ]
  },
  {
   "cell_type": "code",
   "execution_count": 31,
   "metadata": {},
   "outputs": [],
   "source": [
    "# Get second order corrections\n",
    "H2_eff = Eff_frame.corrections[2]"
   ]
  }
 ],
 "metadata": {
  "kernelspec": {
   "display_name": "Python 3 (ipykernel)",
   "language": "python",
   "name": "python3"
  },
  "language_info": {
   "codemirror_mode": {
    "name": "ipython",
    "version": 3
   },
   "file_extension": ".py",
   "mimetype": "text/x-python",
   "name": "python",
   "nbconvert_exporter": "python",
   "pygments_lexer": "ipython3",
   "version": "3.9.20"
  }
 },
 "nbformat": 4,
 "nbformat_minor": 4
}
