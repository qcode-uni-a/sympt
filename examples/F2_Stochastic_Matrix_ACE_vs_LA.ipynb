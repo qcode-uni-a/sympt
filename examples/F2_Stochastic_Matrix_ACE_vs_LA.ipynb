{
 "cells": [
  {
   "cell_type": "code",
   "execution_count": 1,
   "id": "aa882a4e-a547-4f60-b250-e76c64a0fe43",
   "metadata": {},
   "outputs": [],
   "source": [
    "from SymPT import *\n",
    "import sympy as sp\n",
    "import numpy as np\n",
    "import matplotlib.pyplot as plt\n",
    "from tqdm import tqdm\n",
    "import scipy.linalg as la"
   ]
  },
  {
   "cell_type": "code",
   "execution_count": 2,
   "id": "f826769d-6603-4ee9-82ed-800fa4c43dc1",
   "metadata": {},
   "outputs": [],
   "source": [
    "#plt.style.use(\"classic\")\n",
    "cmap = plt.get_cmap('inferno')\n",
    "plt.rc('text', usetex = True)\n",
    "plt.rc('font', family = 'serif', weight = 'normal')\n",
    "plt.rc('font', size = 18)\n",
    "color_list = [cmap(i) for i in np.linspace(0, 1, 16)]\n",
    "fntsize = 20\n",
    "dir_images = \"graphs/\""
   ]
  },
  {
   "cell_type": "code",
   "execution_count": 3,
   "id": "ed7870a3-0bf6-4386-b4f7-a5dda7c4d1de",
   "metadata": {},
   "outputs": [],
   "source": [
    "def get_structure(block_sizes):\n",
    "    \"\"\"\n",
    "    Generate a block structure with specified block sizes.\n",
    "    \n",
    "    Parameters:\n",
    "    -----------\n",
    "    block_sizes : list of int\n",
    "        List of block sizes for each section of the matrix\n",
    "        \n",
    "    Returns:\n",
    "    --------\n",
    "    structure : numpy.ndarray\n",
    "        The generated block structure matrix\n",
    "    \"\"\"\n",
    "    # functions for generating blocks\n",
    "    block = lambda i, j: np.ones((i, j))\n",
    "    zero = lambda i, j: np.zeros((i, j))\n",
    "    \n",
    "    \n",
    "    n = len(block_sizes) # initial block structure\n",
    "    structure = []\n",
    "    \n",
    "    for i in range(n):\n",
    "        row = []\n",
    "        for j in range(n):\n",
    "            # Fill with zeros if i > j (lower triangle)\n",
    "            if i > j:\n",
    "                row.append(zero(block_sizes[i], block_sizes[j]))\n",
    "            # Create block of ones for diagonal\n",
    "            elif i == j:\n",
    "                row.append(zero(block_sizes[i], block_sizes[j]))\n",
    "            # Fill with ones for upper triangle\n",
    "            else:\n",
    "                row.append(block(block_sizes[i], block_sizes[j]))\n",
    "        structure.append(row)\n",
    "    \n",
    "\n",
    "    structure = np.block(structure) # Convert to numpy block matrix\n",
    "    \n",
    "    structure = structure + structure.T # Make symmetric \n",
    "    \n",
    "    return structure"
   ]
  },
  {
   "cell_type": "markdown",
   "id": "ef4348f7-2dd2-4aa8-9aef-7b5c410f5b2f",
   "metadata": {},
   "source": [
    "# Mask"
   ]
  },
  {
   "cell_type": "code",
   "execution_count": 9,
   "id": "bdb99a3d-f723-4e1d-8414-7e6afa4d3b16",
   "metadata": {},
   "outputs": [
    {
     "data": {
      "text/plain": [
       "(7, 7)"
      ]
     },
     "execution_count": 9,
     "metadata": {},
     "output_type": "execute_result"
    },
    {
     "data": {
      "image/png": "[encoded data removed]",
      "text/plain": [
       "<Figure size 640x480 with 1 Axes>"
      ]
     },
     "metadata": {},
     "output_type": "display_data"
    }
   ],
   "source": [
    "b_dims = np.random.randint(5, size=5)\n",
    "structure = get_structure(b_dims)\n",
    "mask = Block(structure)\n",
    "plt.imshow(structure)\n",
    "structure.shape"
   ]
  },
  {
   "cell_type": "markdown",
   "id": "5aed04d4-4d1d-4bad-ba3e-36044a74ec03",
   "metadata": {},
   "source": [
    "# Hamiltonian"
   ]
  },
  {
   "cell_type": "code",
   "execution_count": 10,
   "id": "0bdb5fec-4c4c-4227-8bcc-7dcb7454456d",
   "metadata": {},
   "outputs": [],
   "source": [
    "I = structure.shape[0]\n",
    "J = structure.shape[1]\n",
    "lambdas = [RDSymbol(f\"\\\\lambda_{i}\", order = 1, real = True) for i in range(int((I**2 -I))//2)]\n",
    "omegas = [RDSymbol(f\"\\\\omega_{i}\", order = 0, real = True) for i in range(I)]\n",
    "\n",
    "H = sp.zeros(I, J)\n",
    "lambda_index = 0\n",
    "for i in range(I):\n",
    "    for j in range(i, J):  # Loop only over upper triangular part (including diagonal)\n",
    "        if i == j:\n",
    "            H[i, j] = omegas[i]  # Diagonal elements\n",
    "        else:\n",
    "            H[i, j] = lambdas[lambda_index]\n",
    "            H[j, i] = lambdas[lambda_index]  # Ensure symmetry\n",
    "            lambda_index += 1"
   ]
  },
  {
   "cell_type": "code",
   "execution_count": 11,
   "id": "6a46c876-a2ce-40bd-9ac9-12f31513fe64",
   "metadata": {},
   "outputs": [],
   "source": [
    "def substitution_rules(I, J):\n",
    "    \"\"\"Returns 2 dictionaries containing substitution rules for H\"\"\"\n",
    "    omega_values = np.sort([np.random.uniform(-10, 10) for _ in range(I)])  \n",
    "    substitution_dict = {omegas[i]: omega_values[i] for i in range(I)}\n",
    "    substitution_omegas = {omegas[i]: omega_values[i] for i in range(I)}\n",
    "\n",
    "    lambda_index = 0\n",
    "    for i in range(I):\n",
    "        for j in range(i+1, J):  # Iterate only over the upper triangular part\n",
    "            bound = 0.1**(lambdas[lambda_index].order) * abs(omega_values[i] - omega_values[j])            \n",
    "            lambda_value = bound             \n",
    "            substitution_dict[lambdas[lambda_index]] = lambda_value \n",
    "            lambda_index += 1\n",
    "            \n",
    "    return substitution_dict, substitution_omegas\n",
    "values, omegas = substitution_rules(I,J)"
   ]
  },
  {
   "cell_type": "code",
   "execution_count": 12,
   "id": "b5c5b2ae-0740-456b-921d-4ff40277eba0",
   "metadata": {},
   "outputs": [
    {
     "name": "stdout",
     "output_type": "stream",
     "text": [
      "Creating the EffectiveFrame object with matrix form.\n",
      "The EffectiveFrame object has been initialized successfully.\n",
      "\n",
      "Effective Frame\n",
      "\n",
      "╭────────┬────────┬─────────────╮\n",
      "│  Name  │  Type  │  Dimension  │\n",
      "├────────┼────────┼─────────────┤\n",
      "│ Finite │ Finite │     7x7     │\n",
      "╰────────┴────────┴─────────────╯\n",
      "\n",
      "Effective Hamiltonian: \tNot computed yet. To do so, run `solve` method. \n",
      "\n",
      "\n"
     ]
    }
   ],
   "source": [
    "Eff_Frame = EffectiveFrame(H, symbol_values = values)"
   ]
  },
  {
   "cell_type": "markdown",
   "id": "d8bfcad1-d4a1-4201-82d1-ce6a0b91ac8c",
   "metadata": {},
   "source": [
    "# Least Action Method"
   ]
  },
  {
   "cell_type": "code",
   "execution_count": 49,
   "id": "ce4f6d28-e51f-451d-ad2c-3b0236e954fd",
   "metadata": {},
   "outputs": [
    {
     "name": "stdout",
     "output_type": "stream",
     "text": [
      "Substituting the symbol values in the Hamiltonian and perturbative interactions.\n"
     ]
    },
    {
     "name": "stderr",
     "output_type": "stream",
     "text": [
      "Performing Full Diagonalization for each order: 100%|█████████████████████████████████████████████████████████████████████████████████████████████████████████████████████████████████| 7/7 [16:27<00:00, 141.10s/it]\n",
      "Computing least-action generators S:  86%|████████████████████████████████████████████████████████████████████████████████████████████████████████████████████████                    | 6/7 [14:22<02:23, 143.78s/it]\n"
     ]
    },
    {
     "ename": "KeyboardInterrupt",
     "evalue": "",
     "output_type": "error",
     "traceback": [
      "\u001b[0;31m---------------------------------------------------------------------------\u001b[0m",
      "\u001b[0;31mKeyboardInterrupt\u001b[0m                         Traceback (most recent call last)",
      "Cell \u001b[0;32mIn[49], line 2\u001b[0m\n\u001b[1;32m      1\u001b[0m \u001b[38;5;66;03m# Calculate the effective model using mask up to the second order\u001b[39;00m\n\u001b[0;32m----> 2\u001b[0m \u001b[43mEff_Frame\u001b[49m\u001b[38;5;241;43m.\u001b[39;49m\u001b[43msolve\u001b[49m\u001b[43m(\u001b[49m\u001b[43mmax_order\u001b[49m\u001b[43m \u001b[49m\u001b[38;5;241;43m=\u001b[39;49m\u001b[43m \u001b[49m\u001b[38;5;241;43m7\u001b[39;49m\u001b[43m,\u001b[49m\u001b[43m \u001b[49m\u001b[43mmethod\u001b[49m\u001b[43m \u001b[49m\u001b[38;5;241;43m=\u001b[39;49m\u001b[43m \u001b[49m\u001b[38;5;124;43m\"\u001b[39;49m\u001b[38;5;124;43mLA\u001b[39;49m\u001b[38;5;124;43m\"\u001b[39;49m\u001b[43m,\u001b[49m\u001b[43m \u001b[49m\u001b[43mmask\u001b[49m\u001b[38;5;241;43m=\u001b[39;49m\u001b[43mmask\u001b[49m\u001b[43m)\u001b[49m\n\u001b[1;32m      3\u001b[0m \u001b[38;5;66;03m# Obtaining the result in the matrix form\u001b[39;00m\n\u001b[1;32m      4\u001b[0m LA_result \u001b[38;5;241m=\u001b[39m Eff_Frame\u001b[38;5;241m.\u001b[39mget_H(return_form \u001b[38;5;241m=\u001b[39m \u001b[38;5;124m\"\u001b[39m\u001b[38;5;124mmatrix\u001b[39m\u001b[38;5;124m\"\u001b[39m)\n",
      "File \u001b[0;32m~/miniconda3/envs/sympt/lib/python3.9/site-packages/SymPT/solver.py:576\u001b[0m, in \u001b[0;36mEffectiveFrame.solve\u001b[0;34m(self, max_order, method, mask)\u001b[0m\n\u001b[1;32m    574\u001b[0m     \u001b[38;5;28mself\u001b[39m\u001b[38;5;241m.\u001b[39m__Z \u001b[38;5;241m=\u001b[39m \u001b[38;5;28mself\u001b[39m\u001b[38;5;241m.\u001b[39m__S\n\u001b[1;32m    575\u001b[0m     \u001b[38;5;28;01mdel\u001b[39;00m(\u001b[38;5;28mself\u001b[39m\u001b[38;5;241m.\u001b[39m__S)\n\u001b[0;32m--> 576\u001b[0m     \u001b[38;5;28;43mself\u001b[39;49m\u001b[38;5;241;43m.\u001b[39;49m\u001b[43m__LA_solver\u001b[49m\u001b[43m(\u001b[49m\u001b[43mmax_order\u001b[49m\u001b[43m,\u001b[49m\u001b[43m \u001b[49m\u001b[43mmask\u001b[49m\u001b[43m)\u001b[49m\n\u001b[1;32m    579\u001b[0m \u001b[38;5;66;03m# Store the results\u001b[39;00m\n\u001b[1;32m    580\u001b[0m \u001b[38;5;28mself\u001b[39m\u001b[38;5;241m.\u001b[39m__max_order \u001b[38;5;241m=\u001b[39m max_order\n",
      "File \u001b[0;32m~/miniconda3/envs/sympt/lib/python3.9/site-packages/SymPT/solver.py:467\u001b[0m, in \u001b[0;36mEffectiveFrame.__LA_solver\u001b[0;34m(self, max_order, mask)\u001b[0m\n\u001b[1;32m    465\u001b[0m \u001b[38;5;28;01mfor\u001b[39;00m order \u001b[38;5;129;01min\u001b[39;00m trange(\u001b[38;5;241m1\u001b[39m, max_order \u001b[38;5;241m+\u001b[39m \u001b[38;5;241m1\u001b[39m, desc\u001b[38;5;241m=\u001b[39m\u001b[38;5;124m'\u001b[39m\u001b[38;5;124mComputing least-action generators S\u001b[39m\u001b[38;5;124m'\u001b[39m):\n\u001b[1;32m    466\u001b[0m     Sk \u001b[38;5;241m=\u001b[39m LA_S(order)\n\u001b[0;32m--> 467\u001b[0m     \u001b[38;5;28mself\u001b[39m\u001b[38;5;241m.\u001b[39m__S[order] \u001b[38;5;241m=\u001b[39m apply_commutation_relations(\u001b[43mSk\u001b[49m\u001b[38;5;241;43m.\u001b[39;49m\u001b[43mdoit\u001b[49m\u001b[43m(\u001b[49m\u001b[43m)\u001b[49m, \u001b[38;5;28mself\u001b[39m\u001b[38;5;241m.\u001b[39mcommutation_relations)\u001b[38;5;241m.\u001b[39msimplify()\n\u001b[1;32m    469\u001b[0m \u001b[38;5;28mself\u001b[39m\u001b[38;5;241m.\u001b[39m__Hs_final \u001b[38;5;241m=\u001b[39m {k: apply_substituitions(v, \u001b[38;5;28mself\u001b[39m\u001b[38;5;241m.\u001b[39m__ns)\u001b[38;5;241m.\u001b[39msimplify() \u001b[38;5;28;01mfor\u001b[39;00m k, v \u001b[38;5;129;01min\u001b[39;00m \u001b[38;5;28mself\u001b[39m\u001b[38;5;241m.\u001b[39m__rotate(max_order, \u001b[38;5;28mself\u001b[39m\u001b[38;5;241m.\u001b[39m__Hs_aux)\u001b[38;5;241m.\u001b[39mitems()}\n",
      "File \u001b[0;32m~/miniconda3/envs/sympt/lib/python3.9/site-packages/SymPT/classes.py:137\u001b[0m, in \u001b[0;36mBExpression.doit\u001b[0;34m(self)\u001b[0m\n\u001b[1;32m    136\u001b[0m \u001b[38;5;28;01mdef\u001b[39;00m \u001b[38;5;21mdoit\u001b[39m(\u001b[38;5;28mself\u001b[39m):\n\u001b[0;32m--> 137\u001b[0m     \u001b[38;5;28;01mreturn\u001b[39;00m \u001b[43mnp_sum\u001b[49m\u001b[43m(\u001b[49m\u001b[43mnp_vectorize\u001b[49m\u001b[43m(\u001b[49m\u001b[38;5;28;43;01mlambda\u001b[39;49;00m\u001b[43m \u001b[49m\u001b[43mx\u001b[49m\u001b[43m:\u001b[49m\u001b[43m \u001b[49m\u001b[43mx\u001b[49m\u001b[38;5;241;43m.\u001b[39;49m\u001b[43mdoit\u001b[49m\u001b[43m(\u001b[49m\u001b[43m)\u001b[49m\u001b[43m,\u001b[49m\u001b[43m \u001b[49m\u001b[43motypes\u001b[49m\u001b[38;5;241;43m=\u001b[39;49m\u001b[43m[\u001b[49m\u001b[38;5;28;43mobject\u001b[39;49m\u001b[43m]\u001b[49m\u001b[43m)\u001b[49m\u001b[43m(\u001b[49m\u001b[38;5;28;43mself\u001b[39;49m\u001b[38;5;241;43m.\u001b[39;49m\u001b[43mexpr\u001b[49m\u001b[43m)\u001b[49m\u001b[43m)\u001b[49m\u001b[38;5;241;43m.\u001b[39;49m\u001b[43msimplify\u001b[49m\u001b[43m(\u001b[49m\u001b[43m)\u001b[49m\n",
      "File \u001b[0;32m~/miniconda3/envs/sympt/lib/python3.9/site-packages/SymPT/classes.py:831\u001b[0m, in \u001b[0;36mExpression.simplify\u001b[0;34m(self, return_dict)\u001b[0m\n\u001b[1;32m    828\u001b[0m \u001b[38;5;66;03m# If the key already exists in the result dictionary, add the function to the existing entry.\u001b[39;00m\n\u001b[1;32m    829\u001b[0m \u001b[38;5;28;01mif\u001b[39;00m key \u001b[38;5;129;01min\u001b[39;00m result_dict:\n\u001b[1;32m    830\u001b[0m     \u001b[38;5;66;03m# Update the dictionary with the new function.\u001b[39;00m\n\u001b[0;32m--> 831\u001b[0m     result_dict[key] \u001b[38;5;241m=\u001b[39m \u001b[43mresult_dict\u001b[49m\u001b[43m[\u001b[49m\u001b[43mkey\u001b[49m\u001b[43m]\u001b[49m\u001b[43m \u001b[49m\u001b[38;5;241;43m+\u001b[39;49m\u001b[43m \u001b[49m\u001b[43mfn\u001b[49m\n\u001b[1;32m    832\u001b[0m \u001b[38;5;28;01melse\u001b[39;00m:\n\u001b[1;32m    833\u001b[0m     \u001b[38;5;66;03m# Otherwise, create a new entry with the current function.\u001b[39;00m\n\u001b[1;32m    834\u001b[0m     result_dict[key] \u001b[38;5;241m=\u001b[39m fn\n",
      "File \u001b[0;32m~/miniconda3/envs/sympt/lib/python3.9/site-packages/sympy/core/decorators.py:106\u001b[0m, in \u001b[0;36mcall_highest_priority.<locals>.priority_decorator.<locals>.binary_op_wrapper\u001b[0;34m(self, other)\u001b[0m\n\u001b[1;32m    104\u001b[0m         \u001b[38;5;28;01mif\u001b[39;00m f \u001b[38;5;129;01mis\u001b[39;00m \u001b[38;5;129;01mnot\u001b[39;00m \u001b[38;5;28;01mNone\u001b[39;00m:\n\u001b[1;32m    105\u001b[0m             \u001b[38;5;28;01mreturn\u001b[39;00m f(\u001b[38;5;28mself\u001b[39m)\n\u001b[0;32m--> 106\u001b[0m \u001b[38;5;28;01mreturn\u001b[39;00m \u001b[43mfunc\u001b[49m\u001b[43m(\u001b[49m\u001b[38;5;28;43mself\u001b[39;49m\u001b[43m,\u001b[49m\u001b[43m \u001b[49m\u001b[43mother\u001b[49m\u001b[43m)\u001b[49m\n",
      "File \u001b[0;32m~/miniconda3/envs/sympt/lib/python3.9/site-packages/sympy/matrices/matrixbase.py:2774\u001b[0m, in \u001b[0;36mMatrixBase.__add__\u001b[0;34m(self, other)\u001b[0m\n\u001b[1;32m   2771\u001b[0m \u001b[38;5;28;01mif\u001b[39;00m a\u001b[38;5;241m.\u001b[39m\u001b[38;5;18m__class__\u001b[39m \u001b[38;5;241m!=\u001b[39m classof(a, b):\n\u001b[1;32m   2772\u001b[0m     b, a \u001b[38;5;241m=\u001b[39m a, b\n\u001b[0;32m-> 2774\u001b[0m \u001b[38;5;28;01mreturn\u001b[39;00m \u001b[43ma\u001b[49m\u001b[38;5;241;43m.\u001b[39;49m\u001b[43m_eval_add\u001b[49m\u001b[43m(\u001b[49m\u001b[43mb\u001b[49m\u001b[43m)\u001b[49m\n",
      "File \u001b[0;32m~/miniconda3/envs/sympt/lib/python3.9/site-packages/sympy/matrices/repmatrix.py:349\u001b[0m, in \u001b[0;36mRepMatrix._eval_add\u001b[0;34m(self, other)\u001b[0m\n\u001b[1;32m    348\u001b[0m \u001b[38;5;28;01mdef\u001b[39;00m \u001b[38;5;21m_eval_add\u001b[39m(\u001b[38;5;28mself\u001b[39m, other):\n\u001b[0;32m--> 349\u001b[0m     \u001b[38;5;28;01mreturn\u001b[39;00m classof(\u001b[38;5;28mself\u001b[39m, other)\u001b[38;5;241m.\u001b[39m_fromrep(\u001b[38;5;28;43mself\u001b[39;49m\u001b[38;5;241;43m.\u001b[39;49m\u001b[43m_rep\u001b[49m\u001b[43m \u001b[49m\u001b[38;5;241;43m+\u001b[39;49m\u001b[43m \u001b[49m\u001b[43mother\u001b[49m\u001b[38;5;241;43m.\u001b[39;49m\u001b[43m_rep\u001b[49m)\n",
      "File \u001b[0;32m~/miniconda3/envs/sympt/lib/python3.9/site-packages/sympy/polys/matrices/domainmatrix.py:1338\u001b[0m, in \u001b[0;36mDomainMatrix.__add__\u001b[0;34m(A, B)\u001b[0m\n\u001b[1;32m   1336\u001b[0m     \u001b[38;5;28;01mreturn\u001b[39;00m \u001b[38;5;28mNotImplemented\u001b[39m\n\u001b[1;32m   1337\u001b[0m A, B \u001b[38;5;241m=\u001b[39m A\u001b[38;5;241m.\u001b[39munify(B, fmt\u001b[38;5;241m=\u001b[39m\u001b[38;5;124m'\u001b[39m\u001b[38;5;124mdense\u001b[39m\u001b[38;5;124m'\u001b[39m)\n\u001b[0;32m-> 1338\u001b[0m \u001b[38;5;28;01mreturn\u001b[39;00m \u001b[43mA\u001b[49m\u001b[38;5;241;43m.\u001b[39;49m\u001b[43madd\u001b[49m\u001b[43m(\u001b[49m\u001b[43mB\u001b[49m\u001b[43m)\u001b[49m\n",
      "File \u001b[0;32m~/miniconda3/envs/sympt/lib/python3.9/site-packages/sympy/polys/matrices/domainmatrix.py:1438\u001b[0m, in \u001b[0;36mDomainMatrix.add\u001b[0;34m(A, B)\u001b[0m\n\u001b[1;32m   1392\u001b[0m \u001b[38;5;250m\u001b[39m\u001b[38;5;124mr\u001b[39m\u001b[38;5;124;03m\"\"\"\u001b[39;00m\n\u001b[1;32m   1393\u001b[0m \u001b[38;5;124;03mAdds two DomainMatrix matrices of the same Domain\u001b[39;00m\n\u001b[1;32m   1394\u001b[0m \n\u001b[0;32m   (...)\u001b[0m\n\u001b[1;32m   1435\u001b[0m \n\u001b[1;32m   1436\u001b[0m \u001b[38;5;124;03m\"\"\"\u001b[39;00m\n\u001b[1;32m   1437\u001b[0m A\u001b[38;5;241m.\u001b[39m_check(\u001b[38;5;124m'\u001b[39m\u001b[38;5;124m+\u001b[39m\u001b[38;5;124m'\u001b[39m, B, A\u001b[38;5;241m.\u001b[39mshape, B\u001b[38;5;241m.\u001b[39mshape)\n\u001b[0;32m-> 1438\u001b[0m \u001b[38;5;28;01mreturn\u001b[39;00m A\u001b[38;5;241m.\u001b[39mfrom_rep(\u001b[43mA\u001b[49m\u001b[38;5;241;43m.\u001b[39;49m\u001b[43mrep\u001b[49m\u001b[38;5;241;43m.\u001b[39;49m\u001b[43madd\u001b[49m\u001b[43m(\u001b[49m\u001b[43mB\u001b[49m\u001b[38;5;241;43m.\u001b[39;49m\u001b[43mrep\u001b[49m\u001b[43m)\u001b[49m)\n",
      "File \u001b[0;32m~/miniconda3/envs/sympt/lib/python3.9/site-packages/sympy/polys/matrices/sdm.py:870\u001b[0m, in \u001b[0;36mSDM.add\u001b[0;34m(A, B)\u001b[0m\n\u001b[1;32m    854\u001b[0m \u001b[38;5;28;01mdef\u001b[39;00m \u001b[38;5;21madd\u001b[39m(A, B):\n\u001b[1;32m    855\u001b[0m \u001b[38;5;250m    \u001b[39m\u001b[38;5;124;03m\"\"\"\u001b[39;00m\n\u001b[1;32m    856\u001b[0m \n\u001b[1;32m    857\u001b[0m \u001b[38;5;124;03m    Adds two :py:class:`~.SDM` matrices\u001b[39;00m\n\u001b[0;32m   (...)\u001b[0m\n\u001b[1;32m    868\u001b[0m \n\u001b[1;32m    869\u001b[0m \u001b[38;5;124;03m    \"\"\"\u001b[39;00m\n\u001b[0;32m--> 870\u001b[0m     Csdm \u001b[38;5;241m=\u001b[39m \u001b[43mbinop_dict\u001b[49m\u001b[43m(\u001b[49m\u001b[43mA\u001b[49m\u001b[43m,\u001b[49m\u001b[43m \u001b[49m\u001b[43mB\u001b[49m\u001b[43m,\u001b[49m\u001b[43m \u001b[49m\u001b[43madd\u001b[49m\u001b[43m,\u001b[49m\u001b[43m \u001b[49m\u001b[43mpos\u001b[49m\u001b[43m,\u001b[49m\u001b[43m \u001b[49m\u001b[43mpos\u001b[49m\u001b[43m)\u001b[49m\n\u001b[1;32m    871\u001b[0m     \u001b[38;5;28;01mreturn\u001b[39;00m A\u001b[38;5;241m.\u001b[39mnew(Csdm, A\u001b[38;5;241m.\u001b[39mshape, A\u001b[38;5;241m.\u001b[39mdomain)\n",
      "File \u001b[0;32m~/miniconda3/envs/sympt/lib/python3.9/site-packages/sympy/polys/matrices/sdm.py:1379\u001b[0m, in \u001b[0;36mbinop_dict\u001b[0;34m(A, B, fab, fa, fb)\u001b[0m\n\u001b[1;32m   1377\u001b[0m Anzi, Bnzi \u001b[38;5;241m=\u001b[39m \u001b[38;5;28mset\u001b[39m(Ai), \u001b[38;5;28mset\u001b[39m(Bi)\n\u001b[1;32m   1378\u001b[0m \u001b[38;5;28;01mfor\u001b[39;00m j \u001b[38;5;129;01min\u001b[39;00m Anzi \u001b[38;5;241m&\u001b[39m Bnzi:\n\u001b[0;32m-> 1379\u001b[0m     Cij \u001b[38;5;241m=\u001b[39m \u001b[43mfab\u001b[49m\u001b[43m(\u001b[49m\u001b[43mAi\u001b[49m\u001b[43m[\u001b[49m\u001b[43mj\u001b[49m\u001b[43m]\u001b[49m\u001b[43m,\u001b[49m\u001b[43m \u001b[49m\u001b[43mBi\u001b[49m\u001b[43m[\u001b[49m\u001b[43mj\u001b[49m\u001b[43m]\u001b[49m\u001b[43m)\u001b[49m\n\u001b[1;32m   1380\u001b[0m     \u001b[38;5;28;01mif\u001b[39;00m Cij:\n\u001b[1;32m   1381\u001b[0m         Ci[j] \u001b[38;5;241m=\u001b[39m Cij\n",
      "File \u001b[0;32m~/miniconda3/envs/sympt/lib/python3.9/site-packages/sympy/core/decorators.py:236\u001b[0m, in \u001b[0;36m_SympifyWrapper.make_wrapped.<locals>._func\u001b[0;34m(self, other)\u001b[0m\n\u001b[1;32m    234\u001b[0m \u001b[38;5;28;01mif\u001b[39;00m \u001b[38;5;129;01mnot\u001b[39;00m \u001b[38;5;28misinstance\u001b[39m(other, expectedcls):\n\u001b[1;32m    235\u001b[0m     \u001b[38;5;28;01mreturn\u001b[39;00m retval\n\u001b[0;32m--> 236\u001b[0m \u001b[38;5;28;01mreturn\u001b[39;00m \u001b[43mfunc\u001b[49m\u001b[43m(\u001b[49m\u001b[38;5;28;43mself\u001b[39;49m\u001b[43m,\u001b[49m\u001b[43m \u001b[49m\u001b[43mother\u001b[49m\u001b[43m)\u001b[49m\n",
      "File \u001b[0;32m~/miniconda3/envs/sympt/lib/python3.9/site-packages/sympy/core/decorators.py:106\u001b[0m, in \u001b[0;36mcall_highest_priority.<locals>.priority_decorator.<locals>.binary_op_wrapper\u001b[0;34m(self, other)\u001b[0m\n\u001b[1;32m    104\u001b[0m         \u001b[38;5;28;01mif\u001b[39;00m f \u001b[38;5;129;01mis\u001b[39;00m \u001b[38;5;129;01mnot\u001b[39;00m \u001b[38;5;28;01mNone\u001b[39;00m:\n\u001b[1;32m    105\u001b[0m             \u001b[38;5;28;01mreturn\u001b[39;00m f(\u001b[38;5;28mself\u001b[39m)\n\u001b[0;32m--> 106\u001b[0m \u001b[38;5;28;01mreturn\u001b[39;00m \u001b[43mfunc\u001b[49m\u001b[43m(\u001b[49m\u001b[38;5;28;43mself\u001b[39;49m\u001b[43m,\u001b[49m\u001b[43m \u001b[49m\u001b[43mother\u001b[49m\u001b[43m)\u001b[49m\n",
      "File \u001b[0;32m~/miniconda3/envs/sympt/lib/python3.9/site-packages/sympy/core/expr.py:199\u001b[0m, in \u001b[0;36mExpr.__add__\u001b[0;34m(self, other)\u001b[0m\n\u001b[1;32m    196\u001b[0m \u001b[38;5;129m@sympify_return\u001b[39m([(\u001b[38;5;124m'\u001b[39m\u001b[38;5;124mother\u001b[39m\u001b[38;5;124m'\u001b[39m, \u001b[38;5;124m'\u001b[39m\u001b[38;5;124mExpr\u001b[39m\u001b[38;5;124m'\u001b[39m)], \u001b[38;5;28mNotImplemented\u001b[39m)\n\u001b[1;32m    197\u001b[0m \u001b[38;5;129m@call_highest_priority\u001b[39m(\u001b[38;5;124m'\u001b[39m\u001b[38;5;124m__radd__\u001b[39m\u001b[38;5;124m'\u001b[39m)\n\u001b[1;32m    198\u001b[0m \u001b[38;5;28;01mdef\u001b[39;00m \u001b[38;5;21m__add__\u001b[39m(\u001b[38;5;28mself\u001b[39m, other):\n\u001b[0;32m--> 199\u001b[0m     \u001b[38;5;28;01mreturn\u001b[39;00m \u001b[43mAdd\u001b[49m\u001b[43m(\u001b[49m\u001b[38;5;28;43mself\u001b[39;49m\u001b[43m,\u001b[49m\u001b[43m \u001b[49m\u001b[43mother\u001b[49m\u001b[43m)\u001b[49m\n",
      "File \u001b[0;32m~/miniconda3/envs/sympt/lib/python3.9/site-packages/sympy/core/cache.py:72\u001b[0m, in \u001b[0;36m__cacheit.<locals>.func_wrapper.<locals>.wrapper\u001b[0;34m(*args, **kwargs)\u001b[0m\n\u001b[1;32m     69\u001b[0m \u001b[38;5;129m@wraps\u001b[39m(func)\n\u001b[1;32m     70\u001b[0m \u001b[38;5;28;01mdef\u001b[39;00m \u001b[38;5;21mwrapper\u001b[39m(\u001b[38;5;241m*\u001b[39margs, \u001b[38;5;241m*\u001b[39m\u001b[38;5;241m*\u001b[39mkwargs):\n\u001b[1;32m     71\u001b[0m     \u001b[38;5;28;01mtry\u001b[39;00m:\n\u001b[0;32m---> 72\u001b[0m         retval \u001b[38;5;241m=\u001b[39m \u001b[43mcfunc\u001b[49m\u001b[43m(\u001b[49m\u001b[38;5;241;43m*\u001b[39;49m\u001b[43margs\u001b[49m\u001b[43m,\u001b[49m\u001b[43m \u001b[49m\u001b[38;5;241;43m*\u001b[39;49m\u001b[38;5;241;43m*\u001b[39;49m\u001b[43mkwargs\u001b[49m\u001b[43m)\u001b[49m\n\u001b[1;32m     73\u001b[0m     \u001b[38;5;28;01mexcept\u001b[39;00m \u001b[38;5;167;01mTypeError\u001b[39;00m \u001b[38;5;28;01mas\u001b[39;00m e:\n\u001b[1;32m     74\u001b[0m         \u001b[38;5;28;01mif\u001b[39;00m \u001b[38;5;129;01mnot\u001b[39;00m e\u001b[38;5;241m.\u001b[39margs \u001b[38;5;129;01mor\u001b[39;00m \u001b[38;5;129;01mnot\u001b[39;00m e\u001b[38;5;241m.\u001b[39margs[\u001b[38;5;241m0\u001b[39m]\u001b[38;5;241m.\u001b[39mstartswith(\u001b[38;5;124m'\u001b[39m\u001b[38;5;124munhashable type:\u001b[39m\u001b[38;5;124m'\u001b[39m):\n",
      "File \u001b[0;32m~/miniconda3/envs/sympt/lib/python3.9/site-packages/sympy/core/operations.py:98\u001b[0m, in \u001b[0;36mAssocOp.__new__\u001b[0;34m(cls, evaluate, _sympify, *args)\u001b[0m\n\u001b[1;32m     95\u001b[0m \u001b[38;5;28;01mif\u001b[39;00m \u001b[38;5;28mlen\u001b[39m(args) \u001b[38;5;241m==\u001b[39m \u001b[38;5;241m1\u001b[39m:\n\u001b[1;32m     96\u001b[0m     \u001b[38;5;28;01mreturn\u001b[39;00m args[\u001b[38;5;241m0\u001b[39m]\n\u001b[0;32m---> 98\u001b[0m c_part, nc_part, order_symbols \u001b[38;5;241m=\u001b[39m \u001b[38;5;28;43mcls\u001b[39;49m\u001b[38;5;241;43m.\u001b[39;49m\u001b[43mflatten\u001b[49m\u001b[43m(\u001b[49m\u001b[43margs\u001b[49m\u001b[43m)\u001b[49m\n\u001b[1;32m     99\u001b[0m is_commutative \u001b[38;5;241m=\u001b[39m \u001b[38;5;129;01mnot\u001b[39;00m nc_part\n\u001b[1;32m    100\u001b[0m obj \u001b[38;5;241m=\u001b[39m \u001b[38;5;28mcls\u001b[39m\u001b[38;5;241m.\u001b[39m_from_args(c_part \u001b[38;5;241m+\u001b[39m nc_part, is_commutative)\n",
      "File \u001b[0;32m~/miniconda3/envs/sympt/lib/python3.9/site-packages/sympy/core/add.py:378\u001b[0m, in \u001b[0;36mAdd.flatten\u001b[0;34m(cls, seq)\u001b[0m\n\u001b[1;32m    375\u001b[0m             \u001b[38;5;28;01mbreak\u001b[39;00m\n\u001b[1;32m    377\u001b[0m \u001b[38;5;66;03m# order args canonically\u001b[39;00m\n\u001b[0;32m--> 378\u001b[0m \u001b[43m_addsort\u001b[49m\u001b[43m(\u001b[49m\u001b[43mnewseq\u001b[49m\u001b[43m)\u001b[49m\n\u001b[1;32m    380\u001b[0m \u001b[38;5;66;03m# current code expects coeff to be first\u001b[39;00m\n\u001b[1;32m    381\u001b[0m \u001b[38;5;28;01mif\u001b[39;00m coeff \u001b[38;5;129;01mis\u001b[39;00m \u001b[38;5;129;01mnot\u001b[39;00m S\u001b[38;5;241m.\u001b[39mZero:\n",
      "File \u001b[0;32m~/miniconda3/envs/sympt/lib/python3.9/site-packages/sympy/core/add.py:35\u001b[0m, in \u001b[0;36m_addsort\u001b[0;34m(args)\u001b[0m\n\u001b[1;32m     33\u001b[0m \u001b[38;5;28;01mdef\u001b[39;00m \u001b[38;5;21m_addsort\u001b[39m(args):\n\u001b[1;32m     34\u001b[0m     \u001b[38;5;66;03m# in-place sorting of args\u001b[39;00m\n\u001b[0;32m---> 35\u001b[0m     \u001b[43margs\u001b[49m\u001b[38;5;241;43m.\u001b[39;49m\u001b[43msort\u001b[49m\u001b[43m(\u001b[49m\u001b[43mkey\u001b[49m\u001b[38;5;241;43m=\u001b[39;49m\u001b[43m_args_sortkey\u001b[49m\u001b[43m)\u001b[49m\n",
      "File \u001b[0;32m~/miniconda3/envs/sympt/lib/python3.9/site-packages/sympy/core/basic.py:354\u001b[0m, in \u001b[0;36mBasic.compare\u001b[0;34m(self, other)\u001b[0m\n\u001b[1;32m    352\u001b[0m r \u001b[38;5;241m=\u001b[39m Basic(\u001b[38;5;241m*\u001b[39mr) \u001b[38;5;28;01mif\u001b[39;00m \u001b[38;5;28misinstance\u001b[39m(r, \u001b[38;5;28mfrozenset\u001b[39m) \u001b[38;5;28;01melse\u001b[39;00m r\n\u001b[1;32m    353\u001b[0m \u001b[38;5;28;01mif\u001b[39;00m \u001b[38;5;28misinstance\u001b[39m(l, Basic):\n\u001b[0;32m--> 354\u001b[0m     c \u001b[38;5;241m=\u001b[39m \u001b[43ml\u001b[49m\u001b[38;5;241;43m.\u001b[39;49m\u001b[43mcompare\u001b[49m\u001b[43m(\u001b[49m\u001b[43mr\u001b[49m\u001b[43m)\u001b[49m\n\u001b[1;32m    355\u001b[0m \u001b[38;5;28;01melse\u001b[39;00m:\n\u001b[1;32m    356\u001b[0m     c \u001b[38;5;241m=\u001b[39m (l \u001b[38;5;241m>\u001b[39m r) \u001b[38;5;241m-\u001b[39m (l \u001b[38;5;241m<\u001b[39m r)\n",
      "File \u001b[0;32m~/miniconda3/envs/sympt/lib/python3.9/site-packages/sympy/core/basic.py:307\u001b[0m, in \u001b[0;36mBasic.compare\u001b[0;34m(self, other)\u001b[0m\n\u001b[1;32m    277\u001b[0m \u001b[38;5;250m    \u001b[39m\u001b[38;5;124;03m\"\"\"\u001b[39;00m\n\u001b[1;32m    278\u001b[0m \u001b[38;5;124;03m    Return object `type` assumptions.\u001b[39;00m\n\u001b[1;32m    279\u001b[0m \n\u001b[0;32m   (...)\u001b[0m\n\u001b[1;32m    303\u001b[0m \u001b[38;5;124;03m     True, 'zero': False}\u001b[39;00m\n\u001b[1;32m    304\u001b[0m \u001b[38;5;124;03m    \"\"\"\u001b[39;00m\n\u001b[1;32m    305\u001b[0m     \u001b[38;5;28;01mreturn\u001b[39;00m {}\n\u001b[0;32m--> 307\u001b[0m \u001b[38;5;28;01mdef\u001b[39;00m \u001b[38;5;21mcompare\u001b[39m(\u001b[38;5;28mself\u001b[39m, other):\n\u001b[1;32m    308\u001b[0m \u001b[38;5;250m    \u001b[39m\u001b[38;5;124;03m\"\"\"\u001b[39;00m\n\u001b[1;32m    309\u001b[0m \u001b[38;5;124;03m    Return -1, 0, 1 if the object is less than, equal,\u001b[39;00m\n\u001b[1;32m    310\u001b[0m \u001b[38;5;124;03m    or greater than other in a canonical sense.\u001b[39;00m\n\u001b[0;32m   (...)\u001b[0m\n\u001b[1;32m    333\u001b[0m \n\u001b[1;32m    334\u001b[0m \u001b[38;5;124;03m    \"\"\"\u001b[39;00m\n\u001b[1;32m    335\u001b[0m     \u001b[38;5;66;03m# all redefinitions of __cmp__ method should start with the\u001b[39;00m\n\u001b[1;32m    336\u001b[0m     \u001b[38;5;66;03m# following lines:\u001b[39;00m\n",
      "\u001b[0;31mKeyboardInterrupt\u001b[0m: "
     ]
    }
   ],
   "source": [
    "# Calculate the effective model using mask up to the second order\n",
    "Eff_Frame.solve(max_order = 7, method = \"LA\", mask=mask)\n",
    "# Obtaining the result in the matrix form\n",
    "LA_result = Eff_Frame.get_H(return_form = \"matrix\")\n",
    "LA_corrections = list(Eff_Frame.corrections.values())"
   ]
  },
  {
   "cell_type": "markdown",
   "id": "ad39552a-1241-402d-a4d0-8c1b75110766",
   "metadata": {},
   "source": [
    "# Arbitrary Coupling Elimination Method"
   ]
  },
  {
   "cell_type": "code",
   "execution_count": null,
   "id": "b14a8b90-0cec-4650-81b1-270c36113f7b",
   "metadata": {},
   "outputs": [],
   "source": [
    "# Calculate the effective model using mask up to the second order\n",
    "Eff_Frame.solve(max_order = 7, method = \"BOD\", mask=mask)\n",
    "# Obtaining the result in the matrix form\n",
    "ACE_result = Eff_Frame.get_H(return_form = \"matrix\")\n",
    "ACE_corrections = list(Eff_Frame.corrections.values())"
   ]
  },
  {
   "cell_type": "markdown",
   "id": "bc64efec-49a8-4a6e-8b27-1328a887053c",
   "metadata": {},
   "source": [
    "# Exact Block Diagonalization"
   ]
  },
  {
   "cell_type": "code",
   "execution_count": 18,
   "id": "af867ee1-47a3-4197-8863-63bdc6ea8be8",
   "metadata": {},
   "outputs": [],
   "source": [
    "# Obtaining initial matrix\n",
    "Hh = H.xreplace(values)\n",
    "# Diagonalizing to obtain X unitary\n",
    "X = Hh.diagonalize()[0]\n",
    "X_inv = X.inv()\n",
    "\n",
    "X = np.array(X, dtype=float)\n",
    "X_inv = np.array(X_inv, dtype=float)\n",
    "\n",
    "# Definining operator B(.) which has effect of block diagonalizing \n",
    "B_mask = lambda x: np.logical_not(structure)*1 * x\n",
    "\n",
    "# Obtaining T operator\n",
    "T = X @ B_mask(X_inv) @ la.fractional_matrix_power(B_mask(X) @ B_mask(X_inv), -1/2)\n",
    "\n",
    "# Final exact result\n",
    "exact_result = la.inv(T) @ np.array(Hh, dtype=float) @ T"
   ]
  },
  {
   "cell_type": "markdown",
   "id": "ac1ae91f-4292-4ec6-9e09-4c9c2858b080",
   "metadata": {},
   "source": [
    "# Plotting"
   ]
  },
  {
   "cell_type": "code",
   "execution_count": 19,
   "id": "c9c2200c-2e37-47c8-aaf0-4b044a748c9c",
   "metadata": {},
   "outputs": [],
   "source": [
    "threshold = 1e-12\n",
    "np_LA_result = np.array(LA_result).astype(float)\n",
    "np_ACE_result = np.array(ACE_result).astype(float)\n",
    "\n",
    "np_LA_result[np.abs(np_LA_result) < threshold] = None # setting small values to None for plotting\n",
    "np_ACE_result[np.abs(np_ACE_result) < threshold] = None # setting small values to None for plotting\n",
    "exact_result[np.abs(exact_result) < threshold] = None # setting small values to None for plotting"
   ]
  },
  {
   "cell_type": "code",
   "execution_count": 20,
   "id": "59d67e23-a2b8-476a-a3e3-ccf46bf9d2d8",
   "metadata": {},
   "outputs": [
    {
     "data": {
      "text/plain": [
       "Text(0.5, 1.0, '$\\\\tilde{\\\\mathcal{H}}_\\\\mathrm{ACE}$')"
      ]
     },
     "execution_count": 20,
     "metadata": {},
     "output_type": "execute_result"
    },
    {
     "data": {
      "image/png": "[encoded data removed]",
      "text/plain": [
       "<Figure size 1500x500 with 8 Axes>"
      ]
     },
     "metadata": {},
     "output_type": "display_data"
    }
   ],
   "source": [
    "fig, ax = plt.subplots(1, 4, figsize=(15, 5))\n",
    "\n",
    "im = ax[0].imshow(np.array(Hh, dtype=float), cmap='inferno') # Initial Hamiltonian\n",
    "fig.colorbar(im, ax=ax[0])\n",
    "ax[0].set_title(r'$\\mathcal{H}$', fontsize=20)\n",
    "\n",
    "im = ax[1].imshow(exact_result.real, cmap='inferno') # Exact block diagonalization\n",
    "fig.colorbar(im, ax=ax[1])\n",
    "ax[1].set_title(r'$\\tilde{\\mathcal{H}}_\\mathrm{exact}$', fontsize=20)\n",
    "\n",
    "im = ax[2].imshow(np_LA_result.real, cmap='inferno') # LA block diagonalization\n",
    "fig.colorbar(im, ax=ax[2])\n",
    "ax[2].set_title(r'$\\tilde{\\mathcal{H}}_\\mathrm{LA}$', fontsize=20)\n",
    "\n",
    "im = ax[3].imshow(np_ACE_result, cmap='inferno') # ACE block diagonalization\n",
    "fig.colorbar(im, ax=ax[3])\n",
    "ax[3].set_title(r'$\\tilde{\\mathcal{H}}_\\mathrm{ACE}$')"
   ]
  },
  {
   "cell_type": "markdown",
   "id": "1a502237-5941-4254-9db9-71d670cae465",
   "metadata": {},
   "source": [
    "# Comparison with exact result"
   ]
  },
  {
   "cell_type": "code",
   "execution_count": 38,
   "id": "040fb1cb-e7db-4322-9aa6-0973078533ae",
   "metadata": {},
   "outputs": [],
   "source": [
    "# recomputing exact result\n",
    "exact_result = la.inv(T) @ np.array(Hh, dtype=float) @ T\n",
    "# Error function\n",
    "def fidelity(A, B):\n",
    "    \"\"\"Calculates Euclidean norm between matrix A and B\"\"\"\n",
    "    return np.sum(np.abs(A - B))\n",
    "\n",
    "LA_distances = [fidelity(exact_result, np.array(LA_correction, dtype = float)) for LA_correction in LA_corrections]\n",
    "ACE_distances = [fidelity(exact_result, np.array(ACE_correction, dtype = float)) for ACE_correction in ACE_corrections]"
   ]
  },
  {
   "cell_type": "code",
   "execution_count": 39,
   "id": "dc946c56-5037-4858-811b-ad2baf8c280f",
   "metadata": {},
   "outputs": [
    {
     "data": {
      "text/plain": [
       "[<matplotlib.lines.Line2D at 0x7f21f2a64610>]"
      ]
     },
     "execution_count": 39,
     "metadata": {},
     "output_type": "execute_result"
    },
    {
     "data": {
      "image/png": "[encoded data removed]",
      "text/plain": [
       "<Figure size 640x480 with 1 Axes>"
      ]
     },
     "metadata": {},
     "output_type": "display_data"
    }
   ],
   "source": [
    "plt.plot(np.arange(0,6), LA_distances, c = \"r\")\n",
    "plt.plot(np.arange(0,6), ACE_distances, c = \"b\")"
   ]
  },
  {
   "cell_type": "code",
   "execution_count": 41,
   "id": "60b921a4-84b8-4f8e-86af-eeaa53c40346",
   "metadata": {},
   "outputs": [],
   "source": [
    "LA_ACE_distances = [fidelity(np.array(LA_corrections[idx], dtype = float), np.array(ACE_corrections[idx], dtype = float)) for idx in range(6)]"
   ]
  },
  {
   "cell_type": "code",
   "execution_count": 42,
   "id": "d5fe5362-df89-4b38-bd3c-3044b27991dc",
   "metadata": {},
   "outputs": [
    {
     "data": {
      "text/plain": [
       "[<matplotlib.lines.Line2D at 0x7f21eedf0e20>]"
      ]
     },
     "execution_count": 42,
     "metadata": {},
     "output_type": "execute_result"
    },
    {
     "data": {
      "image/png": "[encoded data removed]",
      "text/plain": [
       "<Figure size 640x480 with 1 Axes>"
      ]
     },
     "metadata": {},
     "output_type": "display_data"
    }
   ],
   "source": [
    "plt.plot(np.arange(0,6), LA_ACE_distances)\n"
   ]
  },
  {
   "cell_type": "code",
   "execution_count": 48,
   "id": "598f51aa-49c8-4a36-93f7-a9011a020ee8",
   "metadata": {},
   "outputs": [
    {
     "data": {
      "text/plain": [
       "np.float64(0.05280283665335432)"
      ]
     },
     "execution_count": 48,
     "metadata": {},
     "output_type": "execute_result"
    }
   ],
   "source": [
    "LA_ACE_distances[4]"
   ]
  },
  {
   "cell_type": "code",
   "execution_count": null,
   "id": "77b70889-ef27-49d7-803f-029638d948ae",
   "metadata": {},
   "outputs": [],
   "source": []
  }
 ],
 "metadata": {
  "kernelspec": {
   "display_name": "Python 3 (ipykernel)",
   "language": "python",
   "name": "python3"
  },
  "language_info": {
   "codemirror_mode": {
    "name": "ipython",
    "version": 3
   },
   "file_extension": ".py",
   "mimetype": "text/x-python",
   "name": "python",
   "nbconvert_exporter": "python",
   "pygments_lexer": "ipython3",
   "version": "3.9.20"
  }
 },
 "nbformat": 4,
 "nbformat_minor": 5
}
