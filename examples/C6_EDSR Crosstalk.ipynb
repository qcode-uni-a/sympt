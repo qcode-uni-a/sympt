{
 "cells": [
  {
   "cell_type": "code",
   "execution_count": 3,
   "metadata": {},
   "outputs": [],
   "source": [
    "# Objects for defining the Hamiltonian\n",
    "from PySW import RDSymbol, RDBasis, BosonOp, Dagger\n",
    "# Objects for obtaining the Effective Hamiltonian\n",
    "from PySW import EffectiveFrame\n",
    "# Built-in symbols\n",
    "from PySW import hbar, t\n",
    "# Useful functions\n",
    "from PySW import display_dict, group_by_operators\n",
    "\n",
    "import sympy as sp"
   ]
  },
  {
   "cell_type": "markdown",
   "metadata": {},
   "source": [
    "# Setup"
   ]
  },
  {
   "cell_type": "code",
   "execution_count": null,
   "metadata": {},
   "outputs": [
    {
     "data": {
      "text/latex": [
       "$\\displaystyle H_{0} : \\hbar \\omega_{0} \\left(\\frac{1}{2} + {{a}^\\dagger} {a}\\right)$"
      ],
      "text/plain": [
       "<IPython.core.display.Math object>"
      ]
     },
     "metadata": {},
     "output_type": "display_data"
    },
    {
     "data": {
      "text/latex": [
       "$\\displaystyle H_{E} : \\tilde{E}_{\\mathrm{ac}} \\sin{\\left(\\omega t \\right)} \\left({{a}^\\dagger} + {a}\\right)$"
      ],
      "text/plain": [
       "<IPython.core.display.Math object>"
      ]
     },
     "metadata": {},
     "output_type": "display_data"
    },
    {
     "data": {
      "text/latex": [
       "$\\displaystyle H_{B} : - \\frac{E_{z} \\sigma_{3}}{2}$"
      ],
      "text/plain": [
       "<IPython.core.display.Math object>"
      ]
     },
     "metadata": {},
     "output_type": "display_data"
    },
    {
     "data": {
      "text/latex": [
       "$\\displaystyle V : \\tilde{b}_{\\mathrm{SL}} \\left({{a}^\\dagger} + {a}\\right) \\left(\\sin{\\left(\\theta \\right)} \\sigma_{3} + \\cos{\\left(\\theta \\right)} \\sigma_{2}\\right)$"
      ],
      "text/plain": [
       "<IPython.core.display.Math object>"
      ]
     },
     "metadata": {},
     "output_type": "display_data"
    }
   ],
   "source": [
    "# ---------------- Defining the symbols ------------------\n",
    "# Order 0\n",
    "omega0 = RDSymbol('omega0', real=True, positive=True)\n",
    "theta = RDSymbol(r'\\theta', real=True)\n",
    "n = sp.Matrix([0, sp.cos(theta), sp.sin(theta)])\n",
    "\n",
    "# Order 1\n",
    "omega = RDSymbol('omega', real=True, positive=True, order=1)\n",
    "Eac = RDSymbol(r'\\tilde{E}_{\\mathrm{ac}}', real=True, order=1)\n",
    "Ez = RDSymbol(r'E_{z}', real=True, order=1)\n",
    "bsl = RDSymbol(r'\\tilde{b}_{\\mathrm{SL}}', real=True, order=1)\n",
    "\n",
    "\n",
    "# ----------------- Defining the basis -------------------\n",
    "# Spin basis: Finite 2x2 Hilbert space\n",
    "Spin = RDBasis('sigma', 2)\n",
    "s0, sx, sy, sz = Spin.basis # Pauli operators\n",
    "s_vec = sp.Matrix([sx, sy, sz]) # Spin vector\n",
    "# Boson basis: Infinite bosonic Hilbert space\n",
    "a = BosonOp('a')\n",
    "ad = Dagger(a)\n",
    "\n",
    "# -------------- Defining the Hamiltonian ----------------\n",
    "# Unperturbed Hamiltonian H0\n",
    "H0 = hbar * omega0 * (ad*a + sp.Rational(1,2))\n",
    "# Perturbation Hamiltonians\n",
    "HE = Eac * sp.sin(omega * t) * (ad + a)\n",
    "HB = -sp.Rational(1,2) * Ez * sz\n",
    "V = bsl * (ad + a) * n.dot(s_vec)\n",
    "\n",
    "display_dict({\n",
    "    sp.Symbol('H_0'): H0,\n",
    "    sp.Symbol('H_E'): HE,\n",
    "    sp.Symbol('H_B'): HB,\n",
    "    sp.Symbol(r'V'): V,\n",
    "})"
   ]
  },
  {
   "cell_type": "code",
   "execution_count": null,
   "metadata": {},
   "outputs": [
    {
     "name": "stdout",
     "output_type": "stream",
     "text": [
      "The EffectiveFrame object has been initialized successfully.\n",
      "\n",
      "Effective Frame\n",
      "\n",
      "╭────────┬─────────┬─────────────╮\n",
      "│  Name  │  Type   │  Dimension  │\n",
      "├────────┼─────────┼─────────────┤\n",
      "│ sigma  │ Finite  │     2x2     │\n",
      "├────────┼─────────┼─────────────┤\n",
      "│   a    │ Bosonic │      ∞      │\n",
      "╰────────┴─────────┴─────────────╯\n",
      "\n",
      "Effective Hamiltonian: \tNot computed yet. To do so, run `solve` method. \n",
      "\n",
      "\n"
     ]
    }
   ],
   "source": [
    "# Deffining Effective Hamiltonian Object\n",
    "Eff_Frame = EffectiveFrame(H=H0 + HB, V=HE + V, subspaces=[Spin])"
   ]
  },
  {
   "cell_type": "markdown",
   "metadata": {},
   "source": [
    "# Time Dependent Schrieffer-Wolff Transformation"
   ]
  },
  {
   "cell_type": "code",
   "execution_count": 14,
   "metadata": {},
   "outputs": [
    {
     "name": "stderr",
     "output_type": "stream",
     "text": [
      "Solving for each order: 100%|██████████| 5/5 [00:24<00:00,  4.92s/it]\n"
     ]
    },
    {
     "name": "stdout",
     "output_type": "stream",
     "text": [
      "The Hamiltonian has been solved successfully. Please use the get_H method to get the result in the desired form.\n"
     ]
    },
    {
     "name": "stderr",
     "output_type": "stream",
     "text": [
      "Converting to matrix form: 100%|██████████| 2/2 [00:00<00:00, 953.47it/s]\n",
      "Converting to matrix form: 100%|██████████| 1/1 [00:00<00:00, 12633.45it/s]\n",
      "Converting to matrix form: 100%|██████████| 6/6 [00:00<00:00, 516.01it/s]\n",
      "Converting to matrix form: 100%|██████████| 7/7 [00:00<00:00, 536.64it/s]\n",
      "Converting to matrix form: 100%|██████████| 19/19 [00:00<00:00, 248.31it/s]\n",
      "Converting to matrix form: 100%|██████████| 19/19 [00:00<00:00, 192.19it/s]\n"
     ]
    }
   ],
   "source": [
    "# Calculate the effective model using the Schrieffer-Wolff transformation up to the second order\n",
    "Eff_Frame.solve(max_order=5, full_diagonalization=False)\n",
    "# Obtaining the result in the matrix form\n",
    "H_eff = Eff_Frame.get_H(return_form='matrix')"
   ]
  },
  {
   "cell_type": "code",
   "execution_count": 25,
   "metadata": {},
   "outputs": [],
   "source": [
    "# Corrections to the Hamiltonian for each order\n",
    "H0, H1, H2, H3, H4, H5 = [H_correction for H_correction in Eff_Frame.corrections.values()]"
   ]
  },
  {
   "cell_type": "markdown",
   "metadata": {},
   "source": [
    "# Simplifying corrections"
   ]
  },
  {
   "cell_type": "code",
   "execution_count": 46,
   "metadata": {},
   "outputs": [],
   "source": [
    "# Expectation Values for the bosonic operators\n",
    "# <n=0|a|n=0> = 0\n",
    "# <n=0|ad|n=0> = 0\n",
    "# <n=0|ad*a|n=0> = 0\n",
    "subs_expvals = {\n",
    "    ad*a: 0,\n",
    "    a : 0,\n",
    "    ad : 0,\n",
    "}"
   ]
  },
  {
   "cell_type": "code",
   "execution_count": 34,
   "metadata": {},
   "outputs": [
    {
     "data": {
      "text/latex": [
       "$\\displaystyle - \\frac{E_{z} \\sigma_{3}}{2}$"
      ],
      "text/plain": [
       "-E_{z}*sigma_3/2"
      ]
     },
     "execution_count": 34,
     "metadata": {},
     "output_type": "execute_result"
    }
   ],
   "source": [
    "H1_op = Spin.project(H1.expand())\n",
    "H1_op"
   ]
  },
  {
   "cell_type": "code",
   "execution_count": 41,
   "metadata": {},
   "outputs": [
    {
     "data": {
      "text/latex": [
       "$\\displaystyle - \\frac{2 \\tilde{E}_{\\mathrm{ac}} \\tilde{b}_{\\mathrm{SL}} \\sin{\\left(\\theta \\right)} \\sin{\\left(\\omega t \\right)} \\sigma_{3}}{\\hbar \\omega_{0}} - \\frac{2 \\tilde{E}_{\\mathrm{ac}} \\tilde{b}_{\\mathrm{SL}} \\sin{\\left(\\omega t \\right)} \\cos{\\left(\\theta \\right)} \\sigma_{2}}{\\hbar \\omega_{0}} + \\frac{\\left(- 2 \\tilde{E}_{\\mathrm{ac}}^{2} \\sin^{2}{\\left(\\omega t \\right)} - 2 \\tilde{b}_{\\mathrm{SL}}^{2}\\right) \\sigma_{0}}{2 \\hbar \\omega_{0}}$"
      ],
      "text/plain": [
       "-2*\\tilde{E}_{\\mathrm{ac}}*\\tilde{b}_{\\mathrm{SL}}*sin(\\theta)*sin(omega*t)*sigma_3/(hbar*omega0) - 2*\\tilde{E}_{\\mathrm{ac}}*\\tilde{b}_{\\mathrm{SL}}*sin(omega*t)*cos(\\theta)*sigma_2/(hbar*omega0) + (-2*\\tilde{E}_{\\mathrm{ac}}**2*sin(omega*t)**2 - 2*\\tilde{b}_{\\mathrm{SL}}**2)*sigma_0/(2*hbar*omega0)"
      ]
     },
     "execution_count": 41,
     "metadata": {},
     "output_type": "execute_result"
    }
   ],
   "source": [
    "H2_op = Spin.project(sp.expand_complex(H2.expand()).trigsimp())\n",
    "H2_op"
   ]
  },
  {
   "cell_type": "code",
   "execution_count": 48,
   "metadata": {},
   "outputs": [
    {
     "data": {
      "text/latex": [
       "$\\displaystyle - \\frac{E_{z} \\tilde{b}_{\\mathrm{SL}}^{2} \\sin{\\left(\\theta \\right)} \\cos{\\left(\\theta \\right)} \\sigma_{2}}{\\hbar^{2} \\omega_{0}^{2}} + \\frac{E_{z} \\tilde{b}_{\\mathrm{SL}}^{2} \\cos^{2}{\\left(\\theta \\right)} \\sigma_{3}}{\\hbar^{2} \\omega_{0}^{2}}$"
      ],
      "text/plain": [
       "-E_{z}*\\tilde{b}_{\\mathrm{SL}}**2*sin(\\theta)*cos(\\theta)*sigma_2/(hbar**2*omega0**2) + E_{z}*\\tilde{b}_{\\mathrm{SL}}**2*cos(\\theta)**2*sigma_3/(hbar**2*omega0**2)"
      ]
     },
     "execution_count": 48,
     "metadata": {},
     "output_type": "execute_result"
    }
   ],
   "source": [
    "H3_op = Spin.project(H3.expand().subs(subs_expvals))\n",
    "H3_op"
   ]
  },
  {
   "cell_type": "code",
   "execution_count": 65,
   "metadata": {},
   "outputs": [
    {
     "data": {
      "text/latex": [
       "$\\displaystyle - \\frac{\\tilde{E}_{\\mathrm{ac}} \\tilde{b}_{\\mathrm{SL}} \\omega^{2} \\sin{\\left(\\theta \\right)} \\sin{\\left(\\omega t \\right)} \\sigma_{3}}{\\hbar \\omega_{0}^{3}} - \\frac{\\tilde{E}_{\\mathrm{ac}} \\tilde{b}_{\\mathrm{SL}} \\left(E_{z}^{2} + \\hbar^{2} \\omega^{2}\\right) \\sin{\\left(\\omega t \\right)} \\cos{\\left(\\theta \\right)} \\sigma_{2}}{\\hbar^{3} \\omega_{0}^{3}} + \\frac{\\left(- 2 E_{z}^{2} \\tilde{b}_{\\mathrm{SL}}^{2} \\cos^{2}{\\left(\\theta \\right)} + \\tilde{E}_{\\mathrm{ac}}^{2} \\hbar^{2} \\omega^{2} \\cos{\\left(2 \\omega t \\right)} - \\tilde{E}_{\\mathrm{ac}}^{2} \\hbar^{2} \\omega^{2}\\right) \\sigma_{0}}{2 \\hbar^{3} \\omega_{0}^{3}}$"
      ],
      "text/plain": [
       "-\\tilde{E}_{\\mathrm{ac}}*\\tilde{b}_{\\mathrm{SL}}*omega**2*sin(\\theta)*sin(omega*t)*sigma_3/(hbar*omega0**3) - \\tilde{E}_{\\mathrm{ac}}*\\tilde{b}_{\\mathrm{SL}}*(E_{z}**2 + hbar**2*omega**2)*sin(omega*t)*cos(\\theta)*sigma_2/(hbar**3*omega0**3) + (-2*E_{z}**2*\\tilde{b}_{\\mathrm{SL}}**2*cos(\\theta)**2 + \\tilde{E}_{\\mathrm{ac}}**2*hbar**2*omega**2*cos(2*omega*t) - \\tilde{E}_{\\mathrm{ac}}**2*hbar**2*omega**2)*sigma_0/(2*hbar**3*omega0**3)"
      ]
     },
     "execution_count": 65,
     "metadata": {},
     "output_type": "execute_result"
    }
   ],
   "source": [
    "H4_op = Spin.project(sp.expand_complex(H4.xreplace(subs_expvals).expand())).collect(-2*bsl*Eac*sp.cos(theta)*sp.sin(omega*t))\n",
    "H4_op"
   ]
  },
  {
   "cell_type": "code",
   "execution_count": 73,
   "metadata": {},
   "outputs": [
    {
     "data": {
      "text/latex": [
       "$\\displaystyle \\frac{E_{z} \\tilde{b}_{\\mathrm{SL}}^{2} \\left(- E_{z}^{2} - 4 \\tilde{E}_{\\mathrm{ac}}^{2} \\sin^{2}{\\left(\\omega t \\right)} + \\tilde{b}_{\\mathrm{SL}}^{2}\\right) \\sin{\\left(\\theta \\right)} \\cos{\\left(\\theta \\right)} \\sigma_{2}}{\\hbar^{4} \\omega_{0}^{4}} + \\frac{E_{z} \\tilde{b}_{\\mathrm{SL}}^{2} \\left(E_{z}^{2} + 4 \\tilde{E}_{\\mathrm{ac}}^{2} \\sin^{2}{\\left(\\omega t \\right)} - \\tilde{b}_{\\mathrm{SL}}^{2}\\right) \\cos^{2}{\\left(\\theta \\right)} \\sigma_{3}}{\\hbar^{4} \\omega_{0}^{4}}$"
      ],
      "text/plain": [
       "E_{z}*\\tilde{b}_{\\mathrm{SL}}**2*(-E_{z}**2 - 4*\\tilde{E}_{\\mathrm{ac}}**2*sin(omega*t)**2 + \\tilde{b}_{\\mathrm{SL}}**2)*sin(\\theta)*cos(\\theta)*sigma_2/(hbar**4*omega0**4) + E_{z}*\\tilde{b}_{\\mathrm{SL}}**2*(E_{z}**2 + 4*\\tilde{E}_{\\mathrm{ac}}**2*sin(omega*t)**2 - \\tilde{b}_{\\mathrm{SL}}**2)*cos(\\theta)**2*sigma_3/(hbar**4*omega0**4)"
      ]
     },
     "execution_count": 73,
     "metadata": {},
     "output_type": "execute_result"
    }
   ],
   "source": [
    "H5_op = Spin.project(sp.expand_complex(H5.xreplace(subs_expvals).expand())).trigsimp()\n",
    "H5_op"
   ]
  }
 ],
 "metadata": {
  "kernelspec": {
   "display_name": "Python 3 (ipykernel)",
   "language": "python",
   "name": "python3"
  },
  "language_info": {
   "codemirror_mode": {
    "name": "ipython",
    "version": 3
   },
   "file_extension": ".py",
   "mimetype": "text/x-python",
   "name": "python",
   "nbconvert_exporter": "python",
   "pygments_lexer": "ipython3",
   "version": "3.13.0"
  }
 },
 "nbformat": 4,
 "nbformat_minor": 4
}
