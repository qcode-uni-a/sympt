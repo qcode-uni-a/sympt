{
 "cells": [
  {
   "cell_type": "code",
   "execution_count": 1,
   "metadata": {},
   "outputs": [],
   "source": [
    "# Objects for defining the Hamiltonian\n",
    "from PySW import *\n",
    "import sympy as sp"
   ]
  },
  {
   "cell_type": "code",
   "execution_count": null,
   "metadata": {},
   "outputs": [
    {
     "data": {
      "text/latex": [
       "$\\displaystyle H_{0} : \\hbar \\omega_{0} \\left(\\frac{1}{2} + {{a}^\\dagger} {a}\\right)$"
      ],
      "text/plain": [
       "<IPython.core.display.Math object>"
      ]
     },
     "metadata": {},
     "output_type": "display_data"
    },
    {
     "data": {
      "text/latex": [
       "$\\displaystyle H_{E} : \\tilde{E}_{\\mathrm{ac}} \\sin{\\left(\\omega t \\right)} \\left({{a}^\\dagger} + {a}\\right)$"
      ],
      "text/plain": [
       "<IPython.core.display.Math object>"
      ]
     },
     "metadata": {},
     "output_type": "display_data"
    },
    {
     "data": {
      "text/latex": [
       "$\\displaystyle H_{B} : - \\frac{\\tilde{B} \\sigma_{3}}{2}$"
      ],
      "text/plain": [
       "<IPython.core.display.Math object>"
      ]
     },
     "metadata": {},
     "output_type": "display_data"
    },
    {
     "data": {
      "text/latex": [
       "$\\displaystyle H_{\\mathrm{so}} : i \\tilde{\\alpha} \\left({{a}^\\dagger} - {a}\\right) \\left(\\sin{\\left(\\theta \\right)} \\sigma_{3} + \\cos{\\left(\\theta \\right)} \\sigma_{2}\\right)$"
      ],
      "text/plain": [
       "<IPython.core.display.Math object>"
      ]
     },
     "metadata": {},
     "output_type": "display_data"
    }
   ],
   "source": [
    "omega_q = RDSymbol('omega_q', real=True, positive=True)\n",
    "omega_a = RDSymbol('omega_a', real=True, positive=True)\n",
    "\n",
    "g_p = RDSymbol('g_p', real=False, positive=True, order=1)\n",
    "omega_p = RDSymbol('omega_p', real=True, positive=True)\n",
    "\n",
    "Spin = RDBasis('Spin', 2)\n",
    "s0, sx, sy, sz = Spin.basis\n",
    "\n",
    "a = BosonOp('a')\n",
    "ad = Dagger(a)\n",
    "\n"
   ]
  },
  {
   "cell_type": "code",
   "execution_count": 3,
   "metadata": {},
   "outputs": [
    {
     "name": "stdout",
     "output_type": "stream",
     "text": [
      "The EffectiveFrame object has been initialized successfully.\n",
      "\n",
      "Effective Frame\n",
      "\n",
      "╭────────┬─────────┬─────────────╮\n",
      "│  Name  │  Type   │  Dimension  │\n",
      "├────────┼─────────┼─────────────┤\n",
      "│ sigma  │ Finite  │     2x2     │\n",
      "├────────┼─────────┼─────────────┤\n",
      "│   a    │ Bosonic │      ∞      │\n",
      "╰────────┴─────────┴─────────────╯\n",
      "\n",
      "Effective Hamiltonian: \tNot computed yet. To do so, run `solve` method. \n",
      "\n",
      "\n"
     ]
    }
   ],
   "source": [
    "Eff_Frame = EffectiveFrame(H=H0 + HB, V=HE + Hso, subspaces=[Spin])"
   ]
  },
  {
   "cell_type": "code",
   "execution_count": null,
   "metadata": {},
   "outputs": [
    {
     "name": "stderr",
     "output_type": "stream",
     "text": [
      "Solving for each order: 100%|██████████| 5/5 [00:21<00:00,  4.26s/it]\n"
     ]
    },
    {
     "name": "stdout",
     "output_type": "stream",
     "text": [
      "The Hamiltonian has been solved successfully. Please use the get_H method to get the result in the desired form.\n"
     ]
    },
    {
     "name": "stderr",
     "output_type": "stream",
     "text": [
      "Projecting to operator form: 100%|██████████| 2/2 [00:00<00:00, 448.78it/s]\n",
      "Projecting to operator form: 100%|██████████| 1/1 [00:00<00:00, 490.39it/s]\n",
      "Projecting to operator form: 100%|██████████| 6/6 [00:00<00:00, 102.09it/s]\n",
      "Projecting to operator form: 100%|██████████| 7/7 [00:00<00:00, 64.14it/s]\n",
      "Projecting to operator form: 100%|██████████| 19/19 [01:54<00:00,  6.01s/it]\n",
      "Projecting to operator form:   0%|          | 0/19 [00:00<?, ?it/s]"
     ]
    }
   ],
   "source": [
    "Eff_Frame.solve(max_order=5, full_diagonalization=False)\n",
    "H_eff = Eff_Frame.get_H()\n",
    "H2_corrections = Eff_Frame.H_corrections"
   ]
  },
  {
   "cell_type": "code",
   "execution_count": null,
   "metadata": {},
   "outputs": [
    {
     "data": {
      "text/latex": [
       "$\\displaystyle - \\frac{\\tilde{E}_{\\mathrm{ac}}^{2} \\sin^{2}{\\left(\\omega t \\right)} + \\tilde{\\alpha}^{2}}{\\hbar \\omega_{0}}$"
      ],
      "text/plain": [
       "-(\\tilde{E}_{\\mathrm{ac}}**2*sin(omega*t)**2 + \\tilde{\\alpha}**2)/(hbar*omega0)"
      ]
     },
     "execution_count": 15,
     "metadata": {},
     "output_type": "execute_result"
    }
   ],
   "source": [
    "H2 = H2_corrections[2]\n",
    "sp.expand_complex(H2).trigsimp()"
   ]
  },
  {
   "cell_type": "code",
   "execution_count": null,
   "metadata": {},
   "outputs": [
    {
     "data": {
      "text/latex": [
       "$\\displaystyle \\sigma_{1} : - \\frac{\\tilde{B} \\tilde{E}_{\\mathrm{ac}} \\tilde{\\alpha} \\sin{\\left(\\omega t \\right)} \\cos{\\left(\\theta \\right)}}{\\hbar^{2} \\omega_{0}^{2}}$"
      ],
      "text/plain": [
       "<IPython.core.display.Math object>"
      ]
     },
     "metadata": {},
     "output_type": "display_data"
    },
    {
     "data": {
      "text/latex": [
       "$\\displaystyle \\sigma_{2} : - \\frac{\\tilde{B} \\tilde{\\alpha}^{2} \\sin{\\left(2 \\theta \\right)}}{2 \\hbar^{2} \\omega_{0}^{2}}$"
      ],
      "text/plain": [
       "<IPython.core.display.Math object>"
      ]
     },
     "metadata": {},
     "output_type": "display_data"
    },
    {
     "data": {
      "text/latex": [
       "$\\displaystyle \\sigma_{2} {{a}^\\dagger} {a} : - \\frac{\\tilde{B} \\tilde{\\alpha}^{2} \\sin{\\left(2 \\theta \\right)}}{\\hbar^{2} \\omega_{0}^{2}}$"
      ],
      "text/plain": [
       "<IPython.core.display.Math object>"
      ]
     },
     "metadata": {},
     "output_type": "display_data"
    },
    {
     "data": {
      "text/latex": [
       "$\\displaystyle \\sigma_{2} {{a}^\\dagger}^{2} : \\frac{\\tilde{B} \\tilde{\\alpha}^{2} \\sin{\\left(2 \\theta \\right)}}{2 \\hbar^{2} \\omega_{0}^{2}}$"
      ],
      "text/plain": [
       "<IPython.core.display.Math object>"
      ]
     },
     "metadata": {},
     "output_type": "display_data"
    },
    {
     "data": {
      "text/latex": [
       "$\\displaystyle \\sigma_{2} {a}^{2} : \\frac{\\tilde{B} \\tilde{\\alpha}^{2} \\sin{\\left(2 \\theta \\right)}}{2 \\hbar^{2} \\omega_{0}^{2}}$"
      ],
      "text/plain": [
       "<IPython.core.display.Math object>"
      ]
     },
     "metadata": {},
     "output_type": "display_data"
    },
    {
     "data": {
      "text/latex": [
       "$\\displaystyle \\sigma_{3} : \\frac{\\tilde{B} \\tilde{\\alpha}^{2} \\cos^{2}{\\left(\\theta \\right)}}{\\hbar^{2} \\omega_{0}^{2}}$"
      ],
      "text/plain": [
       "<IPython.core.display.Math object>"
      ]
     },
     "metadata": {},
     "output_type": "display_data"
    },
    {
     "data": {
      "text/latex": [
       "$\\displaystyle \\sigma_{3} {{a}^\\dagger} {a} : \\frac{2 \\tilde{B} \\tilde{\\alpha}^{2} \\cos^{2}{\\left(\\theta \\right)}}{\\hbar^{2} \\omega_{0}^{2}}$"
      ],
      "text/plain": [
       "<IPython.core.display.Math object>"
      ]
     },
     "metadata": {},
     "output_type": "display_data"
    },
    {
     "data": {
      "text/latex": [
       "$\\displaystyle \\sigma_{3} {{a}^\\dagger}^{2} : - \\frac{\\tilde{B} \\tilde{\\alpha}^{2} \\cos^{2}{\\left(\\theta \\right)}}{\\hbar^{2} \\omega_{0}^{2}}$"
      ],
      "text/plain": [
       "<IPython.core.display.Math object>"
      ]
     },
     "metadata": {},
     "output_type": "display_data"
    },
    {
     "data": {
      "text/latex": [
       "$\\displaystyle \\sigma_{3} {a}^{2} : - \\frac{\\tilde{B} \\tilde{\\alpha}^{2} \\cos^{2}{\\left(\\theta \\right)}}{\\hbar^{2} \\omega_{0}^{2}}$"
      ],
      "text/plain": [
       "<IPython.core.display.Math object>"
      ]
     },
     "metadata": {},
     "output_type": "display_data"
    }
   ],
   "source": [
    "H3 = H2_corrections[3]\n",
    "display_dict({k: sp.expand_complex(v).trigsimp() for k,v in group_by_operators(H3).items()})"
   ]
  },
  {
   "cell_type": "code",
   "execution_count": null,
   "metadata": {},
   "outputs": [
    {
     "data": {
      "text/latex": [
       "$\\displaystyle 1 : - \\frac{\\tilde{B}^{2} \\tilde{\\alpha}^{2} \\cos^{2}{\\left(\\theta \\right)}}{\\hbar^{3} \\omega_{0}^{3}}$"
      ],
      "text/plain": [
       "<IPython.core.display.Math object>"
      ]
     },
     "metadata": {},
     "output_type": "display_data"
    },
    {
     "data": {
      "text/latex": [
       "$\\displaystyle \\sigma_{3} : - \\frac{\\tilde{E}_{\\mathrm{ac}} \\tilde{\\alpha} \\omega \\sin{\\left(\\theta \\right)} \\cos{\\left(\\omega t \\right)}}{\\hbar \\omega_{0}^{2}}$"
      ],
      "text/plain": [
       "<IPython.core.display.Math object>"
      ]
     },
     "metadata": {},
     "output_type": "display_data"
    },
    {
     "data": {
      "text/latex": [
       "$\\displaystyle \\sigma_{2} : - \\frac{\\tilde{E}_{\\mathrm{ac}} \\tilde{\\alpha} \\omega \\cos{\\left(\\theta \\right)} \\cos{\\left(\\omega t \\right)}}{\\hbar \\omega_{0}^{2}}$"
      ],
      "text/plain": [
       "<IPython.core.display.Math object>"
      ]
     },
     "metadata": {},
     "output_type": "display_data"
    }
   ],
   "source": [
    "display_dict({k: sp.expand_complex(v).trigsimp() for k,v in group_by_operators(H2_corrections[4].subs(ad,0).subs(a,0)).items()})"
   ]
  },
  {
   "cell_type": "code",
   "execution_count": null,
   "metadata": {},
   "outputs": [
    {
     "data": {
      "text/plain": [
       "(3, ('other', None))"
      ]
     },
     "execution_count": 34,
     "metadata": {},
     "output_type": "execute_result"
    }
   ],
   "source": [
    "get_order(group_by_operators(H2_corrections[4].subs(ad,0).subs(a,0))[sy])"
   ]
  }
 ],
 "metadata": {
  "kernelspec": {
   "display_name": "pysw",
   "language": "python",
   "name": "python3"
  },
  "language_info": {
   "codemirror_mode": {
    "name": "ipython",
    "version": 3
   },
   "file_extension": ".py",
   "mimetype": "text/x-python",
   "name": "python",
   "nbconvert_exporter": "python",
   "pygments_lexer": "ipython3",
   "version": "3.13.0"
  }
 },
 "nbformat": 4,
 "nbformat_minor": 2
}
