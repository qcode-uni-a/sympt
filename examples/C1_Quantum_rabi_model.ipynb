{
 "cells": [
  {
   "cell_type": "markdown",
   "metadata": {},
   "source": [
    "System found in **Qubit-flip-induced cavity mode squeezing in the strong dispersive regime of the quantum Rabi model** 10.1038/srep45587"
   ]
  },
  {
   "cell_type": "code",
   "execution_count": 1,
   "metadata": {},
   "outputs": [],
   "source": [
    "# Sympt imports\n",
    "from SymPT import *\n",
    "# Import sympy\n",
    "import sympy as sp"
   ]
  },
  {
   "cell_type": "markdown",
   "metadata": {},
   "source": [
    "# Setup"
   ]
  },
  {
   "cell_type": "code",
   "execution_count": 2,
   "metadata": {},
   "outputs": [
    {
     "data": {
      "text/latex": [
       "$\\displaystyle \\frac{\\Omega_{z} \\sigma_{3}}{2} + \\omega {{a}^\\dagger} {a}$"
      ],
      "text/plain": [
       "Omega_z*sigma_3/2 + omega*Dagger(a)*a"
      ]
     },
     "metadata": {},
     "output_type": "display_data"
    },
    {
     "data": {
      "text/latex": [
       "$\\displaystyle g \\left({{a}^\\dagger} + {a}\\right) \\sigma_{1}$"
      ],
      "text/plain": [
       "g*(Dagger(a) + a)*sigma_1"
      ]
     },
     "metadata": {},
     "output_type": "display_data"
    }
   ],
   "source": [
    "# ---------------- Defining the symbols ------------------\n",
    "# Order 0\n",
    "omega = RDSymbol('omega', order=0, positive=True, real=True)\n",
    "Omega_z = RDSymbol('Omega_z', order=0, positive=True, real=True)\n",
    "# Order 1\n",
    "g = RDSymbol('g', order=1, positive=True, real=True)\n",
    "\n",
    "# ----------------- Defining the basis -------------------\n",
    "# Spin basis: Finite 2x2 Hilbert space\n",
    "Spin = RDBasis('sigma', dim=2)\n",
    "s0, sx, sy, sz = Spin.basis # Pauli Operators\n",
    "# Boson basis: Infinite bosonic Hilbert space\n",
    "a = BosonOp('a')\n",
    "ad = Dagger(a)\n",
    "\n",
    "# -------------- Defining the Hamiltonian ----------------\n",
    "# Unperturbed Hamiltonian H0\n",
    "H0 = omega * ad * a + sp.Rational(1,2) * Omega_z * sz\n",
    "display(H0)\n",
    "# Interaction Hamiltonian V\n",
    "V = g * (ad + a) * sx\n",
    "display(V)"
   ]
  },
  {
   "cell_type": "code",
   "execution_count": 3,
   "metadata": {},
   "outputs": [],
   "source": [
    "# Deffining Effective Hamiltonian Object\n",
    "Eff_frame = EffectiveFrame(H0, V, subspaces=[Spin], verbose = False)"
   ]
  },
  {
   "cell_type": "markdown",
   "metadata": {},
   "source": [
    "# Standard Schrieffer-Wolff Transformation"
   ]
  },
  {
   "cell_type": "code",
   "execution_count": 16,
   "metadata": {},
   "outputs": [
    {
     "data": {
      "text/latex": [
       "$\\displaystyle 1 : \\frac{g^{2} \\left(- \\frac{\\Omega_{z} \\sigma_{3}}{\\Omega_{z}^{2} + 2 \\Omega_{z} \\omega + \\omega^{2}} - \\frac{\\Omega_{z} \\sigma_{3}}{\\Omega_{z}^{2} - 2 \\Omega_{z} \\omega + \\omega^{2}} - \\frac{\\omega \\sigma_{3}}{\\Omega_{z}^{2} + 2 \\Omega_{z} \\omega + \\omega^{2}} + \\frac{\\omega \\sigma_{3}}{\\Omega_{z}^{2} - 2 \\Omega_{z} \\omega + \\omega^{2}} + \\frac{2 \\omega}{\\Omega_{z}^{2} - \\omega^{2}} + \\frac{2 \\sigma_{3}}{\\Omega_{z} + \\omega} + \\frac{2 \\sigma_{3}}{\\Omega_{z} - \\omega}\\right)}{2}$"
      ],
      "text/plain": [
       "<IPython.core.display.Math object>"
      ]
     },
     "metadata": {},
     "output_type": "display_data"
    },
    {
     "data": {
      "text/latex": [
       "$\\displaystyle {{a}^\\dagger} {a} : g^{2} \\left(- \\frac{\\Omega_{z} \\sigma_{3}}{\\Omega_{z}^{2} + 2 \\Omega_{z} \\omega + \\omega^{2}} - \\frac{\\Omega_{z} \\sigma_{3}}{\\Omega_{z}^{2} - 2 \\Omega_{z} \\omega + \\omega^{2}} - \\frac{\\omega \\sigma_{3}}{\\Omega_{z}^{2} + 2 \\Omega_{z} \\omega + \\omega^{2}} + \\frac{\\omega \\sigma_{3}}{\\Omega_{z}^{2} - 2 \\Omega_{z} \\omega + \\omega^{2}} + \\frac{2 \\sigma_{3}}{\\Omega_{z} + \\omega} + \\frac{2 \\sigma_{3}}{\\Omega_{z} - \\omega}\\right)$"
      ],
      "text/plain": [
       "<IPython.core.display.Math object>"
      ]
     },
     "metadata": {},
     "output_type": "display_data"
    },
    {
     "data": {
      "text/latex": [
       "$\\displaystyle {{a}^\\dagger}^{2} : g^{2} \\left(- \\frac{\\Omega_{z} \\sigma_{3}}{\\Omega_{z}^{2} - \\omega^{2}} + \\frac{\\sigma_{3}}{\\Omega_{z} + \\omega} + \\frac{\\sigma_{3}}{\\Omega_{z} - \\omega}\\right)$"
      ],
      "text/plain": [
       "<IPython.core.display.Math object>"
      ]
     },
     "metadata": {},
     "output_type": "display_data"
    },
    {
     "data": {
      "text/latex": [
       "$\\displaystyle {a}^{2} : g^{2} \\left(- \\frac{\\Omega_{z} \\sigma_{3}}{\\Omega_{z}^{2} - \\omega^{2}} + \\frac{\\sigma_{3}}{\\Omega_{z} + \\omega} + \\frac{\\sigma_{3}}{\\Omega_{z} - \\omega}\\right)$"
      ],
      "text/plain": [
       "<IPython.core.display.Math object>"
      ]
     },
     "metadata": {},
     "output_type": "display_data"
    }
   ],
   "source": [
    "# Calculate the effective model using the Schrieffer-Wolff transformation up to the second order\n",
    "Eff_frame.solve(max_order=2, method='SW')\n",
    "# Obtaining the result in the operator form\n",
    "H_eff_SWT = Eff_frame.get_H(return_form='dict_operator')\n",
    "display_dict({k: v.cancel() for k, v in H_eff_SWT.items()})"
   ]
  },
  {
   "cell_type": "markdown",
   "metadata": {},
   "source": [
    "# Multiblock ACE"
   ]
  },
  {
   "cell_type": "code",
   "execution_count": 19,
   "metadata": {},
   "outputs": [
    {
     "data": {
      "text/latex": [
       "$\\displaystyle 1 : \\frac{g^{2} \\left(- \\frac{\\Omega_{z} \\sigma_{3}}{\\Omega_{z}^{2} + 2 \\Omega_{z} \\omega + \\omega^{2}} - \\frac{\\Omega_{z} \\sigma_{3}}{\\Omega_{z}^{2} - 2 \\Omega_{z} \\omega + \\omega^{2}} - \\frac{\\omega \\sigma_{3}}{\\Omega_{z}^{2} + 2 \\Omega_{z} \\omega + \\omega^{2}} + \\frac{\\omega \\sigma_{3}}{\\Omega_{z}^{2} - 2 \\Omega_{z} \\omega + \\omega^{2}} + \\frac{2 \\omega}{\\Omega_{z}^{2} - \\omega^{2}} + \\frac{2 \\sigma_{3}}{\\Omega_{z} + \\omega} + \\frac{2 \\sigma_{3}}{\\Omega_{z} - \\omega}\\right)}{2}$"
      ],
      "text/plain": [
       "<IPython.core.display.Math object>"
      ]
     },
     "metadata": {},
     "output_type": "display_data"
    },
    {
     "data": {
      "text/latex": [
       "$\\displaystyle {{a}^\\dagger} {a} : g^{2} \\left(- \\frac{\\Omega_{z} \\sigma_{3}}{\\Omega_{z}^{2} + 2 \\Omega_{z} \\omega + \\omega^{2}} - \\frac{\\Omega_{z} \\sigma_{3}}{\\Omega_{z}^{2} - 2 \\Omega_{z} \\omega + \\omega^{2}} - \\frac{\\omega \\sigma_{3}}{\\Omega_{z}^{2} + 2 \\Omega_{z} \\omega + \\omega^{2}} + \\frac{\\omega \\sigma_{3}}{\\Omega_{z}^{2} - 2 \\Omega_{z} \\omega + \\omega^{2}} + \\frac{2 \\sigma_{3}}{\\Omega_{z} + \\omega} + \\frac{2 \\sigma_{3}}{\\Omega_{z} - \\omega}\\right)$"
      ],
      "text/plain": [
       "<IPython.core.display.Math object>"
      ]
     },
     "metadata": {},
     "output_type": "display_data"
    },
    {
     "data": {
      "text/latex": [
       "$\\displaystyle {{a}^\\dagger}^{2} : g^{2} \\left(- \\frac{\\Omega_{z} \\sigma_{3}}{\\Omega_{z}^{2} - \\omega^{2}} + \\frac{\\sigma_{3}}{\\Omega_{z} + \\omega} + \\frac{\\sigma_{3}}{\\Omega_{z} - \\omega}\\right)$"
      ],
      "text/plain": [
       "<IPython.core.display.Math object>"
      ]
     },
     "metadata": {},
     "output_type": "display_data"
    },
    {
     "data": {
      "text/latex": [
       "$\\displaystyle {a}^{2} : g^{2} \\left(- \\frac{\\Omega_{z} \\sigma_{3}}{\\Omega_{z}^{2} - \\omega^{2}} + \\frac{\\sigma_{3}}{\\Omega_{z} + \\omega} + \\frac{\\sigma_{3}}{\\Omega_{z} - \\omega}\\right)$"
      ],
      "text/plain": [
       "<IPython.core.display.Math object>"
      ]
     },
     "metadata": {},
     "output_type": "display_data"
    }
   ],
   "source": [
    "# Deffining the mask\n",
    "mask = Block(fin=sx.matrix, inf=a)\n",
    "# Calculate the effective model using the Mask routine up to the second order\n",
    "Eff_frame.solve(max_order=2, method='ACE', mask=mask)\n",
    "H_eff_Mask = Eff_frame.get_H(return_form='dict_operator')\n",
    "display_dict({k: v.cancel() for k, v in H_eff_Mask.items()})"
   ]
  },
  {
   "cell_type": "markdown",
   "metadata": {},
   "source": [
    "# Multiblock LA"
   ]
  },
  {
   "cell_type": "code",
   "execution_count": 26,
   "metadata": {},
   "outputs": [
    {
     "data": {
      "text/latex": [
       "$\\displaystyle 1 : \\frac{g^{2} \\left(- \\frac{\\Omega_{z} \\sigma_{3}}{\\Omega_{z}^{2} + 2 \\Omega_{z} \\omega + \\omega^{2}} - \\frac{\\Omega_{z} \\sigma_{3}}{\\Omega_{z}^{2} - 2 \\Omega_{z} \\omega + \\omega^{2}} - \\frac{\\omega \\sigma_{3}}{\\Omega_{z}^{2} + 2 \\Omega_{z} \\omega + \\omega^{2}} + \\frac{\\omega \\sigma_{3}}{\\Omega_{z}^{2} - 2 \\Omega_{z} \\omega + \\omega^{2}} + \\frac{2 \\omega}{\\Omega_{z}^{2} - \\omega^{2}} + \\frac{2 \\sigma_{3}}{\\Omega_{z} + \\omega} + \\frac{2 \\sigma_{3}}{\\Omega_{z} - \\omega}\\right)}{2}$"
      ],
      "text/plain": [
       "<IPython.core.display.Math object>"
      ]
     },
     "metadata": {},
     "output_type": "display_data"
    },
    {
     "data": {
      "text/latex": [
       "$\\displaystyle {{a}^\\dagger} {a} : g^{2} \\left(- \\frac{\\Omega_{z} \\sigma_{3}}{\\Omega_{z}^{2} + 2 \\Omega_{z} \\omega + \\omega^{2}} - \\frac{\\Omega_{z} \\sigma_{3}}{\\Omega_{z}^{2} - 2 \\Omega_{z} \\omega + \\omega^{2}} - \\frac{\\omega \\sigma_{3}}{\\Omega_{z}^{2} + 2 \\Omega_{z} \\omega + \\omega^{2}} + \\frac{\\omega \\sigma_{3}}{\\Omega_{z}^{2} - 2 \\Omega_{z} \\omega + \\omega^{2}} + \\frac{2 \\sigma_{3}}{\\Omega_{z} + \\omega} + \\frac{2 \\sigma_{3}}{\\Omega_{z} - \\omega}\\right)$"
      ],
      "text/plain": [
       "<IPython.core.display.Math object>"
      ]
     },
     "metadata": {},
     "output_type": "display_data"
    },
    {
     "data": {
      "text/latex": [
       "$\\displaystyle {{a}^\\dagger}^{2} : g^{2} \\left(- \\frac{\\Omega_{z} \\sigma_{3}}{\\Omega_{z}^{2} - \\omega^{2}} + \\frac{\\sigma_{3}}{\\Omega_{z} + \\omega} + \\frac{\\sigma_{3}}{\\Omega_{z} - \\omega}\\right)$"
      ],
      "text/plain": [
       "<IPython.core.display.Math object>"
      ]
     },
     "metadata": {},
     "output_type": "display_data"
    },
    {
     "data": {
      "text/latex": [
       "$\\displaystyle {a}^{2} : g^{2} \\left(- \\frac{\\Omega_{z} \\sigma_{3}}{\\Omega_{z}^{2} - \\omega^{2}} + \\frac{\\sigma_{3}}{\\Omega_{z} + \\omega} + \\frac{\\sigma_{3}}{\\Omega_{z} - \\omega}\\right)$"
      ],
      "text/plain": [
       "<IPython.core.display.Math object>"
      ]
     },
     "metadata": {},
     "output_type": "display_data"
    },
    {
     "data": {
      "text/latex": [
       "$\\displaystyle {{a}^\\dagger}^{3} : \\frac{g^{3} \\left(- \\frac{\\Omega_{z}^{2} \\sigma_{1}}{\\Omega_{z}^{3} \\omega + \\Omega_{z}^{2} \\omega^{2} - \\Omega_{z} \\omega^{3} - \\omega^{4}} - \\frac{i \\Omega_{z}^{2} \\sigma_{2}}{\\Omega_{z}^{3} \\omega + \\Omega_{z}^{2} \\omega^{2} - \\Omega_{z} \\omega^{3} - \\omega^{4}} + \\frac{\\Omega_{z}^{2} \\sigma_{1}}{\\Omega_{z}^{3} \\omega - \\Omega_{z}^{2} \\omega^{2} - \\Omega_{z} \\omega^{3} + \\omega^{4}} - \\frac{i \\Omega_{z}^{2} \\sigma_{2}}{\\Omega_{z}^{3} \\omega - \\Omega_{z}^{2} \\omega^{2} - \\Omega_{z} \\omega^{3} + \\omega^{4}} - \\frac{2 \\Omega_{z} \\sigma_{1}}{\\Omega_{z}^{3} + \\Omega_{z}^{2} \\omega - \\Omega_{z} \\omega^{2} - \\omega^{3}} - \\frac{2 i \\Omega_{z} \\sigma_{2}}{\\Omega_{z}^{3} + \\Omega_{z}^{2} \\omega - \\Omega_{z} \\omega^{2} - \\omega^{3}} - \\frac{2 \\Omega_{z} \\sigma_{1}}{\\Omega_{z}^{3} - \\Omega_{z}^{2} \\omega - \\Omega_{z} \\omega^{2} + \\omega^{3}} + \\frac{2 i \\Omega_{z} \\sigma_{2}}{\\Omega_{z}^{3} - \\Omega_{z}^{2} \\omega - \\Omega_{z} \\omega^{2} + \\omega^{3}} + \\frac{\\Omega_{z} \\sigma_{1}}{\\Omega_{z}^{2} \\omega + 2 \\Omega_{z} \\omega^{2} + \\omega^{3}} + \\frac{i \\Omega_{z} \\sigma_{2}}{\\Omega_{z}^{2} \\omega + 2 \\Omega_{z} \\omega^{2} + \\omega^{3}} - \\frac{\\Omega_{z} \\sigma_{1}}{\\Omega_{z}^{2} \\omega - 2 \\Omega_{z} \\omega^{2} + \\omega^{3}} + \\frac{i \\Omega_{z} \\sigma_{2}}{\\Omega_{z}^{2} \\omega - 2 \\Omega_{z} \\omega^{2} + \\omega^{3}} + \\frac{2 i \\Omega_{z} \\sigma_{2}}{\\Omega_{z}^{2} \\omega - \\omega^{3}} - \\frac{\\omega \\sigma_{1}}{\\Omega_{z}^{3} + \\Omega_{z}^{2} \\omega - \\Omega_{z} \\omega^{2} - \\omega^{3}} - \\frac{i \\omega \\sigma_{2}}{\\Omega_{z}^{3} + \\Omega_{z}^{2} \\omega - \\Omega_{z} \\omega^{2} - \\omega^{3}} + \\frac{\\omega \\sigma_{1}}{\\Omega_{z}^{3} - \\Omega_{z}^{2} \\omega - \\Omega_{z} \\omega^{2} + \\omega^{3}} - \\frac{i \\omega \\sigma_{2}}{\\Omega_{z}^{3} - \\Omega_{z}^{2} \\omega - \\Omega_{z} \\omega^{2} + \\omega^{3}} + \\frac{\\sigma_{1}}{\\Omega_{z}^{2} + 2 \\Omega_{z} \\omega + \\omega^{2}} + \\frac{i \\sigma_{2}}{\\Omega_{z}^{2} + 2 \\Omega_{z} \\omega + \\omega^{2}} + \\frac{\\sigma_{1}}{\\Omega_{z}^{2} - 2 \\Omega_{z} \\omega + \\omega^{2}} - \\frac{i \\sigma_{2}}{\\Omega_{z}^{2} - 2 \\Omega_{z} \\omega + \\omega^{2}} + \\frac{2 \\sigma_{1}}{\\Omega_{z}^{2} - \\omega^{2}}\\right)}{4}$"
      ],
      "text/plain": [
       "<IPython.core.display.Math object>"
      ]
     },
     "metadata": {},
     "output_type": "display_data"
    },
    {
     "data": {
      "text/latex": [
       "$\\displaystyle {a}^{3} : \\frac{g^{3} \\left(- \\frac{\\Omega_{z}^{2} \\sigma_{1}}{\\Omega_{z}^{3} \\omega + \\Omega_{z}^{2} \\omega^{2} - \\Omega_{z} \\omega^{3} - \\omega^{4}} + \\frac{i \\Omega_{z}^{2} \\sigma_{2}}{\\Omega_{z}^{3} \\omega + \\Omega_{z}^{2} \\omega^{2} - \\Omega_{z} \\omega^{3} - \\omega^{4}} + \\frac{\\Omega_{z}^{2} \\sigma_{1}}{\\Omega_{z}^{3} \\omega - \\Omega_{z}^{2} \\omega^{2} - \\Omega_{z} \\omega^{3} + \\omega^{4}} + \\frac{i \\Omega_{z}^{2} \\sigma_{2}}{\\Omega_{z}^{3} \\omega - \\Omega_{z}^{2} \\omega^{2} - \\Omega_{z} \\omega^{3} + \\omega^{4}} - \\frac{2 \\Omega_{z} \\sigma_{1}}{\\Omega_{z}^{3} + \\Omega_{z}^{2} \\omega - \\Omega_{z} \\omega^{2} - \\omega^{3}} + \\frac{2 i \\Omega_{z} \\sigma_{2}}{\\Omega_{z}^{3} + \\Omega_{z}^{2} \\omega - \\Omega_{z} \\omega^{2} - \\omega^{3}} - \\frac{2 \\Omega_{z} \\sigma_{1}}{\\Omega_{z}^{3} - \\Omega_{z}^{2} \\omega - \\Omega_{z} \\omega^{2} + \\omega^{3}} - \\frac{2 i \\Omega_{z} \\sigma_{2}}{\\Omega_{z}^{3} - \\Omega_{z}^{2} \\omega - \\Omega_{z} \\omega^{2} + \\omega^{3}} + \\frac{\\Omega_{z} \\sigma_{1}}{\\Omega_{z}^{2} \\omega + 2 \\Omega_{z} \\omega^{2} + \\omega^{3}} - \\frac{i \\Omega_{z} \\sigma_{2}}{\\Omega_{z}^{2} \\omega + 2 \\Omega_{z} \\omega^{2} + \\omega^{3}} - \\frac{\\Omega_{z} \\sigma_{1}}{\\Omega_{z}^{2} \\omega - 2 \\Omega_{z} \\omega^{2} + \\omega^{3}} - \\frac{i \\Omega_{z} \\sigma_{2}}{\\Omega_{z}^{2} \\omega - 2 \\Omega_{z} \\omega^{2} + \\omega^{3}} - \\frac{2 i \\Omega_{z} \\sigma_{2}}{\\Omega_{z}^{2} \\omega - \\omega^{3}} - \\frac{\\omega \\sigma_{1}}{\\Omega_{z}^{3} + \\Omega_{z}^{2} \\omega - \\Omega_{z} \\omega^{2} - \\omega^{3}} + \\frac{i \\omega \\sigma_{2}}{\\Omega_{z}^{3} + \\Omega_{z}^{2} \\omega - \\Omega_{z} \\omega^{2} - \\omega^{3}} + \\frac{\\omega \\sigma_{1}}{\\Omega_{z}^{3} - \\Omega_{z}^{2} \\omega - \\Omega_{z} \\omega^{2} + \\omega^{3}} + \\frac{i \\omega \\sigma_{2}}{\\Omega_{z}^{3} - \\Omega_{z}^{2} \\omega - \\Omega_{z} \\omega^{2} + \\omega^{3}} + \\frac{\\sigma_{1}}{\\Omega_{z}^{2} + 2 \\Omega_{z} \\omega + \\omega^{2}} - \\frac{i \\sigma_{2}}{\\Omega_{z}^{2} + 2 \\Omega_{z} \\omega + \\omega^{2}} + \\frac{\\sigma_{1}}{\\Omega_{z}^{2} - 2 \\Omega_{z} \\omega + \\omega^{2}} + \\frac{i \\sigma_{2}}{\\Omega_{z}^{2} - 2 \\Omega_{z} \\omega + \\omega^{2}} + \\frac{2 \\sigma_{1}}{\\Omega_{z}^{2} - \\omega^{2}}\\right)}{4}$"
      ],
      "text/plain": [
       "<IPython.core.display.Math object>"
      ]
     },
     "metadata": {},
     "output_type": "display_data"
    }
   ],
   "source": [
    "# Deffining the mask\n",
    "mask = Block(fin=sx.matrix, inf=a)\n",
    "# Calculate the effective model using the Mask routine up to the second order\n",
    "Eff_frame.solve(max_order=3, method='LA', mask=mask)\n",
    "H_eff_LA = Eff_frame.get_H(return_form='dict_operator')\n",
    "H_eff_LA_dict = {k: v.cancel() for k, v in H_eff_LA.items()}\n",
    "H_eff_LA_dict = {k: v for k, v in H_eff_LA_dict.items() if v !=0}\n",
    "display_dict(H_eff_LA_dict)"
   ]
  },
  {
   "cell_type": "markdown",
   "metadata": {},
   "source": [
    "# Full-diagonalization"
   ]
  },
  {
   "cell_type": "code",
   "execution_count": 29,
   "metadata": {},
   "outputs": [
    {
     "data": {
      "text/latex": [
       "$\\displaystyle 1 : \\frac{g^{2} \\left(- \\frac{\\Omega_{z} \\sigma_{3}}{\\Omega_{z}^{2} + 2 \\Omega_{z} \\omega + \\omega^{2}} - \\frac{\\Omega_{z} \\sigma_{3}}{\\Omega_{z}^{2} - 2 \\Omega_{z} \\omega + \\omega^{2}} - \\frac{\\omega \\sigma_{3}}{\\Omega_{z}^{2} + 2 \\Omega_{z} \\omega + \\omega^{2}} + \\frac{\\omega \\sigma_{3}}{\\Omega_{z}^{2} - 2 \\Omega_{z} \\omega + \\omega^{2}} + \\frac{2 \\omega}{\\Omega_{z}^{2} - \\omega^{2}} + \\frac{2 \\sigma_{3}}{\\Omega_{z} + \\omega} + \\frac{2 \\sigma_{3}}{\\Omega_{z} - \\omega}\\right)}{2}$"
      ],
      "text/plain": [
       "<IPython.core.display.Math object>"
      ]
     },
     "metadata": {},
     "output_type": "display_data"
    },
    {
     "data": {
      "text/latex": [
       "$\\displaystyle {{a}^\\dagger} {a} : g^{2} \\left(- \\frac{\\Omega_{z} \\sigma_{3}}{\\Omega_{z}^{2} + 2 \\Omega_{z} \\omega + \\omega^{2}} - \\frac{\\Omega_{z} \\sigma_{3}}{\\Omega_{z}^{2} - 2 \\Omega_{z} \\omega + \\omega^{2}} - \\frac{\\omega \\sigma_{3}}{\\Omega_{z}^{2} + 2 \\Omega_{z} \\omega + \\omega^{2}} + \\frac{\\omega \\sigma_{3}}{\\Omega_{z}^{2} - 2 \\Omega_{z} \\omega + \\omega^{2}} + \\frac{2 \\sigma_{3}}{\\Omega_{z} + \\omega} + \\frac{2 \\sigma_{3}}{\\Omega_{z} - \\omega}\\right)$"
      ],
      "text/plain": [
       "<IPython.core.display.Math object>"
      ]
     },
     "metadata": {},
     "output_type": "display_data"
    }
   ],
   "source": [
    "# Calculate the effective model using the Full Diagonalization routine up to the second order\n",
    "Eff_frame.solve(max_order=2, method='FD')\n",
    "H_eff_FD = Eff_frame.get_H(return_form='dict_operator')\n",
    "H_eff_FD_dict = {k: v.cancel() for k, v in H_eff_FD.items()}\n",
    "H_eff_FD_dict = {k: v for k, v in H_eff_FD_dict.items() if v !=0}\n",
    "display_dict(H_eff_FD_dict)"
   ]
  },
  {
   "cell_type": "markdown",
   "metadata": {},
   "source": [
    "# Rotate a new term such as a Driving term into the new basis"
   ]
  },
  {
   "cell_type": "code",
   "execution_count": 31,
   "metadata": {},
   "outputs": [
    {
     "data": {
      "text/latex": [
       "$\\displaystyle E_{0} \\left({{a}^\\dagger} + {a}\\right)$"
      ],
      "text/plain": [
       "E0*(Dagger(a) + a)"
      ]
     },
     "metadata": {},
     "output_type": "display_data"
    },
    {
     "name": "stderr",
     "output_type": "stream",
     "text": [
      "Converting to operator form: 100%|████████████████████████████████████████| 3/3 [00:00<00:00, 9822.73it/s]\n"
     ]
    },
    {
     "data": {
      "text/latex": [
       "$\\displaystyle E_{0} \\left(- \\frac{g \\sigma_{1}}{\\Omega_{z} + \\omega} + \\frac{g \\sigma_{1}}{\\Omega_{z} - \\omega} + {{a}^\\dagger} + {a}\\right)$"
      ],
      "text/plain": [
       "E0*(-g*sigma_1/(Omega_z + omega) + g*sigma_1/(Omega_z - omega) + Dagger(a) + a)"
      ]
     },
     "execution_count": 31,
     "metadata": {},
     "output_type": "execute_result"
    }
   ],
   "source": [
    "# ----- Rotating a Drving term into the new basis ----\n",
    "# Define the symbol for the driving term\n",
    "E0 = RDSymbol('E0', order=0, positive=True, real=True)\n",
    "# Define the driving term\n",
    "H_drive = E0 * (a + ad)\n",
    "display(H_drive)\n",
    "\n",
    "# Rotate the driving term into the new basis\n",
    "Eff_frame.rotate(H_drive, max_order=1, return_form='operator').cancel()\n"
   ]
  },
  {
   "cell_type": "code",
   "execution_count": null,
   "metadata": {},
   "outputs": [],
   "source": []
  }
 ],
 "metadata": {
  "kernelspec": {
   "display_name": "Python 3 (ipykernel)",
   "language": "python",
   "name": "python3"
  },
  "language_info": {
   "codemirror_mode": {
    "name": "ipython",
    "version": 3
   },
   "file_extension": ".py",
   "mimetype": "text/x-python",
   "name": "python",
   "nbconvert_exporter": "python",
   "pygments_lexer": "ipython3",
   "version": "3.9.20"
  }
 },
 "nbformat": 4,
 "nbformat_minor": 4
}
