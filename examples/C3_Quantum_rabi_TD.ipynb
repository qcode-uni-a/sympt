{
 "cells": [
  {
   "cell_type": "code",
   "execution_count": 1,
   "metadata": {},
   "outputs": [],
   "source": [
    "# SymPT imports\n",
    "from SymPT import *\n",
    "# import sympy\n",
    "import sympy as sp"
   ]
  },
  {
   "cell_type": "markdown",
   "metadata": {},
   "source": [
    "# Setup"
   ]
  },
  {
   "cell_type": "code",
   "execution_count": 2,
   "metadata": {},
   "outputs": [
    {
     "data": {
      "text/latex": [
       "$\\displaystyle H_{0} : \\hbar \\omega {{a}^\\dagger} {a} - \\frac{\\hbar \\omega_{z} \\sigma_{3}}{2}$"
      ],
      "text/plain": [
       "<IPython.core.display.Math object>"
      ]
     },
     "metadata": {},
     "output_type": "display_data"
    },
    {
     "data": {
      "text/latex": [
       "$\\displaystyle V : - \\frac{\\tilde{b}_{SL} \\hbar \\left({{a}^\\dagger} + {a}\\right) \\sigma_{1}}{2}$"
      ],
      "text/plain": [
       "<IPython.core.display.Math object>"
      ]
     },
     "metadata": {},
     "output_type": "display_data"
    },
    {
     "data": {
      "text/latex": [
       "$\\displaystyle H_{d} : - \\tilde{E}_{0} \\cos{\\left(\\omega_{d} t \\right)} \\left({{a}^\\dagger} + {a}\\right)$"
      ],
      "text/plain": [
       "<IPython.core.display.Math object>"
      ]
     },
     "metadata": {},
     "output_type": "display_data"
    }
   ],
   "source": [
    "# ---------------- Defining the symbols ------------------\n",
    "# Order 0\n",
    "omega = RDSymbol('omega', positive=True, real=True)\n",
    "omega_z = RDSymbol('omega_z', positive=True, real=True)\n",
    "omega_d = RDSymbol('omega_d', positive=True, real=True)\n",
    "\n",
    "# Order 1\n",
    "bsl = RDSymbol('\\\\tilde{b}_{SL}', order=1, positive=True, real=True)\n",
    "E0 = RDSymbol('\\\\tilde{E}_{0}', order=1, positive=True, real=True)\n",
    "\n",
    "# ----------------- Defining the basis -------------------\n",
    "# Spin basis: Finite 2x2 Hilbert space\n",
    "Spin = RDBasis('sigma', dim=2)\n",
    "s0, sx, sy, sz = Spin.basis\n",
    "\n",
    "# Boson basis: Infinite bosonic Hilbert space\n",
    "a = BosonOp('a')\n",
    "ad = Dagger(a)\n",
    "\n",
    "\n",
    "# -------------- Defining the Hamiltonian ----------------\n",
    "# Unperturbed Hamiltonian H0\n",
    "H0 = hbar * omega * ad*a - hbar/2 * omega_z * sz\n",
    "\n",
    "# Perturbation Hamiltonians\n",
    "V = -sp.Rational(1,2) * hbar * bsl * (ad + a) * sx\n",
    "Hd = -E0 * sp.cos(omega_d * t) * (ad + a)\n",
    "\n",
    "display_dict({\n",
    "    sp.Symbol('H_0'): H0,\n",
    "    sp.Symbol('V'):   V,\n",
    "    sp.Symbol('H_d'): Hd\n",
    "})"
   ]
  },
  {
   "cell_type": "markdown",
   "metadata": {},
   "source": [
    "# Time Independent SWT"
   ]
  },
  {
   "cell_type": "code",
   "execution_count": 3,
   "metadata": {},
   "outputs": [
    {
     "name": "stderr",
     "output_type": "stream",
     "text": [
      "\u001b[32mThe EffectiveFrame object has been initialized successfully.\u001b[0m\n"
     ]
    }
   ],
   "source": [
    "# Deffining Effective Hamiltonian Object\n",
    "Eff_frame = EffectiveFrame(H0, V, subspaces=[Spin])"
   ]
  },
  {
   "cell_type": "code",
   "execution_count": 4,
   "metadata": {},
   "outputs": [
    {
     "name": "stderr",
     "output_type": "stream",
     "text": [
      "Performing SWT for each order: 100%|██████████| 2/2 [00:00<00:00, 17.40it/s]\n",
      "\u001b[32mThe Hamiltonian has been solved successfully. Please use the get_H method to get the result in the desired form.\u001b[0m\n",
      "Converting to operator form: 100%|██████████| 2/2 [00:00<00:00, 15.94it/s]\n"
     ]
    },
    {
     "data": {
      "text/latex": [
       "$\\displaystyle - \\frac{\\tilde{b}_{SL}^{2} \\hbar \\omega}{4 \\omega^{2} - 4 \\omega_{z}^{2}} + \\frac{\\tilde{b}_{SL}^{2} \\hbar \\omega_{z} \\sigma_{3} {{a}^\\dagger}^{2}}{4 \\omega^{2} - 4 \\omega_{z}^{2}} + \\frac{\\tilde{b}_{SL}^{2} \\hbar \\omega_{z} \\sigma_{3} {a}^{2}}{4 \\omega^{2} - 4 \\omega_{z}^{2}} + \\frac{\\tilde{b}_{SL}^{2} \\hbar \\omega_{z} \\sigma_{3} {{a}^\\dagger} {a}}{2 \\omega^{2} - 2 \\omega_{z}^{2}} - \\frac{\\tilde{b}_{SL}^{2} \\hbar \\sigma_{3}}{8 \\omega + 8 \\omega_{z}} + \\frac{\\tilde{b}_{SL}^{2} \\hbar \\sigma_{3}}{8 \\omega - 8 \\omega_{z}} + \\hbar \\omega {{a}^\\dagger} {a} - \\frac{\\hbar \\omega_{z} \\sigma_{3}}{2}$"
      ],
      "text/plain": [
       "-\\tilde{b}_{SL}**2*hbar*omega/(4*omega**2 - 4*omega_z**2) + \\tilde{b}_{SL}**2*hbar*omega_z*sigma_3*Dagger(a)**2/(4*omega**2 - 4*omega_z**2) + \\tilde{b}_{SL}**2*hbar*omega_z*sigma_3*a**2/(4*omega**2 - 4*omega_z**2) + \\tilde{b}_{SL}**2*hbar*omega_z*sigma_3*Dagger(a)*a/(2*omega**2 - 2*omega_z**2) - \\tilde{b}_{SL}**2*hbar*sigma_3/(8*omega + 8*omega_z) + \\tilde{b}_{SL}**2*hbar*sigma_3/(8*omega - 8*omega_z) + hbar*omega*Dagger(a)*a - hbar*omega_z*sigma_3/2"
      ]
     },
     "execution_count": 4,
     "metadata": {},
     "output_type": "execute_result"
    }
   ],
   "source": [
    "# Calculate the effective model using the Schrieffer-Wolff transformation up to the second order\n",
    "Eff_frame.solve(max_order=2, method=\"SW\", mask=None)\n",
    "# Obtaining the result in the operator form\n",
    "H_eff_SWT = Eff_frame.get_H(return_form='operator')\n",
    "H_eff_SWT.cancel().expand()"
   ]
  },
  {
   "cell_type": "code",
   "execution_count": 5,
   "metadata": {},
   "outputs": [
    {
     "data": {
      "text/latex": [
       "$\\displaystyle \\frac{\\tilde{b}_{SL}^{2} \\hbar \\omega_{z} \\left(1 + 2 {{a}^\\dagger} {a} + {{a}^\\dagger}^{2} + {a}^{2}\\right) \\sigma_{3}}{4 \\omega^{2} - 4 \\omega_{z}^{2}}$"
      ],
      "text/plain": [
       "\\tilde{b}_{SL}**2*hbar*omega_z*(1 + 2*Dagger(a)*a + Dagger(a)**2 + a**2)*sigma_3/(4*omega**2 - 4*omega_z**2)"
      ]
     },
     "execution_count": 5,
     "metadata": {},
     "output_type": "execute_result"
    }
   ],
   "source": [
    "Heff_2_dict = group_by_operators(Eff_frame.corrections[2])\n",
    "(Heff_2_dict[sz].cancel() + Heff_2_dict[sz*ad**2].cancel() * ad**2 + Heff_2_dict[sz*a**2].cancel() * a**2 + Heff_2_dict[sz*ad*a].cancel()*ad*a).cancel() * sz"
   ]
  },
  {
   "cell_type": "markdown",
   "metadata": {},
   "source": [
    "# Time Dependent SWT"
   ]
  },
  {
   "cell_type": "code",
   "execution_count": 6,
   "metadata": {},
   "outputs": [
    {
     "name": "stderr",
     "output_type": "stream",
     "text": [
      "\u001b[32mThe EffectiveFrame object has been initialized successfully.\u001b[0m\n"
     ]
    }
   ],
   "source": [
    "# Deffining Effective Hamiltonian Object\n",
    "Eff_frame = EffectiveFrame(H0, V + Hd, subspaces=[Spin])"
   ]
  },
  {
   "cell_type": "code",
   "execution_count": 7,
   "metadata": {},
   "outputs": [
    {
     "name": "stderr",
     "output_type": "stream",
     "text": [
      "Performing Time Dependent SWT for each order: 100%|██████████| 2/2 [00:00<00:00, 10.48it/s]\n",
      "\u001b[32mThe Hamiltonian has been solved successfully. Please use the get_H method to get the result in the desired form.\u001b[0m\n",
      "Converting to operator form: 100%|██████████| 2/2 [00:23<00:00, 11.92s/it]\n"
     ]
    }
   ],
   "source": [
    "# Calculate the effective model using the Schrieffer-Wolff transformation up to the second order\n",
    "Eff_frame.solve(max_order=2, method='SW')\n",
    "# Obtaining the result in the operator form\n",
    "H_eff_SWT = Eff_frame.get_H(return_form='operator')"
   ]
  },
  {
   "cell_type": "code",
   "execution_count": 8,
   "metadata": {},
   "outputs": [],
   "source": [
    "H2_Teff = Eff_frame.corrections[2]"
   ]
  },
  {
   "cell_type": "code",
   "execution_count": 9,
   "metadata": {},
   "outputs": [
    {
     "name": "stdout",
     "output_type": "stream",
     "text": [
      "dict_keys([1, sigma_3, sigma_1, sigma_3*Dagger(a)**2, sigma_3*a**2, sigma_3*Dagger(a)*a])\n"
     ]
    },
    {
     "data": {
      "text/latex": [
       "$\\displaystyle \\frac{\\tilde{b}_{SL}^{2} \\hbar \\omega_{z} \\left(1 + 2 {{a}^\\dagger} {a} + {{a}^\\dagger}^{2} + {a}^{2}\\right) \\sigma_{3}}{4 \\omega^{2} - 4 \\omega_{z}^{2}}$"
      ],
      "text/plain": [
       "\\tilde{b}_{SL}**2*hbar*omega_z*(1 + 2*Dagger(a)*a + Dagger(a)**2 + a**2)*sigma_3/(4*omega**2 - 4*omega_z**2)"
      ]
     },
     "execution_count": 9,
     "metadata": {},
     "output_type": "execute_result"
    }
   ],
   "source": [
    "H2_Teff_dict = group_by_operators(H2_Teff)\n",
    "print(H2_Teff_dict.keys())\n",
    "(H2_Teff_dict[sz].cancel() + H2_Teff_dict[sz*ad**2].cancel() * ad**2 + H2_Teff_dict[sz*a**2].cancel() * a**2 + H2_Teff_dict[sz*ad*a].cancel()*ad*a).cancel() * sz"
   ]
  },
  {
   "cell_type": "code",
   "execution_count": 10,
   "metadata": {},
   "outputs": [
    {
     "data": {
      "text/latex": [
       "$\\displaystyle - \\frac{\\tilde{E}_{0} \\tilde{b}_{SL} \\omega \\left(2 \\omega^{2} - \\omega_{d}^{2} - \\omega_{z}^{2}\\right) \\cos{\\left(\\omega_{d} t \\right)}}{2 \\left(\\omega - \\omega_{d}\\right) \\left(\\omega + \\omega_{d}\\right) \\left(\\omega - \\omega_{z}\\right) \\left(\\omega + \\omega_{z}\\right)}$"
      ],
      "text/plain": [
       "-\\tilde{E}_{0}*\\tilde{b}_{SL}*omega*(2*omega**2 - omega_d**2 - omega_z**2)*cos(omega_d*t)/(2*(omega - omega_d)*(omega + omega_d)*(omega - omega_z)*(omega + omega_z))"
      ]
     },
     "execution_count": 10,
     "metadata": {},
     "output_type": "execute_result"
    }
   ],
   "source": [
    "sp.expand_complex((H2_Teff_dict[sx]).cancel()).trigsimp().factor()"
   ]
  }
 ],
 "metadata": {
  "kernelspec": {
   "display_name": "SymPT",
   "language": "python",
   "name": "python3"
  },
  "language_info": {
   "codemirror_mode": {
    "name": "ipython",
    "version": 3
   },
   "file_extension": ".py",
   "mimetype": "text/x-python",
   "name": "python",
   "nbconvert_exporter": "python",
   "pygments_lexer": "ipython3",
   "version": "3.13.1"
  }
 },
 "nbformat": 4,
 "nbformat_minor": 4
}
