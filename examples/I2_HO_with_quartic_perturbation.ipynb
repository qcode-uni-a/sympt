{
 "cells": [
  {
   "cell_type": "markdown",
   "metadata": {},
   "source": [
    "System found in **Enhanced perturbative continuous unitary transformations**: 10.1103/PhysRevB.86.125113 "
   ]
  },
  {
   "cell_type": "code",
   "execution_count": 1,
   "metadata": {},
   "outputs": [],
   "source": [
    "# Import sympt\n",
    "from sympt import *\n",
    "# Import sympy\n",
    "import sympy as sp"
   ]
  },
  {
   "cell_type": "markdown",
   "metadata": {},
   "source": [
    "# Setup"
   ]
  },
  {
   "cell_type": "code",
   "execution_count": 2,
   "metadata": {},
   "outputs": [
    {
     "data": {
      "text/latex": [
       "$\\displaystyle \\omega {{b}^\\dagger} {b} + \\varepsilon_{0} + x \\left(U {{b}^\\dagger}^{2} {b}^{2} + \\tilde{\\omega} {{b}^\\dagger} {b} + \\tilde{\\varepsilon}\\right)$"
      ],
      "text/plain": [
       "omega*Dagger(b)*b + varepsilon_0 + x*(U*Dagger(b)**2*b**2 + \\tilde{\\omega}*Dagger(b)*b + \\tilde{\\varepsilon})"
      ]
     },
     "metadata": {},
     "output_type": "display_data"
    },
    {
     "data": {
      "text/latex": [
       "$\\displaystyle x \\left({{b}^\\dagger}^{4} + {b}^{4}\\right)$"
      ],
      "text/plain": [
       "x*(Dagger(b)**4 + b**4)"
      ]
     },
     "metadata": {},
     "output_type": "display_data"
    }
   ],
   "source": [
    "# ---------------- Defining the symbols ------------------\n",
    "# Order 0\n",
    "omega = RDSymbol('omega', order=0, positive=True, real=True)\n",
    "omega_tilde = RDSymbol(r'\\tilde{\\omega}', order=0, positive=True, real=True)\n",
    "epsilon_0 = RDSymbol(r'varepsilon_0', order=0, positive=True, real=True)\n",
    "epsilon_tilde = RDSymbol(r'\\tilde{\\varepsilon}', order=0, positive=True, real=True)\n",
    "U = RDSymbol('U', order=0, positive=True, real=True)\n",
    "# Order 1\n",
    "x = RDSymbol('x', order=1, positive=True, real=True)\n",
    "\n",
    "# ----------------- Defining the basis -------------------\n",
    "# Boson basis resonator: Infinite bosonic Hilbert space\n",
    "b = BosonOp('b')\n",
    "bd = Dagger(b)\n",
    "\n",
    "# -------------- Defining the Hamiltonian ----------------\n",
    "# Unperturbed Hamiltonian H0\n",
    "H0 = epsilon_0 + omega * bd * b \n",
    "# Perturbed block diagonal Hamiltonian\n",
    "H1 = x * (omega_tilde * bd * b + U * bd * bd * b * b + epsilon_tilde)\n",
    "# Block diagonal Hamiltonian\n",
    "H = H0 + H1\n",
    "display(H)\n",
    "# Interaction Hamiltonian V\n",
    "V = x * (bd**4 + b**4)\n",
    "display(V)"
   ]
  },
  {
   "cell_type": "code",
   "execution_count": 3,
   "metadata": {},
   "outputs": [
    {
     "name": "stderr",
     "output_type": "stream",
     "text": [
      "\u001b[32mThe EffectiveFrame object has been initialized successfully.\u001b[0m\n"
     ]
    }
   ],
   "source": [
    "# Deffining Effective Hamiltonian Object\n",
    "Eff_frame = EffectiveFrame(H, V)"
   ]
  },
  {
   "cell_type": "markdown",
   "metadata": {},
   "source": [
    "# Standard Schrieffer-Wolff Transformation"
   ]
  },
  {
   "cell_type": "code",
   "execution_count": 9,
   "metadata": {},
   "outputs": [
    {
     "name": "stderr",
     "output_type": "stream",
     "text": [
      "Performing SWT for each order: 100%|████████████████████████████████████████| 3/3 [00:00<00:00,  3.88it/s]\n",
      "\u001b[32mThe Hamiltonian has been solved successfully. Please use the get_H method to get the result in the desired form.\u001b[0m\n",
      "Converting to dictionary of operator form: 100%|█████████████████████████| 4/4 [00:00<00:00, 17772.47it/s]\n"
     ]
    }
   ],
   "source": [
    "# Calculate the effective model using the Schrieffer-Wolff transformation up to the second order\n",
    "Eff_frame.solve(max_order=3, method=\"SW\")\n",
    "# Obtaining the result in the dict_operator form\n",
    "H_eff_SWT = Eff_frame.get_H(return_form='dict_operator')"
   ]
  },
  {
   "cell_type": "code",
   "execution_count": 11,
   "metadata": {},
   "outputs": [
    {
     "data": {
      "text/latex": [
       "$\\displaystyle {{b}^\\dagger} {b} : \\frac{42 U x^{3}}{\\omega^{2}} + \\frac{14 \\tilde{\\omega} x^{3}}{\\omega^{2}} - \\frac{56 x \\left(\\frac{3 U x^{2}}{4 \\omega} + \\frac{\\tilde{\\omega} x^{2}}{4 \\omega}\\right)}{\\omega} + \\frac{14 x \\left(\\frac{3 U x^{2}}{\\omega} + \\frac{\\tilde{\\omega} x^{2}}{\\omega}\\right)}{\\omega}$"
      ],
      "text/plain": [
       "<IPython.core.display.Math object>"
      ]
     },
     "metadata": {},
     "output_type": "display_data"
    },
    {
     "data": {
      "text/latex": [
       "$\\displaystyle 1 : \\frac{18 U x^{3}}{\\omega^{2}} + \\frac{6 \\tilde{\\omega} x^{3}}{\\omega^{2}} - \\frac{24 x \\left(\\frac{3 U x^{2}}{4 \\omega} + \\frac{\\tilde{\\omega} x^{2}}{4 \\omega}\\right)}{\\omega} + \\frac{6 x \\left(\\frac{3 U x^{2}}{\\omega} + \\frac{\\tilde{\\omega} x^{2}}{\\omega}\\right)}{\\omega}$"
      ],
      "text/plain": [
       "<IPython.core.display.Math object>"
      ]
     },
     "metadata": {},
     "output_type": "display_data"
    },
    {
     "data": {
      "text/latex": [
       "$\\displaystyle {{b}^\\dagger} {b} {{b}^\\dagger} {b} : \\frac{68 U x^{3}}{\\omega^{2}} + \\frac{6 \\tilde{\\omega} x^{3}}{\\omega^{2}} - \\frac{25 x \\left(- \\frac{3 U x^{2}}{4 \\omega} - \\frac{\\tilde{\\omega} x^{2}}{4 \\omega}\\right)}{\\omega} - \\frac{49 x \\left(\\frac{3 U x^{2}}{4 \\omega} + \\frac{\\tilde{\\omega} x^{2}}{4 \\omega}\\right)}{\\omega} + \\frac{6 x \\left(\\frac{3 U x^{2}}{\\omega} + \\frac{\\tilde{\\omega} x^{2}}{\\omega}\\right)}{\\omega}$"
      ],
      "text/plain": [
       "<IPython.core.display.Math object>"
      ]
     },
     "metadata": {},
     "output_type": "display_data"
    },
    {
     "data": {
      "text/latex": [
       "$\\displaystyle {{b}^\\dagger} {b} {{b}^\\dagger} {b} {{b}^\\dagger} {b} : \\frac{12 U x^{3}}{\\omega^{2}} + \\frac{4 \\tilde{\\omega} x^{3}}{\\omega^{2}} - \\frac{16 x \\left(\\frac{3 U x^{2}}{4 \\omega} + \\frac{\\tilde{\\omega} x^{2}}{4 \\omega}\\right)}{\\omega} + \\frac{4 x \\left(\\frac{3 U x^{2}}{\\omega} + \\frac{\\tilde{\\omega} x^{2}}{\\omega}\\right)}{\\omega}$"
      ],
      "text/plain": [
       "<IPython.core.display.Math object>"
      ]
     },
     "metadata": {},
     "output_type": "display_data"
    },
    {
     "data": {
      "text/latex": [
       "$\\displaystyle {{b}^\\dagger}^{8} : - \\frac{U x^{3}}{\\omega^{2}} - \\frac{x \\left(- \\frac{3 U x^{2}}{4 \\omega} - \\frac{\\tilde{\\omega} x^{2}}{4 \\omega}\\right)}{2 \\omega} - \\frac{x \\left(\\frac{3 U x^{2}}{4 \\omega} + \\frac{\\tilde{\\omega} x^{2}}{4 \\omega}\\right)}{2 \\omega}$"
      ],
      "text/plain": [
       "<IPython.core.display.Math object>"
      ]
     },
     "metadata": {},
     "output_type": "display_data"
    },
    {
     "data": {
      "text/latex": [
       "$\\displaystyle {{b}^\\dagger} {b} {{b}^\\dagger} {b} {{b}^\\dagger} {b} {{b}^\\dagger} {b} : \\frac{10 U x^{3}}{\\omega^{2}} - \\frac{5 x \\left(- \\frac{3 U x^{2}}{4 \\omega} - \\frac{\\tilde{\\omega} x^{2}}{4 \\omega}\\right)}{\\omega} - \\frac{5 x \\left(\\frac{3 U x^{2}}{4 \\omega} + \\frac{\\tilde{\\omega} x^{2}}{4 \\omega}\\right)}{\\omega}$"
      ],
      "text/plain": [
       "<IPython.core.display.Math object>"
      ]
     },
     "metadata": {},
     "output_type": "display_data"
    },
    {
     "data": {
      "text/latex": [
       "$\\displaystyle {b}^{8} : - \\frac{U x^{3}}{\\omega^{2}} - \\frac{x \\left(- \\frac{3 U x^{2}}{4 \\omega} - \\frac{\\tilde{\\omega} x^{2}}{4 \\omega}\\right)}{2 \\omega} - \\frac{x \\left(\\frac{3 U x^{2}}{4 \\omega} + \\frac{\\tilde{\\omega} x^{2}}{4 \\omega}\\right)}{2 \\omega}$"
      ],
      "text/plain": [
       "<IPython.core.display.Math object>"
      ]
     },
     "metadata": {},
     "output_type": "display_data"
    }
   ],
   "source": [
    "# displaying resulting Hamiltonian\n",
    "display_dict(H_eff_SWT)"
   ]
  },
  {
   "cell_type": "markdown",
   "metadata": {},
   "source": [
    "# ACE"
   ]
  },
  {
   "cell_type": "code",
   "execution_count": 12,
   "metadata": {},
   "outputs": [
    {
     "name": "stderr",
     "output_type": "stream",
     "text": [
      "\u001b[32mThe perturbative interaction will be added to the full Hamiltonian\u001b[0m\n",
      "Performing Block Diagonalization for each order: 100%|████████████████████| 3/3 [00:00<00:00, 1390.53it/s]\n",
      "\u001b[32mThe Hamiltonian has been solved successfully. Please use the get_H method to get the result in the desired form.\u001b[0m\n",
      "Converting to dictionary of operator form: 100%|█████████████████████████| 2/2 [00:00<00:00, 23301.69it/s]\n"
     ]
    }
   ],
   "source": [
    "# Deffining the mask\n",
    "mask = Block(inf=b**8)\n",
    "# Calculate the effective model using the Mask routine up to the second order\n",
    "Eff_frame.solve(max_order=3, method=\"ACE\", mask=mask)\n",
    "H_eff_Mask = Eff_frame.get_H(return_form='dict_operator')"
   ]
  },
  {
   "cell_type": "code",
   "execution_count": 13,
   "metadata": {},
   "outputs": [
    {
     "data": {
      "text/latex": [
       "$\\displaystyle {{b}^\\dagger} {b} : - U x + \\tilde{\\omega} x$"
      ],
      "text/plain": [
       "<IPython.core.display.Math object>"
      ]
     },
     "metadata": {},
     "output_type": "display_data"
    },
    {
     "data": {
      "text/latex": [
       "$\\displaystyle 1 : \\tilde{\\varepsilon} x$"
      ],
      "text/plain": [
       "<IPython.core.display.Math object>"
      ]
     },
     "metadata": {},
     "output_type": "display_data"
    },
    {
     "data": {
      "text/latex": [
       "$\\displaystyle {{b}^\\dagger} {b} {{b}^\\dagger} {b} : U x$"
      ],
      "text/plain": [
       "<IPython.core.display.Math object>"
      ]
     },
     "metadata": {},
     "output_type": "display_data"
    },
    {
     "data": {
      "text/latex": [
       "$\\displaystyle {{b}^\\dagger}^{4} : x$"
      ],
      "text/plain": [
       "<IPython.core.display.Math object>"
      ]
     },
     "metadata": {},
     "output_type": "display_data"
    },
    {
     "data": {
      "text/latex": [
       "$\\displaystyle {b}^{4} : x$"
      ],
      "text/plain": [
       "<IPython.core.display.Math object>"
      ]
     },
     "metadata": {},
     "output_type": "display_data"
    }
   ],
   "source": [
    "# displaying resulting Hamiltonian\n",
    "display_dict(H_eff_Mask)"
   ]
  },
  {
   "cell_type": "markdown",
   "metadata": {},
   "source": [
    "# Full-diagonalization"
   ]
  },
  {
   "cell_type": "code",
   "execution_count": 14,
   "metadata": {},
   "outputs": [
    {
     "name": "stderr",
     "output_type": "stream",
     "text": [
      "\u001b[32mThe perturbative interaction will be added to the full Hamiltonian\u001b[0m\n",
      "Performing Full Diagonalization for each order: 100%|███████████████████████| 3/3 [00:00<00:00,  3.58it/s]\n",
      "\u001b[32mThe Hamiltonian has been solved successfully. Please use the get_H method to get the result in the desired form.\u001b[0m\n",
      "Converting to dictionary of operator form: 100%|█████████████████████████| 4/4 [00:00<00:00, 24672.38it/s]\n"
     ]
    }
   ],
   "source": [
    "# Calculate the effective model using the Full Diagonalization routine up to the second order\n",
    "Eff_frame.solve(max_order=3, method=\"FD\")\n",
    "H_eff_FD = Eff_frame.get_H(return_form='dict_operator')"
   ]
  },
  {
   "cell_type": "code",
   "execution_count": 15,
   "metadata": {},
   "outputs": [
    {
     "data": {
      "text/latex": [
       "$\\displaystyle {{b}^\\dagger} {b} : \\frac{42 U x^{3}}{\\omega^{2}} + \\frac{14 \\tilde{\\omega} x^{3}}{\\omega^{2}} - \\frac{56 x \\left(\\frac{3 U x^{2}}{4 \\omega} + \\frac{\\tilde{\\omega} x^{2}}{4 \\omega}\\right)}{\\omega} + \\frac{14 x \\left(\\frac{3 U x^{2}}{\\omega} + \\frac{\\tilde{\\omega} x^{2}}{\\omega}\\right)}{\\omega}$"
      ],
      "text/plain": [
       "<IPython.core.display.Math object>"
      ]
     },
     "metadata": {},
     "output_type": "display_data"
    },
    {
     "data": {
      "text/latex": [
       "$\\displaystyle 1 : \\frac{18 U x^{3}}{\\omega^{2}} + \\frac{6 \\tilde{\\omega} x^{3}}{\\omega^{2}} - \\frac{24 x \\left(\\frac{3 U x^{2}}{4 \\omega} + \\frac{\\tilde{\\omega} x^{2}}{4 \\omega}\\right)}{\\omega} + \\frac{6 x \\left(\\frac{3 U x^{2}}{\\omega} + \\frac{\\tilde{\\omega} x^{2}}{\\omega}\\right)}{\\omega}$"
      ],
      "text/plain": [
       "<IPython.core.display.Math object>"
      ]
     },
     "metadata": {},
     "output_type": "display_data"
    },
    {
     "data": {
      "text/latex": [
       "$\\displaystyle {{b}^\\dagger} {b} {{b}^\\dagger} {b} : \\frac{68 U x^{3}}{\\omega^{2}} + \\frac{6 \\tilde{\\omega} x^{3}}{\\omega^{2}} - \\frac{25 x \\left(- \\frac{3 U x^{2}}{4 \\omega} - \\frac{\\tilde{\\omega} x^{2}}{4 \\omega}\\right)}{\\omega} - \\frac{49 x \\left(\\frac{3 U x^{2}}{4 \\omega} + \\frac{\\tilde{\\omega} x^{2}}{4 \\omega}\\right)}{\\omega} + \\frac{6 x \\left(\\frac{3 U x^{2}}{\\omega} + \\frac{\\tilde{\\omega} x^{2}}{\\omega}\\right)}{\\omega}$"
      ],
      "text/plain": [
       "<IPython.core.display.Math object>"
      ]
     },
     "metadata": {},
     "output_type": "display_data"
    },
    {
     "data": {
      "text/latex": [
       "$\\displaystyle {{b}^\\dagger} {b} {{b}^\\dagger} {b} {{b}^\\dagger} {b} : \\frac{12 U x^{3}}{\\omega^{2}} + \\frac{4 \\tilde{\\omega} x^{3}}{\\omega^{2}} - \\frac{16 x \\left(\\frac{3 U x^{2}}{4 \\omega} + \\frac{\\tilde{\\omega} x^{2}}{4 \\omega}\\right)}{\\omega} + \\frac{4 x \\left(\\frac{3 U x^{2}}{\\omega} + \\frac{\\tilde{\\omega} x^{2}}{\\omega}\\right)}{\\omega}$"
      ],
      "text/plain": [
       "<IPython.core.display.Math object>"
      ]
     },
     "metadata": {},
     "output_type": "display_data"
    },
    {
     "data": {
      "text/latex": [
       "$\\displaystyle {{b}^\\dagger} {b} {{b}^\\dagger} {b} {{b}^\\dagger} {b} {{b}^\\dagger} {b} : \\frac{10 U x^{3}}{\\omega^{2}} - \\frac{5 x \\left(- \\frac{3 U x^{2}}{4 \\omega} - \\frac{\\tilde{\\omega} x^{2}}{4 \\omega}\\right)}{\\omega} - \\frac{5 x \\left(\\frac{3 U x^{2}}{4 \\omega} + \\frac{\\tilde{\\omega} x^{2}}{4 \\omega}\\right)}{\\omega}$"
      ],
      "text/plain": [
       "<IPython.core.display.Math object>"
      ]
     },
     "metadata": {},
     "output_type": "display_data"
    }
   ],
   "source": [
    "# displaying resulting Hamiltonian\n",
    "display_dict(H_eff_FD)"
   ]
  }
 ],
 "metadata": {
  "kernelspec": {
   "display_name": "Python 3 (ipykernel)",
   "language": "python",
   "name": "python3"
  },
  "language_info": {
   "codemirror_mode": {
    "name": "ipython",
    "version": 3
   },
   "file_extension": ".py",
   "mimetype": "text/x-python",
   "name": "python",
   "nbconvert_exporter": "python",
   "pygments_lexer": "ipython3",
   "version": "3.9.20"
  }
 },
 "nbformat": 4,
 "nbformat_minor": 4
}
