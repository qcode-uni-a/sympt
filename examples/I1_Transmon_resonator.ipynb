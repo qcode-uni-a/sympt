{
 "cells": [
  {
   "cell_type": "markdown",
   "metadata": {},
   "source": [
    "System found in **Pymablock: an algorithm and a package for\n",
    "quasi-degenerate perturbation theory**: arXiv:2404.03728v1"
   ]
  },
  {
   "cell_type": "code",
   "execution_count": 1,
   "metadata": {},
   "outputs": [],
   "source": [
    "# Objects for defining the Hamiltonian\n",
    "from SymPT import RDSymbol, RDBasis, BosonOp, Dagger, Block, Operator\n",
    "# Objects for obtaining the Effective Hamiltonian\n",
    "from SymPT import EffectiveFrame\n",
    "\n",
    "# Extra utils\n",
    "from SymPT import display_dict, group_by_operators\n",
    "\n",
    "# Import sympy\n",
    "import sympy as sp"
   ]
  },
  {
   "cell_type": "markdown",
   "metadata": {},
   "source": [
    "# Setup"
   ]
  },
  {
   "cell_type": "code",
   "execution_count": 2,
   "metadata": {},
   "outputs": [
    {
     "data": {
      "text/latex": [
       "$\\displaystyle \\frac{\\alpha {{a_t}^\\dagger}^{2} {a_t}^{2}}{2} + \\omega_{r} {{a_r}^\\dagger} {a_r} - \\omega_{t} {{a_t}^\\dagger} {a_t}$"
      ],
      "text/plain": [
       "alpha*Dagger(a_t)**2*a_t**2/2 + omega_r*Dagger(a_r)*a_r - omega_t*Dagger(a_t)*a_t"
      ]
     },
     "metadata": {},
     "output_type": "display_data"
    },
    {
     "data": {
      "text/latex": [
       "$\\displaystyle - g \\left({{a_t}^\\dagger} - {a_t}\\right) \\left({{a_r}^\\dagger} - {a_r}\\right)$"
      ],
      "text/plain": [
       "-g*(Dagger(a_t) - a_t)*(Dagger(a_r) - a_r)"
      ]
     },
     "metadata": {},
     "output_type": "display_data"
    }
   ],
   "source": [
    "# ---------------- Defining the symbols ------------------\n",
    "# Order 0\n",
    "omega_t = RDSymbol('omega_t', order=0, positive=True, real=True)\n",
    "omega_r = RDSymbol('omega_r', order=0, positive=True, real=True)\n",
    "alpha   = RDSymbol('alpha', order=0, positive=True, real=True)\n",
    "# Order 1\n",
    "g = RDSymbol('g', order=1, positive=True, real=True)\n",
    "\n",
    "# ----------------- Defining the basis -------------------\n",
    "# Boson basis transmon: Infinite bosonic Hilbert space\n",
    "a_t  = BosonOp('a_t')\n",
    "ad_t = Dagger(a_t)\n",
    "# Boson basis resonator: Infinite bosonic Hilbert space\n",
    "a_r  = BosonOp('a_r')\n",
    "ad_r = Dagger(a_r)\n",
    "\n",
    "# -------------- Defining the Hamiltonian ----------------\n",
    "# Unperturbed Hamiltonian H0\n",
    "H0 = -omega_t * ad_t * a_t + omega_r * ad_r * a_r + sp.Rational(1,2) * alpha * ad_t * ad_t * a_t * a_t\n",
    "display(H0)\n",
    "# Interaction Hamiltonian V\n",
    "V = -g * (ad_t - a_t) * (ad_r - a_r)\n",
    "display(V)"
   ]
  },
  {
   "cell_type": "code",
   "execution_count": 3,
   "metadata": {},
   "outputs": [
    {
     "name": "stdout",
     "output_type": "stream",
     "text": [
      "The EffectiveFrame object has been initialized successfully.\n",
      "\n",
      "Effective Frame\n",
      "\n",
      "╭────────┬─────────┬─────────────╮\n",
      "│  Name  │  Type   │  Dimension  │\n",
      "├────────┼─────────┼─────────────┤\n",
      "│  a_t   │ Bosonic │      ∞      │\n",
      "├────────┼─────────┼─────────────┤\n",
      "│  a_r   │ Bosonic │      ∞      │\n",
      "╰────────┴─────────┴─────────────╯\n",
      "\n",
      "Effective Hamiltonian: \tNot computed yet. To do so, run `solve` method. \n",
      "\n",
      "\n"
     ]
    }
   ],
   "source": [
    "# Deffining Effective Hamiltonian Object\n",
    "Eff_frame = EffectiveFrame(H0, V)"
   ]
  },
  {
   "cell_type": "markdown",
   "metadata": {},
   "source": [
    "# Standard Schrieffer-Wolff Transformation"
   ]
  },
  {
   "cell_type": "code",
   "execution_count": 4,
   "metadata": {},
   "outputs": [
    {
     "name": "stderr",
     "output_type": "stream",
     "text": [
      "Solving for each order: 100%|████████████| 2/2 [00:00<00:00,  2.61it/s]\n"
     ]
    },
    {
     "name": "stdout",
     "output_type": "stream",
     "text": [
      "The Hamiltonian has been solved successfully. Please use the get_H method to get the result in the desired form.\n"
     ]
    },
    {
     "name": "stderr",
     "output_type": "stream",
     "text": [
      "Projecting to operator form: 100%|██████| 3/3 [00:00<00:00, 542.51it/s]\n",
      "Projecting to operator form: 100%|████| 20/20 [00:00<00:00, 432.23it/s]\n"
     ]
    }
   ],
   "source": [
    "# Calculate the effective model using the Schrieffer-Wolff transformation up to the second order\n",
    "Eff_frame.solve(max_order=2, full_diagonalization=False, mask=None)\n",
    "# Obtaining the result in the dict_operator form\n",
    "H_eff_SWT = Eff_frame.get_H(return_form='operator')\n",
    "# display_dict(H_eff_SWT)"
   ]
  },
  {
   "cell_type": "code",
   "execution_count": 8,
   "metadata": {},
   "outputs": [],
   "source": [
    "# substitution dictionary for transmon ground state\n",
    "subs_nt0 = {\n",
    "    a_t : 0,\n",
    "    ad_t : 0\n",
    "}\n",
    "\n",
    "# Corrections to the Hamiltonian for each order\n",
    "H0, H2 = [H_correction for H_correction in Eff_frame.corrections.values()]"
   ]
  },
  {
   "cell_type": "code",
   "execution_count": 9,
   "metadata": {},
   "outputs": [
    {
     "data": {
      "text/latex": [
       "$\\displaystyle {{a_t}^\\dagger} {a_t} : - \\frac{\\alpha}{2} - \\omega_{t}$"
      ],
      "text/plain": [
       "<IPython.core.display.Math object>"
      ]
     },
     "metadata": {},
     "output_type": "display_data"
    },
    {
     "data": {
      "text/latex": [
       "$\\displaystyle \\left({{a_t}^\\dagger} {a_t}\\right)^{2} : \\frac{\\alpha}{2}$"
      ],
      "text/plain": [
       "<IPython.core.display.Math object>"
      ]
     },
     "metadata": {},
     "output_type": "display_data"
    },
    {
     "data": {
      "text/latex": [
       "$\\displaystyle {{a_r}^\\dagger} {a_r} : \\omega_{r}$"
      ],
      "text/plain": [
       "<IPython.core.display.Math object>"
      ]
     },
     "metadata": {},
     "output_type": "display_data"
    }
   ],
   "source": [
    "display_dict(group_by_operators(H0))"
   ]
  },
  {
   "cell_type": "code",
   "execution_count": 25,
   "metadata": {},
   "outputs": [
    {
     "data": {
      "text/latex": [
       "$\\displaystyle 1 : - \\frac{g^{2}}{\\omega_{r} - \\omega_{t}}$"
      ],
      "text/plain": [
       "<IPython.core.display.Math object>"
      ]
     },
     "metadata": {},
     "output_type": "display_data"
    },
    {
     "data": {
      "text/latex": [
       "$\\displaystyle {{a_r}^\\dagger} {a_r} : - \\frac{2 g^{2} \\omega_{t}}{\\omega_{r}^{2} - \\omega_{t}^{2}}$"
      ],
      "text/plain": [
       "<IPython.core.display.Math object>"
      ]
     },
     "metadata": {},
     "output_type": "display_data"
    },
    {
     "data": {
      "text/latex": [
       "$\\displaystyle {{a_r}^\\dagger}^{2} : \\frac{g^{2} \\omega_{t}}{\\omega_{r}^{2} - \\omega_{t}^{2}}$"
      ],
      "text/plain": [
       "<IPython.core.display.Math object>"
      ]
     },
     "metadata": {},
     "output_type": "display_data"
    },
    {
     "data": {
      "text/latex": [
       "$\\displaystyle {a_r}^{2} : \\frac{g^{2} \\omega_{t}}{\\omega_{r}^{2} - \\omega_{t}^{2}}$"
      ],
      "text/plain": [
       "<IPython.core.display.Math object>"
      ]
     },
     "metadata": {},
     "output_type": "display_data"
    }
   ],
   "source": [
    "grouped_H2 = group_by_operators(H2.subs(subs_nt0).expand())\n",
    "display_dict({k : v.simplify() for k,v in grouped_H2.items()})"
   ]
  },
  {
   "cell_type": "markdown",
   "metadata": {},
   "source": [
    "# Multiblock"
   ]
  },
  {
   "cell_type": "code",
   "execution_count": 54,
   "metadata": {},
   "outputs": [
    {
     "name": "stdout",
     "output_type": "stream",
     "text": [
      "The perturbative interaction will be added to the full Hamiltonian\n"
     ]
    },
    {
     "name": "stderr",
     "output_type": "stream",
     "text": [
      "Solving for each order: 100%|████████████| 2/2 [00:01<00:00,  1.30it/s]\n"
     ]
    },
    {
     "name": "stdout",
     "output_type": "stream",
     "text": [
      "The Hamiltonian has been solved successfully. Please use the get_H method to get the result in the desired form.\n"
     ]
    },
    {
     "name": "stderr",
     "output_type": "stream",
     "text": [
      "Projecting to operator form: 100%|██████| 3/3 [00:00<00:00, 594.60it/s]\n",
      "Projecting to operator form: 100%|██████| 6/6 [00:00<00:00, 522.17it/s]\n"
     ]
    }
   ],
   "source": [
    "# Deffining the mask\n",
    "mask = Block(inf=a_r*a_t) +  Block(inf=ad_r*a_t) + Block(inf=a_r**2) + Block(inf=a_t**2) + Block(inf=a_t**2*a_r**2)+ Block(inf=ad_t**2*a_r**2)\n",
    "# Calculate the effective model using the Mask routine up to the second order\n",
    "Eff_frame.solve(max_order=2, full_diagonalization=False, mask=mask)\n",
    "H_eff_Mask = Eff_frame.get_H(return_form='operator')\n",
    "# display_dict(H_eff_Mask)"
   ]
  },
  {
   "cell_type": "code",
   "execution_count": 55,
   "metadata": {},
   "outputs": [],
   "source": [
    "# Corrections to the Hamiltonian for each order\n",
    "H0, H2 = [H_correction for H_correction in Eff_frame.corrections.values()]"
   ]
  },
  {
   "cell_type": "code",
   "execution_count": 56,
   "metadata": {},
   "outputs": [
    {
     "data": {
      "text/latex": [
       "$\\displaystyle {{a_t}^\\dagger} {a_t} : - \\frac{\\alpha}{2} - \\omega_{t}$"
      ],
      "text/plain": [
       "<IPython.core.display.Math object>"
      ]
     },
     "metadata": {},
     "output_type": "display_data"
    },
    {
     "data": {
      "text/latex": [
       "$\\displaystyle \\left({{a_t}^\\dagger} {a_t}\\right)^{2} : \\frac{\\alpha}{2}$"
      ],
      "text/plain": [
       "<IPython.core.display.Math object>"
      ]
     },
     "metadata": {},
     "output_type": "display_data"
    },
    {
     "data": {
      "text/latex": [
       "$\\displaystyle {{a_r}^\\dagger} {a_r} : \\omega_{r}$"
      ],
      "text/plain": [
       "<IPython.core.display.Math object>"
      ]
     },
     "metadata": {},
     "output_type": "display_data"
    }
   ],
   "source": [
    "display_dict(group_by_operators(H0))"
   ]
  },
  {
   "cell_type": "code",
   "execution_count": 58,
   "metadata": {},
   "outputs": [
    {
     "data": {
      "text/latex": [
       "$\\displaystyle {{a_t}^\\dagger} {a_t} : \\frac{g^{2} \\left(N_{t} \\left(- 4 \\alpha^{3} - 6 \\alpha^{2} \\omega_{r} - 6 \\alpha^{2} \\omega_{t} - 8 \\alpha \\omega_{r} \\omega_{t}\\right) + \\alpha^{3} \\left(4 N_{t}^{2} + 1\\right) + 3 \\alpha^{2} \\omega_{t} + \\alpha \\left(- 2 \\omega_{r}^{2} + 4 \\omega_{r} \\omega_{t} + 2 \\omega_{t}^{2}\\right) - 2 \\omega_{r}^{3} + \\omega_{r} \\left(6 N_{t}^{2} \\alpha^{2} + \\alpha^{2} + 2 \\omega_{t}^{2}\\right)\\right)}{\\left(N_{t} \\alpha + \\omega_{r} - \\omega_{t}\\right)^{2} \\left(N_{t} \\alpha - \\alpha - \\omega_{r} - \\omega_{t}\\right)^{2}}$"
      ],
      "text/plain": [
       "<IPython.core.display.Math object>"
      ]
     },
     "metadata": {},
     "output_type": "display_data"
    },
    {
     "data": {
      "text/latex": [
       "$\\displaystyle {{a_t}^\\dagger} {a_t} {{a_r}^\\dagger} {a_r} : \\frac{2 \\alpha g^{2} \\left(4 N_{t}^{6} \\alpha^{6} + N_{t}^{5} \\left(- 12 \\alpha^{6} - 22 \\alpha^{5} \\omega_{t}\\right) + N_{t}^{4} \\left(13 \\alpha^{6} + 55 \\alpha^{5} \\omega_{t} + 2 \\alpha^{4} \\omega_{r}^{2} + 50 \\alpha^{4} \\omega_{t}^{2}\\right) + N_{t}^{3} \\left(- 6 \\alpha^{6} - 48 \\alpha^{5} \\omega_{t} - 4 \\alpha^{4} \\omega_{r}^{2} - 100 \\alpha^{4} \\omega_{t}^{2} - 4 \\alpha^{3} \\omega_{r}^{2} \\omega_{t} - 60 \\alpha^{3} \\omega_{t}^{3}\\right) + N_{t}^{2} \\alpha^{6} + 17 N_{t}^{2} \\alpha^{5} \\omega_{t} + N_{t} \\left(- 2 \\alpha^{5} \\omega_{t} - 4 \\alpha^{4} \\omega_{r}^{2} - 16 \\alpha^{4} \\omega_{t}^{2} - 8 \\alpha^{3} \\omega_{r}^{2} \\omega_{t} - 40 \\alpha^{3} \\omega_{t}^{3} + 8 \\alpha^{2} \\omega_{r}^{4} - 40 \\alpha^{2} \\omega_{t}^{4} + 10 \\alpha \\omega_{r}^{4} \\omega_{t} + 4 \\alpha \\omega_{r}^{2} \\omega_{t}^{3} - 14 \\alpha \\omega_{t}^{5}\\right) + \\alpha^{4} \\left(6 N_{t}^{2} \\omega_{r}^{2} + 66 N_{t}^{2} \\omega_{t}^{2} + \\omega_{r}^{2} + \\omega_{t}^{2}\\right) + \\alpha^{3} \\left(6 N_{t}^{2} \\omega_{r}^{2} \\omega_{t} + 90 N_{t}^{2} \\omega_{t}^{3} + 3 \\omega_{r}^{2} \\omega_{t} + 5 \\omega_{t}^{3}\\right) + 2 \\alpha^{2} \\omega_{r}^{2} \\omega_{t}^{2} + \\alpha \\left(- 5 \\omega_{r}^{4} \\omega_{t} - 2 \\omega_{r}^{2} \\omega_{t}^{3} + 7 \\omega_{t}^{5}\\right) + 2 \\omega_{r}^{6} + \\omega_{r}^{4} \\left(- 8 N_{t}^{2} \\alpha^{2} - 3 \\alpha^{2} - 2 \\omega_{t}^{2}\\right) + 2 \\omega_{t}^{6} + \\omega_{t}^{4} \\left(40 N_{t}^{2} \\alpha^{2} + 9 \\alpha^{2} - 2 \\omega_{r}^{2}\\right)\\right)}{\\left(N_{t} \\alpha - \\omega_{r} - \\omega_{t}\\right)^{2} \\left(N_{t} \\alpha + \\omega_{r} - \\omega_{t}\\right)^{2} \\left(N_{t} \\alpha - \\alpha - \\omega_{r} - \\omega_{t}\\right)^{2} \\left(N_{t} \\alpha - \\alpha + \\omega_{r} - \\omega_{t}\\right)^{2}}$"
      ],
      "text/plain": [
       "<IPython.core.display.Math object>"
      ]
     },
     "metadata": {},
     "output_type": "display_data"
    },
    {
     "data": {
      "text/latex": [
       "$\\displaystyle \\left({{a_t}^\\dagger} {a_t}\\right)^{2} : - \\frac{\\alpha g^{2} \\left(\\alpha + 2 \\omega_{r}\\right) \\left(2 N_{t} \\alpha - \\alpha - 2 \\omega_{t}\\right)}{\\left(N_{t} \\alpha + \\omega_{r} - \\omega_{t}\\right)^{2} \\left(N_{t} \\alpha - \\alpha - \\omega_{r} - \\omega_{t}\\right)^{2}}$"
      ],
      "text/plain": [
       "<IPython.core.display.Math object>"
      ]
     },
     "metadata": {},
     "output_type": "display_data"
    },
    {
     "data": {
      "text/latex": [
       "$\\displaystyle \\left({{a_t}^\\dagger} {a_t}\\right)^{2} {{a_r}^\\dagger} {a_r} : - \\frac{2 \\alpha^{2} g^{2} \\left(2 N_{t} \\alpha - \\alpha - 2 \\omega_{t}\\right) \\left(N_{t}^{4} \\alpha^{4} + N_{t}^{3} \\left(- 2 \\alpha^{4} - 4 \\alpha^{3} \\omega_{t}\\right) + N_{t}^{2} \\alpha^{4} + 6 N_{t}^{2} \\alpha^{3} \\omega_{t} + 2 N_{t}^{2} \\alpha^{2} \\omega_{r}^{2} + 6 N_{t}^{2} \\alpha^{2} \\omega_{t}^{2} + N_{t} \\left(- 2 \\alpha^{3} \\omega_{t} - 2 \\alpha^{2} \\omega_{r}^{2} - 6 \\alpha^{2} \\omega_{t}^{2} - 4 \\alpha \\omega_{r}^{2} \\omega_{t} - 4 \\alpha \\omega_{t}^{3}\\right) + \\alpha^{2} \\omega_{r}^{2} + \\alpha^{2} \\omega_{t}^{2} + \\alpha \\left(2 \\omega_{r}^{2} \\omega_{t} + 2 \\omega_{t}^{3}\\right) - 3 \\omega_{r}^{4} + 2 \\omega_{r}^{2} \\omega_{t}^{2} + \\omega_{t}^{4}\\right)}{\\left(N_{t} \\alpha - \\omega_{r} - \\omega_{t}\\right)^{2} \\left(N_{t} \\alpha + \\omega_{r} - \\omega_{t}\\right)^{2} \\left(N_{t} \\alpha - \\alpha - \\omega_{r} - \\omega_{t}\\right)^{2} \\left(N_{t} \\alpha - \\alpha + \\omega_{r} - \\omega_{t}\\right)^{2}}$"
      ],
      "text/plain": [
       "<IPython.core.display.Math object>"
      ]
     },
     "metadata": {},
     "output_type": "display_data"
    },
    {
     "data": {
      "text/latex": [
       "$\\displaystyle 1 : - \\frac{g^{2} \\left(2 N_{t} \\alpha + \\omega_{r} - \\omega_{t}\\right)}{\\left(N_{t} \\alpha + \\omega_{r} - \\omega_{t}\\right)^{2}}$"
      ],
      "text/plain": [
       "<IPython.core.display.Math object>"
      ]
     },
     "metadata": {},
     "output_type": "display_data"
    },
    {
     "data": {
      "text/latex": [
       "$\\displaystyle {{a_r}^\\dagger} {a_r} : - \\frac{2 g^{2} \\left(2 N_{t}^{3} \\alpha^{3} + 4 N_{t} \\alpha \\omega_{t}^{2} - \\omega_{t}^{3} + \\omega_{t} \\left(- 5 N_{t}^{2} \\alpha^{2} + \\omega_{r}^{2}\\right)\\right)}{\\left(N_{t} \\alpha - \\omega_{r} - \\omega_{t}\\right)^{2} \\left(N_{t} \\alpha + \\omega_{r} - \\omega_{t}\\right)^{2}}$"
      ],
      "text/plain": [
       "<IPython.core.display.Math object>"
      ]
     },
     "metadata": {},
     "output_type": "display_data"
    }
   ],
   "source": [
    "nt = RDSymbol(\"N_t\")\n",
    "grouped_H2 = group_by_operators(H2.expand())\n",
    "display_dict({k : v.subs({ad_t*a_t : nt}).simplify().factor().collect((nt,alpha,omega_t,omega_r,2)) for k,v in grouped_H2.items()})"
   ]
  },
  {
   "cell_type": "code",
   "execution_count": 72,
   "metadata": {},
   "outputs": [
    {
     "data": {
      "text/latex": [
       "$\\displaystyle {{a_t}^\\dagger} {a_t} {{a_r}^\\dagger} {a_r}$"
      ],
      "text/plain": [
       "Dagger(a_t)*a_t*Dagger(a_r)*a_r"
      ]
     },
     "metadata": {},
     "output_type": "display_data"
    },
    {
     "data": {
      "text/latex": [
       "$\\displaystyle \\frac{2 \\alpha g^{2} \\left(4 N_{t}^{6} \\alpha^{6} + 2 N_{t}^{4} \\alpha^{4} \\omega_{r}^{2} + N_{t}^{4} \\alpha^{4} \\left(13 \\alpha^{2} + 50 \\omega_{t}^{2}\\right) + 6 N_{t}^{2} \\alpha^{4} \\omega_{r}^{2} + 66 N_{t}^{2} \\alpha^{4} \\omega_{t}^{2} - 14 N_{t} \\alpha \\omega_{t}^{5} + \\alpha^{4} \\left(N_{t}^{2} \\alpha^{2} - 2 N_{t} \\alpha \\omega_{t} + \\omega_{r}^{2} + \\omega_{t}^{2}\\right) + \\alpha^{3} \\left(- 6 N_{t}^{3} \\alpha^{3} + 17 N_{t}^{2} \\alpha^{2} \\omega_{t} - 4 N_{t} \\alpha \\omega_{r}^{2} - 16 N_{t} \\alpha \\omega_{t}^{2} + 3 \\omega_{r}^{2} \\omega_{t} + 5 \\omega_{t}^{3}\\right) + 2 \\alpha^{2} \\omega_{r}^{2} \\omega_{t}^{2} + \\alpha \\left(- 12 N_{t}^{5} \\alpha^{5} + 55 N_{t}^{4} \\alpha^{4} \\omega_{t} - 4 N_{t}^{3} \\alpha^{3} \\omega_{r}^{2} - 100 N_{t}^{3} \\alpha^{3} \\omega_{t}^{2} + 6 N_{t}^{2} \\alpha^{2} \\omega_{r}^{2} \\omega_{t} + 90 N_{t}^{2} \\alpha^{2} \\omega_{t}^{3} + 8 N_{t} \\alpha \\omega_{r}^{4} - 40 N_{t} \\alpha \\omega_{t}^{4} - 5 \\omega_{r}^{4} \\omega_{t} - 2 \\omega_{r}^{2} \\omega_{t}^{3} + 7 \\omega_{t}^{5}\\right) + 2 \\omega_{r}^{6} + \\omega_{r}^{4} \\left(- 8 N_{t}^{2} \\alpha^{2} - 3 \\alpha^{2} - 2 \\omega_{t}^{2}\\right) + 2 \\omega_{t}^{6} + \\omega_{t}^{4} \\left(40 N_{t}^{2} \\alpha^{2} + 9 \\alpha^{2} - 2 \\omega_{r}^{2}\\right) + \\omega_{t}^{3} \\left(- 60 N_{t}^{3} \\alpha^{3} - 40 N_{t} \\alpha^{3} + 4 N_{t} \\alpha \\omega_{r}^{2}\\right) + \\omega_{t} \\left(- 22 N_{t}^{5} \\alpha^{5} - 48 N_{t}^{3} \\alpha^{5} - 4 N_{t}^{3} \\alpha^{3} \\omega_{r}^{2} - 8 N_{t} \\alpha^{3} \\omega_{r}^{2} + 10 N_{t} \\alpha \\omega_{r}^{4}\\right)\\right)}{\\left(N_{t} \\alpha - \\omega_{r} - \\omega_{t}\\right)^{2} \\left(N_{t} \\alpha + \\omega_{r} - \\omega_{t}\\right)^{2} \\left(N_{t} \\alpha - \\alpha - \\omega_{r} - \\omega_{t}\\right)^{2} \\left(N_{t} \\alpha - \\alpha + \\omega_{r} - \\omega_{t}\\right)^{2}}$"
      ],
      "text/plain": [
       "2*alpha*g**2*(4*N_t**6*alpha**6 + 2*N_t**4*alpha**4*omega_r**2 + N_t**4*alpha**4*(13*alpha**2 + 50*omega_t**2) + 6*N_t**2*alpha**4*omega_r**2 + 66*N_t**2*alpha**4*omega_t**2 - 14*N_t*alpha*omega_t**5 + alpha**4*(N_t**2*alpha**2 - 2*N_t*alpha*omega_t + omega_r**2 + omega_t**2) + alpha**3*(-6*N_t**3*alpha**3 + 17*N_t**2*alpha**2*omega_t - 4*N_t*alpha*omega_r**2 - 16*N_t*alpha*omega_t**2 + 3*omega_r**2*omega_t + 5*omega_t**3) + 2*alpha**2*omega_r**2*omega_t**2 + alpha*(-12*N_t**5*alpha**5 + 55*N_t**4*alpha**4*omega_t - 4*N_t**3*alpha**3*omega_r**2 - 100*N_t**3*alpha**3*omega_t**2 + 6*N_t**2*alpha**2*omega_r**2*omega_t + 90*N_t**2*alpha**2*omega_t**3 + 8*N_t*alpha*omega_r**4 - 40*N_t*alpha*omega_t**4 - 5*omega_r**4*omega_t - 2*omega_r**2*omega_t**3 + 7*omega_t**5) + 2*omega_r**6 + omega_r**4*(-8*N_t**2*alpha**2 - 3*alpha**2 - 2*omega_t**2) + 2*omega_t**6 + omega_t**4*(40*N_t**2*alpha**2 + 9*alpha**2 - 2*omega_r**2) + omega_t**3*(-60*N_t**3*alpha**3 - 40*N_t*alpha**3 + 4*N_t*alpha*omega_r**2) + omega_t*(-22*N_t**5*alpha**5 - 48*N_t**3*alpha**5 - 4*N_t**3*alpha**3*omega_r**2 - 8*N_t*alpha**3*omega_r**2 + 10*N_t*alpha*omega_r**4))/((N_t*alpha - omega_r - omega_t)**2*(N_t*alpha + omega_r - omega_t)**2*(N_t*alpha - alpha - omega_r - omega_t)**2*(N_t*alpha - alpha + omega_r - omega_t)**2)"
      ]
     },
     "execution_count": 72,
     "metadata": {},
     "output_type": "execute_result"
    }
   ],
   "source": [
    "keys = list(grouped_H2.keys())\n",
    "idx = 1\n",
    "display(keys[idx])\n",
    "grouped_H2[keys[idx]].subs({ad_t*a_t : nt}).simplify().factor().collect((nt,alpha,omega_t,omega_r,2,nt*alpha))"
   ]
  },
  {
   "cell_type": "markdown",
   "metadata": {},
   "source": [
    "# Full-diagonalization"
   ]
  },
  {
   "cell_type": "code",
   "execution_count": 36,
   "metadata": {},
   "outputs": [
    {
     "name": "stdout",
     "output_type": "stream",
     "text": [
      "The perturbative interaction will be added to the full Hamiltonian\n"
     ]
    },
    {
     "name": "stderr",
     "output_type": "stream",
     "text": [
      "Solving for each order: 100%|████████████| 2/2 [00:01<00:00,  1.27it/s]\n"
     ]
    },
    {
     "name": "stdout",
     "output_type": "stream",
     "text": [
      "The Hamiltonian has been solved successfully. Please use the get_H method to get the result in the desired form.\n"
     ]
    },
    {
     "name": "stderr",
     "output_type": "stream",
     "text": [
      "Converting to dictionary (operator) form: 100%|█| 9/9 [00:00<00:00, 533\n"
     ]
    }
   ],
   "source": [
    "# Calculate the effective model using the Full Diagonalization routine up to the second order\n",
    "Eff_frame.solve(max_order=2, full_diagonalization=True, mask=None)\n",
    "H_eff_FD = Eff_frame.get_H(return_form='dict_operator')"
   ]
  },
  {
   "cell_type": "code",
   "execution_count": 37,
   "metadata": {},
   "outputs": [],
   "source": [
    "# Corrections to the Hamiltonian for each order\n",
    "H0, H2 = [H_correction for H_correction in Eff_frame.corrections.values()]"
   ]
  },
  {
   "cell_type": "code",
   "execution_count": 38,
   "metadata": {},
   "outputs": [
    {
     "data": {
      "text/latex": [
       "$\\displaystyle {{a_t}^\\dagger} {a_t} : - \\frac{\\alpha}{2} - \\omega_{t}$"
      ],
      "text/plain": [
       "<IPython.core.display.Math object>"
      ]
     },
     "metadata": {},
     "output_type": "display_data"
    },
    {
     "data": {
      "text/latex": [
       "$\\displaystyle \\left({{a_t}^\\dagger} {a_t}\\right)^{2} : \\frac{\\alpha}{2}$"
      ],
      "text/plain": [
       "<IPython.core.display.Math object>"
      ]
     },
     "metadata": {},
     "output_type": "display_data"
    },
    {
     "data": {
      "text/latex": [
       "$\\displaystyle {{a_r}^\\dagger} {a_r} : \\omega_{r}$"
      ],
      "text/plain": [
       "<IPython.core.display.Math object>"
      ]
     },
     "metadata": {},
     "output_type": "display_data"
    }
   ],
   "source": [
    "display_dict(group_by_operators(H0))"
   ]
  },
  {
   "cell_type": "code",
   "execution_count": 39,
   "metadata": {},
   "outputs": [
    {
     "data": {
      "text/latex": [
       "$\\displaystyle {{a_t}^\\dagger} {a_t} : \\frac{g^{2} \\left(4 N_{t}^{2} \\alpha^{3} + 6 N_{t}^{2} \\alpha^{2} \\omega_{r} - 4 N_{t} \\alpha^{3} - 6 N_{t} \\alpha^{2} \\omega_{r} - 6 N_{t} \\alpha^{2} \\omega_{t} - 8 N_{t} \\alpha \\omega_{r} \\omega_{t} + \\alpha^{3} + \\alpha^{2} \\omega_{r} + 3 \\alpha^{2} \\omega_{t} - 2 \\alpha \\omega_{r}^{2} + 4 \\alpha \\omega_{r} \\omega_{t} + 2 \\alpha \\omega_{t}^{2} - 2 \\omega_{r}^{3} + 2 \\omega_{r} \\omega_{t}^{2}\\right)}{\\left(N_{t} \\alpha + \\omega_{r} - \\omega_{t}\\right)^{2} \\left(N_{t} \\alpha - \\alpha - \\omega_{r} - \\omega_{t}\\right)^{2}}$"
      ],
      "text/plain": [
       "<IPython.core.display.Math object>"
      ]
     },
     "metadata": {},
     "output_type": "display_data"
    },
    {
     "data": {
      "text/latex": [
       "$\\displaystyle {{a_t}^\\dagger} {a_t} {{a_r}^\\dagger} {a_r} : \\frac{2 \\alpha g^{2} \\left(4 N_{t}^{6} \\alpha^{6} - 12 N_{t}^{5} \\alpha^{6} - 22 N_{t}^{5} \\alpha^{5} \\omega_{t} + 13 N_{t}^{4} \\alpha^{6} + 55 N_{t}^{4} \\alpha^{5} \\omega_{t} + 2 N_{t}^{4} \\alpha^{4} \\omega_{r}^{2} + 50 N_{t}^{4} \\alpha^{4} \\omega_{t}^{2} - 6 N_{t}^{3} \\alpha^{6} - 48 N_{t}^{3} \\alpha^{5} \\omega_{t} - 4 N_{t}^{3} \\alpha^{4} \\omega_{r}^{2} - 100 N_{t}^{3} \\alpha^{4} \\omega_{t}^{2} - 4 N_{t}^{3} \\alpha^{3} \\omega_{r}^{2} \\omega_{t} - 60 N_{t}^{3} \\alpha^{3} \\omega_{t}^{3} + N_{t}^{2} \\alpha^{6} + 17 N_{t}^{2} \\alpha^{5} \\omega_{t} + 6 N_{t}^{2} \\alpha^{4} \\omega_{r}^{2} + 66 N_{t}^{2} \\alpha^{4} \\omega_{t}^{2} + 6 N_{t}^{2} \\alpha^{3} \\omega_{r}^{2} \\omega_{t} + 90 N_{t}^{2} \\alpha^{3} \\omega_{t}^{3} - 8 N_{t}^{2} \\alpha^{2} \\omega_{r}^{4} + 40 N_{t}^{2} \\alpha^{2} \\omega_{t}^{4} - 2 N_{t} \\alpha^{5} \\omega_{t} - 4 N_{t} \\alpha^{4} \\omega_{r}^{2} - 16 N_{t} \\alpha^{4} \\omega_{t}^{2} - 8 N_{t} \\alpha^{3} \\omega_{r}^{2} \\omega_{t} - 40 N_{t} \\alpha^{3} \\omega_{t}^{3} + 8 N_{t} \\alpha^{2} \\omega_{r}^{4} - 40 N_{t} \\alpha^{2} \\omega_{t}^{4} + 10 N_{t} \\alpha \\omega_{r}^{4} \\omega_{t} + 4 N_{t} \\alpha \\omega_{r}^{2} \\omega_{t}^{3} - 14 N_{t} \\alpha \\omega_{t}^{5} + \\alpha^{4} \\omega_{r}^{2} + \\alpha^{4} \\omega_{t}^{2} + 3 \\alpha^{3} \\omega_{r}^{2} \\omega_{t} + 5 \\alpha^{3} \\omega_{t}^{3} - 3 \\alpha^{2} \\omega_{r}^{4} + 2 \\alpha^{2} \\omega_{r}^{2} \\omega_{t}^{2} + 9 \\alpha^{2} \\omega_{t}^{4} - 5 \\alpha \\omega_{r}^{4} \\omega_{t} - 2 \\alpha \\omega_{r}^{2} \\omega_{t}^{3} + 7 \\alpha \\omega_{t}^{5} + 2 \\omega_{r}^{6} - 2 \\omega_{r}^{4} \\omega_{t}^{2} - 2 \\omega_{r}^{2} \\omega_{t}^{4} + 2 \\omega_{t}^{6}\\right)}{\\left(N_{t} \\alpha - \\omega_{r} - \\omega_{t}\\right)^{2} \\left(N_{t} \\alpha + \\omega_{r} - \\omega_{t}\\right)^{2} \\left(N_{t} \\alpha - \\alpha - \\omega_{r} - \\omega_{t}\\right)^{2} \\left(N_{t} \\alpha - \\alpha + \\omega_{r} - \\omega_{t}\\right)^{2}}$"
      ],
      "text/plain": [
       "<IPython.core.display.Math object>"
      ]
     },
     "metadata": {},
     "output_type": "display_data"
    },
    {
     "data": {
      "text/latex": [
       "$\\displaystyle \\left({{a_t}^\\dagger} {a_t}\\right)^{2} : - \\frac{\\alpha g^{2} \\left(\\alpha + 2 \\omega_{r}\\right) \\left(2 N_{t} \\alpha - \\alpha - 2 \\omega_{t}\\right)}{\\left(N_{t} \\alpha + \\omega_{r} - \\omega_{t}\\right)^{2} \\left(N_{t} \\alpha - \\alpha - \\omega_{r} - \\omega_{t}\\right)^{2}}$"
      ],
      "text/plain": [
       "<IPython.core.display.Math object>"
      ]
     },
     "metadata": {},
     "output_type": "display_data"
    },
    {
     "data": {
      "text/latex": [
       "$\\displaystyle \\left({{a_t}^\\dagger} {a_t}\\right)^{2} {{a_r}^\\dagger} {a_r} : - \\frac{2 \\alpha^{2} g^{2} \\left(2 N_{t} \\alpha - \\alpha - 2 \\omega_{t}\\right) \\left(N_{t}^{4} \\alpha^{4} - 2 N_{t}^{3} \\alpha^{4} - 4 N_{t}^{3} \\alpha^{3} \\omega_{t} + N_{t}^{2} \\alpha^{4} + 6 N_{t}^{2} \\alpha^{3} \\omega_{t} + 2 N_{t}^{2} \\alpha^{2} \\omega_{r}^{2} + 6 N_{t}^{2} \\alpha^{2} \\omega_{t}^{2} - 2 N_{t} \\alpha^{3} \\omega_{t} - 2 N_{t} \\alpha^{2} \\omega_{r}^{2} - 6 N_{t} \\alpha^{2} \\omega_{t}^{2} - 4 N_{t} \\alpha \\omega_{r}^{2} \\omega_{t} - 4 N_{t} \\alpha \\omega_{t}^{3} + \\alpha^{2} \\omega_{r}^{2} + \\alpha^{2} \\omega_{t}^{2} + 2 \\alpha \\omega_{r}^{2} \\omega_{t} + 2 \\alpha \\omega_{t}^{3} - 3 \\omega_{r}^{4} + 2 \\omega_{r}^{2} \\omega_{t}^{2} + \\omega_{t}^{4}\\right)}{\\left(N_{t} \\alpha - \\omega_{r} - \\omega_{t}\\right)^{2} \\left(N_{t} \\alpha + \\omega_{r} - \\omega_{t}\\right)^{2} \\left(N_{t} \\alpha - \\alpha - \\omega_{r} - \\omega_{t}\\right)^{2} \\left(N_{t} \\alpha - \\alpha + \\omega_{r} - \\omega_{t}\\right)^{2}}$"
      ],
      "text/plain": [
       "<IPython.core.display.Math object>"
      ]
     },
     "metadata": {},
     "output_type": "display_data"
    },
    {
     "data": {
      "text/latex": [
       "$\\displaystyle 1 : - \\frac{g^{2} \\left(2 N_{t} \\alpha + \\omega_{r} - \\omega_{t}\\right)}{\\left(N_{t} \\alpha + \\omega_{r} - \\omega_{t}\\right)^{2}}$"
      ],
      "text/plain": [
       "<IPython.core.display.Math object>"
      ]
     },
     "metadata": {},
     "output_type": "display_data"
    },
    {
     "data": {
      "text/latex": [
       "$\\displaystyle {{a_r}^\\dagger} {a_r} : - \\frac{2 g^{2} \\left(2 N_{t}^{3} \\alpha^{3} - 5 N_{t}^{2} \\alpha^{2} \\omega_{t} + 4 N_{t} \\alpha \\omega_{t}^{2} + \\omega_{r}^{2} \\omega_{t} - \\omega_{t}^{3}\\right)}{\\left(N_{t} \\alpha - \\omega_{r} - \\omega_{t}\\right)^{2} \\left(N_{t} \\alpha + \\omega_{r} - \\omega_{t}\\right)^{2}}$"
      ],
      "text/plain": [
       "<IPython.core.display.Math object>"
      ]
     },
     "metadata": {},
     "output_type": "display_data"
    }
   ],
   "source": [
    "nt = RDSymbol(\"N_t\")\n",
    "grouped_H2 = group_by_operators(H2.expand())\n",
    "display_dict({k : v.subs({ad_t*a_t : nt}).simplify().factor() for k,v in grouped_H2.items()})"
   ]
  }
 ],
 "metadata": {
  "kernelspec": {
   "display_name": "Python 3 (ipykernel)",
   "language": "python",
   "name": "python3"
  },
  "language_info": {
   "codemirror_mode": {
    "name": "ipython",
    "version": 3
   },
   "file_extension": ".py",
   "mimetype": "text/x-python",
   "name": "python",
   "nbconvert_exporter": "python",
   "pygments_lexer": "ipython3",
   "version": "3.9.20"
  }
 },
 "nbformat": 4,
 "nbformat_minor": 4
}
